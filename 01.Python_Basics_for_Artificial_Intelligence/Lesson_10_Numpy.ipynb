{
  "cells": [
    {
      "cell_type": "markdown",
      "id": "0592efb2",
      "metadata": {},
      "source": [
        "### 📖Numpy\n",
        "\"NumPy is a library for the Python programming language, adding support for large, multi-dimensional arrays and matrices, along with a large collection of high-level mathematical functions to operate on these arrays.\" [Wikipedia](https://en.wikipedia.org/wiki/NumPy)\n",
        "\n",
        "Numpy can efficiently handle arrays (a n-dimensional dataseries of values) and do calculations with them."
      ]
    },
    {
      "cell_type": "code",
      "execution_count": null,
      "id": "37699c6c",
      "metadata": {},
      "outputs": [],
      "source": [
        "#Before we can use numpy, we have to import numpy\n",
        "import numpy as np"
      ]
    },
    {
      "cell_type": "markdown",
      "id": "4d8ccea5",
      "metadata": {},
      "source": [
        "***\n",
        "### 📖List to array"
      ]
    },
    {
      "cell_type": "code",
      "execution_count": null,
      "id": "e1cb2df7",
      "metadata": {},
      "outputs": [
        {
          "data": {
            "text/plain": [
              "list"
            ]
          },
          "metadata": {},
          "output_type": "display_data"
        }
      ],
      "source": [
        "#A simple Numpy arrray is similar to a Python List. It is a sequence of Data.\n",
        "#Therefore we can create an array from a list\n",
        "mylist = [1,2,3]\n",
        "type(mylist) #Check the type"
      ]
    },
    {
      "cell_type": "code",
      "execution_count": null,
      "id": "010814bc",
      "metadata": {},
      "outputs": [
        {
          "data": {
            "text/plain": [
              "array([1, 2, 3])"
            ]
          },
          "metadata": {},
          "output_type": "display_data"
        }
      ],
      "source": [
        "#Turn list to an arrray\n",
        "np.array(mylist)"
      ]
    },
    {
      "cell_type": "code",
      "execution_count": null,
      "id": "d80bf51e",
      "metadata": {},
      "outputs": [
        {
          "data": {
            "text/plain": [
              "numpy.ndarray"
            ]
          },
          "metadata": {},
          "output_type": "display_data"
        }
      ],
      "source": [
        "#However, if we want to change the list to an arrray permanently, we have to assign it to a new variable\n",
        "myarr = np.array(mylist)\n",
        "type(myarr)"
      ]
    },
    {
      "cell_type": "markdown",
      "id": "11795fc2",
      "metadata": {},
      "source": [
        "\n",
        "### 📖Transform a nested list into a two-dimensional numpy array"
      ]
    },
    {
      "cell_type": "code",
      "execution_count": null,
      "id": "c101b3b2",
      "metadata": {},
      "outputs": [
        {
          "data": {
            "text/plain": [
              "[[1, 2, 3], [4, 5, 6], [7, 8, 9]]"
            ]
          },
          "metadata": {},
          "output_type": "display_data"
        }
      ],
      "source": [
        "mylist = [[1,2,3], [4,5,6], [7,8,9]]\n",
        "mylist"
      ]
    },
    {
      "cell_type": "code",
      "execution_count": null,
      "id": "55fa589b",
      "metadata": {},
      "outputs": [
        {
          "data": {
            "text/plain": [
              "array([[1, 2, 3],\n",
              "       [4, 5, 6],\n",
              "       [7, 8, 9]])"
            ]
          },
          "metadata": {},
          "output_type": "display_data"
        }
      ],
      "source": [
        "mymatrix = np.array(mylist)\n",
        "mymatrix"
      ]
    },
    {
      "cell_type": "markdown",
      "id": "dab7c181",
      "metadata": {},
      "source": [
        "This is called a 2D array, as it has a X and a Y  axis. They are also refered to as rows and columns"
      ]
    },
    {
      "cell_type": "code",
      "execution_count": null,
      "id": "763cc295",
      "metadata": {},
      "outputs": [
        {
          "data": {
            "text/plain": [
              "(3, 3)"
            ]
          },
          "metadata": {},
          "output_type": "display_data"
        }
      ],
      "source": [
        "mymatrix.shape"
      ]
    },
    {
      "cell_type": "markdown",
      "id": "56b53f53",
      "metadata": {},
      "source": [
        "The shape shows that it is a 3x3 matrix"
      ]
    },
    {
      "cell_type": "markdown",
      "id": "97d3ecac",
      "metadata": {},
      "source": [
        "***\n",
        "### 📖Numpy buit in methods"
      ]
    },
    {
      "cell_type": "markdown",
      "id": "68e54352",
      "metadata": {},
      "source": [
        "### 📖np.arange\n",
        "Creates an array of numberst between a start- (inclusive) and a stop value (exclusive) using a defined step (default is 1)"
      ]
    },
    {
      "cell_type": "code",
      "execution_count": null,
      "id": "a05571cf",
      "metadata": {},
      "outputs": [
        {
          "data": {
            "text/plain": [
              "array([ 0,  2,  4,  6,  8, 10])"
            ]
          },
          "metadata": {},
          "output_type": "display_data"
        }
      ],
      "source": [
        "np.arange(0, 11, 2)"
      ]
    },
    {
      "cell_type": "markdown",
      "id": "6dfcee0e",
      "metadata": {},
      "source": [
        "### 📖np.ones\n",
        "creates an array of ones (type: float) with a user-defined length"
      ]
    },
    {
      "cell_type": "code",
      "execution_count": null,
      "id": "d8d4a2a7",
      "metadata": {},
      "outputs": [
        {
          "data": {
            "text/plain": [
              "array([1., 1., 1., 1., 1.])"
            ]
          },
          "metadata": {},
          "output_type": "display_data"
        }
      ],
      "source": [
        "np.ones(5)"
      ]
    },
    {
      "cell_type": "markdown",
      "id": "75bf4f98",
      "metadata": {},
      "source": [
        "you can specify the shape of the array by providing a tuple with the desired shape"
      ]
    },
    {
      "cell_type": "code",
      "execution_count": null,
      "id": "f04aa1ac",
      "metadata": {},
      "outputs": [
        {
          "data": {
            "text/plain": [
              "array([[1., 1., 1., 1., 1.],\n",
              "       [1., 1., 1., 1., 1.],\n",
              "       [1., 1., 1., 1., 1.]])"
            ]
          },
          "metadata": {},
          "output_type": "display_data"
        }
      ],
      "source": [
        "np.ones((3, 5)) #This one will have 3 rows and 5 columns"
      ]
    },
    {
      "cell_type": "markdown",
      "id": "28955d34",
      "metadata": {},
      "source": [
        "### 📖np.zeros\n",
        "creates an array of zeros (type: float) with a user-defined length"
      ]
    },
    {
      "cell_type": "code",
      "execution_count": null,
      "id": "ec50917a",
      "metadata": {},
      "outputs": [
        {
          "data": {
            "text/plain": [
              "array([0., 0., 0., 0., 0., 0., 0., 0., 0., 0., 0., 0., 0., 0., 0.])"
            ]
          },
          "metadata": {},
          "output_type": "display_data"
        }
      ],
      "source": [
        "np.zeros(15)"
      ]
    },
    {
      "cell_type": "markdown",
      "id": "c06fb0ef",
      "metadata": {},
      "source": [
        "you can specify the shape of the array by providing a tuple with the desired shape"
      ]
    },
    {
      "cell_type": "code",
      "execution_count": null,
      "id": "3ab71101",
      "metadata": {},
      "outputs": [
        {
          "data": {
            "text/plain": [
              "array([[0., 0., 0., 0., 0., 0., 0., 0., 0., 0.],\n",
              "       [0., 0., 0., 0., 0., 0., 0., 0., 0., 0.],\n",
              "       [0., 0., 0., 0., 0., 0., 0., 0., 0., 0.],\n",
              "       [0., 0., 0., 0., 0., 0., 0., 0., 0., 0.],\n",
              "       [0., 0., 0., 0., 0., 0., 0., 0., 0., 0.],\n",
              "       [0., 0., 0., 0., 0., 0., 0., 0., 0., 0.],\n",
              "       [0., 0., 0., 0., 0., 0., 0., 0., 0., 0.],\n",
              "       [0., 0., 0., 0., 0., 0., 0., 0., 0., 0.]])"
            ]
          },
          "metadata": {},
          "output_type": "display_data"
        }
      ],
      "source": [
        "np.zeros((8, 10)) #This one will have 8 rows and 10 columns"
      ]
    },
    {
      "cell_type": "markdown",
      "id": "1a103b6b",
      "metadata": {},
      "source": [
        "### 📖Broadcasting operations to every value in matrices\n",
        "In numpy you can do all kinds of operations with arrays. For example, you can simply add a value to each element. This is not possible within normal Python lists"
      ]
    },
    {
      "cell_type": "code",
      "execution_count": null,
      "id": "c0b476e0",
      "metadata": {},
      "outputs": [
        {
          "data": {
            "text/plain": [
              "array([[7., 7., 7., 7., 7., 7.],\n",
              "       [7., 7., 7., 7., 7., 7.],\n",
              "       [7., 7., 7., 7., 7., 7.],\n",
              "       [7., 7., 7., 7., 7., 7.]])"
            ]
          },
          "metadata": {},
          "output_type": "display_data"
        }
      ],
      "source": [
        "np.ones((4, 6)) + 6 #A 6 will be added to every element"
      ]
    },
    {
      "cell_type": "code",
      "execution_count": null,
      "id": "81b19112",
      "metadata": {},
      "outputs": [
        {
          "data": {
            "text/plain": [
              "array([100., 100., 100., 100., 100., 100., 100., 100., 100., 100.])"
            ]
          },
          "metadata": {},
          "output_type": "display_data"
        }
      ],
      "source": [
        "np.ones(10) * 100"
      ]
    },
    {
      "cell_type": "markdown",
      "id": "e2822244",
      "metadata": {},
      "source": [
        "### 📖np.linspace\n",
        "Creates an array with linearly spaced numbers. Needs a startvalue, stopvalue and the number of values that should be linearly spaced between start- and stop value.\n",
        "Different to np.arrange it can also generate float values and its start and stop values are both inclusive"
      ]
    },
    {
      "cell_type": "code",
      "execution_count": null,
      "id": "17580476",
      "metadata": {},
      "outputs": [
        {
          "data": {
            "text/plain": [
              "array([ 0.,  5., 10.])"
            ]
          },
          "metadata": {},
          "output_type": "display_data"
        }
      ],
      "source": [
        "np.linspace(0 , 10, 3)"
      ]
    },
    {
      "cell_type": "code",
      "execution_count": null,
      "id": "083fbed2",
      "metadata": {},
      "outputs": [
        {
          "data": {
            "text/plain": [
              "array([0.        , 0.05263158, 0.10526316, 0.15789474, 0.21052632,\n",
              "       0.26315789, 0.31578947, 0.36842105, 0.42105263, 0.47368421,\n",
              "       0.52631579, 0.57894737, 0.63157895, 0.68421053, 0.73684211,\n",
              "       0.78947368, 0.84210526, 0.89473684, 0.94736842, 1.        ])"
            ]
          },
          "metadata": {},
          "output_type": "display_data"
        }
      ],
      "source": [
        "np.linspace(0 , 1, 20)"
      ]
    },
    {
      "cell_type": "markdown",
      "id": "d3b62195",
      "metadata": {},
      "source": [
        "### 📖np.random.rand\n",
        "Creates random samples of a uniform distribution between 0 and 1 (every value between 0 and 1 has the same probability of getting chosen)"
      ]
    },
    {
      "cell_type": "code",
      "execution_count": null,
      "id": "dff6b97f",
      "metadata": {},
      "outputs": [
        {
          "data": {
            "text/plain": [
              "array([0.3632668 , 0.13023271, 0.52157785])"
            ]
          },
          "metadata": {},
          "output_type": "display_data"
        }
      ],
      "source": [
        "np.random.rand(3)"
      ]
    },
    {
      "cell_type": "code",
      "execution_count": null,
      "id": "fd30358b",
      "metadata": {},
      "outputs": [
        {
          "data": {
            "text/plain": [
              "array([[0.36612915, 0.87792682, 0.05203252, 0.02764891, 0.31170575],\n",
              "       [0.68932229, 0.79134956, 0.01812732, 0.58447655, 0.95384179],\n",
              "       [0.79142992, 0.28532116, 0.03583618, 0.05431546, 0.3663545 ],\n",
              "       [0.39108946, 0.52651586, 0.84537835, 0.12563322, 0.26668021],\n",
              "       [0.56569679, 0.52006251, 0.26980199, 0.80459768, 0.15316512]])"
            ]
          },
          "metadata": {},
          "output_type": "display_data"
        }
      ],
      "source": [
        "np.random.rand(5, 5)"
      ]
    },
    {
      "cell_type": "markdown",
      "id": "47965eb0",
      "metadata": {},
      "source": [
        "### 📖np.random.randn\n",
        "Creates samples from the standard normal distribution (mean = 0, stdv =1)"
      ]
    },
    {
      "cell_type": "code",
      "execution_count": null,
      "id": "97ef5ac1",
      "metadata": {},
      "outputs": [
        {
          "data": {
            "text/plain": [
              "array([-0.2197954 ,  0.59107236,  0.17937833,  1.87462908, -0.12288244,\n",
              "        0.93291376,  0.06278072, -1.60037817,  0.86758024, -0.64914352])"
            ]
          },
          "metadata": {},
          "output_type": "display_data"
        }
      ],
      "source": [
        "np.random.randn(10)\n",
        "#if you want to create your own standard distribution with a mean and a stdv, use np.random.normal"
      ]
    },
    {
      "cell_type": "markdown",
      "id": "8077ef12",
      "metadata": {},
      "source": [
        "### 📖np.random.randint\n",
        "Creates random integers between a low (inclusive) and a high value (exclusive) and a specific size"
      ]
    },
    {
      "cell_type": "code",
      "execution_count": null,
      "id": "e7eea366",
      "metadata": {},
      "outputs": [
        {
          "data": {
            "text/plain": [
              "17"
            ]
          },
          "metadata": {},
          "output_type": "display_data"
        }
      ],
      "source": [
        "np.random.randint(1, 100)"
      ]
    },
    {
      "cell_type": "code",
      "execution_count": null,
      "id": "3960548c",
      "metadata": {},
      "outputs": [
        {
          "data": {
            "text/plain": [
              "array([52,  4, 32, 98, 89, 47, 26, 49, 26, 39])"
            ]
          },
          "metadata": {},
          "output_type": "display_data"
        }
      ],
      "source": [
        "#You can additionally specify the size/shape\n",
        "np.random.randint(1, 100, 10)"
      ]
    },
    {
      "cell_type": "markdown",
      "id": "58b5a573",
      "metadata": {},
      "source": [
        "### 📖np.reshape\n",
        "Changes the dimensions/shape of an array to the desired format. Keep in mind that the provided dimensions have to be compatiple with the amount of values stored in the array."
      ]
    },
    {
      "cell_type": "code",
      "execution_count": null,
      "id": "b8da5b98",
      "metadata": {},
      "outputs": [
        {
          "data": {
            "text/plain": [
              "(25,)"
            ]
          },
          "metadata": {},
          "output_type": "display_data"
        }
      ],
      "source": [
        "#create an array\n",
        "arr = np.arange(25)\n",
        "arr.shape"
      ]
    },
    {
      "cell_type": "code",
      "execution_count": null,
      "id": "09ae7cd8",
      "metadata": {},
      "outputs": [
        {
          "data": {
            "text/plain": [
              "array([[ 0,  1,  2,  3,  4],\n",
              "       [ 5,  6,  7,  8,  9],\n",
              "       [10, 11, 12, 13, 14],\n",
              "       [15, 16, 17, 18, 19],\n",
              "       [20, 21, 22, 23, 24]])"
            ]
          },
          "metadata": {},
          "output_type": "display_data"
        }
      ],
      "source": [
        "reshaped = arr.reshape(5, 5)\n",
        "reshaped"
      ]
    },
    {
      "cell_type": "code",
      "execution_count": null,
      "id": "2195d6e0",
      "metadata": {},
      "outputs": [
        {
          "data": {
            "text/plain": [
              "(5, 5)"
            ]
          },
          "metadata": {},
          "output_type": "display_data"
        }
      ],
      "source": [
        "reshaped.shape"
      ]
    },
    {
      "cell_type": "markdown",
      "id": "b4b73b54",
      "metadata": {},
      "source": [
        "We can not set the provided array with its 25 elements to a shape of 3x5, has such a shape would only be capable to hold 15 values, however, 25 are provided!"
      ]
    },
    {
      "cell_type": "markdown",
      "id": "08ee3572",
      "metadata": {},
      "source": [
        "### 📖np.min(),  np.max()\n",
        "Returns the min or max value of an array"
      ]
    },
    {
      "cell_type": "code",
      "execution_count": null,
      "id": "79b958c7",
      "metadata": {},
      "outputs": [
        {
          "name": "stdout",
          "output_type": "stream",
          "text": [
            "2\n",
            "47\n"
          ]
        }
      ],
      "source": [
        "arr = np.random.randint(0, 50, 20)\n",
        "print(np.min(arr))\n",
        "print(np.max(arr))"
      ]
    },
    {
      "cell_type": "markdown",
      "id": "8be8cab5",
      "metadata": {},
      "source": [
        "### 📖np.argmin(), np.argmax()\n",
        "Returns the index location of the min or max value"
      ]
    },
    {
      "cell_type": "code",
      "execution_count": null,
      "id": "cde8f10f",
      "metadata": {},
      "outputs": [
        {
          "name": "stdout",
          "output_type": "stream",
          "text": [
            "11\n",
            "9\n"
          ]
        }
      ],
      "source": [
        "print(np.argmin(arr))\n",
        "print(np.argmax(arr))"
      ]
    },
    {
      "cell_type": "markdown",
      "id": "c1e71b5c",
      "metadata": {},
      "source": [
        "### 📖np.dtype\n",
        "Returns the datatype of an arrray"
      ]
    },
    {
      "cell_type": "code",
      "execution_count": null,
      "id": "0dcd2643",
      "metadata": {},
      "outputs": [
        {
          "data": {
            "text/plain": [
              "dtype('int32')"
            ]
          },
          "metadata": {},
          "output_type": "display_data"
        }
      ],
      "source": [
        "arr.dtype"
      ]
    },
    {
      "cell_type": "markdown",
      "id": "bb740469",
      "metadata": {},
      "source": [
        "### 📖Selections and indexing\n",
        "Selecting elements from an arrray is very similar to selecting elements in Python lists"
      ]
    },
    {
      "cell_type": "markdown",
      "id": "64487c91",
      "metadata": {},
      "source": [
        "### 📖Indexing 1D arrays"
      ]
    },
    {
      "cell_type": "code",
      "execution_count": null,
      "id": "16486286",
      "metadata": {},
      "outputs": [
        {
          "data": {
            "text/plain": [
              "array([ 0,  1,  2,  3,  4,  5,  6,  7,  8,  9, 10])"
            ]
          },
          "metadata": {},
          "output_type": "display_data"
        }
      ],
      "source": [
        "#Create an arrray that we can use\n",
        "arr = np.arange(0, 11)\n",
        "arr"
      ]
    },
    {
      "cell_type": "code",
      "execution_count": null,
      "id": "261345b3",
      "metadata": {},
      "outputs": [
        {
          "data": {
            "text/plain": [
              "4"
            ]
          },
          "metadata": {},
          "output_type": "display_data"
        }
      ],
      "source": [
        "#pass the index of an element to select it\n",
        "arr[4]"
      ]
    },
    {
      "cell_type": "markdown",
      "id": "2d7c6bed",
      "metadata": {},
      "source": [
        "### 📖Slicing 1D arrays"
      ]
    },
    {
      "cell_type": "code",
      "execution_count": null,
      "id": "8366f4a0",
      "metadata": {},
      "outputs": [
        {
          "data": {
            "text/plain": [
              "array([2, 3, 4, 5])"
            ]
          },
          "metadata": {},
          "output_type": "display_data"
        }
      ],
      "source": [
        "#selecting values between two indices [start(included) : end(excluded)]\n",
        "arr[2:6]"
      ]
    },
    {
      "cell_type": "code",
      "execution_count": null,
      "id": "ee287f37",
      "metadata": {},
      "outputs": [
        {
          "data": {
            "text/plain": [
              "array([0, 1, 2, 3, 4])"
            ]
          },
          "metadata": {},
          "output_type": "display_data"
        }
      ],
      "source": [
        "#selecting up to an index [: end(excluded)]\n",
        "arr[:5]"
      ]
    },
    {
      "cell_type": "code",
      "execution_count": null,
      "id": "8d1d0ee6",
      "metadata": {},
      "outputs": [
        {
          "data": {
            "text/plain": [
              "array([ 5,  6,  7,  8,  9, 10])"
            ]
          },
          "metadata": {},
          "output_type": "display_data"
        }
      ],
      "source": [
        "#selecting from an index onward [start(including):]\n",
        "arr[5:]"
      ]
    },
    {
      "cell_type": "markdown",
      "id": "ac30776a",
      "metadata": {},
      "source": [
        "### 📖Indexing 2D arrays"
      ]
    },
    {
      "cell_type": "code",
      "execution_count": null,
      "id": "ab85669d",
      "metadata": {},
      "outputs": [
        {
          "data": {
            "text/plain": [
              "array([[15, 35, 60],\n",
              "       [25, 55, 45],\n",
              "       [10, 20, 30]])"
            ]
          },
          "metadata": {},
          "output_type": "display_data"
        }
      ],
      "source": [
        "#Create a 2d array\n",
        "arr_2D = np.array([[15,35,60], [25, 55, 45], [10, 20, 30]])\n",
        "print(arr_2D.shape)\n",
        "arr_2D"
      ]
    },
    {
      "cell_type": "code",
      "execution_count": null,
      "id": "e40f7f27",
      "metadata": {},
      "outputs": [
        {
          "data": {
            "text/plain": [
              "array([25, 55, 45])"
            ]
          },
          "metadata": {},
          "output_type": "display_data"
        }
      ],
      "source": [
        "#Select a row from the array\n",
        "arr_2D[1]"
      ]
    },
    {
      "cell_type": "code",
      "execution_count": null,
      "id": "4f7d6831",
      "metadata": {},
      "outputs": [
        {
          "data": {
            "text/plain": [
              "55"
            ]
          },
          "metadata": {},
          "output_type": "display_data"
        }
      ],
      "source": [
        "#Select a single item by also providing the column\n",
        "arr_2D[1][1]"
      ]
    },
    {
      "cell_type": "code",
      "execution_count": null,
      "id": "df705965",
      "metadata": {},
      "outputs": [
        {
          "data": {
            "text/plain": [
              "55"
            ]
          },
          "metadata": {},
          "output_type": "display_data"
        }
      ],
      "source": [
        "#To make it shorter, we can also put the index of the item in a single []\n",
        "arr_2D[1, 1]"
      ]
    },
    {
      "cell_type": "markdown",
      "id": "0d190b52",
      "metadata": {},
      "source": [
        "### 📖Slicing 2D arrays"
      ]
    },
    {
      "cell_type": "code",
      "execution_count": null,
      "id": "7bf8bc44",
      "metadata": {},
      "outputs": [
        {
          "data": {
            "text/plain": [
              "array([[15, 35, 60],\n",
              "       [25, 55, 45]])"
            ]
          },
          "metadata": {},
          "output_type": "display_data"
        }
      ],
      "source": [
        "#Lets try to select the two last columns from the first two rows\n",
        "\n",
        "#Select the first two rows:\n",
        "arr_2D[:2]"
      ]
    },
    {
      "cell_type": "code",
      "execution_count": null,
      "id": "531c8078",
      "metadata": {},
      "outputs": [
        {
          "data": {
            "text/plain": [
              "array([[35, 60],\n",
              "       [55, 45]])"
            ]
          },
          "metadata": {},
          "output_type": "display_data"
        }
      ],
      "source": [
        "#Select the last two items from those two rows\n",
        "arr_2D[:2, 1:]"
      ]
    },
    {
      "cell_type": "code",
      "execution_count": null,
      "id": "6f214c06",
      "metadata": {},
      "outputs": [
        {
          "data": {
            "text/plain": [
              "array([15, 25, 10])"
            ]
          },
          "metadata": {},
          "output_type": "display_data"
        }
      ],
      "source": [
        "#Lets try to select the first value of every row\n",
        "#To select all elements of a dimension, we can use ':'\n",
        "\n",
        "arr_2D[:, 0] #This means: From all rows ':', select the first item/ the item in column 0"
      ]
    },
    {
      "cell_type": "markdown",
      "id": "1e8a65aa",
      "metadata": {},
      "source": [
        "### 📖Conditional selection\n",
        "Only keeps items that fullfill the condition"
      ]
    },
    {
      "cell_type": "code",
      "execution_count": null,
      "id": "b081e68f",
      "metadata": {},
      "outputs": [
        {
          "name": "stdout",
          "output_type": "stream",
          "text": [
            "[ 0  1  2  3  4  5  6  7  8  9 10]\n"
          ]
        },
        {
          "data": {
            "text/plain": [
              "array([ 7,  8,  9, 10])"
            ]
          },
          "metadata": {},
          "output_type": "display_data"
        }
      ],
      "source": [
        "arr = np.arange(0, 11)\n",
        "print(arr)\n",
        "\n",
        "arr[arr > 6]"
      ]
    },
    {
      "cell_type": "markdown",
      "id": "f4371c25",
      "metadata": {},
      "source": [
        "### 📖Array copies\n",
        "It is important to know, that a selection of an array still points to its original array, even though it has been assigned to a new variable"
      ]
    },
    {
      "cell_type": "code",
      "execution_count": null,
      "id": "12ec4288",
      "metadata": {},
      "outputs": [
        {
          "data": {
            "text/plain": [
              "array([0, 1, 2, 3, 4])"
            ]
          },
          "metadata": {},
          "output_type": "display_data"
        }
      ],
      "source": [
        "#Example:\n",
        "arr = np.arange(0, 11)\n",
        "print(arr)\n",
        "\n",
        "#Do a selection and store the selection in a new variable\n",
        "new_arr = arr[:5]\n",
        "new_arr"
      ]
    },
    {
      "cell_type": "code",
      "execution_count": null,
      "id": "345f14af",
      "metadata": {},
      "outputs": [
        {
          "data": {
            "text/plain": [
              "array([-999, -999, -999, -999, -999])"
            ]
          },
          "metadata": {},
          "output_type": "display_data"
        }
      ],
      "source": [
        "#Set all values in the selection to -999 (we need '[:]' to select all values from our selection)\n",
        "new_arr[:] = -999\n",
        "new_arr"
      ]
    },
    {
      "cell_type": "code",
      "execution_count": null,
      "id": "5aed1f69",
      "metadata": {},
      "outputs": [
        {
          "data": {
            "text/plain": [
              "array([-999, -999, -999, -999, -999,    5,    6,    7,    8,    9,   10])"
            ]
          },
          "metadata": {},
          "output_type": "display_data"
        }
      ],
      "source": [
        "#it first seems like we have just changed the values from our selection to a new value, but let us look at the original array\n",
        "arr"
      ]
    },
    {
      "cell_type": "markdown",
      "id": "c2e84a28",
      "metadata": {},
      "source": [
        "To prevent the original array to be changed, we can create copies of it"
      ]
    },
    {
      "cell_type": "code",
      "execution_count": null,
      "id": "92a246c4",
      "metadata": {},
      "outputs": [
        {
          "data": {
            "text/plain": [
              "array([0, 1, 2, 3, 4])"
            ]
          },
          "metadata": {},
          "output_type": "display_data"
        }
      ],
      "source": [
        "arr = np.arange(0, 11)\n",
        "new_arr = arr.copy()[:5]\n",
        "new_arr"
      ]
    },
    {
      "cell_type": "markdown",
      "id": "ae10bfe7",
      "metadata": {},
      "source": [
        "### 📖Operations across axis\n",
        "With np.max() and np.min() we already got in contact with numpy operations. Besides those two operations there are many others, such as np.mean(), np.sum(), np.log(my_array), np.sin(my_array) etc. [More information about operations](https://www.pluralsight.com/guides/overview-basic-numpy-operations)\n",
        "\n",
        "In a multidimensional array we can specify through which axis we want to do our calculations\n",
        "\n",
        "![Grafik data](numpyaxis.png)\n",
        "\n",
        "[Source](https://www.statology.org/numpy-axis/)"
      ]
    },
    {
      "cell_type": "code",
      "execution_count": null,
      "id": "f8083802",
      "metadata": {},
      "outputs": [
        {
          "data": {
            "text/plain": [
              "array([[ 0,  1,  2,  3,  4],\n",
              "       [ 5,  6,  7,  8,  9],\n",
              "       [10, 11, 12, 13, 14],\n",
              "       [15, 16, 17, 18, 19]])"
            ]
          },
          "metadata": {},
          "output_type": "display_data"
        }
      ],
      "source": [
        "arr = np.arange(0,20).reshape(4, 5)\n",
        "arr"
      ]
    },
    {
      "cell_type": "code",
      "execution_count": null,
      "id": "f6ee795b",
      "metadata": {},
      "outputs": [
        {
          "data": {
            "text/plain": [
              "190"
            ]
          },
          "metadata": {},
          "output_type": "display_data"
        }
      ],
      "source": [
        "#calculate the sum of all items\n",
        "np.sum(arr)"
      ]
    },
    {
      "cell_type": "code",
      "execution_count": null,
      "id": "37e4ca19",
      "metadata": {},
      "outputs": [
        {
          "data": {
            "text/plain": [
              "array([30, 34, 38, 42, 46])"
            ]
          },
          "metadata": {},
          "output_type": "display_data"
        }
      ],
      "source": [
        "#calculate the sum across the rows/along the columns/along the vertical axis (y)\n",
        "np.sum(arr, axis=0)"
      ]
    },
    {
      "cell_type": "code",
      "execution_count": null,
      "id": "50930f24",
      "metadata": {},
      "outputs": [
        {
          "data": {
            "text/plain": [
              "array([10, 35, 60, 85])"
            ]
          },
          "metadata": {},
          "output_type": "display_data"
        }
      ],
      "source": [
        "#calculate the sum across the coolumns/along the rows/along the horizontal axis (x)\n",
        "np.sum(arr, axis=1)"
      ]
    },
    {
      "cell_type": "code",
      "execution_count": null,
      "id": "26ff3667",
      "metadata": {},
      "outputs": [],
      "source": []
    },
    {
      "cell_type": "markdown",
      "id": "23438aaa",
      "metadata": {},
      "source": [
        "### 🧠 This section contains tasks that can be solved with the knowledge from the current notebook."
      ]
    },
    {
      "cell_type": "markdown",
      "id": "9bd430fe",
      "metadata": {},
      "source": [
        "### 📖1. Import NumPy as np"
      ]
    },
    {
      "cell_type": "code",
      "execution_count": null,
      "id": "d3341423",
      "metadata": {},
      "outputs": [],
      "source": []
    },
    {
      "cell_type": "markdown",
      "id": "59bc3e46",
      "metadata": {},
      "source": [
        "### 📖2. Create an array from this list"
      ]
    },
    {
      "cell_type": "code",
      "execution_count": null,
      "id": "262477fb",
      "metadata": {},
      "outputs": [],
      "source": [
        "mylist = [9, 8, 7, 6, 5, 4, 3, 2, 1]\n"
      ]
    },
    {
      "cell_type": "markdown",
      "id": "2533e922",
      "metadata": {},
      "source": [
        "### 📖3. Reshape the array you just created to the shape 3x3"
      ]
    },
    {
      "cell_type": "code",
      "execution_count": null,
      "id": "f2c3b61e",
      "metadata": {},
      "outputs": [],
      "source": []
    },
    {
      "cell_type": "markdown",
      "id": "132b72bb",
      "metadata": {},
      "source": [
        "### 📖4. Print the shape of the array you just  reshaped"
      ]
    },
    {
      "cell_type": "code",
      "execution_count": null,
      "id": "9d972767",
      "metadata": {},
      "outputs": [],
      "source": []
    },
    {
      "cell_type": "markdown",
      "id": "7ed745ee",
      "metadata": {},
      "source": [
        "### 📖5. Create an array of 25 fives with the shape of 5x5"
      ]
    },
    {
      "cell_type": "code",
      "execution_count": null,
      "id": "940ca365",
      "metadata": {},
      "outputs": [],
      "source": []
    },
    {
      "cell_type": "markdown",
      "id": "f39861dc",
      "metadata": {},
      "source": [
        "### 📖6. Create an array of 10 random numbers between 0 and 1"
      ]
    },
    {
      "cell_type": "code",
      "execution_count": null,
      "id": "aac26358",
      "metadata": {},
      "outputs": [],
      "source": []
    },
    {
      "cell_type": "markdown",
      "id": "28e62045",
      "metadata": {},
      "source": [
        "### 📖7. Create a 10x10 matrix of random integers between 0 and 255"
      ]
    },
    {
      "cell_type": "code",
      "execution_count": null,
      "id": "7d6ade50",
      "metadata": {},
      "outputs": [],
      "source": []
    },
    {
      "cell_type": "markdown",
      "id": "e8345eac",
      "metadata": {},
      "source": [
        "### 📖8. Based on your previous matrix, get the item which is in row 6 and column 4"
      ]
    },
    {
      "cell_type": "code",
      "execution_count": null,
      "id": "6660f22c",
      "metadata": {},
      "outputs": [],
      "source": []
    },
    {
      "cell_type": "markdown",
      "id": "e3411d5e",
      "metadata": {},
      "source": [
        "### 📖9. Based on your previous matrix, select the last value from every row"
      ]
    },
    {
      "cell_type": "code",
      "execution_count": null,
      "id": "7aeeafdc",
      "metadata": {},
      "outputs": [],
      "source": []
    },
    {
      "cell_type": "code",
      "execution_count": null,
      "id": "2202f12e",
      "metadata": {},
      "outputs": [],
      "source": []
    },
    {
      "cell_type": "markdown",
      "id": "47599dcc",
      "metadata": {},
      "source": [
        "### 💡This section contains solutions for given tasks that could be solved with the knowledge from the current notebook."
      ]
    },
    {
      "cell_type": "markdown",
      "id": "ed06efa3",
      "metadata": {},
      "source": [
        "### 📖1. Import NumPy as np"
      ]
    },
    {
      "cell_type": "code",
      "execution_count": null,
      "id": "5a88b936",
      "metadata": {},
      "outputs": [],
      "source": [
        "import numpy as np"
      ]
    },
    {
      "cell_type": "markdown",
      "id": "3f52000f",
      "metadata": {},
      "source": [
        "### 📖2. Create an array from this list"
      ]
    },
    {
      "cell_type": "code",
      "execution_count": null,
      "id": "e8bd5cbd",
      "metadata": {},
      "outputs": [
        {
          "data": {
            "text/plain": [
              "array([9, 8, 7, 6, 5, 4, 3, 2, 1])"
            ]
          },
          "metadata": {},
          "output_type": "display_data"
        }
      ],
      "source": [
        "mylist = [9, 8, 7, 6, 5, 4, 3, 2, 1]\n",
        "myarray = np.array(mylist)\n",
        "myarray"
      ]
    },
    {
      "cell_type": "markdown",
      "id": "5406974a",
      "metadata": {},
      "source": [
        "### 📖3. Reshape the array you just created to the shape 3x3"
      ]
    },
    {
      "cell_type": "code",
      "execution_count": null,
      "id": "6670d0a9",
      "metadata": {},
      "outputs": [
        {
          "data": {
            "text/plain": [
              "array([[9, 8, 7],\n",
              "       [6, 5, 4],\n",
              "       [3, 2, 1]])"
            ]
          },
          "metadata": {},
          "output_type": "display_data"
        }
      ],
      "source": [
        "reshaped = myarray.reshape(3,3)\n",
        "reshaped"
      ]
    },
    {
      "cell_type": "markdown",
      "id": "f3740519",
      "metadata": {},
      "source": [
        "### 📖4. Print the shape of the array you just  reshaped"
      ]
    },
    {
      "cell_type": "code",
      "execution_count": null,
      "id": "a96e8621",
      "metadata": {},
      "outputs": [
        {
          "data": {
            "text/plain": [
              "(3, 3)"
            ]
          },
          "metadata": {},
          "output_type": "display_data"
        }
      ],
      "source": [
        "reshaped.shape"
      ]
    },
    {
      "cell_type": "markdown",
      "id": "a6ea55ca",
      "metadata": {},
      "source": [
        "### 📖5. Create an array of 25 fives and reshape them to a shape of 5x5"
      ]
    },
    {
      "cell_type": "code",
      "execution_count": null,
      "id": "1d3399a2",
      "metadata": {},
      "outputs": [
        {
          "data": {
            "text/plain": [
              "array([[1., 1., 1., 1., 1.],\n",
              "       [1., 1., 1., 1., 1.],\n",
              "       [1., 1., 1., 1., 1.],\n",
              "       [1., 1., 1., 1., 1.],\n",
              "       [1., 1., 1., 1., 1.]])"
            ]
          },
          "metadata": {},
          "output_type": "display_data"
        }
      ],
      "source": [
        "arr = np.ones((5,5))\n",
        "arr"
      ]
    },
    {
      "cell_type": "markdown",
      "id": "70250713",
      "metadata": {},
      "source": [
        "### 📖6. Create an array of 10 random numbers between 0 and 1"
      ]
    },
    {
      "cell_type": "code",
      "execution_count": null,
      "id": "0dc44219",
      "metadata": {},
      "outputs": [
        {
          "data": {
            "text/plain": [
              "array([0.90680511, 0.99742819, 0.77200172, 0.24154789, 0.45313473,\n",
              "       0.21942111, 0.70674746, 0.05677302, 0.18332823, 0.69515142])"
            ]
          },
          "metadata": {},
          "output_type": "display_data"
        }
      ],
      "source": [
        "arr = np.random.rand(10)\n",
        "arr"
      ]
    },
    {
      "cell_type": "markdown",
      "id": "b0904317",
      "metadata": {},
      "source": [
        "### 📖7. Create a 10x10 matrix of random integers between 0 and 255 (both inclusive)"
      ]
    },
    {
      "cell_type": "code",
      "execution_count": null,
      "id": "8568c199",
      "metadata": {},
      "outputs": [
        {
          "data": {
            "text/plain": [
              "array([[150, 241, 125, 241, 111, 145, 153, 116, 189,  12],\n",
              "       [128, 100,  98,  34, 201, 101, 255, 230, 221, 145],\n",
              "       [ 53, 146, 213, 130,  18,  81, 119,  41, 208, 238],\n",
              "       [ 28, 201, 230, 157, 138, 122, 153, 188, 215, 234],\n",
              "       [ 69, 182, 208,  33, 253,  14, 232, 166, 148, 197],\n",
              "       [217,  97,  17, 202,  45, 218, 194, 245, 148,   4],\n",
              "       [227,  83, 175,  15, 101, 192, 182, 185, 103,  58],\n",
              "       [116, 235, 206,  63, 152, 181, 234, 252, 129, 197],\n",
              "       [144, 197, 190, 231,   7,  30, 193, 237, 224,  46],\n",
              "       [135,  59, 187,  26,  43, 176, 180,  41,   0, 241]])"
            ]
          },
          "metadata": {},
          "output_type": "display_data"
        }
      ],
      "source": [
        "arr = np.random.randint(0, 256, (10, 10))\n",
        "arr"
      ]
    },
    {
      "cell_type": "markdown",
      "id": "67915194",
      "metadata": {},
      "source": [
        "### 📖8. based on your previous matrix, get the item which is in row 6 and column 4"
      ]
    },
    {
      "cell_type": "code",
      "execution_count": null,
      "id": "71a2dcf1",
      "metadata": {},
      "outputs": [
        {
          "data": {
            "text/plain": [
              "202"
            ]
          },
          "metadata": {},
          "output_type": "display_data"
        }
      ],
      "source": [
        "arr[5, 3]"
      ]
    },
    {
      "cell_type": "markdown",
      "id": "78bcf2e0",
      "metadata": {},
      "source": [
        "### 📖9. Based on your previous matrix, select the last value from every row"
      ]
    },
    {
      "cell_type": "code",
      "execution_count": null,
      "id": "ce606234",
      "metadata": {},
      "outputs": [
        {
          "data": {
            "text/plain": [
              "array([ 12, 145, 238, 234, 197,   4,  58, 197,  46, 241])"
            ]
          },
          "metadata": {},
          "output_type": "display_data"
        }
      ],
      "source": [
        "arr[:, -1]"
      ]
    },
    {
      "cell_type": "code",
      "execution_count": null,
      "id": "54d6a270",
      "metadata": {},
      "outputs": [],
      "source": []
    }
  ],
  "metadata": {
    "colab": {
      "provenance": []
    },
    "kernelspec": {
      "display_name": "Python 3 (ipykernel)",
      "language": "python",
      "name": "python3"
    },
    "language_info": {
      "codemirror_mode": {
        "name": "ipython",
        "version": 3
      },
      "file_extension": ".py",
      "mimetype": "text/x-python",
      "name": "python",
      "nbconvert_exporter": "python",
      "pygments_lexer": "ipython3",
      "version": "3.8.3"
    }
  },
  "nbformat": 4,
  "nbformat_minor": 5
}
