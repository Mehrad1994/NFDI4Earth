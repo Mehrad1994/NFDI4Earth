{
  "cells": [
    {
      "cell_type": "markdown",
      "id": "827c8bee",
      "metadata": {},
      "source": [
        "### 📖Content\n",
        "* [Change data type](#Chapter1)\n",
        "* [f-strings](#Chapter2)\n",
        "* [For loops](#Chapter3)\n",
        "* [Conditions](#Chapter4)\n",
        "* [For loops + conditions](#Chapter5)\n",
        "* [Functions](#Chapter6)\n",
        "* [Combining what you have learned](#Chapter7)"
      ]
    },
    {
      "cell_type": "markdown",
      "id": "225adf0b",
      "metadata": {},
      "source": [
        "<div class=\"alert alert-info\">\n",
        "\n",
        "### 📖Change data type <a class=\"anchor\" id=\"chapter1\"></a>\n",
        "As described in the last notebook, there are various data types (str, int, float etc.). The type can be adjusted between some data types. This is necessary, for example, if user input is entered in an 'incorrect' format.\n",
        "<br>\n",
        "Here is an example:\n",
        "<br>\n",
        "The following cell contains a small program that calculates the year of birth based on the age provided by the user.\n",
        "<br>\n",
        "Execute the following cell. An input field will appear in which you can enter your age. Confirm your entry by pressing 'Enter'.\n",
        "<br>\n",
        "The input field is created by 'input()'. It is important that you understand that the user input is stored in the variable 'user_input'. This variable can therefore be used later to access the entered value."
      ]
    },
    {
      "cell_type": "code",
      "execution_count": null,
      "id": "aa075273",
      "metadata": {},
      "outputs": [],
      "source": [
        "print('Please set your age:')\n",
        "user_input = input() #creates a field for user-input\n",
        "\n",
        "year_of_birth  = 2022 - user_input #subtracts the provided age from the year 2022\n",
        "print('You were born in: ', year_of_birth)"
      ]
    },
    {
      "cell_type": "markdown",
      "id": "0a600ca4",
      "metadata": {},
      "source": [
        "<div class=\"alert alert-info\">\n",
        "    \n",
        "You receive an error message that no calculations can be made between the data types int (the year 2022) and str (the user input).\n",
        "<br>\n",
        "The problem is that the input field only returns text (i.e. strings) to the script. Although we write a number in the field, Python understands it as text.\n",
        "<br>\n",
        "So we have to convert the text (which contains our age) into the data type *int*.\n",
        "<br>\n",
        "To convert *str* to *int*:\n",
        "- int(my_text)\n",
        "\n",
        "For converting *str* or an *int* into a *float*:\n",
        "- float(my_text_or_int)\n",
        "\n",
        "For converting an *int* or a *float* into a *str*\n",
        "- str(my_int_or_float)\n",
        "<br>\n",
        "\n",
        "Converting *float* to *int* with the above command (int(my_float)) is not recommended, as this function is not able to round correctly. There are better methods that we will not discuss here (but Google knows everything ;) )\n",
        "    \n",
        "We will now incorporate the knowledge we have just acquired into our little program.\n",
        "<br>\n",
        "We use the function int(my_string) to create an *int* from the string specified by the user. We can then use this to perform calculations."
      ]
    },
    {
      "cell_type": "code",
      "execution_count": null,
      "id": "35a7cc92",
      "metadata": {},
      "outputs": [],
      "source": [
        "print('Please set your age:')\n",
        "user_input = input() #creates a field for user-input\n",
        "\n",
        "year_of_birth  = 2022 - int(user_input) #turn the input string to an int and subtract from year\n",
        "print('You were born in: ', year_of_birth)"
      ]
    },
    {
      "cell_type": "markdown",
      "id": "68740117",
      "metadata": {},
      "source": [
        "<div class=\"alert alert-info\">\n",
        "The conversion from one data type to another also works with the other functions mentioned.\n",
        "<br> In the last notebook, you learned how to query the data type to ensure that the data type adjustment was successful."
      ]
    },
    {
      "cell_type": "code",
      "execution_count": null,
      "id": "7b446d3f",
      "metadata": {},
      "outputs": [],
      "source": [
        "turned_to_str = str(10)\n",
        "print(turned_to_str)\n",
        "turned_to_float = float('7.8')\n",
        "print(turned_to_float)"
      ]
    },
    {
      "cell_type": "code",
      "execution_count": null,
      "id": "f176ec29",
      "metadata": {},
      "outputs": [],
      "source": [
        "#Turn this number into a string and print its datatype:\n",
        "a = 18.4"
      ]
    },
    {
      "cell_type": "markdown",
      "id": "86782ea3",
      "metadata": {},
      "source": [
        "<div class=\"alert alert-success\">   \n",
        "    \n",
        "### 📖f-strings <a class=\"anchor\" id=\"chapter2\"></a>\n",
        "\n",
        "For the naming of files or for meaningful print statements, it is often necessary for different data types to be written together in one text.\n",
        "<br>The problem was explained above.\n",
        "<br>There are many ways to solve this 'problem'.\n",
        "<br>While we can simply string strings together with a '+', this does not work with different data types"
      ]
    },
    {
      "cell_type": "code",
      "execution_count": null,
      "id": "e3db7433",
      "metadata": {},
      "outputs": [],
      "source": [
        "a = 'Hello ' #The space at the end is needed to have a space between the words after putting them together\n",
        "b = 'World'\n",
        "c = a+b\n",
        "print(c)"
      ]
    },
    {
      "cell_type": "code",
      "execution_count": null,
      "id": "04e54c69",
      "metadata": {},
      "outputs": [],
      "source": [
        "a = 'We have the year '\n",
        "b = 2022\n",
        "c = a + b\n",
        "print(c)\n",
        "#This will throw an error"
      ]
    },
    {
      "cell_type": "markdown",
      "id": "ba74684c",
      "metadata": {},
      "source": [
        "<div class=\"alert alert-success\">\n",
        "In principle, we can use the knowledge we have learned above to turn the number into a string:"
      ]
    },
    {
      "cell_type": "code",
      "execution_count": null,
      "id": "6c2dbbc5",
      "metadata": {},
      "outputs": [],
      "source": [
        "a = 'We have the year '\n",
        "b = 2022\n",
        "c = a + str(b)\n",
        "print(c)"
      ]
    },
    {
      "cell_type": "markdown",
      "id": "29b236a9",
      "metadata": {},
      "source": [
        "<div class=\"alert alert-success\">\n",
        "In principle, it would be possible to combine strings and integers in a print using a comma"
      ]
    },
    {
      "cell_type": "code",
      "execution_count": null,
      "id": "915c66e7",
      "metadata": {},
      "outputs": [
        {
          "name": "stdout",
          "output_type": "stream",
          "text": [
            "We have the year  2022\n"
          ]
        }
      ],
      "source": [
        "a = 'We have the year '\n",
        "b = 2022\n",
        "print(a, b)"
      ]
    },
    {
      "cell_type": "markdown",
      "id": "c66ed7d0",
      "metadata": {},
      "source": [
        "<div class=\"alert alert-success\">\n",
        "    \n",
        "A much more efficient way to create a string containing numbers is to use **f-strings**.\n",
        "<br>\n",
        "We simply write an 'f' in front of the quotation marks of the string and set all variables with a different data type to '{ }':"
      ]
    },
    {
      "cell_type": "code",
      "execution_count": null,
      "id": "121d0836",
      "metadata": {},
      "outputs": [],
      "source": [
        "population = 364628\n",
        "area = 145.4\n",
        "my_f_string = f\"Living in Bochum {population} Inhabitants on an area of {area} km²\"\n",
        "print(my_f_string)"
      ]
    },
    {
      "cell_type": "markdown",
      "id": "0217091e",
      "metadata": {},
      "source": [
        "<div class=\"alert alert-warning\">\n",
        "    \n",
        "### 📖For Loops <a class=\"anchor\" id=\"chapter3\"></a>\n",
        "Loops are an important part of programming. The For Loop is probably the most important loop and is used for most applications. Other loop types are the While Loop and the Nested Loop (not covered here).\n",
        "<br>\n",
        "A typical For Loop is structured as follows:\n",
        "\n",
        "- **for** i **in** object:\n",
        "    - *Code that should be executed in every loop*\n",
        "  \n",
        "    \n",
        "The **for** in the **in** are fixed expressions. The *i* represents the element that is drawn from the *object* in each repetition. The *i* therefore has a new value each time it is run. The letter *i* is chosen more or less arbitrarily in this case. You could also use any other letter. The *object* is the object to be 'iterated over'. It can be strings, lists or ranges.\n",
        "\n",
        "[If you would like to see a short video explaining the topic of 'For Loops', click here](https://youtu.be/zqqd_pJpZO4)\n",
        "\n",
        "</div>"
      ]
    },
    {
      "cell_type": "code",
      "execution_count": null,
      "id": "ec1611ab",
      "metadata": {},
      "outputs": [],
      "source": [
        "for i in 'RUB':\n",
        "    print(i)"
      ]
    },
    {
      "cell_type": "code",
      "execution_count": null,
      "id": "42542915",
      "metadata": {},
      "outputs": [],
      "source": [
        "my_list = ['Geomorphology', 'Biogeography', 'Pedology', 'Geomatics']\n",
        "\n",
        "for i in my_list:\n",
        "    print(i)"
      ]
    },
    {
      "cell_type": "markdown",
      "id": "c5fd1d68",
      "metadata": {},
      "source": [
        "<div class=\"alert alert-warning\">\n",
        "Calculations can also be made within the loops"
      ]
    },
    {
      "cell_type": "code",
      "execution_count": null,
      "id": "09c51f21",
      "metadata": {},
      "outputs": [],
      "source": [
        "ages = [19, 23, 28, 31, 24, 38]\n",
        "for i in ages:\n",
        "    year_of_birth = 2022 - i #Do some calculation\n",
        "    print(f\"Born in {year_of_birth}\") #Use a f-string to print the result\n"
      ]
    },
    {
      "cell_type": "markdown",
      "id": "01d4edd7",
      "metadata": {},
      "source": [
        "<div class=\"alert alert-danger\" role=\"alert\">\n",
        "\n",
        "### 📖Conditions <a class=\"anchor\" id=\"chapter4\"></a>\n",
        "Checking conditions is an elementary part of programming. It is often necessary that a certain code is only executed if a condition applies or does not apply.\n",
        "<br>\n",
        "In Python, conditions are checked with **if** statements.\n",
        "Here are a few examples of which conditions can be set:\n",
        "1. Equals: a == b\n",
        "2. Not Equals: a != b\n",
        "3. Less than: a < b\n",
        "4. Less than or equal to: a <= b\n",
        "5. Greater than: a > b\n",
        "6. Greater than or equal to: a >= b\n",
        "    \n",
        "Such a query only ever returns a **True** or **False** internally, depending on whether the condition is fulfilled or not. If a **True** is returned, the following code is executed in an if condition.\n",
        "    \n",
        "First, let's see that a simple condition (without if) only returns True or False:\n",
        "\n",
        "\n",
        "[If you would like to see a short video explaining the topic of 'Conditions', click here](https://youtu.be/8ypf4bdHJzs)\n"
      ]
    },
    {
      "cell_type": "code",
      "execution_count": null,
      "id": "ac2fa1be",
      "metadata": {},
      "outputs": [],
      "source": [
        "a = 5\n",
        "a>1"
      ]
    },
    {
      "cell_type": "markdown",
      "id": "97bc0bd1",
      "metadata": {},
      "source": [
        "<div class=\"alert alert-danger\" role=\"alert\">\n",
        "Here is a simple example of how we combine a query with an if condition so that code is only executed if the condition is met. Change the numbers behind the variables to see what happens when the proportions are reversed. Also test other operators/conditions."
      ]
    },
    {
      "cell_type": "code",
      "execution_count": null,
      "id": "69595a03",
      "metadata": {},
      "outputs": [],
      "source": [
        "a = 42\n",
        "b = 32\n",
        "\n",
        "if a > b:\n",
        "    print(\"a is greater than b\") #This code will only be executed if the condition is True"
      ]
    },
    {
      "cell_type": "markdown",
      "id": "5c976341",
      "metadata": {},
      "source": [
        "<div class=\"alert alert-danger\" role=\"alert\">\n",
        "\n",
        "This simple condition only covers one case. This means that something only happens if the condition is fulfilled. If you want code to be executed even if the first condition is not fulfilled, you can use **else**. The code behind the **else** is always executed if the condition is not fulfilled."
      ]
    },
    {
      "cell_type": "code",
      "execution_count": null,
      "id": "57ec45de",
      "metadata": {},
      "outputs": [
        {
          "name": "stdout",
          "output_type": "stream",
          "text": [
            "a is greater than b\n"
          ]
        }
      ],
      "source": [
        "a = 42\n",
        "b = 32\n",
        "\n",
        "if a > b:\n",
        "    print(\"a is greater than b\")\n",
        "else:\n",
        "    print(\"a is not greater than b\")"
      ]
    },
    {
      "cell_type": "markdown",
      "id": "c1473399",
      "metadata": {},
      "source": [
        "<div class=\"alert alert-danger\" role=\"alert\">\n",
        "\n",
        "The **else** allows code to be executed if the upper condition is not met, but other conditions cannot be checked. For example, it is currently possible to check whether one number is greater than the other, but it is not possible to differentiate whether the numbers are the same size.\n",
        "<br>\n",
        "An **elif** makes it possible to specify a further condition if the first/previous condition is not fulfilled."
      ]
    },
    {
      "cell_type": "code",
      "execution_count": null,
      "id": "df488034",
      "metadata": {},
      "outputs": [],
      "source": [
        "a = 42\n",
        "b = 42\n",
        "\n",
        "if a > b:\n",
        "    print(\"a is greater than b\")\n",
        "elif a == b:\n",
        "    print(\"a is equal to b\")\n",
        "else:\n",
        "    print(\"a is not greater than b\")"
      ]
    },
    {
      "cell_type": "markdown",
      "id": "31f74e36",
      "metadata": {},
      "source": [
        "<div class=\"alert alert-danger\" role=\"alert\">\n",
        "    \n",
        "Since if conditions primarily query whether a condition is true, we can also enter **Bools** (i.e. True/False) directly in a condition"
      ]
    },
    {
      "cell_type": "code",
      "execution_count": null,
      "id": "095b836f",
      "metadata": {},
      "outputs": [],
      "source": [
        "x = True\n",
        "\n",
        "if x == True:\n",
        "    print(\"Some Code is executed because x is True\")\n",
        "else:\n",
        "    print(\"Some other code is executed because x is False\")"
      ]
    },
    {
      "cell_type": "markdown",
      "id": "85a50115",
      "metadata": {},
      "source": [
        "<div class=\"alert alert-danger\" role=\"alert\">\n",
        "We can also write this code a little more compactly if we want to check a bool. It is then sufficient to name the bool directly after the if."
      ]
    },
    {
      "cell_type": "code",
      "execution_count": null,
      "id": "6b442f80",
      "metadata": {},
      "outputs": [],
      "source": [
        "x = True\n",
        "\n",
        "if x:\n",
        "    print(\"Some Code is executed because x is True\")\n",
        "else:\n",
        "    print(\"Some other code is executed because x is False\")"
      ]
    },
    {
      "cell_type": "markdown",
      "id": "ace842c8",
      "metadata": {},
      "source": [
        "<div class=\"alert alert-info\">\n",
        "\n",
        "### 📖For Loops + Conditions <a class=\"anchor\" id=\"chapter5\"></a>\n",
        "Very often **For Loops** are linked to **Conditions**. For example, you can 'iterate' over values in a data set and trigger different processes, depending on what value is currently being queried.\n",
        "<br>\n",
        "Let's assume that we have a data series with night-time temperatures. We are interested in how many tropical nights there are in the data series.\n",
        "<br>\n",
        "To do this, we will loop through the entries in the list. If the value is >=20 we will increment a counter by 1. The counter will show us at the end of the short script how many tropical nights there were.\n",
        "<br>\n",
        "(The data is fictitious)\n",
        "    \n",
        "[If you would like to see the topic 'For Loops + Conditions' explained in a short video, click here](https://youtu.be/8LGB_MX-ckg)\n"
      ]
    },
    {
      "cell_type": "code",
      "execution_count": null,
      "id": "2af2f359",
      "metadata": {},
      "outputs": [],
      "source": [
        "temps = [17.5, 18.0, 20.0, 24.5, 21.0, 18.5, 19.5, 16.0, 21.0, 21.5, 22.5, 20.0, 18.0, 20.5, 21.5, 19.5, 17.0]\n",
        "\n",
        "tropical_nights = 0 #The counter is on 0 before the loop starts\n",
        "\n",
        "for i in temps:\n",
        "    if i >= 20:\n",
        "        tropical_nights+=1 #if there is a value >= 20 the variable tropical_nights is raised by 1\n",
        "\n",
        "print(f\"There were {tropical_nights} tropical nights\")"
      ]
    },
    {
      "cell_type": "markdown",
      "id": "634262ab",
      "metadata": {},
      "source": [
        "<div class=\"alert alert-success\" role=\"alert\">\n",
        "\n",
        "### 📖Functions <a class=\"anchor\" id=\"chapter6\"></a>\n",
        "Functions may look complicated at first glance, but they are actually very simple. Functions are a sequence of calculations/processing/processes which can be called up again and again under different input variables without having to rewrite the entire code each time.\n",
        "\n",
        "\n",
        "A function must first be defined so that Python knows that it is a function that will be called again later. We define a function with a **def** , followed by the name of the function. This is followed by brackets (), into which parameters are written. These parameters are like placeholders for variables that you want to add to the function later.\n",
        "\n",
        "- *def*  my_function_name (my_optional_parameter1, my_optional_parameter2):\n",
        "    - my code that should be executet when I call the function\n",
        "\n",
        "A function itself is not executed until it is called. It is called by specifying its name (and the parameters to be passed) at a point in the script.\n",
        "    <br>\n",
        "As this explanation may still seem complicated, it is best to learn how to use functions using examples.\n",
        "<br>\n",
        "In the first example, our function should simply add the value 5 to each number that is entered into the function. The function will initially only be able to print the result.\n",
        "\n",
        "[If you would like to see a short video explaining the topic of 'Functions', click here](https://youtu.be/G7xEIEMBpPY)\n"
      ]
    },
    {
      "cell_type": "code",
      "execution_count": null,
      "id": "9c2f1120",
      "metadata": {},
      "outputs": [],
      "source": [
        "def add_5 (value): #We will use the parameter 'value' within the function to do some calculations. The parameter itself will be replaced with an actual variable when we call the function\n",
        "    print(value + 5)\n",
        "\n",
        "#lets call the function. We do this by just calling the name and provide information for the parameter\n",
        "add_5(13)\n",
        "\n",
        "#We can call it as many times as we want\n",
        "add_5(100)\n",
        "add_5(-513)\n",
        "\n",
        "#We can also put in a variable that stores the number\n",
        "a = 5561\n",
        "add_5(a)"
      ]
    },
    {
      "cell_type": "markdown",
      "id": "ba72f8a3",
      "metadata": {},
      "source": [
        "<div class=\"alert alert-success\" role=\"alert\">\n",
        "    \n",
        "So we see that a function is able to execute a certain code under changing input data.\n",
        "<br>\n",
        "Of course, this is only possible if the data types are correct. As we have already learned, we could not enter a string as a parameter in the calculation in this function, as you cannot calculate words with numbers.\n",
        "<br>\n",
        "So far, our function is only able to print the result. However, we are currently unable to perform any further calculations with the result from the function.\n",
        "<br>\n",
        "We use a **return** so that the function returns a value.\n",
        "<br>\n",
        "This allows us to use the value/object behind the return later.\n",
        "\n",
        "The following function is intended to calculate the percentage of the total area of Germany covered by different land covers.\n",
        "<br>\n",
        "The shares should then be added together:\n",
        "    <br>\n",
        "[Data source](https://www.umweltbundesamt.de/daten/flaeche-boden-land-oekosysteme/flaeche/struktur-der-flaechennutzung#die-wichtigsten-flachennutzungen)"
      ]
    },
    {
      "cell_type": "code",
      "execution_count": null,
      "id": "f990b5fd",
      "metadata": {},
      "outputs": [],
      "source": [
        "def calc_percentage (area_sqkm):\n",
        "    area_germany = 357581\n",
        "    percentage = area_sqkm / area_germany *100\n",
        "    return percentage\n",
        "\n",
        "#calculating the percentage of agricultural land and forests based on their area in km²\n",
        "\n",
        "agriculture = calc_percentage(180936) #The variable agriculture will store the result of the function as we used a 'return'\n",
        "forests = calc_percentage(106559)\n",
        "\n",
        "total = agriculture + forests #Sum up the values\n",
        "\n",
        "print(f\"In Germany {total}% of the land is covered by agriculture ({agriculture}%) and forests ({forests}%) \")"
      ]
    },
    {
      "cell_type": "markdown",
      "id": "ca0595dc",
      "metadata": {},
      "source": [
        "<div class=\"alert alert-success\" role=\"alert\">\n",
        "    \n",
        "At the moment, our function can only calculate area shares in Germany, as the area of Germany is anchored within the function. However, we can also define several parameters in the function and thus create more flexibility."
      ]
    },
    {
      "cell_type": "code",
      "execution_count": null,
      "id": "562494b8",
      "metadata": {},
      "outputs": [],
      "source": [
        "def calc_percentage (share_sqkm, total_sqkm):\n",
        "    percentage = share_sqkm / total_sqkm *100\n",
        "    return percentage\n",
        "\n",
        "germany = 357581\n",
        "agriculture = 180936\n",
        "\n",
        "print(calc_percentage(agriculture, germany))"
      ]
    },
    {
      "cell_type": "markdown",
      "id": "3d91f66a",
      "metadata": {},
      "source": [
        "<div class=\"alert alert-warning\">\n",
        "\n",
        "### 📖Combining what you have learned <a class=\"anchor\" id=\"chapter7\"></a>\n",
        "We now want to combine the different methods to create a script that is able to convert units of a temperature measurement between Celsius and Fahrenheit.\n",
        "<br>\n",
        "A function is to be written which has the following parameters:\n",
        "1. a list of temperature measurements\n",
        "2. a string with the information whether the data is 'Celsius' or 'Fahrenheit'\n",
        "\n",
        "<br>\n",
        "The script should then convert to the other unit and save the data in the new list. The new list is returned directly by the function.\n",
        "    \n",
        "[If you would like to see a short video explaining how to combine functions, conditions and loops, click here](https://youtu.be/TwiMpsjXPSw)\n"
      ]
    },
    {
      "cell_type": "code",
      "execution_count": null,
      "id": "666e3c28",
      "metadata": {},
      "outputs": [],
      "source": [
        "#Here are two lists with which we can test our function later\n",
        "temp_c = [17.5, 18.0, 20.0, 24.5, 21.0, 18.5, 19.5, 16.0, 21.0, 21.5, 22.5, 20.0, 18.0, 20.5, 21.5, 19.5, 17.0]\n",
        "temp_f = [63.5, 64.4, 68.0, 76.1, 69.8, 65.3, 67.1, 60.8, 69.8, 70.7, 72.5, 68.0, 64.4, 68.9, 70.7, 67.1, 62.6]"
      ]
    },
    {
      "cell_type": "code",
      "execution_count": null,
      "id": "1736edcc",
      "metadata": {},
      "outputs": [],
      "source": [
        "#Let us set up a function that can do the job\n",
        "\n",
        "def temp_converter (input_list, input_unit):\n",
        "    empty_output_list = []\n",
        "\n",
        "    if input_unit == 'Celsius':\n",
        "        for i in input_list:\n",
        "            converted = i * 1.8 + 32\n",
        "            empty_output_list.append(converted)\n",
        "\n",
        "    elif input_unit == 'Fahrenheit':\n",
        "        for i in input_list:\n",
        "            converted = (i - 32) * 5/9\n",
        "            empty_output_list.append(converted)\n",
        "    else:\n",
        "        print(\"Please specify whether your Data is in Celsius or Fahrenheit\")\n",
        "    return empty_output_list"
      ]
    },
    {
      "cell_type": "code",
      "execution_count": null,
      "id": "97e70558",
      "metadata": {},
      "outputs": [],
      "source": [
        "#Let us test our function\n",
        "\n",
        "converted = temp_converter(temp_c, 'Celsius')\n",
        "\n",
        "print(converted)"
      ]
    },
    {
      "cell_type": "code",
      "execution_count": null,
      "id": "a7207c32",
      "metadata": {},
      "outputs": [],
      "source": []
    },
    {
      "cell_type": "markdown",
      "id": "6a300684",
      "metadata": {},
      "source": [
        "### 🧠 This section contains tasks that can be solved with the knowledge from the current notebook."
      ]
    },
    {
      "cell_type": "markdown",
      "id": "aaf3bbd4",
      "metadata": {},
      "source": [
        "### ✏️Task 1\n",
        "The thermometer of a measuring station has a systematic error of +4.20 °C due to a technical defect.  \n",
        "This should now be removed from all values in the measurement series for evaluation.\n",
        "<br>\n",
        "Use a **for loop** to subtract the measurement error from the values and save the corrected results in a new table."
      ]
    },
    {
      "cell_type": "code",
      "execution_count": null,
      "id": "b6294310",
      "metadata": {},
      "outputs": [],
      "source": [
        "temps = [19.5, 18.0, 23.0, 26.5, 25.0, 19.5, 21.5, 20.0, 22.0, 23.5, 25.5, 24.0, 22.0, 21.5, 23.5, 21.5, 19.0]"
      ]
    },
    {
      "cell_type": "code",
      "execution_count": null,
      "id": "deceb016",
      "metadata": {},
      "outputs": [],
      "source": [
        "#Your code\n"
      ]
    },
    {
      "cell_type": "markdown",
      "id": "4706619b",
      "metadata": {},
      "source": [
        "***\n",
        "### ✏️Task 2\n",
        "The following list shows the minimum, maximum and average temperature (in this order) for each measurement time.\n",
        "<br>\n",
        "A new list is to be created in which only the average temperature is available."
      ]
    },
    {
      "cell_type": "code",
      "execution_count": null,
      "id": "ee2ce7b8",
      "metadata": {},
      "outputs": [],
      "source": [
        "temps = [[16.4, 23.4, 19.9], [17.1, 23.0, 20.1], [21.7, 24.8, 23.2], [18.1, 26.5, 22.3], [16.3, 22.8, 19.6], [14.5, 19.8, 17.1], [18.8, 24.4, 21.6], [17.7, 23.4, 20.5], [16.8, 27.0, 21.9], [19.4, 20.6, 20.0]]"
      ]
    },
    {
      "cell_type": "code",
      "execution_count": null,
      "id": "878b376c",
      "metadata": {},
      "outputs": [],
      "source": [
        "# Your code\n"
      ]
    },
    {
      "cell_type": "markdown",
      "id": "aeebbd50",
      "metadata": {},
      "source": [
        "***\n",
        "### ✏️Task 3\n",
        "The prepared list contains the daily 7-day corona incidence between 12.06.2022 and 11.08.2022.\n",
        "<br>\n",
        "A **for loop** is to be used to determine the number of days in which the incidences were above and below 500.\n",
        "<br>\n",
        "To do this, create two 'counters' that specify the respective number of days and print the results with a meaningful f-string.\n",
        "<br>\n",
        "[Quelle RKI](https://www.rki.de/DE/Content/InfAZ/N/Neuartiges_Coronavirus/Daten/Klinische_Aspekte.html)"
      ]
    },
    {
      "cell_type": "code",
      "execution_count": null,
      "id": "2349469c",
      "metadata": {},
      "outputs": [],
      "source": [
        "inzidence = [461.0, 473.6, 565.4, 604.3, 607.3, 547.1, 555.2, 566.9, 569.8, 602.4, 645.1, 696.7, 802.4, 835.4, 845.9, 845.5, 848.5, 853.9, 852.9, 847.5, 847.5, 834.5, 834.9, 811.3, 788.3, 771.9, 751.7, 727.0, 723.8, 718.7, 722.6, 716.7, 707.9, 700.8, 699.9, 693.3, 691.7, 681.4, 659.9, 630.7, 611.7, 593.3, 592.2, 592.9, 576.2, 563.8, 548.1, 528.0, 509.7, 501.7, 497.8, 488.7, 476.9, 465.3, 463.2, 454.5, 453.7, 450.2, 440.6, 423.0, 394.1]"
      ]
    },
    {
      "cell_type": "code",
      "execution_count": null,
      "id": "e51fad17",
      "metadata": {},
      "outputs": [],
      "source": [
        "#Your code\n"
      ]
    },
    {
      "cell_type": "markdown",
      "id": "9108be27",
      "metadata": {},
      "source": [
        "***\n",
        "### ✏️Task 4\n",
        "Given is a list with the Latin names of tree species from a tree inventory.\n",
        "<br>\n",
        "1. Create a new list in which each tree species is listed only once in order to determine the number of different tree species (Not all of the methods required for this have been taught in the accompanying notebook. However, as in real life, you can find all the answers on the Internet. First try to find an approach on your own, otherwise here are two links that will help you: [Add to list if not already in list](https://stackoverflow.com/questions/42334197/add-only-unique-values-to-a-list-in-python), [Get length of list](https://www.edureka.co/blog/python-list-length/))\n",
        "2. Create a **for loop** (based on your list from subtask 1) which gives the tree species as print output and how often it was found during the inventory (Again, the internet will help you to use a more efficient method than the 'counter' you have learned so far. If you cannot find an approach, have a look at [here](https://www.codegrepper.com/code-examples/python/python+count+number+of+elements+in+list+equal+to))"
      ]
    },
    {
      "cell_type": "code",
      "execution_count": null,
      "id": "67804a3a",
      "metadata": {},
      "outputs": [],
      "source": [
        "trees = ['Fagus sylvatica', 'Quercus robur', 'Fagus sylvatica', 'Larix decidua', 'Quercus robur', 'Quercus robur', 'Aesculus hippocastanum', 'Larix decidua', 'Larix decidua', 'Picea abies', 'Fagus sylvatica', 'Betula pendula', 'Larix decidua', 'Betula pendula', 'Fagus sylvatica', 'Betula pendula', 'Picea abies', 'Aesculus hippocastanum', 'Fagus sylvatica', 'Quercus robur', 'Larix decidua', 'Fagus sylvatica', 'Betula pendula', 'Fagus sylvatica', 'Picea abies', 'Quercus robur', 'Larix decidua', 'Betula pendula', 'Betula pendula', 'Fagus sylvatica', 'Aesculus hippocastanum', 'Larix decidua', 'Picea abies', 'Betula pendula', 'Fagus sylvatica', 'Fagus sylvatica', 'Betula pendula', 'Aesculus hippocastanum', 'Quercus robur', 'Quercus robur', 'Quercus robur', 'Fagus sylvatica', 'Aesculus hippocastanum', 'Picea abies', 'Larix decidua', 'Picea abies', 'Larix decidua', 'Aesculus hippocastanum', 'Picea abies', 'Picea abies']"
      ]
    },
    {
      "cell_type": "code",
      "execution_count": null,
      "id": "77c2c0d4",
      "metadata": {},
      "outputs": [],
      "source": [
        "# Your code\n"
      ]
    },
    {
      "cell_type": "markdown",
      "id": "a71f5ebf",
      "metadata": {},
      "source": [
        "***\n",
        "### ✏️Task 5\n",
        "Create a function that subtracts an individually definable value from the data series provided. It should be possible to pass the following parameters to the function:\n",
        "1. list as data input\n",
        "2. value to be subtracted\n",
        "\n",
        "Your function should be able to print the newly calculated value.\n",
        "Test your function by subtracting the value 8.4."
      ]
    },
    {
      "cell_type": "code",
      "execution_count": null,
      "id": "70b63d0f",
      "metadata": {},
      "outputs": [],
      "source": [
        "values = [19.5, 18.0, 23.0, 26.5, 25.0, 19.5, 21.5, 20.0, 22.0, 23.5]"
      ]
    },
    {
      "cell_type": "code",
      "execution_count": null,
      "id": "f990f3ef",
      "metadata": {},
      "outputs": [],
      "source": [
        "#Your code\n"
      ]
    },
    {
      "cell_type": "markdown",
      "id": "458a6fd5",
      "metadata": {},
      "source": [
        "***\n",
        "### ✏️Task 6\n",
        "Write a function that is able to convert between the units meters and feet. It should be possible to enter lists into the function and convert them into the other unit.\n",
        "<br>\n",
        "Find a way to round the conversion results."
      ]
    },
    {
      "cell_type": "code",
      "execution_count": null,
      "id": "55ad5cd2",
      "metadata": {},
      "outputs": [],
      "source": [
        "meter = [2222, 1594, 256, 1855, 2087, 6, 1611, 171, 842, 699, 957, 729, 214, 2133, 2083, 1602, 1136, 2052, 446, 1921, 2264, 46, 1697, 137, 1514]\n",
        "feet = [7290.0, 5229.7, 839.9, 6086.0, 6847.1, 19.7, 5285.4, 561.0, 2762.5, 2293.3, 3139.8, 2391.7, 702.1, 6998.0, 6834.0, 5255.9, 3727.0, 6732.3, 1463.3, 6302.5, 7427.8, 150.9, 5567.6, 449.5, 4967.2]"
      ]
    },
    {
      "cell_type": "code",
      "execution_count": null,
      "id": "8e3c434f",
      "metadata": {},
      "outputs": [],
      "source": [
        "#Your code\n"
      ]
    },
    {
      "cell_type": "markdown",
      "id": "a5017adf",
      "metadata": {},
      "source": [
        "***\n",
        "### ✏️Task 7\n",
        "In some scientific data there are so-called 'NoData Values', i.e. values that are used for measurements for which there was no measurement result. Such NoData Values are often found in raster data that is opened in geoinformation systems (e.g. outlines of oblique satellite images).\n",
        "<br>\n",
        "In geoinformation systems, the NoData values can be set (e.g. to 0 or -999) so that the raster dataset is displayed correctly.\n",
        "<br>\n",
        "In Python, changing the NoData values is a little more difficult.\n",
        "<br>\n",
        "The following list is intended to mimic a raster data set which has a size of 3x3 pixels. Each of the lists in the list should represent a series of pixel values of a gray value image.\n",
        "<br>\n",
        "In reality, raster data in Python is not displayed directly as lists (we will come to that later). For now, however, let's assume that this is the case.\n",
        "<br>\n",
        "1. Create a function that can 'iterate' through the individual values and create a new list in which the previous NoData value 0 is set to -999. The structure of the list should be retained.\n",
        "\n",
        "Note: Use print statements when developing the function to get information about the individual elements of the loop. Think about how you can access nested elements."
      ]
    },
    {
      "cell_type": "code",
      "execution_count": null,
      "id": "0ad03035",
      "metadata": {},
      "outputs": [],
      "source": [
        "raster = [\n",
        "    [125, 54, 12],\n",
        "    [0, 146, 211],\n",
        "    [198, 137, 0],\n",
        "]"
      ]
    },
    {
      "cell_type": "code",
      "execution_count": null,
      "id": "3623be31",
      "metadata": {},
      "outputs": [],
      "source": [
        "#Your code\n"
      ]
    },
    {
      "cell_type": "markdown",
      "id": "f55f1f40",
      "metadata": {},
      "source": [
        "***\n",
        "***\n",
        "\n",
        "### 📖For interested parties\n",
        "Even if most of the data in the previous exercises and tasks are fictitious, the lists with their data have to be created somehow.\n",
        "<br>\n",
        "If you are interested in how we save ourselves some work and create the lists, take a look at the cells below.\n",
        "<br>\n",
        "Nevertheless, we have kept the code simple so that it is easy to understand.\n",
        "<br>\n",
        "There are much more efficient ways to create the data ;)"
      ]
    },
    {
      "cell_type": "code",
      "execution_count": null,
      "id": "b35c28d5",
      "metadata": {},
      "outputs": [],
      "source": [
        "#Create a nested list with min, max and mean temperatures\n",
        "\n",
        "import random #This imports a package that can create random numbers\n",
        "\n",
        "temps = [19.5, 18.0, 23.0, 22.0 , 21.0, 19.5, 21.5, 20.0, 22.0, 20.5] #We will use those values to do some calculations\n",
        "\n",
        "new_temp = []\n",
        "\n",
        "for i in temps:\n",
        "    minimum = i - round(random.uniform(0, 6),1) #subtract a random float number between 0 and 6 from the current element and round it to the first digit\n",
        "    maximum = i + round(random.uniform(0, 5),1)\n",
        "    mean = round((minimum+maximum)/2, 1)\n",
        "    new_temp.append([minimum, maximum, mean])\n",
        "print(new_temp)"
      ]
    },
    {
      "cell_type": "code",
      "execution_count": null,
      "id": "3d2ede84",
      "metadata": {},
      "outputs": [],
      "source": [
        "#Create a List with specific length and randomly chosen tree species.\n",
        "\n",
        "trees = ['Picea abies', 'Larix decidua', 'Betula pendula', 'Fagus sylvatica', 'Quercus robur', 'Aesculus hippocastanum']\n",
        "new_list = []\n",
        "for i in range (50):\n",
        "    new_list.append(random.choice(trees))\n",
        "print(new_list)"
      ]
    },
    {
      "cell_type": "code",
      "execution_count": null,
      "id": "88f503dd",
      "metadata": {},
      "outputs": [],
      "source": [
        "#Create some random integers (values should be between 1 and 3000 and 25 random values should be created)\n",
        "import numpy as np\n",
        "meter = list(np.random.randint(1, 3000, 25))\n",
        "print(meter)"
      ]
    },
    {
      "cell_type": "markdown",
      "id": "77d3d130",
      "metadata": {},
      "source": [
        "### 💡This section contains solutions for given tasks that could be solved with the knowledge from the current notebook."
      ]
    },
    {
      "cell_type": "markdown",
      "id": "ecb86e09",
      "metadata": {},
      "source": [
        "### ✏️Task 1\n",
        "The thermometer of a measuring station has a systematic error of +4.20 °C due to a technical defect.  \n",
        "This should now be removed from all values in the measurement series for evaluation.\n",
        "<br>\n",
        "Use a **for loop** to subtract the measurement error from the values and save the corrected results in a new table."
      ]
    },
    {
      "cell_type": "code",
      "execution_count": null,
      "id": "78202bb3",
      "metadata": {},
      "outputs": [],
      "source": [
        "temps = [19.5, 18.0, 23.0, 26.5, 25.0, 19.5, 21.5, 20.0, 22.0, 23.5, 25.5, 24.0, 22.0, 21.5, 23.5, 21.5, 19.0]"
      ]
    },
    {
      "cell_type": "code",
      "execution_count": null,
      "id": "a58fbf41",
      "metadata": {},
      "outputs": [
        {
          "name": "stdout",
          "output_type": "stream",
          "text": [
            "[15.3, 13.8, 18.8, 22.3, 20.8, 15.3, 17.3, 15.8, 17.8, 19.3, 21.3, 19.8, 17.8, 17.3, 19.3, 17.3, 14.8]\n"
          ]
        }
      ],
      "source": [
        "#Your code\n",
        "temps_corrected = []\n",
        "for i in temps:\n",
        "    temps_corrected.append(i-4.2)\n",
        "\n",
        "print(temps_corrected)"
      ]
    },
    {
      "cell_type": "markdown",
      "id": "d7261e1f",
      "metadata": {},
      "source": [
        "***\n",
        "### ✏️Task 2\n",
        "The following list shows the minimum, maximum and average temperature (in this order) for each measurement time.\n",
        "<br>\n",
        "A new list is to be created in which only the average temperature is available."
      ]
    },
    {
      "cell_type": "code",
      "execution_count": null,
      "id": "c48aa5bd",
      "metadata": {},
      "outputs": [],
      "source": [
        "temps = [[16.4, 23.4, 19.9], [17.1, 23.0, 20.1], [21.7, 24.8, 23.2], [18.1, 26.5, 22.3], [16.3, 22.8, 19.6], [14.5, 19.8, 17.1], [18.8, 24.4, 21.6], [17.7, 23.4, 20.5], [16.8, 27.0, 21.9], [19.4, 20.6, 20.0]]"
      ]
    },
    {
      "cell_type": "code",
      "execution_count": null,
      "id": "d6c5ab08",
      "metadata": {},
      "outputs": [
        {
          "name": "stdout",
          "output_type": "stream",
          "text": [
            "[19.9, 20.1, 23.2, 22.3, 19.6, 17.1, 21.6, 20.5, 21.9, 20.0]\n"
          ]
        }
      ],
      "source": [
        "# Your code\n",
        "mean_temp = []\n",
        "\n",
        "for i in temps:\n",
        "    mean_temp.append(i[2])\n",
        "\n",
        "print(mean_temp)"
      ]
    },
    {
      "cell_type": "markdown",
      "id": "907b7f7d",
      "metadata": {},
      "source": [
        "***\n",
        "### ✏️Task 3\n",
        "The prepared list contains the daily 7-day corona incidence between 12.06.2022 and 11.08.2022.\n",
        "<br>\n",
        "A **for loop** is to be used to determine the number of days in which the incidences were above and below 500.\n",
        "<br>\n",
        "To do this, create two 'counters' that specify the respective number of days and print the results with a meaningful f-string.\n",
        "<br>\n",
        "[Quelle RKI](https://www.rki.de/DE/Content/InfAZ/N/Neuartiges_Coronavirus/Daten/Klinische_Aspekte.html)"
      ]
    },
    {
      "cell_type": "code",
      "execution_count": null,
      "id": "487beb21",
      "metadata": {},
      "outputs": [],
      "source": [
        "inzidence = [461.0, 473.6, 565.4, 604.3, 607.3, 547.1, 555.2, 566.9, 569.8, 602.4, 645.1, 696.7, 802.4, 835.4, 845.9, 845.5, 848.5, 853.9, 852.9, 847.5, 847.5, 834.5, 834.9, 811.3, 788.3, 771.9, 751.7, 727.0, 723.8, 718.7, 722.6, 716.7, 707.9, 700.8, 699.9, 693.3, 691.7, 681.4, 659.9, 630.7, 611.7, 593.3, 592.2, 592.9, 576.2, 563.8, 548.1, 528.0, 509.7, 501.7, 497.8, 488.7, 476.9, 465.3, 463.2, 454.5, 453.7, 450.2, 440.6, 423.0, 394.1]"
      ]
    },
    {
      "cell_type": "code",
      "execution_count": null,
      "id": "787354ca",
      "metadata": {},
      "outputs": [
        {
          "name": "stdout",
          "output_type": "stream",
          "text": [
            "There were 48 days with an inzidence over or equal to 500 and 13 days with an inzidence below 500\n"
          ]
        }
      ],
      "source": [
        "#Your code\n",
        "over_500 = 0\n",
        "under_500 = 0\n",
        "\n",
        "for i in inzidence:\n",
        "    if i >= 500:\n",
        "        over_500 += 1\n",
        "    else:\n",
        "        under_500 += 1\n",
        "\n",
        "print(f\"There were {over_500} days with an inzidence over or equal to 500 and {under_500} days with an inzidence below 500\")"
      ]
    },
    {
      "cell_type": "markdown",
      "id": "13e486c9",
      "metadata": {},
      "source": [
        "***\n",
        "### ✏️Task 4\n",
        "Given is a list with the Latin names of tree species from a tree inventory.\n",
        "<br>\n",
        "1. Create a new list in which each tree species is listed only once in order to determine the number of different tree species (Not all of the methods required for this have been taught in the accompanying notebook. However, as in real life, you can find all the answers on the Internet. First try to find an approach on your own, otherwise here are two links that will help you: [Add to list if not already in list](https://stackoverflow.com/questions/42334197/add-only-unique-values-to-a-list-in-python), [Get length of list](https://www.edureka.co/blog/python-list-length/))\n",
        "2. Create a **for loop** (based on your list from subtask 1) which gives the tree species as print output and how often it was found during the inventory (Again, the internet will help you to use a more efficient method than the 'counter' you have learned so far. If you cannot find an approach, have a look at [here](https://www.codegrepper.com/code-examples/python/python+count+number+of+elements+in+list+equal+to))"
      ]
    },
    {
      "cell_type": "code",
      "execution_count": null,
      "id": "ddca46e3",
      "metadata": {},
      "outputs": [],
      "source": [
        "trees = ['Fagus sylvatica', 'Quercus robur', 'Fagus sylvatica', 'Larix decidua', 'Quercus robur', 'Quercus robur', 'Aesculus hippocastanum', 'Larix decidua', 'Larix decidua', 'Picea abies', 'Fagus sylvatica', 'Betula pendula', 'Larix decidua', 'Betula pendula', 'Fagus sylvatica', 'Betula pendula', 'Picea abies', 'Aesculus hippocastanum', 'Fagus sylvatica', 'Quercus robur', 'Larix decidua', 'Fagus sylvatica', 'Betula pendula', 'Fagus sylvatica', 'Picea abies', 'Quercus robur', 'Larix decidua', 'Betula pendula', 'Betula pendula', 'Fagus sylvatica', 'Aesculus hippocastanum', 'Larix decidua', 'Picea abies', 'Betula pendula', 'Fagus sylvatica', 'Fagus sylvatica', 'Betula pendula', 'Aesculus hippocastanum', 'Quercus robur', 'Quercus robur', 'Quercus robur', 'Fagus sylvatica', 'Aesculus hippocastanum', 'Picea abies', 'Larix decidua', 'Picea abies', 'Larix decidua', 'Aesculus hippocastanum', 'Picea abies', 'Picea abies']"
      ]
    },
    {
      "cell_type": "code",
      "execution_count": null,
      "id": "79b0c5bd",
      "metadata": {},
      "outputs": [
        {
          "name": "stdout",
          "output_type": "stream",
          "text": [
            "There are 6 different tree species\n",
            "Fagus sylvatica: 11\n",
            "Quercus robur: 8\n",
            "Larix decidua: 9\n",
            "Aesculus hippocastanum: 6\n",
            "Picea abies: 8\n",
            "Betula pendula: 8\n"
          ]
        }
      ],
      "source": [
        "# Your code\n",
        "#Part 1\n",
        "unique_trees = []\n",
        "\n",
        "for i in trees:\n",
        "    if i not in unique_trees:\n",
        "        unique_trees.append(i)\n",
        "\n",
        "print(f\"There are {len(unique_trees)} different tree species\")\n",
        "\n",
        "\n",
        "#Part 2\n",
        "for i in unique_trees:\n",
        "      count = trees.count(i)\n",
        "      print(f\"{i}: {count}\")"
      ]
    },
    {
      "cell_type": "markdown",
      "id": "1af48aca",
      "metadata": {},
      "source": [
        "***\n",
        "### ✏️Task 5\n",
        "Create a function that subtracts an individually definable value from the data series provided. It should be possible to pass the following parameters to the function:\n",
        "1. list as data input\n",
        "2. value to be subtracted\n",
        "\n",
        "Your function should be able to print the newly calculated value.\n",
        "Test your function by subtracting the value 8.4."
      ]
    },
    {
      "cell_type": "code",
      "execution_count": null,
      "id": "7a95dc2c",
      "metadata": {},
      "outputs": [],
      "source": [
        "values = [19.5, 18.0, 23.0, 26.5, 25.0, 19.5, 21.5, 20.0, 22.0, 23.5]"
      ]
    },
    {
      "cell_type": "code",
      "execution_count": null,
      "id": "a3a6fe8b",
      "metadata": {},
      "outputs": [
        {
          "name": "stdout",
          "output_type": "stream",
          "text": [
            "11.1\n",
            "9.6\n",
            "14.6\n",
            "18.1\n",
            "16.6\n",
            "11.1\n",
            "13.1\n",
            "11.6\n",
            "13.6\n",
            "15.1\n"
          ]
        }
      ],
      "source": [
        "def subtractor (input_list, input_value):\n",
        "    for i in input_list:\n",
        "        print(i-input_value)\n",
        "\n",
        "subtractor(values, 8.4)"
      ]
    },
    {
      "cell_type": "markdown",
      "id": "677ee42b",
      "metadata": {},
      "source": [
        "***\n",
        "### ✏️Task 6\n",
        "Write a function that is able to convert between the units meters and feet. It should be possible to enter lists into the function and convert them into the other unit.\n",
        "<br>\n",
        "Find a way to round the conversion results."
      ]
    },
    {
      "cell_type": "code",
      "execution_count": null,
      "id": "c349d3d0",
      "metadata": {},
      "outputs": [],
      "source": [
        "meter = [2222, 1594, 256, 1855, 2087, 6, 1611, 171, 842, 699, 957, 729, 214, 2133, 2083, 1602, 1136, 2052, 446, 1921, 2264, 46, 1697, 137, 1514]\n",
        "feet = [7290.0, 5229.7, 839.9, 6086.0, 6847.1, 19.7, 5285.4, 561.0, 2762.5, 2293.3, 3139.8, 2391.7, 702.1, 6998.0, 6834.0, 5255.9, 3727.0, 6732.3, 1463.3, 6302.5, 7427.8, 150.9, 5567.6, 449.5, 4967.2]"
      ]
    },
    {
      "cell_type": "code",
      "execution_count": null,
      "id": "4fdb1463",
      "metadata": {},
      "outputs": [
        {
          "name": "stdout",
          "output_type": "stream",
          "text": [
            "Converting Meters to Feet\n",
            "[7290.0, 5229.7, 839.9, 6086.0, 6847.1, 19.7, 5285.4, 561.0, 2762.5, 2293.3, 3139.8, 2391.7, 702.1, 6998.0, 6834.0, 5255.9, 3727.0, 6732.3, 1463.3, 6302.5, 7427.8, 150.9, 5567.6, 449.5, 4967.2]\n"
          ]
        }
      ],
      "source": [
        "def converter (in_list, current_unit):\n",
        "    out_list = []\n",
        "\n",
        "    if current_unit == 'meter':\n",
        "        print(\"Converting Meters to Feet\")\n",
        "    elif current_unit == 'feet':\n",
        "        print(\"Converting Feet to Meeters\")\n",
        "\n",
        "    for i in in_list:\n",
        "        if current_unit == 'meter':\n",
        "            out_list.append(round(i * 3.2808398950131, 1))\n",
        "        if current_unit == 'feet':\n",
        "            out_list.append(round(i / 3.2808398950131, 1))\n",
        "    return out_list\n",
        "\n",
        "converted = converter(meter, 'meter')\n",
        "print(converted)"
      ]
    },
    {
      "cell_type": "markdown",
      "id": "4f10ed5e",
      "metadata": {},
      "source": [
        "***\n",
        "### ✏️Task 7\n",
        "In some scientific data there are so-called 'NoData Values', i.e. values that are used for measurements for which there was no measurement result. Such NoData Values are often found in raster data that is opened in geoinformation systems (e.g. outlines of oblique satellite images).\n",
        "<br>\n",
        "In geoinformation systems, the NoData values can be set (e.g. to 0 or -999) so that the raster dataset is displayed correctly.\n",
        "<br>\n",
        "In Python, changing the NoData values is a little more difficult.\n",
        "<br>\n",
        "The following list is intended to mimic a raster data set which has a size of 3x3 pixels. Each of the lists in the list should represent a series of pixel values of a gray value image.\n",
        "<br>\n",
        "In reality, raster data in Python is not displayed directly as lists (we will come to that later). For now, however, let's assume that this is the case.\n",
        "<br>\n",
        "1. Create a function that can 'iterate' through the individual values and create a new list in which the previous NoData value 0 is set to -999. The structure of the list should be retained.\n",
        "\n",
        "Note: Use print statements when developing the function to get information about the individual elements of the loop. Think about how you can access nested elements."
      ]
    },
    {
      "cell_type": "code",
      "execution_count": null,
      "id": "3e8f2d3d",
      "metadata": {},
      "outputs": [],
      "source": [
        "raster = [\n",
        "    [125, 54, 12],\n",
        "    [0, 146, 211],\n",
        "    [198, 137, 0],\n",
        "]"
      ]
    },
    {
      "cell_type": "code",
      "execution_count": null,
      "id": "8dd0804d",
      "metadata": {},
      "outputs": [
        {
          "name": "stdout",
          "output_type": "stream",
          "text": [
            "[[125, 54, 12], [-999, 146, 211], [198, 137, -999]]\n"
          ]
        }
      ],
      "source": [
        "#Your code\n",
        "\n",
        "def replace_nodata (input_list, old_nodata, new_nodata):\n",
        "    new_raster = [] #This will store the new list\n",
        "\n",
        "    #create a loop that will go through the input list and hold each nested list under i\n",
        "    for i in raster:\n",
        "        new_row = [] #This will temporarily store the values of each 'row' (or nested list)\n",
        "\n",
        "        #create a loop that checks the values in each nested list\n",
        "        for x in i:\n",
        "            if x == old_nodata:\n",
        "                new_row.append(new_nodata)\n",
        "            else:\n",
        "                new_row.append(x)\n",
        "\n",
        "        new_raster.append(new_row) #After the loop through the values append the new row to the new_raster list\n",
        "    return new_raster\n",
        "\n",
        "replaced_raster = replace_nodata(raster, 0, -999)\n",
        "print(replaced_raster)"
      ]
    },
    {
      "cell_type": "markdown",
      "id": "5124273e",
      "metadata": {},
      "source": [
        "***\n",
        "***\n",
        "\n",
        "### 📖For interested parties\n",
        "Even if most of the data in the previous exercises and tasks are fictitious, the lists with their data have to be created somehow.\n",
        "<br>\n",
        "If you are interested in how we save ourselves some work and create the lists, take a look at the cells below.\n",
        "<br>\n",
        "Nevertheless, we have kept the code simple so that it is easy to understand.\n",
        "<br>\n",
        "There are much more efficient ways to create the data ;)"
      ]
    },
    {
      "cell_type": "code",
      "execution_count": null,
      "id": "6196e830",
      "metadata": {},
      "outputs": [
        {
          "name": "stdout",
          "output_type": "stream",
          "text": [
            "[[16.4, 23.4, 19.9], [17.1, 23.0, 20.1], [21.7, 24.8, 23.2], [18.1, 26.5, 22.3], [16.3, 22.8, 19.6], [14.5, 19.8, 17.1], [18.8, 24.4, 21.6], [17.7, 23.4, 20.5], [16.8, 27.0, 21.9], [19.4, 20.6, 20.0]]\n"
          ]
        }
      ],
      "source": [
        "#Create a nested list with min, max and mean temperatures\n",
        "\n",
        "import random #This imports a package that can create random numbers\n",
        "\n",
        "temps = [19.5, 18.0, 23.0, 22.0 , 21.0, 19.5, 21.5, 20.0, 22.0, 20.5] #We will use those values to do some calculations\n",
        "\n",
        "new_temp = []\n",
        "\n",
        "for i in temps:\n",
        "    minimum = i - round(random.uniform(0, 6),1) #subtract a random float number between 0 and 6 from the current element and round it to the first digit\n",
        "    maximum = i + round(random.uniform(0, 5),1)\n",
        "    mean = round((minimum+maximum)/2, 1)\n",
        "    new_temp.append([minimum, maximum, mean])\n",
        "print(new_temp)"
      ]
    },
    {
      "cell_type": "code",
      "execution_count": null,
      "id": "87a6a74d",
      "metadata": {},
      "outputs": [],
      "source": [
        "#Create a List with specific length and randomly chosen tree species.\n",
        "\n",
        "trees = ['Picea abies', 'Larix decidua', 'Betula pendula', 'Fagus sylvatica', 'Quercus robur', 'Aesculus hippocastanum']\n",
        "new_list = []\n",
        "for i in range (50):\n",
        "    new_list.append(random.choice(trees))\n",
        "print(new_list)"
      ]
    },
    {
      "cell_type": "code",
      "execution_count": null,
      "id": "338c9ec7",
      "metadata": {},
      "outputs": [],
      "source": [
        "#Create some random integers (values should be between )\n",
        "import numpy as np\n",
        "meter = list(np.random.randint(1, 3000, 25))\n",
        "print(meter)"
      ]
    }
  ],
  "metadata": {
    "colab": {
      "provenance": []
    },
    "kernelspec": {
      "display_name": "Python 3 (ipykernel)",
      "language": "python",
      "name": "python3"
    },
    "language_info": {
      "codemirror_mode": {
        "name": "ipython",
        "version": 3
      },
      "file_extension": ".py",
      "mimetype": "text/x-python",
      "name": "python",
      "nbconvert_exporter": "python",
      "pygments_lexer": "ipython3",
      "version": "3.9.16"
    }
  },
  "nbformat": 4,
  "nbformat_minor": 5
}
