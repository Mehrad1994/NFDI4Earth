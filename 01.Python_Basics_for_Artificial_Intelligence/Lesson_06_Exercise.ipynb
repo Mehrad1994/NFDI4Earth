{
 "cells": [
  {
   "cell_type": "markdown",
   "id": "1b5f53a4",
   "metadata": {},
   "source": [
    "### ✏️Task 3\n",
    "The prepared list contains the daily 7-day corona incidence between 12.06.2022 and 11.08.2022.\n",
    "<br>\n",
    "A **for loop** is to be used to determine the number of days in which the incidences were above and below 500.\n",
    "<br>\n",
    "To do this, create two 'counters' that specify the respective number of days and print the results with a meaningful f-string.\n",
    "<br>\n",
    "[Quelle RKI](https://www.rki.de/DE/Content/InfAZ/N/Neuartiges_Coronavirus/Daten/Klinische_Aspekte.html)"
   ]
  },
  {
   "cell_type": "code",
   "execution_count": null,
   "id": "ad175d63",
   "metadata": {},
   "outputs": [],
   "source": [
    "inzidence = [461.0, 473.6, 565.4, 604.3, 607.3, 547.1, 555.2, 566.9, 569.8, 602.4, 645.1, 696.7, 802.4, 835.4, 845.9, 845.5, 848.5, 853.9, 852.9, 847.5, 847.5, 834.5, 834.9, 811.3, 788.3, 771.9, 751.7, 727.0, 723.8, 718.7, 722.6, 716.7, 707.9, 700.8, 699.9, 693.3, 691.7, 681.4, 659.9, 630.7, 611.7, 593.3, 592.2, 592.9, 576.2, 563.8, 548.1, 528.0, 509.7, 501.7, 497.8, 488.7, 476.9, 465.3, 463.2, 454.5, 453.7, 450.2, 440.6, 423.0, 394.1]"
   ]
  },
  {
   "cell_type": "code",
   "execution_count": null,
   "id": "12f80407",
   "metadata": {},
   "outputs": [],
   "source": [
    "#Your code\n"
   ]
  }
 ],
 "metadata": {
  "language_info": {
   "name": "python"
  }
 },
 "nbformat": 4,
 "nbformat_minor": 5
}
