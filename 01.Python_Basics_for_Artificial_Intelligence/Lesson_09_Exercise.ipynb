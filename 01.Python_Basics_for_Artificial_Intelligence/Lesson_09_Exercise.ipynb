{
 "cells": [
  {
   "cell_type": "markdown",
   "id": "8b886b68",
   "metadata": {},
   "source": [
    "***\n",
    "### ✏️Task 7\n",
    "In some scientific data there are so-called 'NoData Values', i.e. values that are used for measurements for which there was no measurement result. Such NoData Values are often found in raster data that is opened in geoinformation systems (e.g. outlines of oblique satellite images).\n",
    "<br>\n",
    "In geoinformation systems, the NoData values can be set (e.g. to 0 or -999) so that the raster dataset is displayed correctly.\n",
    "<br>\n",
    "In Python, changing the NoData values is a little more difficult.\n",
    "<br>\n",
    "The following list is intended to mimic a raster data set which has a size of 3x3 pixels. Each of the lists in the list should represent a series of pixel values of a gray value image.\n",
    "<br>\n",
    "In reality, raster data in Python is not displayed directly as lists (we will come to that later). For now, however, let's assume that this is the case.\n",
    "<br>\n",
    "1. Create a function that can 'iterate' through the individual values and create a new list in which the previous NoData value 0 is set to -999. The structure of the list should be retained.\n",
    "\n",
    "Note: Use print statements when developing the function to get information about the individual elements of the loop. Think about how you can access nested elements."
   ]
  },
  {
   "cell_type": "code",
   "execution_count": null,
   "id": "d94d9568",
   "metadata": {},
   "outputs": [],
   "source": [
    "raster = [\n",
    "    [125, 54, 12],\n",
    "    [0, 146, 211],\n",
    "    [198, 137, 0],\n",
    "]"
   ]
  },
  {
   "cell_type": "code",
   "execution_count": null,
   "id": "8419ab40",
   "metadata": {},
   "outputs": [],
   "source": [
    "#Your code\n"
   ]
  },
  {
   "cell_type": "markdown",
   "id": "6524eab7",
   "metadata": {},
   "source": [
    "***\n",
    "***\n",
    "\n",
    "### 📖For interested parties\n",
    "Even if most of the data in the previous exercises and tasks are fictitious, the lists with their data have to be created somehow.\n",
    "<br>\n",
    "If you are interested in how we save ourselves some work and create the lists, take a look at the cells below.\n",
    "<br>\n",
    "Nevertheless, we have kept the code simple so that it is easy to understand.\n",
    "<br>\n",
    "There are much more efficient ways to create the data ;)"
   ]
  },
  {
   "cell_type": "code",
   "execution_count": null,
   "id": "ba4612ef",
   "metadata": {},
   "outputs": [],
   "source": [
    "#Create a nested list with min, max and mean temperatures\n",
    "\n",
    "import random #This imports a package that can create random numbers\n",
    "\n",
    "temps = [19.5, 18.0, 23.0, 22.0 , 21.0, 19.5, 21.5, 20.0, 22.0, 20.5] #We will use those values to do some calculations\n",
    "\n",
    "new_temp = []\n",
    "\n",
    "for i in temps:\n",
    "    minimum = i - round(random.uniform(0, 6),1) #subtract a random float number between 0 and 6 from the current element and round it to the first digit\n",
    "    maximum = i + round(random.uniform(0, 5),1)\n",
    "    mean = round((minimum+maximum)/2, 1)\n",
    "    new_temp.append([minimum, maximum, mean])\n",
    "print(new_temp)"
   ]
  },
  {
   "cell_type": "code",
   "execution_count": null,
   "id": "2b4ba1f6",
   "metadata": {},
   "outputs": [],
   "source": [
    "#Create a List with specific length and randomly chosen tree species.\n",
    "\n",
    "trees = ['Picea abies', 'Larix decidua', 'Betula pendula', 'Fagus sylvatica', 'Quercus robur', 'Aesculus hippocastanum']\n",
    "new_list = []\n",
    "for i in range (50):\n",
    "    new_list.append(random.choice(trees))\n",
    "print(new_list)"
   ]
  },
  {
   "cell_type": "code",
   "execution_count": null,
   "id": "0ce353ec",
   "metadata": {},
   "outputs": [],
   "source": [
    "#Create some random integers (values should be between 1 and 3000 and 25 random values should be created)\n",
    "import numpy as np\n",
    "meter = list(np.random.randint(1, 3000, 25))\n",
    "print(meter)"
   ]
  }
 ],
 "metadata": {
  "language_info": {
   "name": "python"
  }
 },
 "nbformat": 4,
 "nbformat_minor": 5
}
