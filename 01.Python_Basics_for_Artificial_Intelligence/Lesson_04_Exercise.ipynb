{
 "cells": [
  {
   "cell_type": "markdown",
   "id": "c83f957d",
   "metadata": {},
   "source": [
    "### ✏️Task 2\n",
    "1. Create a list of the most common tree species in Germany. These include: Pine, copper beech, oak, larch.\n",
    "2. Subsequently add the tree species 'fir' and 'spruce' to the list.\n",
    "3. Now create a new variable that lists the second and third most common tree species. This new list should be derived from the previously created list (slicing)"
   ]
  },
  {
   "cell_type": "code",
   "execution_count": null,
   "id": "ed4672fe",
   "metadata": {},
   "outputs": [],
   "source": [
    "#Your code:"
   ]
  },
  {
   "cell_type": "markdown",
   "id": "0e873b94",
   "metadata": {},
   "source": [
    "### ✏️Task 3\n",
    "Given is a list containing tree species and their estimated maximum biological age.\n",
    "<br>\n",
    "Filter the list so that only the age of the oak tree is displayed. Use as few lines of code as possible."
   ]
  },
  {
   "cell_type": "code",
   "execution_count": null,
   "id": "9621ff63",
   "metadata": {},
   "outputs": [],
   "source": [
    "max_tree_age = [\n",
    "    [\"Pine\", 500],\n",
    "    [\"Copper beech\", 400],\n",
    "    [\"Oak\", 850],\n",
    "    [\"Larch\", 300]\n",
    "]"
   ]
  },
  {
   "cell_type": "code",
   "execution_count": null,
   "id": "a76dccc9",
   "metadata": {},
   "outputs": [],
   "source": [
    "#Your code:"
   ]
  },
  {
   "cell_type": "markdown",
   "id": "57a9ed00",
   "metadata": {},
   "source": [
    "### ✏️Task 4\n",
    "As you may have noticed, a list is not really a suitable way of assigning information to tree species. A dictionary offers more options for storing a wide range of information and subsequently retrieving it in a targeted manner.\n",
    "In the following, a dictionary of the information listed in the table is to be created in order to be able to retrieve specific information.\n",
    "<br>\n",
    "![Grafik of tree data](grafik.png)\n",
    "[Source](https://www.waldhilfe.de/waldbaeume-die-wichtigsten-bauarten-in-deutschland/)\n",
    "<br>\n",
    "1. Create a dictionary that contains the tree species as keys. The value of each tree type should be another dictionary, which contains the actual values behind the keys 'Proportion of area' and 'Area hectares'\n",
    "2. Query the area in hectares of the oak tree with as few lines of code as possible, so that the area is a single number in a variable"
   ]
  },
  {
   "cell_type": "code",
   "execution_count": null,
   "id": "b666f6e9",
   "metadata": {},
   "outputs": [],
   "source": [
    "#Your code:"
   ]
  }
 ],
 "metadata": {
  "language_info": {
   "name": "python"
  }
 },
 "nbformat": 4,
 "nbformat_minor": 5
}
