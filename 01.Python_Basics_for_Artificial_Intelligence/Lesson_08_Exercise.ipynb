{
 "cells": [
  {
   "cell_type": "markdown",
   "id": "2aabb4c8",
   "metadata": {},
   "source": [
    "### ✏️Task 5\n",
    "Create a function that subtracts an individually definable value from the data series provided. It should be possible to pass the following parameters to the function:\n",
    "1. list as data input\n",
    "2. value to be subtracted\n",
    "\n",
    "Your function should be able to print the newly calculated value.\n",
    "Test your function by subtracting the value 8.4."
   ]
  },
  {
   "cell_type": "code",
   "execution_count": null,
   "id": "93f6dd42",
   "metadata": {},
   "outputs": [],
   "source": [
    "values = [19.5, 18.0, 23.0, 26.5, 25.0, 19.5, 21.5, 20.0, 22.0, 23.5]"
   ]
  },
  {
   "cell_type": "code",
   "execution_count": null,
   "id": "f709bae1",
   "metadata": {},
   "outputs": [],
   "source": [
    "#Your code\n"
   ]
  },
  {
   "cell_type": "markdown",
   "id": "80326f1b",
   "metadata": {},
   "source": [
    "***\n",
    "### ✏️Task 6\n",
    "Write a function that is able to convert between the units meters and feet. It should be possible to enter lists into the function and convert them into the other unit.\n",
    "<br>\n",
    "Find a way to round the conversion results."
   ]
  },
  {
   "cell_type": "code",
   "execution_count": null,
   "id": "985ff697",
   "metadata": {},
   "outputs": [],
   "source": [
    "meter = [2222, 1594, 256, 1855, 2087, 6, 1611, 171, 842, 699, 957, 729, 214, 2133, 2083, 1602, 1136, 2052, 446, 1921, 2264, 46, 1697, 137, 1514]\n",
    "feet = [7290.0, 5229.7, 839.9, 6086.0, 6847.1, 19.7, 5285.4, 561.0, 2762.5, 2293.3, 3139.8, 2391.7, 702.1, 6998.0, 6834.0, 5255.9, 3727.0, 6732.3, 1463.3, 6302.5, 7427.8, 150.9, 5567.6, 449.5, 4967.2]"
   ]
  },
  {
   "cell_type": "code",
   "execution_count": null,
   "id": "02d19b42",
   "metadata": {},
   "outputs": [],
   "source": [
    "#Your code\n"
   ]
  }
 ],
 "metadata": {
  "language_info": {
   "name": "python"
  }
 },
 "nbformat": 4,
 "nbformat_minor": 5
}
