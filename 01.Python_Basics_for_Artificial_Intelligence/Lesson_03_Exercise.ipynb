{
 "cells": [
  {
   "cell_type": "markdown",
   "id": "cae0b52d",
   "metadata": {},
   "source": [
    "This notebook contains tasks that can be solved with the knowledge from the corresponding basics notebook"
   ]
  },
  {
   "cell_type": "markdown",
   "id": "54db9897",
   "metadata": {},
   "source": [
    "### ✏️Task 1\n",
    "Create two variables, each containing a numerical value, and subtract them from each other. Print the result to the console."
   ]
  },
  {
   "cell_type": "code",
   "execution_count": null,
   "id": "7f1e8e26",
   "metadata": {},
   "outputs": [],
   "source": [
    "#Your code:"
   ]
  }
 ],
 "metadata": {
  "language_info": {
   "name": "python"
  }
 },
 "nbformat": 4,
 "nbformat_minor": 5
}
