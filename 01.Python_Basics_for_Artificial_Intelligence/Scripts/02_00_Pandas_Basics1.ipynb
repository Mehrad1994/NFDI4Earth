{
 "cells": [
  {
   "cell_type": "markdown",
   "id": "7e12811f",
   "metadata": {},
   "source": [
    "# Pandas\n",
    "Open source python library that stands for **Pan**el **Da**ta and is the most popular data analysis library for Python. It is built upon numpy\n",
    "\n",
    "## Pandas Series\n",
    "A pandas' basic building unit is the series. A series can hold an array of information organized by an index. On the first sight this is exactly what numpy does, right? Well, pandas builds upon numpy, so it is pretty similar, but unlike a numpy array a pandas dataseries is capable to use a named index besides a numerical index <br>\n",
    "\n",
    "<div>\n",
    "<img src=\"Numpy_Pandas.png\" width=\"500\"/>\n",
    "</div>\n"
   ]
  },
  {
   "cell_type": "code",
   "execution_count": 1,
   "id": "e7f5fa0d",
   "metadata": {},
   "outputs": [],
   "source": [
    "import numpy as np\n",
    "import pandas as pd"
   ]
  },
  {
   "cell_type": "markdown",
   "id": "2188f61a",
   "metadata": {},
   "source": [
    "How we organized data until now:"
   ]
  },
  {
   "cell_type": "code",
   "execution_count": 2,
   "id": "0ab8c740",
   "metadata": {},
   "outputs": [],
   "source": [
    "#In lists\n",
    "labels = [\"Bochum\", \"Essen\", \"Dortmund\"]\n",
    "mylist = [364628, 583109, 587010]"
   ]
  },
  {
   "cell_type": "code",
   "execution_count": 23,
   "id": "793248ed",
   "metadata": {},
   "outputs": [
    {
     "name": "stdout",
     "output_type": "stream",
     "text": [
      "<class 'numpy.ndarray'>\n"
     ]
    },
    {
     "data": {
      "text/plain": [
       "array([364628, 583109, 587010])"
      ]
     },
     "execution_count": 23,
     "metadata": {},
     "output_type": "execute_result"
    }
   ],
   "source": [
    "#As arrays\n",
    "arr_labels = np.array(labels)\n",
    "print(arr_labels)\n",
    "arr_pop = np.array(mylist)\n",
    "arr_pop"
   ]
  },
  {
   "cell_type": "code",
   "execution_count": 4,
   "id": "af1a9519",
   "metadata": {},
   "outputs": [
    {
     "data": {
      "text/plain": [
       "{'Bochum': 364628, 'Essen': 583109, 'Dortmund': 587010}"
      ]
     },
     "execution_count": 4,
     "metadata": {},
     "output_type": "execute_result"
    }
   ],
   "source": [
    "#In dictionaries\n",
    "d = {\"Bochum\": 364628, \"Essen\": 583109, \"Dortmund\": 587010}\n",
    "d"
   ]
  },
  {
   "cell_type": "markdown",
   "id": "dac5f87a",
   "metadata": {},
   "source": [
    "Lets try to organize it in pandas data series"
   ]
  },
  {
   "cell_type": "code",
   "execution_count": 5,
   "id": "78156376",
   "metadata": {},
   "outputs": [
    {
     "data": {
      "text/plain": [
       "0    364628\n",
       "1    583109\n",
       "2    587010\n",
       "dtype: int64"
      ]
     },
     "execution_count": 5,
     "metadata": {},
     "output_type": "execute_result"
    }
   ],
   "source": [
    "#This series will only use a numerical index\n",
    "pd.Series(data=mylist)"
   ]
  },
  {
   "cell_type": "code",
   "execution_count": 25,
   "id": "6f4f4db6",
   "metadata": {},
   "outputs": [
    {
     "data": {
      "text/plain": [
       "Bochum      364628\n",
       "Essen       583109\n",
       "Dortmund    587010\n",
       "dtype: int64"
      ]
     },
     "execution_count": 25,
     "metadata": {},
     "output_type": "execute_result"
    }
   ],
   "source": [
    "#Lets specify the index\n",
    "population = pd.Series(mylist, index=labels)\n",
    "population"
   ]
  },
  {
   "cell_type": "markdown",
   "id": "53ce777c",
   "metadata": {},
   "source": [
    "### Selections\n",
    "The selection of items from a pd series is the same as in dictionaries, exept we are providing an index and not a key (so it is just about naming conventions)"
   ]
  },
  {
   "cell_type": "code",
   "execution_count": 7,
   "id": "a543d278",
   "metadata": {},
   "outputs": [
    {
     "data": {
      "text/plain": [
       "364628"
      ]
     },
     "execution_count": 7,
     "metadata": {},
     "output_type": "execute_result"
    }
   ],
   "source": [
    "population[\"Bochum\"]"
   ]
  },
  {
   "attachments": {
    "grafik-2.png": {
     "image/png": "[encoded data removed]"
    }
   },
   "cell_type": "markdown",
   "id": "ee5188b3",
   "metadata": {},
   "source": [
    "***\n",
    "## Pandas Dataframe\n",
    "In a Dataframe each column is a pandas Series <br> ![grafik-2.png](attachment:grafik-2.png)\n",
    "\n",
    "We will create a DataFrame with random numbers to learn how DatFrames work.\n",
    "We can create DataFrames on many different ways. We can feed it with arrays and lists to provide information about the content, the column names and the row index. It is also possible to provide a dictionary. Pandas can automatically interpret a dictionary and turn it into a DataFrame (we will explore this later).\n",
    "\n",
    "Lets create a DataFrame based on an array and lists"
   ]
  },
  {
   "cell_type": "code",
   "execution_count": 8,
   "id": "fc97d33f",
   "metadata": {},
   "outputs": [
    {
     "data": {
      "text/plain": [
       "array([[ 0.55943375,  1.49873141,  2.46816427, -1.9420235 ],\n",
       "       [-0.50801152, -1.27248665,  1.0688088 , -1.35101014],\n",
       "       [ 0.39160055,  1.1440555 , -1.17565102,  1.20184292],\n",
       "       [-1.54562734,  0.45910817,  2.92937247, -0.08039065],\n",
       "       [ 0.71431559, -0.44002122, -0.03788539, -1.71118602]])"
      ]
     },
     "execution_count": 8,
     "metadata": {},
     "output_type": "execute_result"
    }
   ],
   "source": [
    "random_arr = np.random.randn(5,4)\n",
    "random_arr"
   ]
  },
  {
   "cell_type": "code",
   "execution_count": 9,
   "id": "c997b366",
   "metadata": {},
   "outputs": [],
   "source": [
    "index = [\"A\", \"B\", \"C\", \"D\", \"E\"]\n",
    "columns = [\"W\", \"X\",\"Y\", \"Z\"]"
   ]
  },
  {
   "cell_type": "code",
   "execution_count": 10,
   "id": "7a3303ca",
   "metadata": {},
   "outputs": [
    {
     "data": {
      "text/html": [
       "<div>\n",
       "<style scoped>\n",
       "    .dataframe tbody tr th:only-of-type {\n",
       "        vertical-align: middle;\n",
       "    }\n",
       "\n",
       "    .dataframe tbody tr th {\n",
       "        vertical-align: top;\n",
       "    }\n",
       "\n",
       "    .dataframe thead th {\n",
       "        text-align: right;\n",
       "    }\n",
       "</style>\n",
       "<table border=\"1\" class=\"dataframe\">\n",
       "  <thead>\n",
       "    <tr style=\"text-align: right;\">\n",
       "      <th></th>\n",
       "      <th>W</th>\n",
       "      <th>X</th>\n",
       "      <th>Y</th>\n",
       "      <th>Z</th>\n",
       "    </tr>\n",
       "  </thead>\n",
       "  <tbody>\n",
       "    <tr>\n",
       "      <th>A</th>\n",
       "      <td>0.559434</td>\n",
       "      <td>1.498731</td>\n",
       "      <td>2.468164</td>\n",
       "      <td>-1.942023</td>\n",
       "    </tr>\n",
       "    <tr>\n",
       "      <th>B</th>\n",
       "      <td>-0.508012</td>\n",
       "      <td>-1.272487</td>\n",
       "      <td>1.068809</td>\n",
       "      <td>-1.351010</td>\n",
       "    </tr>\n",
       "    <tr>\n",
       "      <th>C</th>\n",
       "      <td>0.391601</td>\n",
       "      <td>1.144055</td>\n",
       "      <td>-1.175651</td>\n",
       "      <td>1.201843</td>\n",
       "    </tr>\n",
       "    <tr>\n",
       "      <th>D</th>\n",
       "      <td>-1.545627</td>\n",
       "      <td>0.459108</td>\n",
       "      <td>2.929372</td>\n",
       "      <td>-0.080391</td>\n",
       "    </tr>\n",
       "    <tr>\n",
       "      <th>E</th>\n",
       "      <td>0.714316</td>\n",
       "      <td>-0.440021</td>\n",
       "      <td>-0.037885</td>\n",
       "      <td>-1.711186</td>\n",
       "    </tr>\n",
       "  </tbody>\n",
       "</table>\n",
       "</div>"
      ],
      "text/plain": [
       "          W         X         Y         Z\n",
       "A  0.559434  1.498731  2.468164 -1.942023\n",
       "B -0.508012 -1.272487  1.068809 -1.351010\n",
       "C  0.391601  1.144055 -1.175651  1.201843\n",
       "D -1.545627  0.459108  2.929372 -0.080391\n",
       "E  0.714316 -0.440021 -0.037885 -1.711186"
      ]
     },
     "execution_count": 10,
     "metadata": {},
     "output_type": "execute_result"
    }
   ],
   "source": [
    "#Put lists and arrays together  to create a DataFrame\n",
    "df = pd.DataFrame(data = random_arr, index = index, columns = columns)\n",
    "df"
   ]
  },
  {
   "cell_type": "markdown",
   "id": "3545a357",
   "metadata": {},
   "source": [
    "### Select columns from DataFrame"
   ]
  },
  {
   "cell_type": "code",
   "execution_count": 32,
   "id": "b81cbf03",
   "metadata": {},
   "outputs": [
    {
     "name": "stdout",
     "output_type": "stream",
     "text": [
      "A    0.559434\n",
      "B   -0.508012\n",
      "C    0.391601\n",
      "D   -1.545627\n",
      "Name: W, dtype: float64\n",
      "The data type of a  single column is <class 'pandas.core.series.Series'>\n",
      "0.5594337511886108\n"
     ]
    }
   ],
   "source": [
    "#Lets select a column\n",
    "print(df['W'])\n",
    "\n",
    "#And here is the proof that a Dataframe consists of several Series\n",
    "print(f\"The data type of a  single column is {type(df['W'])}\")\n"
   ]
  },
  {
   "cell_type": "code",
   "execution_count": 35,
   "id": "46be56ca",
   "metadata": {},
   "outputs": [
    {
     "data": {
      "text/html": [
       "<div>\n",
       "<style scoped>\n",
       "    .dataframe tbody tr th:only-of-type {\n",
       "        vertical-align: middle;\n",
       "    }\n",
       "\n",
       "    .dataframe tbody tr th {\n",
       "        vertical-align: top;\n",
       "    }\n",
       "\n",
       "    .dataframe thead th {\n",
       "        text-align: right;\n",
       "    }\n",
       "</style>\n",
       "<table border=\"1\" class=\"dataframe\">\n",
       "  <thead>\n",
       "    <tr style=\"text-align: right;\">\n",
       "      <th></th>\n",
       "      <th>W</th>\n",
       "      <th>Z</th>\n",
       "    </tr>\n",
       "  </thead>\n",
       "  <tbody>\n",
       "    <tr>\n",
       "      <th>A</th>\n",
       "      <td>0.559434</td>\n",
       "      <td>-1.942023</td>\n",
       "    </tr>\n",
       "    <tr>\n",
       "      <th>B</th>\n",
       "      <td>-0.508012</td>\n",
       "      <td>-1.351010</td>\n",
       "    </tr>\n",
       "    <tr>\n",
       "      <th>C</th>\n",
       "      <td>0.391601</td>\n",
       "      <td>1.201843</td>\n",
       "    </tr>\n",
       "    <tr>\n",
       "      <th>D</th>\n",
       "      <td>-1.545627</td>\n",
       "      <td>-0.080391</td>\n",
       "    </tr>\n",
       "  </tbody>\n",
       "</table>\n",
       "</div>"
      ],
      "text/plain": [
       "          W         Z\n",
       "A  0.559434 -1.942023\n",
       "B -0.508012 -1.351010\n",
       "C  0.391601  1.201843\n",
       "D -1.545627 -0.080391"
      ]
     },
     "execution_count": 35,
     "metadata": {},
     "output_type": "execute_result"
    }
   ],
   "source": [
    "#Select several columns\n",
    "to_be_selected = ['W', 'Z']\n",
    "df[to_be_selected]"
   ]
  },
  {
   "cell_type": "markdown",
   "id": "7482484c",
   "metadata": {},
   "source": [
    "### Select rows from Dataframe\n",
    "We can select rows by either using the numerical index or the named index"
   ]
  },
  {
   "cell_type": "code",
   "execution_count": 13,
   "id": "81463a86",
   "metadata": {
    "scrolled": false
   },
   "outputs": [
    {
     "data": {
      "text/plain": [
       "W    0.559434\n",
       "X    1.498731\n",
       "Y    2.468164\n",
       "Z   -1.942023\n",
       "Name: A, dtype: float64"
      ]
     },
     "execution_count": 13,
     "metadata": {},
     "output_type": "execute_result"
    }
   ],
   "source": [
    "#using the named index:\n",
    "df.loc['A']"
   ]
  },
  {
   "cell_type": "code",
   "execution_count": 15,
   "id": "63e729ef",
   "metadata": {},
   "outputs": [
    {
     "data": {
      "text/html": [
       "<div>\n",
       "<style scoped>\n",
       "    .dataframe tbody tr th:only-of-type {\n",
       "        vertical-align: middle;\n",
       "    }\n",
       "\n",
       "    .dataframe tbody tr th {\n",
       "        vertical-align: top;\n",
       "    }\n",
       "\n",
       "    .dataframe thead th {\n",
       "        text-align: right;\n",
       "    }\n",
       "</style>\n",
       "<table border=\"1\" class=\"dataframe\">\n",
       "  <thead>\n",
       "    <tr style=\"text-align: right;\">\n",
       "      <th></th>\n",
       "      <th>W</th>\n",
       "      <th>X</th>\n",
       "      <th>Y</th>\n",
       "      <th>Z</th>\n",
       "    </tr>\n",
       "  </thead>\n",
       "  <tbody>\n",
       "    <tr>\n",
       "      <th>A</th>\n",
       "      <td>0.559434</td>\n",
       "      <td>1.498731</td>\n",
       "      <td>2.468164</td>\n",
       "      <td>-1.942023</td>\n",
       "    </tr>\n",
       "    <tr>\n",
       "      <th>B</th>\n",
       "      <td>-0.508012</td>\n",
       "      <td>-1.272487</td>\n",
       "      <td>1.068809</td>\n",
       "      <td>-1.351010</td>\n",
       "    </tr>\n",
       "  </tbody>\n",
       "</table>\n",
       "</div>"
      ],
      "text/plain": [
       "          W         X         Y         Z\n",
       "A  0.559434  1.498731  2.468164 -1.942023\n",
       "B -0.508012 -1.272487  1.068809 -1.351010"
      ]
     },
     "execution_count": 15,
     "metadata": {},
     "output_type": "execute_result"
    }
   ],
   "source": [
    "#select several rows\n",
    "df.loc[['A', 'B']]"
   ]
  },
  {
   "cell_type": "code",
   "execution_count": 37,
   "id": "325601db",
   "metadata": {
    "scrolled": true
   },
   "outputs": [
    {
     "data": {
      "text/plain": [
       "W    0.559434\n",
       "X    1.498731\n",
       "Y    2.468164\n",
       "Z   -1.942023\n",
       "Name: A, dtype: float64"
      ]
     },
     "execution_count": 37,
     "metadata": {},
     "output_type": "execute_result"
    }
   ],
   "source": [
    "#using the numercial index\n",
    "df.iloc[0]"
   ]
  },
  {
   "cell_type": "markdown",
   "id": "ea6cfb47",
   "metadata": {},
   "source": [
    "### Dataframe slicing"
   ]
  },
  {
   "cell_type": "code",
   "execution_count": 41,
   "id": "74d28108",
   "metadata": {},
   "outputs": [
    {
     "data": {
      "text/html": [
       "<div>\n",
       "<style scoped>\n",
       "    .dataframe tbody tr th:only-of-type {\n",
       "        vertical-align: middle;\n",
       "    }\n",
       "\n",
       "    .dataframe tbody tr th {\n",
       "        vertical-align: top;\n",
       "    }\n",
       "\n",
       "    .dataframe thead th {\n",
       "        text-align: right;\n",
       "    }\n",
       "</style>\n",
       "<table border=\"1\" class=\"dataframe\">\n",
       "  <thead>\n",
       "    <tr style=\"text-align: right;\">\n",
       "      <th></th>\n",
       "      <th>W</th>\n",
       "      <th>X</th>\n",
       "      <th>Y</th>\n",
       "      <th>Z</th>\n",
       "    </tr>\n",
       "  </thead>\n",
       "  <tbody>\n",
       "    <tr>\n",
       "      <th>C</th>\n",
       "      <td>0.391601</td>\n",
       "      <td>1.144055</td>\n",
       "      <td>-1.175651</td>\n",
       "      <td>1.201843</td>\n",
       "    </tr>\n",
       "    <tr>\n",
       "      <th>D</th>\n",
       "      <td>-1.545627</td>\n",
       "      <td>0.459108</td>\n",
       "      <td>2.929372</td>\n",
       "      <td>-0.080391</td>\n",
       "    </tr>\n",
       "  </tbody>\n",
       "</table>\n",
       "</div>"
      ],
      "text/plain": [
       "          W         X         Y         Z\n",
       "C  0.391601  1.144055 -1.175651  1.201843\n",
       "D -1.545627  0.459108  2.929372 -0.080391"
      ]
     },
     "execution_count": 41,
     "metadata": {},
     "output_type": "execute_result"
    }
   ],
   "source": [
    "#Selecting several rows\n",
    "df.iloc[:2] #[2:4]"
   ]
  },
  {
   "cell_type": "code",
   "execution_count": 16,
   "id": "7d90efec",
   "metadata": {},
   "outputs": [
    {
     "data": {
      "text/html": [
       "<div>\n",
       "<style scoped>\n",
       "    .dataframe tbody tr th:only-of-type {\n",
       "        vertical-align: middle;\n",
       "    }\n",
       "\n",
       "    .dataframe tbody tr th {\n",
       "        vertical-align: top;\n",
       "    }\n",
       "\n",
       "    .dataframe thead th {\n",
       "        text-align: right;\n",
       "    }\n",
       "</style>\n",
       "<table border=\"1\" class=\"dataframe\">\n",
       "  <thead>\n",
       "    <tr style=\"text-align: right;\">\n",
       "      <th></th>\n",
       "      <th>Y</th>\n",
       "      <th>Z</th>\n",
       "    </tr>\n",
       "  </thead>\n",
       "  <tbody>\n",
       "    <tr>\n",
       "      <th>A</th>\n",
       "      <td>2.468164</td>\n",
       "      <td>-1.942023</td>\n",
       "    </tr>\n",
       "    <tr>\n",
       "      <th>B</th>\n",
       "      <td>1.068809</td>\n",
       "      <td>-1.351010</td>\n",
       "    </tr>\n",
       "  </tbody>\n",
       "</table>\n",
       "</div>"
      ],
      "text/plain": [
       "          Y         Z\n",
       "A  2.468164 -1.942023\n",
       "B  1.068809 -1.351010"
      ]
     },
     "execution_count": 16,
     "metadata": {},
     "output_type": "execute_result"
    }
   ],
   "source": [
    "df.loc[['A', 'B'], ['Y', 'Z']]"
   ]
  },
  {
   "cell_type": "markdown",
   "id": "2cc9d6c5",
   "metadata": {},
   "source": [
    "### Add columns to a DataFrame\n",
    "Columns are added like elements are added to a dictionary. The items of the new column can also be the result of operations"
   ]
  },
  {
   "cell_type": "code",
   "execution_count": 17,
   "id": "6542c6a4",
   "metadata": {},
   "outputs": [
    {
     "data": {
      "text/html": [
       "<div>\n",
       "<style scoped>\n",
       "    .dataframe tbody tr th:only-of-type {\n",
       "        vertical-align: middle;\n",
       "    }\n",
       "\n",
       "    .dataframe tbody tr th {\n",
       "        vertical-align: top;\n",
       "    }\n",
       "\n",
       "    .dataframe thead th {\n",
       "        text-align: right;\n",
       "    }\n",
       "</style>\n",
       "<table border=\"1\" class=\"dataframe\">\n",
       "  <thead>\n",
       "    <tr style=\"text-align: right;\">\n",
       "      <th></th>\n",
       "      <th>W</th>\n",
       "      <th>X</th>\n",
       "      <th>Y</th>\n",
       "      <th>Z</th>\n",
       "      <th>New</th>\n",
       "    </tr>\n",
       "  </thead>\n",
       "  <tbody>\n",
       "    <tr>\n",
       "      <th>A</th>\n",
       "      <td>0.559434</td>\n",
       "      <td>1.498731</td>\n",
       "      <td>2.468164</td>\n",
       "      <td>-1.942023</td>\n",
       "      <td>-0.443292</td>\n",
       "    </tr>\n",
       "    <tr>\n",
       "      <th>B</th>\n",
       "      <td>-0.508012</td>\n",
       "      <td>-1.272487</td>\n",
       "      <td>1.068809</td>\n",
       "      <td>-1.351010</td>\n",
       "      <td>-2.623497</td>\n",
       "    </tr>\n",
       "    <tr>\n",
       "      <th>C</th>\n",
       "      <td>0.391601</td>\n",
       "      <td>1.144055</td>\n",
       "      <td>-1.175651</td>\n",
       "      <td>1.201843</td>\n",
       "      <td>2.345898</td>\n",
       "    </tr>\n",
       "    <tr>\n",
       "      <th>D</th>\n",
       "      <td>-1.545627</td>\n",
       "      <td>0.459108</td>\n",
       "      <td>2.929372</td>\n",
       "      <td>-0.080391</td>\n",
       "      <td>0.378718</td>\n",
       "    </tr>\n",
       "    <tr>\n",
       "      <th>E</th>\n",
       "      <td>0.714316</td>\n",
       "      <td>-0.440021</td>\n",
       "      <td>-0.037885</td>\n",
       "      <td>-1.711186</td>\n",
       "      <td>-2.151207</td>\n",
       "    </tr>\n",
       "  </tbody>\n",
       "</table>\n",
       "</div>"
      ],
      "text/plain": [
       "          W         X         Y         Z       New\n",
       "A  0.559434  1.498731  2.468164 -1.942023 -0.443292\n",
       "B -0.508012 -1.272487  1.068809 -1.351010 -2.623497\n",
       "C  0.391601  1.144055 -1.175651  1.201843  2.345898\n",
       "D -1.545627  0.459108  2.929372 -0.080391  0.378718\n",
       "E  0.714316 -0.440021 -0.037885 -1.711186 -2.151207"
      ]
     },
     "execution_count": 17,
     "metadata": {},
     "output_type": "execute_result"
    }
   ],
   "source": [
    "df['New'] = df['X'] + df['Z']\n",
    "df"
   ]
  },
  {
   "cell_type": "markdown",
   "id": "1734196b",
   "metadata": {},
   "source": [
    "### Remove columns and rows\n",
    "Both columns and rows can be removed by using .drop() and calling their index/header. However, we need to specify the axis (axis=0 for rows, axis=1 for columns). Notice that the original DataFrame will not be permanently affected by this operation, unless you specify inplace=True. Alternatively you can store the DataFrame in a new variable"
   ]
  },
  {
   "cell_type": "code",
   "execution_count": 18,
   "id": "7a6b5e66",
   "metadata": {},
   "outputs": [
    {
     "data": {
      "text/html": [
       "<div>\n",
       "<style scoped>\n",
       "    .dataframe tbody tr th:only-of-type {\n",
       "        vertical-align: middle;\n",
       "    }\n",
       "\n",
       "    .dataframe tbody tr th {\n",
       "        vertical-align: top;\n",
       "    }\n",
       "\n",
       "    .dataframe thead th {\n",
       "        text-align: right;\n",
       "    }\n",
       "</style>\n",
       "<table border=\"1\" class=\"dataframe\">\n",
       "  <thead>\n",
       "    <tr style=\"text-align: right;\">\n",
       "      <th></th>\n",
       "      <th>W</th>\n",
       "      <th>X</th>\n",
       "      <th>Y</th>\n",
       "      <th>Z</th>\n",
       "    </tr>\n",
       "  </thead>\n",
       "  <tbody>\n",
       "    <tr>\n",
       "      <th>A</th>\n",
       "      <td>0.559434</td>\n",
       "      <td>1.498731</td>\n",
       "      <td>2.468164</td>\n",
       "      <td>-1.942023</td>\n",
       "    </tr>\n",
       "    <tr>\n",
       "      <th>B</th>\n",
       "      <td>-0.508012</td>\n",
       "      <td>-1.272487</td>\n",
       "      <td>1.068809</td>\n",
       "      <td>-1.351010</td>\n",
       "    </tr>\n",
       "    <tr>\n",
       "      <th>C</th>\n",
       "      <td>0.391601</td>\n",
       "      <td>1.144055</td>\n",
       "      <td>-1.175651</td>\n",
       "      <td>1.201843</td>\n",
       "    </tr>\n",
       "    <tr>\n",
       "      <th>D</th>\n",
       "      <td>-1.545627</td>\n",
       "      <td>0.459108</td>\n",
       "      <td>2.929372</td>\n",
       "      <td>-0.080391</td>\n",
       "    </tr>\n",
       "    <tr>\n",
       "      <th>E</th>\n",
       "      <td>0.714316</td>\n",
       "      <td>-0.440021</td>\n",
       "      <td>-0.037885</td>\n",
       "      <td>-1.711186</td>\n",
       "    </tr>\n",
       "  </tbody>\n",
       "</table>\n",
       "</div>"
      ],
      "text/plain": [
       "          W         X         Y         Z\n",
       "A  0.559434  1.498731  2.468164 -1.942023\n",
       "B -0.508012 -1.272487  1.068809 -1.351010\n",
       "C  0.391601  1.144055 -1.175651  1.201843\n",
       "D -1.545627  0.459108  2.929372 -0.080391\n",
       "E  0.714316 -0.440021 -0.037885 -1.711186"
      ]
     },
     "execution_count": 18,
     "metadata": {},
     "output_type": "execute_result"
    }
   ],
   "source": [
    "#Drop a column\n",
    "df.drop('New', axis=1, inplace=True)\n",
    "df"
   ]
  },
  {
   "cell_type": "code",
   "execution_count": 19,
   "id": "2bc8984d",
   "metadata": {
    "scrolled": true
   },
   "outputs": [
    {
     "data": {
      "text/html": [
       "<div>\n",
       "<style scoped>\n",
       "    .dataframe tbody tr th:only-of-type {\n",
       "        vertical-align: middle;\n",
       "    }\n",
       "\n",
       "    .dataframe tbody tr th {\n",
       "        vertical-align: top;\n",
       "    }\n",
       "\n",
       "    .dataframe thead th {\n",
       "        text-align: right;\n",
       "    }\n",
       "</style>\n",
       "<table border=\"1\" class=\"dataframe\">\n",
       "  <thead>\n",
       "    <tr style=\"text-align: right;\">\n",
       "      <th></th>\n",
       "      <th>W</th>\n",
       "      <th>X</th>\n",
       "      <th>Y</th>\n",
       "      <th>Z</th>\n",
       "    </tr>\n",
       "  </thead>\n",
       "  <tbody>\n",
       "    <tr>\n",
       "      <th>A</th>\n",
       "      <td>0.559434</td>\n",
       "      <td>1.498731</td>\n",
       "      <td>2.468164</td>\n",
       "      <td>-1.942023</td>\n",
       "    </tr>\n",
       "    <tr>\n",
       "      <th>B</th>\n",
       "      <td>-0.508012</td>\n",
       "      <td>-1.272487</td>\n",
       "      <td>1.068809</td>\n",
       "      <td>-1.351010</td>\n",
       "    </tr>\n",
       "    <tr>\n",
       "      <th>C</th>\n",
       "      <td>0.391601</td>\n",
       "      <td>1.144055</td>\n",
       "      <td>-1.175651</td>\n",
       "      <td>1.201843</td>\n",
       "    </tr>\n",
       "    <tr>\n",
       "      <th>D</th>\n",
       "      <td>-1.545627</td>\n",
       "      <td>0.459108</td>\n",
       "      <td>2.929372</td>\n",
       "      <td>-0.080391</td>\n",
       "    </tr>\n",
       "  </tbody>\n",
       "</table>\n",
       "</div>"
      ],
      "text/plain": [
       "          W         X         Y         Z\n",
       "A  0.559434  1.498731  2.468164 -1.942023\n",
       "B -0.508012 -1.272487  1.068809 -1.351010\n",
       "C  0.391601  1.144055 -1.175651  1.201843\n",
       "D -1.545627  0.459108  2.929372 -0.080391"
      ]
     },
     "execution_count": 19,
     "metadata": {},
     "output_type": "execute_result"
    }
   ],
   "source": [
    "#Drop a row\n",
    "df.drop('E', axis=0, inplace=True)\n",
    "df"
   ]
  },
  {
   "cell_type": "code",
   "execution_count": null,
   "id": "457cffe1",
   "metadata": {},
   "outputs": [],
   "source": []
  }
 ],
 "metadata": {
  "kernelspec": {
   "display_name": "NFDI",
   "language": "python",
   "name": "python3"
  },
  "language_info": {
   "codemirror_mode": {
    "name": "ipython",
    "version": 3
   },
   "file_extension": ".py",
   "mimetype": "text/x-python",
   "name": "python",
   "nbconvert_exporter": "python",
   "pygments_lexer": "ipython3",
   "version": "3.9.18"
  }
 },
 "nbformat": 4,
 "nbformat_minor": 5
}
