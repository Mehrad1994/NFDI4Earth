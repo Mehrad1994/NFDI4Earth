{
 "cells": [
  {
   "cell_type": "markdown",
   "id": "e64fa068",
   "metadata": {},
   "source": [
    "<div class=\"alert alert-info\">\n",
    "    \n",
    "### 📖Variables <a class=\"anchor\" id=\"section_1_2_1\"></a>\n",
    "\"You can think of a variable as a kind of data container in which you can store a value. Each variable requires a so-called identifier. The identifier is nothing other than the name of a variable, which we can then use to address it in the program.\" [Link](https://programmieren-starten.de/blog/python-variablen/)\n",
    "\n",
    "\n",
    "Variable names must not begin with a number.\n",
    "\n",
    "\n",
    "Conventions for variables:\n",
    "- Lower case word or single letter\n",
    "- Spaces between two words of a variable are represented by a '_' (e.g. my_variable)\n",
    "\n",
    "It does not matter what data type is assigned to a variable. It can be a number, a word, an entire text, a list, etc. (more on this later).\n",
    "\n",
    "It is important that words/texts are in quotation marks ('' or \"\") and numbers without quotation marks (if you also want to calculate with them). The comma in decimal numbers is shown as a period (.), as in English.\n",
    "\n",
    "[If you would like to see a short video explaining the topic of 'variables', click here](https://youtu.be/qM_6O-17ApU)\n"
   ]
  },
  {
   "cell_type": "code",
   "execution_count": null,
   "id": "22b34ce9",
   "metadata": {},
   "outputs": [],
   "source": [
    "my_variable = 'My first Variable'"
   ]
  },
  {
   "cell_type": "markdown",
   "id": "04242c75",
   "metadata": {},
   "source": [
    "<div class=\"alert alert-info\">\n",
    "\n",
    "When you executed the cell, you probably noticed that apparently not much happened. However, the variable was saved internally when the cell was executed. If the cell containing the variable was executed, we can pick it up again at any later point in time and output it.\n",
    "</div>"
   ]
  },
  {
   "cell_type": "code",
   "execution_count": null,
   "id": "6d6ffac2",
   "metadata": {},
   "outputs": [
    {
     "name": "stdout",
     "output_type": "stream",
     "text": [
      "My first Variable\n"
     ]
    }
   ],
   "source": [
    "print(my_variable)"
   ]
  },
  {
   "cell_type": "markdown",
   "id": "a4c87213",
   "metadata": {},
   "source": [
    "<div class=\"alert alert-info\">\n",
    "Variables can also stand for numbers:\n",
    "</div>"
   ]
  },
  {
   "cell_type": "code",
   "execution_count": null,
   "id": "04647c88",
   "metadata": {},
   "outputs": [
    {
     "name": "stdout",
     "output_type": "stream",
     "text": [
      "42\n"
     ]
    }
   ],
   "source": [
    "my_number = 42\n",
    "print(my_number)"
   ]
  },
  {
   "cell_type": "markdown",
   "id": "f50ffc04",
   "metadata": {},
   "source": [
    "<div class=\"alert alert-info\">\n",
    "For example, you can also calculate with variables as long as a number has been assigned to each variable\n",
    "</div>"
   ]
  },
  {
   "cell_type": "code",
   "execution_count": null,
   "id": "8a10e18b",
   "metadata": {},
   "outputs": [
    {
     "name": "stdout",
     "output_type": "stream",
     "text": [
      "37\n"
     ]
    }
   ],
   "source": [
    "number_1 = 13\n",
    "number_2 = 24\n",
    "result = number_1 + number_2\n",
    "print(result)"
   ]
  },
  {
   "cell_type": "markdown",
   "id": "ce70af03",
   "metadata": {},
   "source": [
    "This notebook introduces the concepts discussed in the lesson."
   ]
  },
  {
   "cell_type": "code",
   "execution_count": null,
   "id": "4475cf3a",
   "metadata": {},
   "outputs": [],
   "source": [
    "# Start coding here"
   ]
  }
 ],
 "metadata": {
  "language_info": {
   "name": "python"
  }
 },
 "nbformat": 4,
 "nbformat_minor": 5
}
