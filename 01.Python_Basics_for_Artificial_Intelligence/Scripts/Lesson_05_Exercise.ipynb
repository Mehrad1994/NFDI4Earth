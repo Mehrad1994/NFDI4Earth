{
 "cells": [
  {
   "cell_type": "markdown",
   "id": "a2cd8b7f",
   "metadata": {},
   "source": [
    "### ✏️Task 1\n",
    "The thermometer of a measuring station has a systematic error of +4.20 °C due to a technical defect.  \n",
    "This should now be removed from all values in the measurement series for evaluation.\n",
    "<br>\n",
    "Use a **for loop** to subtract the measurement error from the values and save the corrected results in a new table."
   ]
  },
  {
   "cell_type": "code",
   "execution_count": null,
   "id": "e503744e",
   "metadata": {},
   "outputs": [],
   "source": [
    "temps = [19.5, 18.0, 23.0, 26.5, 25.0, 19.5, 21.5, 20.0, 22.0, 23.5, 25.5, 24.0, 22.0, 21.5, 23.5, 21.5, 19.0]"
   ]
  },
  {
   "cell_type": "code",
   "execution_count": null,
   "id": "17f1854a",
   "metadata": {},
   "outputs": [],
   "source": [
    "#Your code\n"
   ]
  },
  {
   "cell_type": "markdown",
   "id": "779b87ac",
   "metadata": {},
   "source": [
    "***\n",
    "### ✏️Task 2\n",
    "The following list shows the minimum, maximum and average temperature (in this order) for each measurement time.\n",
    "<br>\n",
    "A new list is to be created in which only the average temperature is available."
   ]
  },
  {
   "cell_type": "code",
   "execution_count": null,
   "id": "c8cc4145",
   "metadata": {},
   "outputs": [],
   "source": [
    "temps = [[16.4, 23.4, 19.9], [17.1, 23.0, 20.1], [21.7, 24.8, 23.2], [18.1, 26.5, 22.3], [16.3, 22.8, 19.6], [14.5, 19.8, 17.1], [18.8, 24.4, 21.6], [17.7, 23.4, 20.5], [16.8, 27.0, 21.9], [19.4, 20.6, 20.0]]"
   ]
  },
  {
   "cell_type": "code",
   "execution_count": null,
   "id": "d124446f",
   "metadata": {},
   "outputs": [],
   "source": [
    "# Your code\n"
   ]
  }
 ],
 "metadata": {
  "language_info": {
   "name": "python"
  }
 },
 "nbformat": 4,
 "nbformat_minor": 5
}
