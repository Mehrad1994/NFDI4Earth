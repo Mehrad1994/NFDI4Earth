{
 "cells": [
  {
   "cell_type": "markdown",
   "id": "4971b974",
   "metadata": {},
   "source": [
    "### 📖 Lesson 8: Introduction to Functions in Python"
   ]
  },
  {
   "cell_type": "code",
   "execution_count": null,
   "id": "560f5d14",
   "metadata": {},
   "outputs": [],
   "source": [
    "temps = [17.5, 18.0, 20.0, 24.5, 21.0, 18.5, 19.5, 16.0, 21.0, 21.5, 22.5, 20.0, 18.0, 20.5, 21.5, 19.5, 17.0]\n",
    "\n",
    "tropical_nights = 0 #The counter is on 0 before the loop starts\n",
    "\n",
    "for i in temps:\n",
    "    if i >= 20:\n",
    "        tropical_nights+=1 #if there is a value >= 20 the variable tropical_nights is raised by 1\n",
    "\n",
    "print(f\"There were {tropical_nights} tropical nights\")"
   ]
  },
  {
   "cell_type": "markdown",
   "id": "2ed3b3a8",
   "metadata": {},
   "source": [
    "<div class=\"alert alert-success\" role=\"alert\">\n",
    "\n",
    "### 📖Functions <a class=\"anchor\" id=\"chapter6\"></a>\n",
    "Functions may look complicated at first glance, but they are actually very simple. Functions are a sequence of calculations/processing/processes which can be called up again and again under different input variables without having to rewrite the entire code each time.\n",
    "\n",
    "\n",
    "A function must first be defined so that Python knows that it is a function that will be called again later. We define a function with a **def** , followed by the name of the function. This is followed by brackets (), into which parameters are written. These parameters are like placeholders for variables that you want to add to the function later.\n",
    "\n",
    "- *def*  my_function_name (my_optional_parameter1, my_optional_parameter2):\n",
    "    - my code that should be executet when I call the function\n",
    "\n",
    "A function itself is not executed until it is called. It is called by specifying its name (and the parameters to be passed) at a point in the script.\n",
    "    <br>\n",
    "As this explanation may still seem complicated, it is best to learn how to use functions using examples.\n",
    "<br>\n",
    "In the first example, our function should simply add the value 5 to each number that is entered into the function. The function will initially only be able to print the result.\n",
    "\n",
    "[If you would like to see a short video explaining the topic of 'Functions', click here](https://youtu.be/G7xEIEMBpPY)\n"
   ]
  },
  {
   "cell_type": "code",
   "execution_count": null,
   "id": "95d1bb88",
   "metadata": {},
   "outputs": [],
   "source": [
    "def add_5 (value): #We will use the parameter 'value' within the function to do some calculations. The parameter itself will be replaced with an actual variable when we call the function\n",
    "    print(value + 5)\n",
    "\n",
    "#lets call the function. We do this by just calling the name and provide information for the parameter\n",
    "add_5(13)\n",
    "\n",
    "#We can call it as many times as we want\n",
    "add_5(100)\n",
    "add_5(-513)\n",
    "\n",
    "#We can also put in a variable that stores the number\n",
    "a = 5561\n",
    "add_5(a)"
   ]
  },
  {
   "cell_type": "markdown",
   "id": "13798421",
   "metadata": {},
   "source": [
    "<div class=\"alert alert-success\" role=\"alert\">\n",
    "    \n",
    "So we see that a function is able to execute a certain code under changing input data.\n",
    "<br>\n",
    "Of course, this is only possible if the data types are correct. As we have already learned, we could not enter a string as a parameter in the calculation in this function, as you cannot calculate words with numbers.\n",
    "<br>\n",
    "So far, our function is only able to print the result. However, we are currently unable to perform any further calculations with the result from the function.\n",
    "<br>\n",
    "We use a **return** so that the function returns a value.\n",
    "<br>\n",
    "This allows us to use the value/object behind the return later.\n",
    "\n",
    "The following function is intended to calculate the percentage of the total area of Germany covered by different land covers.\n",
    "<br>\n",
    "The shares should then be added together:\n",
    "    <br>\n",
    "[Data source](https://www.umweltbundesamt.de/daten/flaeche-boden-land-oekosysteme/flaeche/struktur-der-flaechennutzung#die-wichtigsten-flachennutzungen)"
   ]
  },
  {
   "cell_type": "code",
   "execution_count": null,
   "id": "b8939cb3",
   "metadata": {},
   "outputs": [],
   "source": [
    "def calc_percentage (area_sqkm):\n",
    "    area_germany = 357581\n",
    "    percentage = area_sqkm / area_germany *100\n",
    "    return percentage\n",
    "\n",
    "#calculating the percentage of agricultural land and forests based on their area in km²\n",
    "\n",
    "agriculture = calc_percentage(180936) #The variable agriculture will store the result of the function as we used a 'return'\n",
    "forests = calc_percentage(106559)\n",
    "\n",
    "total = agriculture + forests #Sum up the values\n",
    "\n",
    "print(f\"In Germany {total}% of the land is covered by agriculture ({agriculture}%) and forests ({forests}%) \")"
   ]
  },
  {
   "cell_type": "markdown",
   "id": "f2343b21",
   "metadata": {},
   "source": [
    "<div class=\"alert alert-success\" role=\"alert\">\n",
    "    \n",
    "At the moment, our function can only calculate area shares in Germany, as the area of Germany is anchored within the function. However, we can also define several parameters in the function and thus create more flexibility."
   ]
  },
  {
   "cell_type": "code",
   "execution_count": null,
   "id": "7cd2aac3",
   "metadata": {},
   "outputs": [],
   "source": [
    "def calc_percentage (share_sqkm, total_sqkm):\n",
    "    percentage = share_sqkm / total_sqkm *100\n",
    "    return percentage\n",
    "\n",
    "germany = 357581\n",
    "agriculture = 180936\n",
    "\n",
    "print(calc_percentage(agriculture, germany))"
   ]
  }
 ],
 "metadata": {
  "language_info": {
   "name": "python"
  }
 },
 "nbformat": 4,
 "nbformat_minor": 5
}
