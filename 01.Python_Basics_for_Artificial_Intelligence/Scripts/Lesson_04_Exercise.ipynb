{
 "cells": [
  {
   "cell_type": "markdown",
   "id": "49031a2a",
   "metadata": {},
   "source": [
    "### ✏️Task 2\n",
    "1. Create a list of the most common tree species in Germany. These include: Pine, copper beech, oak, larch.\n",
    "2. Subsequently add the tree species 'fir' and 'spruce' to the list.\n",
    "3. Now create a new variable that lists the second and third most common tree species. This new list should be derived from the previously created list (slicing)"
   ]
  },
  {
   "cell_type": "code",
   "execution_count": null,
   "id": "5f6c9faf",
   "metadata": {},
   "outputs": [
    {
     "name": "stdout",
     "output_type": "stream",
     "text": [
      "['Pine', 'Copper beech', 'Oak', 'Larch', 'Fir', 'Spruce']\n"
     ]
    }
   ],
   "source": [
    "#Your code:\n",
    "trees = [\"Pine\", \"Copper beech\", \"Oak\", \"Larch\"]\n",
    "trees.extend([\"Fir\", \"Spruce\"])\n",
    "print(trees)"
   ]
  },
  {
   "cell_type": "markdown",
   "id": "367666d2",
   "metadata": {},
   "source": [
    "### ✏️Task 3\n",
    "Given is a list of tree species and their estimated maximum biological age.\n",
    "<br>\n",
    "Filter the list so that only the age of the oak tree is displayed. Use as few lines of code as possible."
   ]
  },
  {
   "cell_type": "code",
   "execution_count": null,
   "id": "da35ba06",
   "metadata": {},
   "outputs": [],
   "source": [
    "max_tree_age = [\n",
    "    [\"Pine\", 500],\n",
    "    [\"Copper beech\", 400],\n",
    "    [\"Oak\", 850],\n",
    "    [\"Larch\", 300]\n",
    "]"
   ]
  },
  {
   "cell_type": "code",
   "execution_count": null,
   "id": "71a46902",
   "metadata": {},
   "outputs": [
    {
     "name": "stdout",
     "output_type": "stream",
     "text": [
      "850\n"
     ]
    }
   ],
   "source": [
    "#Your code:\n",
    "print(max_tree_age[2][1])"
   ]
  },
  {
   "cell_type": "markdown",
   "id": "181ea0d6",
   "metadata": {},
   "source": [
    "### ✏️Task 4\n",
    "As you may have noticed, a list is not really a suitable way of assigning information to tree species. A dictionary offers more options for storing a wide range of information and subsequently retrieving it in a targeted manner.\n",
    "In the following, a dictionary of the information listed in the table is to be created in order to be able to retrieve specific information.\n",
    "<br>\n",
    "![Grafik of tree data](grafik.png)\n",
    "[Source](https://www.waldhilfe.de/waldbaeume-die-wichtigsten-bauarten-in-deutschland/)\n",
    "<br>\n",
    "1. Create a dictionary that contains the tree species as keys. The value of each tree species should be another dictionary, which contains the actual values behind the keys 'Proportion area' and 'Area hectares'\n",
    "2. Query the area in hectares of the oak with as few lines of code as possible so that the area is a single number in a variable"
   ]
  },
  {
   "cell_type": "code",
   "execution_count": null,
   "id": "a781ddbf",
   "metadata": {},
   "outputs": [
    {
     "name": "stdout",
     "output_type": "stream",
     "text": [
      "1129706\n"
     ]
    }
   ],
   "source": [
    "#Your code:\n",
    "trees = {\n",
    "   'Spruce': {\n",
    "       'Proportion of area': 25.38,\n",
    "        'Area hectares': 2763219\n",
    "    },\n",
    "    'Pine': {\n",
    "       'Proportion of area': 22.31,\n",
    "        'Area hectares': 2429623\n",
    "    },\n",
    "    'European beech': {\n",
    "       'Proportion of area': 15.43,\n",
    "        'Area hectares': 1680072\n",
    "    },\n",
    "    'Oak': {\n",
    "       'Proportion of area': 10.38,\n",
    "        'Area hectares': 1129706\n",
    "    },\n",
    "    'Larch': {\n",
    "       'Proportion of area': 2.82,\n",
    "        'Area hectares': 307050\n",
    "    },\n",
    "    'Silver fir': {\n",
    "       'Proportion of area': 1.68,\n",
    "        'Area hectares': 182757\n",
    "    },\n",
    "}\n",
    "\n",
    "selection = trees['Oak']['Area hectares']\n",
    "print(selection)"
   ]
  },
  {
   "cell_type": "code",
   "execution_count": null,
   "id": "b22a99e1",
   "metadata": {},
   "outputs": [],
   "source": []
  }
 ],
 "metadata": {
  "language_info": {
   "name": "python"
  }
 },
 "nbformat": 4,
 "nbformat_minor": 5
}
