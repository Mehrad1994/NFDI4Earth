{
 "cells": [
  {
   "cell_type": "markdown",
   "id": "14ee67da",
   "metadata": {},
   "source": [
    "### 📖 Lesson 1: Getting Started with Anaconda and Visual Studio Code"
   ]
  },
  {
   "cell_type": "markdown",
   "id": "55902882",
   "metadata": {},
   "source": [
    "This notebook introduces the concepts discussed in the lesson."
   ]
  },
  {
   "cell_type": "code",
   "execution_count": null,
   "id": "a6001184",
   "metadata": {},
   "outputs": [],
   "source": [
    "# Start coding here"
   ]
  }
 ],
 "metadata": {},
 "nbformat": 4,
 "nbformat_minor": 5
}
