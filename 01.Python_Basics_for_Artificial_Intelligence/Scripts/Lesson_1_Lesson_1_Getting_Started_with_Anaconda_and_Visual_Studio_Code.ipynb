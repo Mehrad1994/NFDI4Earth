{
 "cells": [
  {
   "cell_type": "markdown",
   "id": "fe43bfb5",
   "metadata": {},
   "source": [
    "### 📖Contents\n",
    "\n",
    "* [Python basics](#chapter1)\n",
    "    * [What is Python?](#section_1_1)\n",
    "    * [How do I use a Jupyter notebook?](#section_1_1_5)\n",
    "    * [How do I program in Python?](#section_1_2)   \n",
    "        * [Variables](#section_1_2_1)\n",
    "        * [Lists](#section_1_2_2)\n",
    "        * [Tuples](#section_1_2_3)\n",
    "        * [Range](#section_1_2_4)\n",
    "        * [Dictionaries](#section_1_2_5)\n",
    "        * [Query data types](#section_1_2_6)\n",
    "* [Link collection](#chapter2)"
   ]
  },
  {
   "cell_type": "markdown",
   "id": "d509e4e1",
   "metadata": {},
   "source": [
    "### 📖Basics Python <a class=\"anchor\" id=\"chapter1\"></a>\n",
    "\n",
    "### 📖What is Python? <a class=\"anchor\" id=\"section_1_1\"></a>\n",
    "Python is an interpreted, high-level, open-source programming language.\n",
    "\n",
    "But what does that mean?\n",
    "\n",
    "At first, PCs and people can hardly or not understand each other at all. PCs use machine language, which is usually represented as binary code or hexadecimal numbers. However, letters or even whole words are foreign to machine language. This means that we cannot communicate with the PC using our own words.\n",
    "<br>\n",
    "High-level programming languages are programming languages that are easy for humans to understand as they allow the use of letters and therefore words. Contrary to what their name suggests, high-level programming languages are far removed from machine language in terms of abstraction and complexity and are intended to make programming easier for us.\n",
    "Other examples of high-level programming languages are Java, C++, C#, PHP etc.\n",
    "<br>\n",
    "(In terms of complexity and abstraction, assembly language, which is a machine-oriented programming language, is positioned between machine language and high-level programming languages.)\n",
    "\n",
    "The code that we write in a high-level programming language must somehow be translated into machine language for the PC. There are two ways of doing this:\n",
    "- compiled programming languages:\n",
    "        Translate the entire code into a compiled file that can be executed by the PC\n",
    "- interpreted programming languages:\n",
    "        The code is translated and executed line by line during program runtime\n",
    "\n",
    "Both approaches have advantages and disadvantages, which we will not go into further here.\n",
    "\n",
    "Further explanations are given [here](https://www.youtube.com/watch?v=fszpyKV62kI)\n"
   ]
  }
 ],
 "metadata": {
  "language_info": {
   "name": "python"
  }
 },
 "nbformat": 4,
 "nbformat_minor": 5
}
