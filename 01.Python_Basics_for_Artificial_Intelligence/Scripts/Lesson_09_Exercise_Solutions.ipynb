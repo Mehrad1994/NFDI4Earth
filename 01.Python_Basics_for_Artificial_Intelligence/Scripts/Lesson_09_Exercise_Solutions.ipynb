{
 "cells": [
  {
   "cell_type": "markdown",
   "id": "da51ba30",
   "metadata": {},
   "source": [
    "### ✏️Task 7\n",
    "In some scientific data there are so-called 'NoData Values', i.e. values that are used for measurements for which there was no measurement result. Such NoData Values are often found in raster data that is opened in geoinformation systems (e.g. outlines of oblique satellite images).\n",
    "<br>\n",
    "In geoinformation systems, the NoData values can be set (e.g. to 0 or -999) so that the raster dataset is displayed correctly.\n",
    "<br>\n",
    "In Python, changing the NoData values is a little more difficult.\n",
    "<br>\n",
    "The following list is intended to mimic a raster data set which has a size of 3x3 pixels. Each of the lists in the list should represent a series of pixel values of a gray value image.\n",
    "<br>\n",
    "In reality, raster data in Python is not displayed directly as lists (we will come to that later). For now, however, let's assume that this is the case.\n",
    "<br>\n",
    "1. Create a function that can 'iterate' through the individual values and create a new list in which the previous NoData value 0 is set to -999. The structure of the list should be retained.\n",
    "\n",
    "Note: Use print statements when developing the function to get information about the individual elements of the loop. Think about how you can access nested elements."
   ]
  },
  {
   "cell_type": "code",
   "execution_count": null,
   "id": "2b3bbf23",
   "metadata": {},
   "outputs": [],
   "source": [
    "raster = [\n",
    "    [125, 54, 12],\n",
    "    [0, 146, 211],\n",
    "    [198, 137, 0],\n",
    "]"
   ]
  },
  {
   "cell_type": "code",
   "execution_count": null,
   "id": "89b3ea0e",
   "metadata": {},
   "outputs": [
    {
     "name": "stdout",
     "output_type": "stream",
     "text": [
      "[[125, 54, 12], [-999, 146, 211], [198, 137, -999]]\n"
     ]
    }
   ],
   "source": [
    "#Your code\n",
    "\n",
    "def replace_nodata (input_list, old_nodata, new_nodata):\n",
    "    new_raster = [] #This will store the new list\n",
    "\n",
    "    #create a loop that will go through the input list and hold each nested list under i\n",
    "    for i in raster:\n",
    "        new_row = [] #This will temporarily store the values of each 'row' (or nested list)\n",
    "\n",
    "        #create a loop that checks the values in each nested list\n",
    "        for x in i:\n",
    "            if x == old_nodata:\n",
    "                new_row.append(new_nodata)\n",
    "            else:\n",
    "                new_row.append(x)\n",
    "\n",
    "        new_raster.append(new_row) #After the loop through the values append the new row to the new_raster list\n",
    "    return new_raster\n",
    "\n",
    "replaced_raster = replace_nodata(raster, 0, -999)\n",
    "print(replaced_raster)"
   ]
  },
  {
   "cell_type": "markdown",
   "id": "fc3f216d",
   "metadata": {},
   "source": [
    "***\n",
    "***\n",
    "\n",
    "### 📖For interested parties\n",
    "Even if most of the data in the previous exercises and tasks are fictitious, the lists with their data have to be created somehow.\n",
    "<br>\n",
    "If you are interested in how we save ourselves some work and create the lists, take a look at the cells below.\n",
    "<br>\n",
    "Nevertheless, we have kept the code simple so that it is easy to understand.\n",
    "<br>\n",
    "There are much more efficient ways to create the data ;)"
   ]
  },
  {
   "cell_type": "code",
   "execution_count": null,
   "id": "6f63ab2f",
   "metadata": {},
   "outputs": [
    {
     "name": "stdout",
     "output_type": "stream",
     "text": [
      "[[16.4, 23.4, 19.9], [17.1, 23.0, 20.1], [21.7, 24.8, 23.2], [18.1, 26.5, 22.3], [16.3, 22.8, 19.6], [14.5, 19.8, 17.1], [18.8, 24.4, 21.6], [17.7, 23.4, 20.5], [16.8, 27.0, 21.9], [19.4, 20.6, 20.0]]\n"
     ]
    }
   ],
   "source": [
    "#Create a nested list with min, max and mean temperatures\n",
    "\n",
    "import random #This imports a package that can create random numbers\n",
    "\n",
    "temps = [19.5, 18.0, 23.0, 22.0 , 21.0, 19.5, 21.5, 20.0, 22.0, 20.5] #We will use those values to do some calculations\n",
    "\n",
    "new_temp = []\n",
    "\n",
    "for i in temps:\n",
    "    minimum = i - round(random.uniform(0, 6),1) #subtract a random float number between 0 and 6 from the current element and round it to the first digit\n",
    "    maximum = i + round(random.uniform(0, 5),1)\n",
    "    mean = round((minimum+maximum)/2, 1)\n",
    "    new_temp.append([minimum, maximum, mean])\n",
    "print(new_temp)"
   ]
  },
  {
   "cell_type": "code",
   "execution_count": null,
   "id": "8d522ad9",
   "metadata": {},
   "outputs": [],
   "source": [
    "#Create a List with specific length and randomly chosen tree species.\n",
    "\n",
    "trees = ['Picea abies', 'Larix decidua', 'Betula pendula', 'Fagus sylvatica', 'Quercus robur', 'Aesculus hippocastanum']\n",
    "new_list = []\n",
    "for i in range (50):\n",
    "    new_list.append(random.choice(trees))\n",
    "print(new_list)"
   ]
  },
  {
   "cell_type": "code",
   "execution_count": null,
   "id": "ea828ab5",
   "metadata": {},
   "outputs": [],
   "source": [
    "#Create some random integers (values should be between )\n",
    "import numpy as np\n",
    "meter = list(np.random.randint(1, 3000, 25))\n",
    "print(meter)"
   ]
  }
 ],
 "metadata": {
  "language_info": {
   "name": "python"
  }
 },
 "nbformat": 4,
 "nbformat_minor": 5
}
