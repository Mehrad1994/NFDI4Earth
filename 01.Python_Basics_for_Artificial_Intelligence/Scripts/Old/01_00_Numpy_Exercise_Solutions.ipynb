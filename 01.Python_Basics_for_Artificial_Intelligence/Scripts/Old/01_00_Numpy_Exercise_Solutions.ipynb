{
 "cells": [
  {
   "cell_type": "markdown",
   "id": "7080a81d",
   "metadata": {},
   "source": [
    "### 📖1. Import NumPy as np"
   ]
  },
  {
   "cell_type": "code",
   "execution_count": null,
   "id": "7b7bebe6",
   "metadata": {},
   "outputs": [],
   "source": [
    "import numpy as np"
   ]
  },
  {
   "cell_type": "markdown",
   "id": "e676a1e3",
   "metadata": {},
   "source": [
    "### 📖2. Create an array from this list"
   ]
  },
  {
   "cell_type": "code",
   "execution_count": null,
   "id": "62b29da4",
   "metadata": {},
   "outputs": [
    {
     "data": {
      "text/plain": [
       "array([9, 8, 7, 6, 5, 4, 3, 2, 1])"
      ]
     },
     "metadata": {},
     "output_type": "display_data"
    }
   ],
   "source": [
    "mylist = [9, 8, 7, 6, 5, 4, 3, 2, 1]\n",
    "myarray = np.array(mylist)\n",
    "myarray"
   ]
  },
  {
   "cell_type": "markdown",
   "id": "e0d73c8e",
   "metadata": {},
   "source": [
    "### 📖3. Reshape the array you just created to the shape 3x3"
   ]
  },
  {
   "cell_type": "code",
   "execution_count": null,
   "id": "e47d4662",
   "metadata": {},
   "outputs": [
    {
     "data": {
      "text/plain": [
       "array([[9, 8, 7],\n",
       "       [6, 5, 4],\n",
       "       [3, 2, 1]])"
      ]
     },
     "metadata": {},
     "output_type": "display_data"
    }
   ],
   "source": [
    "reshaped = myarray.reshape(3,3)\n",
    "reshaped"
   ]
  },
  {
   "cell_type": "markdown",
   "id": "dc27602e",
   "metadata": {},
   "source": [
    "### 📖4. Print the shape of the array you just  reshaped"
   ]
  },
  {
   "cell_type": "code",
   "execution_count": null,
   "id": "5193a483",
   "metadata": {},
   "outputs": [
    {
     "data": {
      "text/plain": [
       "(3, 3)"
      ]
     },
     "metadata": {},
     "output_type": "display_data"
    }
   ],
   "source": [
    "reshaped.shape"
   ]
  },
  {
   "cell_type": "markdown",
   "id": "31aed2e4",
   "metadata": {},
   "source": [
    "### 📖5. Create an array of 25 fives and reshape them to a shape of 5x5"
   ]
  },
  {
   "cell_type": "code",
   "execution_count": null,
   "id": "fdabe2c3",
   "metadata": {},
   "outputs": [
    {
     "data": {
      "text/plain": [
       "array([[1., 1., 1., 1., 1.],\n",
       "       [1., 1., 1., 1., 1.],\n",
       "       [1., 1., 1., 1., 1.],\n",
       "       [1., 1., 1., 1., 1.],\n",
       "       [1., 1., 1., 1., 1.]])"
      ]
     },
     "metadata": {},
     "output_type": "display_data"
    }
   ],
   "source": [
    "arr = np.ones((5,5))\n",
    "arr"
   ]
  },
  {
   "cell_type": "markdown",
   "id": "249afa51",
   "metadata": {},
   "source": [
    "### 📖6. Create an array of 10 random numbers between 0 and 1"
   ]
  },
  {
   "cell_type": "code",
   "execution_count": null,
   "id": "3eb9c0ed",
   "metadata": {},
   "outputs": [
    {
     "data": {
      "text/plain": [
       "array([0.90680511, 0.99742819, 0.77200172, 0.24154789, 0.45313473,\n",
       "       0.21942111, 0.70674746, 0.05677302, 0.18332823, 0.69515142])"
      ]
     },
     "metadata": {},
     "output_type": "display_data"
    }
   ],
   "source": [
    "arr = np.random.rand(10)\n",
    "arr"
   ]
  },
  {
   "cell_type": "markdown",
   "id": "d72d4658",
   "metadata": {},
   "source": [
    "### 📖7. Create a 10x10 matrix of random integers between 0 and 255 (both inclusive)"
   ]
  },
  {
   "cell_type": "code",
   "execution_count": null,
   "id": "021a75d6",
   "metadata": {},
   "outputs": [
    {
     "data": {
      "text/plain": [
       "array([[150, 241, 125, 241, 111, 145, 153, 116, 189,  12],\n",
       "       [128, 100,  98,  34, 201, 101, 255, 230, 221, 145],\n",
       "       [ 53, 146, 213, 130,  18,  81, 119,  41, 208, 238],\n",
       "       [ 28, 201, 230, 157, 138, 122, 153, 188, 215, 234],\n",
       "       [ 69, 182, 208,  33, 253,  14, 232, 166, 148, 197],\n",
       "       [217,  97,  17, 202,  45, 218, 194, 245, 148,   4],\n",
       "       [227,  83, 175,  15, 101, 192, 182, 185, 103,  58],\n",
       "       [116, 235, 206,  63, 152, 181, 234, 252, 129, 197],\n",
       "       [144, 197, 190, 231,   7,  30, 193, 237, 224,  46],\n",
       "       [135,  59, 187,  26,  43, 176, 180,  41,   0, 241]])"
      ]
     },
     "metadata": {},
     "output_type": "display_data"
    }
   ],
   "source": [
    "arr = np.random.randint(0, 256, (10, 10))\n",
    "arr"
   ]
  },
  {
   "cell_type": "markdown",
   "id": "9dff24e2",
   "metadata": {},
   "source": [
    "### 📖8. based on your previous matrix, get the item which is in row 6 and column 4"
   ]
  },
  {
   "cell_type": "code",
   "execution_count": null,
   "id": "c1c9a851",
   "metadata": {},
   "outputs": [
    {
     "data": {
      "text/plain": [
       "202"
      ]
     },
     "metadata": {},
     "output_type": "display_data"
    }
   ],
   "source": [
    "arr[5, 3]"
   ]
  },
  {
   "cell_type": "markdown",
   "id": "c12e4978",
   "metadata": {},
   "source": [
    "### 📖9. Based on your previous matrix, select the last value from every row"
   ]
  },
  {
   "cell_type": "code",
   "execution_count": null,
   "id": "388e28a0",
   "metadata": {},
   "outputs": [
    {
     "data": {
      "text/plain": [
       "array([ 12, 145, 238, 234, 197,   4,  58, 197,  46, 241])"
      ]
     },
     "metadata": {},
     "output_type": "display_data"
    }
   ],
   "source": [
    "arr[:, -1]"
   ]
  },
  {
   "cell_type": "code",
   "execution_count": null,
   "id": "3b82360e",
   "metadata": {},
   "outputs": [],
   "source": []
  }
 ],
 "metadata": {
  "kernelspec": {
   "display_name": "Python 3 (ipykernel)",
   "language": "python",
   "name": "python3"
  },
  "language_info": {
   "codemirror_mode": {
    "name": "ipython",
    "version": 3
   },
   "file_extension": ".py",
   "mimetype": "text/x-python",
   "name": "python",
   "nbconvert_exporter": "python",
   "pygments_lexer": "ipython3",
   "version": "3.9.12"
  }
 },
 "nbformat": 4,
 "nbformat_minor": 5
}
