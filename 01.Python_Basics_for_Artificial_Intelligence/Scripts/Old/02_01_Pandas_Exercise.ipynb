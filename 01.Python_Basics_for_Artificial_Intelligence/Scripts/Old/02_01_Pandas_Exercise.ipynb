{
 "cells": [
  {
   "cell_type": "markdown",
   "id": "158555d8",
   "metadata": {},
   "source": [
    "### 📖1. Import pandas und NumPy, so you can call them by  an abbreviation"
   ]
  },
  {
   "cell_type": "code",
   "execution_count": null,
   "id": "df60948a",
   "metadata": {},
   "outputs": [],
   "source": []
  },
  {
   "attachments": {
    "image.png": {
     "image/png": "[encoded data removed]"
    }
   },
   "cell_type": "markdown",
   "id": "8a130389",
   "metadata": {},
   "source": [
    "### 📖2. Create a DataFrame that contains the information shown below\n",
    "\n",
    "![image.png](attachment:image.png)"
   ]
  },
  {
   "cell_type": "code",
   "execution_count": null,
   "id": "150763d0",
   "metadata": {},
   "outputs": [],
   "source": []
  },
  {
   "cell_type": "markdown",
   "id": "f8d82db5",
   "metadata": {},
   "source": [
    "### ✏️3. Use the DataFrame from the previous task to calculate a new column with the population density for each city"
   ]
  },
  {
   "cell_type": "code",
   "execution_count": null,
   "id": "29620643",
   "metadata": {},
   "outputs": [],
   "source": []
  },
  {
   "cell_type": "markdown",
   "id": "9157bd89",
   "metadata": {},
   "source": [
    "### 📖4. Load the CSV file  \"Airmeasuringstation-data_EPSG25832_CSV.csv\""
   ]
  },
  {
   "cell_type": "code",
   "execution_count": null,
   "id": "f6573718",
   "metadata": {},
   "outputs": [],
   "source": []
  },
  {
   "cell_type": "markdown",
   "id": "b7ef88a6",
   "metadata": {},
   "source": [
    "### 📖5. Replace -9999 by NaN\n",
    "If you open the CSV in Excel, you will notice that there are some measurements with -9999. This NoData value will effect statistical calculations and should be replaced by 'NaN'. Check Google how to solve this issue, or use [this link](https://stackoverflow.com/questions/29247712/how-to-replace-a-value-in-pandas-with-nan) if you do not find any answers.\n",
    "Hint1: It is easier to replace the NoData value for the whole DataFrame\n",
    "Hint2: Store it in a new variable"
   ]
  },
  {
   "cell_type": "code",
   "execution_count": null,
   "id": "69637675",
   "metadata": {},
   "outputs": [],
   "source": []
  },
  {
   "cell_type": "markdown",
   "id": "24e44da1",
   "metadata": {},
   "source": [
    "### 📖6. Calculate the mean, stdv, min, max and quantiles of the NO2 values for each measuring point"
   ]
  },
  {
   "cell_type": "code",
   "execution_count": null,
   "id": "427da497",
   "metadata": {},
   "outputs": [],
   "source": []
  },
  {
   "cell_type": "markdown",
   "id": "9639c85a",
   "metadata": {},
   "source": [
    "### 📖7. Filter for measuring station 22"
   ]
  },
  {
   "cell_type": "code",
   "execution_count": null,
   "id": "8eefcd2f",
   "metadata": {},
   "outputs": [],
   "source": []
  },
  {
   "cell_type": "markdown",
   "id": "ff67145d",
   "metadata": {},
   "source": [
    "### 📖8. Calculate the number of days with a NO2 value above 50 for station 22\n",
    "Print the result with a f-string"
   ]
  },
  {
   "cell_type": "code",
   "execution_count": null,
   "id": "7261648b",
   "metadata": {},
   "outputs": [],
   "source": []
  },
  {
   "cell_type": "markdown",
   "id": "870f9a82",
   "metadata": {},
   "source": [
    "### ✏️9. Save the DataFrame from task six to a new file"
   ]
  },
  {
   "cell_type": "code",
   "execution_count": null,
   "id": "57bdb607",
   "metadata": {},
   "outputs": [],
   "source": []
  }
 ],
 "metadata": {
  "kernelspec": {
   "display_name": "Python 3 (ipykernel)",
   "language": "python",
   "name": "python3"
  },
  "language_info": {
   "codemirror_mode": {
    "name": "ipython",
    "version": 3
   },
   "file_extension": ".py",
   "mimetype": "text/x-python",
   "name": "python",
   "nbconvert_exporter": "python",
   "pygments_lexer": "ipython3",
   "version": "3.9.12"
  }
 },
 "nbformat": 4,
 "nbformat_minor": 5
}
