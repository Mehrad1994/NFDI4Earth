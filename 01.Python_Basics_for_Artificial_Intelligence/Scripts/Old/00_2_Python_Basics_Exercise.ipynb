{
  "cells": [
    {
      "cell_type": "markdown",
      "id": "2715787e",
      "metadata": {},
      "source": [
        "### ✏️Task 1\n",
        "The thermometer of a measuring station has a systematic error of +4.20 °C due to a technical defect.  \n",
        "This should now be removed from all values in the measurement series for evaluation.\n",
        "<br>\n",
        "Use a **for loop** to subtract the measurement error from the values and save the corrected results in a new table."
      ]
    },
    {
      "cell_type": "code",
      "execution_count": null,
      "id": "06feb364",
      "metadata": {},
      "outputs": [],
      "source": [
        "temps = [19.5, 18.0, 23.0, 26.5, 25.0, 19.5, 21.5, 20.0, 22.0, 23.5, 25.5, 24.0, 22.0, 21.5, 23.5, 21.5, 19.0]"
      ]
    },
    {
      "cell_type": "code",
      "execution_count": null,
      "id": "e43a682e",
      "metadata": {},
      "outputs": [],
      "source": [
        "#Your code\n"
      ]
    },
    {
      "cell_type": "markdown",
      "id": "961d78c9",
      "metadata": {},
      "source": [
        "***\n",
        "### ✏️Task 2\n",
        "The following list shows the minimum, maximum and average temperature (in this order) for each measurement time.\n",
        "<br>\n",
        "A new list is to be created in which only the average temperature is available."
      ]
    },
    {
      "cell_type": "code",
      "execution_count": null,
      "id": "1c7d7158",
      "metadata": {},
      "outputs": [],
      "source": [
        "temps = [[16.4, 23.4, 19.9], [17.1, 23.0, 20.1], [21.7, 24.8, 23.2], [18.1, 26.5, 22.3], [16.3, 22.8, 19.6], [14.5, 19.8, 17.1], [18.8, 24.4, 21.6], [17.7, 23.4, 20.5], [16.8, 27.0, 21.9], [19.4, 20.6, 20.0]]"
      ]
    },
    {
      "cell_type": "code",
      "execution_count": null,
      "id": "d8712d43",
      "metadata": {},
      "outputs": [],
      "source": [
        "# Your code\n"
      ]
    },
    {
      "cell_type": "markdown",
      "id": "69f6e952",
      "metadata": {},
      "source": [
        "***\n",
        "### ✏️Task 3\n",
        "The prepared list contains the daily 7-day corona incidence between 12.06.2022 and 11.08.2022.\n",
        "<br>\n",
        "A **for loop** is to be used to determine the number of days in which the incidences were above and below 500.\n",
        "<br>\n",
        "To do this, create two 'counters' that specify the respective number of days and print the results with a meaningful f-string.\n",
        "<br>\n",
        "[Quelle RKI](https://www.rki.de/DE/Content/InfAZ/N/Neuartiges_Coronavirus/Daten/Klinische_Aspekte.html)"
      ]
    },
    {
      "cell_type": "code",
      "execution_count": null,
      "id": "921fcc01",
      "metadata": {},
      "outputs": [],
      "source": [
        "inzidence = [461.0, 473.6, 565.4, 604.3, 607.3, 547.1, 555.2, 566.9, 569.8, 602.4, 645.1, 696.7, 802.4, 835.4, 845.9, 845.5, 848.5, 853.9, 852.9, 847.5, 847.5, 834.5, 834.9, 811.3, 788.3, 771.9, 751.7, 727.0, 723.8, 718.7, 722.6, 716.7, 707.9, 700.8, 699.9, 693.3, 691.7, 681.4, 659.9, 630.7, 611.7, 593.3, 592.2, 592.9, 576.2, 563.8, 548.1, 528.0, 509.7, 501.7, 497.8, 488.7, 476.9, 465.3, 463.2, 454.5, 453.7, 450.2, 440.6, 423.0, 394.1]"
      ]
    },
    {
      "cell_type": "code",
      "execution_count": null,
      "id": "16d85541",
      "metadata": {},
      "outputs": [],
      "source": [
        "#Your code\n"
      ]
    },
    {
      "cell_type": "markdown",
      "id": "b1762854",
      "metadata": {},
      "source": [
        "***\n",
        "### ✏️Task 4\n",
        "Given is a list with the Latin names of tree species from a tree inventory.\n",
        "<br>\n",
        "1. Create a new list in which each tree species is listed only once in order to determine the number of different tree species (Not all of the methods required for this have been taught in the accompanying notebook. However, as in real life, you can find all the answers on the Internet. First try to find an approach on your own, otherwise here are two links that will help you: [Add to list if not already in list](https://stackoverflow.com/questions/42334197/add-only-unique-values-to-a-list-in-python), [Get length of list](https://www.edureka.co/blog/python-list-length/))\n",
        "2. Create a **for loop** (based on your list from subtask 1) which gives the tree species as print output and how often it was found during the inventory (Again, the internet will help you to use a more efficient method than the 'counter' you have learned so far. If you cannot find an approach, have a look at [here](https://www.codegrepper.com/code-examples/python/python+count+number+of+elements+in+list+equal+to))"
      ]
    },
    {
      "cell_type": "code",
      "execution_count": null,
      "id": "9f5d7921",
      "metadata": {},
      "outputs": [],
      "source": [
        "trees = ['Fagus sylvatica', 'Quercus robur', 'Fagus sylvatica', 'Larix decidua', 'Quercus robur', 'Quercus robur', 'Aesculus hippocastanum', 'Larix decidua', 'Larix decidua', 'Picea abies', 'Fagus sylvatica', 'Betula pendula', 'Larix decidua', 'Betula pendula', 'Fagus sylvatica', 'Betula pendula', 'Picea abies', 'Aesculus hippocastanum', 'Fagus sylvatica', 'Quercus robur', 'Larix decidua', 'Fagus sylvatica', 'Betula pendula', 'Fagus sylvatica', 'Picea abies', 'Quercus robur', 'Larix decidua', 'Betula pendula', 'Betula pendula', 'Fagus sylvatica', 'Aesculus hippocastanum', 'Larix decidua', 'Picea abies', 'Betula pendula', 'Fagus sylvatica', 'Fagus sylvatica', 'Betula pendula', 'Aesculus hippocastanum', 'Quercus robur', 'Quercus robur', 'Quercus robur', 'Fagus sylvatica', 'Aesculus hippocastanum', 'Picea abies', 'Larix decidua', 'Picea abies', 'Larix decidua', 'Aesculus hippocastanum', 'Picea abies', 'Picea abies']"
      ]
    },
    {
      "cell_type": "code",
      "execution_count": null,
      "id": "6bc783f7",
      "metadata": {},
      "outputs": [],
      "source": [
        "# Your code\n"
      ]
    },
    {
      "cell_type": "markdown",
      "id": "afe98605",
      "metadata": {},
      "source": [
        "***\n",
        "### ✏️Task 5\n",
        "Create a function that subtracts an individually definable value from the data series provided. It should be possible to pass the following parameters to the function:\n",
        "1. list as data input\n",
        "2. value to be subtracted\n",
        "\n",
        "Your function should be able to print the newly calculated value.\n",
        "Test your function by subtracting the value 8.4."
      ]
    },
    {
      "cell_type": "code",
      "execution_count": null,
      "id": "7eec8420",
      "metadata": {},
      "outputs": [],
      "source": [
        "values = [19.5, 18.0, 23.0, 26.5, 25.0, 19.5, 21.5, 20.0, 22.0, 23.5]"
      ]
    },
    {
      "cell_type": "code",
      "execution_count": null,
      "id": "c96e8d08",
      "metadata": {},
      "outputs": [],
      "source": [
        "#Your code\n"
      ]
    },
    {
      "cell_type": "markdown",
      "id": "3dccb189",
      "metadata": {},
      "source": [
        "***\n",
        "### ✏️Task 6\n",
        "Write a function that is able to convert between the units meters and feet. It should be possible to enter lists into the function and convert them into the other unit.\n",
        "<br>\n",
        "Find a way to round the conversion results."
      ]
    },
    {
      "cell_type": "code",
      "execution_count": null,
      "id": "5fbf715b",
      "metadata": {},
      "outputs": [],
      "source": [
        "meter = [2222, 1594, 256, 1855, 2087, 6, 1611, 171, 842, 699, 957, 729, 214, 2133, 2083, 1602, 1136, 2052, 446, 1921, 2264, 46, 1697, 137, 1514]\n",
        "feet = [7290.0, 5229.7, 839.9, 6086.0, 6847.1, 19.7, 5285.4, 561.0, 2762.5, 2293.3, 3139.8, 2391.7, 702.1, 6998.0, 6834.0, 5255.9, 3727.0, 6732.3, 1463.3, 6302.5, 7427.8, 150.9, 5567.6, 449.5, 4967.2]"
      ]
    },
    {
      "cell_type": "code",
      "execution_count": null,
      "id": "e8e29bab",
      "metadata": {},
      "outputs": [],
      "source": [
        "#Your code\n"
      ]
    },
    {
      "cell_type": "markdown",
      "id": "419c7d8c",
      "metadata": {},
      "source": [
        "***\n",
        "### ✏️Task 7\n",
        "In some scientific data there are so-called 'NoData Values', i.e. values that are used for measurements for which there was no measurement result. Such NoData Values are often found in raster data that is opened in geoinformation systems (e.g. outlines of oblique satellite images).\n",
        "<br>\n",
        "In geoinformation systems, the NoData values can be set (e.g. to 0 or -999) so that the raster dataset is displayed correctly.\n",
        "<br>\n",
        "In Python, changing the NoData values is a little more difficult.\n",
        "<br>\n",
        "The following list is intended to mimic a raster data set which has a size of 3x3 pixels. Each of the lists in the list should represent a series of pixel values of a gray value image.\n",
        "<br>\n",
        "In reality, raster data in Python is not displayed directly as lists (we will come to that later). For now, however, let's assume that this is the case.\n",
        "<br>\n",
        "1. Create a function that can 'iterate' through the individual values and create a new list in which the previous NoData value 0 is set to -999. The structure of the list should be retained.\n",
        "\n",
        "Note: Use print statements when developing the function to get information about the individual elements of the loop. Think about how you can access nested elements."
      ]
    },
    {
      "cell_type": "code",
      "execution_count": null,
      "id": "81fa2a34",
      "metadata": {},
      "outputs": [],
      "source": [
        "raster = [\n",
        "    [125, 54, 12],\n",
        "    [0, 146, 211],\n",
        "    [198, 137, 0],\n",
        "]"
      ]
    },
    {
      "cell_type": "code",
      "execution_count": null,
      "id": "c4fbeeaf",
      "metadata": {},
      "outputs": [],
      "source": [
        "#Your code\n"
      ]
    },
    {
      "cell_type": "markdown",
      "id": "e3dbe3e2",
      "metadata": {},
      "source": [
        "***\n",
        "***\n",
        "\n",
        "### 📖For interested parties\n",
        "Even if most of the data in the previous exercises and tasks are fictitious, the lists with their data have to be created somehow.\n",
        "<br>\n",
        "If you are interested in how we save ourselves some work and create the lists, take a look at the cells below.\n",
        "<br>\n",
        "Nevertheless, we have kept the code simple so that it is easy to understand.\n",
        "<br>\n",
        "There are much more efficient ways to create the data ;)"
      ]
    },
    {
      "cell_type": "code",
      "execution_count": null,
      "id": "45cad30e",
      "metadata": {},
      "outputs": [],
      "source": [
        "#Create a nested list with min, max and mean temperatures\n",
        "\n",
        "import random #This imports a package that can create random numbers\n",
        "\n",
        "temps = [19.5, 18.0, 23.0, 22.0 , 21.0, 19.5, 21.5, 20.0, 22.0, 20.5] #We will use those values to do some calculations\n",
        "\n",
        "new_temp = []\n",
        "\n",
        "for i in temps:\n",
        "    minimum = i - round(random.uniform(0, 6),1) #subtract a random float number between 0 and 6 from the current element and round it to the first digit\n",
        "    maximum = i + round(random.uniform(0, 5),1)\n",
        "    mean = round((minimum+maximum)/2, 1)\n",
        "    new_temp.append([minimum, maximum, mean])\n",
        "print(new_temp)"
      ]
    },
    {
      "cell_type": "code",
      "execution_count": null,
      "id": "9e588a03",
      "metadata": {},
      "outputs": [],
      "source": [
        "#Create a List with specific length and randomly chosen tree species.\n",
        "\n",
        "trees = ['Picea abies', 'Larix decidua', 'Betula pendula', 'Fagus sylvatica', 'Quercus robur', 'Aesculus hippocastanum']\n",
        "new_list = []\n",
        "for i in range (50):\n",
        "    new_list.append(random.choice(trees))\n",
        "print(new_list)"
      ]
    },
    {
      "cell_type": "code",
      "execution_count": null,
      "id": "a23af4f2",
      "metadata": {},
      "outputs": [],
      "source": [
        "#Create some random integers (values should be between 1 and 3000 and 25 random values should be created)\n",
        "import numpy as np\n",
        "meter = list(np.random.randint(1, 3000, 25))\n",
        "print(meter)"
      ]
    }
  ],
  "metadata": {
    "colab": {
      "provenance": []
    },
    "kernelspec": {
      "display_name": "Python 3",
      "language": "python",
      "name": "python3"
    },
    "language_info": {
      "codemirror_mode": {
        "name": "ipython",
        "version": 3
      },
      "file_extension": ".py",
      "mimetype": "text/x-python",
      "name": "python",
      "nbconvert_exporter": "python",
      "pygments_lexer": "ipython3",
      "version": "3.8.5"
    }
  },
  "nbformat": 4,
  "nbformat_minor": 5
}
