{
 "cells": [
  {
   "cell_type": "markdown",
   "id": "79a5b9c6",
   "metadata": {},
   "source": [
    "### 📖1. Import NumPy as np"
   ]
  },
  {
   "cell_type": "code",
   "execution_count": null,
   "id": "90f39471",
   "metadata": {},
   "outputs": [],
   "source": []
  },
  {
   "cell_type": "markdown",
   "id": "e0609900",
   "metadata": {},
   "source": [
    "### 📖2. Create an array from this list"
   ]
  },
  {
   "cell_type": "code",
   "execution_count": null,
   "id": "cf7e1115",
   "metadata": {},
   "outputs": [],
   "source": [
    "mylist = [9, 8, 7, 6, 5, 4, 3, 2, 1]\n"
   ]
  },
  {
   "cell_type": "markdown",
   "id": "68050853",
   "metadata": {},
   "source": [
    "### 📖3. Reshape the array you just created to the shape 3x3"
   ]
  },
  {
   "cell_type": "code",
   "execution_count": null,
   "id": "5e9d8196",
   "metadata": {},
   "outputs": [],
   "source": []
  },
  {
   "cell_type": "markdown",
   "id": "9b78fba4",
   "metadata": {},
   "source": [
    "### 📖4. Print the shape of the array you just  reshaped"
   ]
  },
  {
   "cell_type": "code",
   "execution_count": null,
   "id": "b802b2c3",
   "metadata": {},
   "outputs": [],
   "source": []
  },
  {
   "cell_type": "markdown",
   "id": "fdbd7270",
   "metadata": {},
   "source": [
    "### 📖5. Create an array of 25 fives with the shape of 5x5"
   ]
  },
  {
   "cell_type": "code",
   "execution_count": null,
   "id": "445f4d00",
   "metadata": {},
   "outputs": [],
   "source": []
  },
  {
   "cell_type": "markdown",
   "id": "dabbc899",
   "metadata": {},
   "source": [
    "### 📖6. Create an array of 10 random numbers between 0 and 1"
   ]
  },
  {
   "cell_type": "code",
   "execution_count": null,
   "id": "99212750",
   "metadata": {},
   "outputs": [],
   "source": []
  },
  {
   "cell_type": "markdown",
   "id": "f5f943ce",
   "metadata": {},
   "source": [
    "### 📖7. Create a 10x10 matrix of random integers between 0 and 255"
   ]
  },
  {
   "cell_type": "code",
   "execution_count": null,
   "id": "442152a3",
   "metadata": {},
   "outputs": [],
   "source": []
  },
  {
   "cell_type": "markdown",
   "id": "548c02c1",
   "metadata": {},
   "source": [
    "### 📖8. Based on your previous matrix, get the item which is in row 6 and column 4"
   ]
  },
  {
   "cell_type": "code",
   "execution_count": null,
   "id": "82d1e601",
   "metadata": {},
   "outputs": [],
   "source": []
  },
  {
   "cell_type": "markdown",
   "id": "98f686a5",
   "metadata": {},
   "source": [
    "### 📖9. Based on your previous matrix, select the last value from every row"
   ]
  },
  {
   "cell_type": "code",
   "execution_count": null,
   "id": "5a682e18",
   "metadata": {},
   "outputs": [],
   "source": []
  }
 ],
 "metadata": {
  "kernelspec": {
   "display_name": "Python 3 (ipykernel)",
   "language": "python",
   "name": "python3"
  },
  "language_info": {
   "codemirror_mode": {
    "name": "ipython",
    "version": 3
   },
   "file_extension": ".py",
   "mimetype": "text/x-python",
   "name": "python",
   "nbconvert_exporter": "python",
   "pygments_lexer": "ipython3",
   "version": "3.8.3"
  }
 },
 "nbformat": 4,
 "nbformat_minor": 5
}
