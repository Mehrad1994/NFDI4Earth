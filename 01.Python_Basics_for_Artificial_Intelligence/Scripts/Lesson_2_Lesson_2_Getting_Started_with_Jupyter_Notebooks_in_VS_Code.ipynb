{
 "cells": [
  {
   "cell_type": "markdown",
   "id": "bbaf7fed",
   "metadata": {},
   "source": [
    "<div class=\"alert alert-danger\" role=\"alert\">\n",
    "If you have not yet worked with Jupyter notebooks:\n",
    "\n",
    "[Watch this video](https://youtu.be/cFEE7BmXjwY)"
   ]
  },
  {
   "cell_type": "markdown",
   "id": "8c6a6e19",
   "metadata": {},
   "source": [
    "### 💡How do I use a Jupyter notebook? <a class=\"anchor\" id=\"section_1_1_5\"></a>\n",
    "Both text and code blocks can be inserted in a Jupyter notebook. In a text block/markdown (like this one), explanations, mathematical formulas or images can be inserted to better explain the code.\n",
    "<br>\n",
    "In general, both Markdown and code blocks can be executed by clicking on their cell and then clicking on the Run button.\n",
    "<br>\n",
    "So if a Markdown cell appears as an unformatted text (e.g. because you have accidentally double-clicked on it) you can simply execute it again by clicking on Run (as long as it is currently activated).\n",
    "\n",
    "Code blocks must also be executed so that your written code runs through. You can also simply click on the cell and then click on Run. The keyboard shortcut Shift+Enter does the same thing ;)\n",
    "\n",
    "\n",
    "f you want to access code/variables from an earlier cell in a later cell, the earlier cell must be executed first. Because:\n",
    "<br>\n",
    "As long as a cell is not executed, Python does not know its content!"
   ]
  },
  {
   "cell_type": "markdown",
   "id": "0fa8ea4b",
   "metadata": {},
   "source": [
    "\n",
    "### 📖How do I program in Python? <a class=\"anchor\" id=\"section_1_2\"></a>\n",
    "\n",
    "How do I have Python output a value or a text?"
   ]
  },
  {
   "cell_type": "code",
   "execution_count": null,
   "id": "7335b950",
   "metadata": {},
   "outputs": [
    {
     "name": "stdout",
     "output_type": "stream",
     "text": [
      "Hello world\n",
      "5\n"
     ]
    }
   ],
   "source": [
    "print(\"Hello world\")\n",
    "print(5)"
   ]
  }
 ],
 "metadata": {
  "language_info": {
   "name": "python"
  }
 },
 "nbformat": 4,
 "nbformat_minor": 5
}
