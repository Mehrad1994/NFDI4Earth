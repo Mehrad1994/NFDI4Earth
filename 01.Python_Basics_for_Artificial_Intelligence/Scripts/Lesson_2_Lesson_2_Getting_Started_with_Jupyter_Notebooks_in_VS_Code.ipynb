{
 "cells": [
  {
   "cell_type": "markdown",
   "id": "2c703c0d",
   "metadata": {},
   "source": [
    "### 📖 Lesson 2: Getting Started with Jupyter Notebooks in VS Code"
   ]
  },
  {
   "cell_type": "markdown",
   "id": "20ef2595",
   "metadata": {},
   "source": [
    "This notebook introduces the concepts discussed in the lesson."
   ]
  },
  {
   "cell_type": "code",
   "execution_count": null,
   "id": "fef80764",
   "metadata": {},
   "outputs": [],
   "source": [
    "# Start coding here"
   ]
  }
 ],
 "metadata": {},
 "nbformat": 4,
 "nbformat_minor": 5
}
