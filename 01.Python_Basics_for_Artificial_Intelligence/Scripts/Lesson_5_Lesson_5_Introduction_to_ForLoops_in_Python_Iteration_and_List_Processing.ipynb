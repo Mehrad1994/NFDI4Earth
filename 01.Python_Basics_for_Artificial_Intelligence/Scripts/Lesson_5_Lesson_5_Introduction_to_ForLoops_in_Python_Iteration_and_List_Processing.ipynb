{
 "cells": [
  {
   "cell_type": "markdown",
   "id": "e48c2b7c",
   "metadata": {},
   "source": [
    "<div class=\"alert alert-info\">\n",
    "\n",
    "### 📖Change data type <a class=\"anchor\" id=\"chapter1\"></a>\n",
    "As described in the last notebook, there are various data types (str, int, float etc.). The type can be adjusted between some data types. This is necessary, for example, if user input is entered in an 'incorrect' format.\n",
    "<br>\n",
    "Here is an example:\n",
    "<br>\n",
    "The following cell contains a small program that calculates the year of birth based on the age provided by the user.\n",
    "<br>\n",
    "Execute the following cell. An input field will appear in which you can enter your age. Confirm your entry by pressing 'Enter'.\n",
    "<br>\n",
    "The input field is created by 'input()'. It is important that you understand that the user input is stored in the variable 'user_input'. This variable can therefore be used later to access the entered value."
   ]
  },
  {
   "cell_type": "code",
   "execution_count": null,
   "id": "eb03900f",
   "metadata": {},
   "outputs": [],
   "source": [
    "print('Please set your age:')\n",
    "user_input = input() #creates a field for user-input\n",
    "\n",
    "year_of_birth  = 2022 - user_input #subtracts the provided age from the year 2022\n",
    "print('You were born in: ', year_of_birth)"
   ]
  },
  {
   "cell_type": "markdown",
   "id": "8c17fcc2",
   "metadata": {},
   "source": [
    "<div class=\"alert alert-info\">\n",
    "    \n",
    "You receive an error message that no calculations can be made between the data types int (the year 2022) and str (the user input).\n",
    "<br>\n",
    "The problem is that the input field only returns text (i.e. strings) to the script. Although we write a number in the field, Python understands it as text.\n",
    "<br>\n",
    "So we have to convert the text (which contains our age) into the data type *int*.\n",
    "<br>\n",
    "To convert *str* to *int*:\n",
    "- int(my_text)\n",
    "\n",
    "For converting *str* or an *int* into a *float*:\n",
    "- float(my_text_or_int)\n",
    "\n",
    "For converting an *int* or a *float* into a *str*\n",
    "- str(my_int_or_float)\n",
    "<br>\n",
    "\n",
    "Converting *float* to *int* with the above command (int(my_float)) is not recommended, as this function is not able to round correctly. There are better methods that we will not discuss here (but Google knows everything ;) )\n",
    "    \n",
    "We will now incorporate the knowledge we have just acquired into our little program.\n",
    "<br>\n",
    "We use the function int(my_string) to create an *int* from the string specified by the user. We can then use this to perform calculations."
   ]
  },
  {
   "cell_type": "code",
   "execution_count": null,
   "id": "656bc4b0",
   "metadata": {},
   "outputs": [],
   "source": [
    "print('Please set your age:')\n",
    "user_input = input() #creates a field for user-input\n",
    "\n",
    "year_of_birth  = 2022 - int(user_input) #turn the input string to an int and subtract from year\n",
    "print('You were born in: ', year_of_birth)"
   ]
  },
  {
   "cell_type": "markdown",
   "id": "ac398d4a",
   "metadata": {},
   "source": [
    "<div class=\"alert alert-info\">\n",
    "The conversion from one data type to another also works with the other functions mentioned.\n",
    "<br> In the last notebook, you learned how to query the data type to ensure that the data type adjustment was successful."
   ]
  },
  {
   "cell_type": "code",
   "execution_count": null,
   "id": "d0a09488",
   "metadata": {},
   "outputs": [],
   "source": [
    "turned_to_str = str(10)\n",
    "print(turned_to_str)\n",
    "turned_to_float = float('7.8')\n",
    "print(turned_to_float)"
   ]
  },
  {
   "cell_type": "code",
   "execution_count": null,
   "id": "13eaa52a",
   "metadata": {},
   "outputs": [],
   "source": [
    "#Turn this number into a string and print its datatype:\n",
    "a = 18.4"
   ]
  },
  {
   "cell_type": "markdown",
   "id": "621a9e41",
   "metadata": {},
   "source": [
    "<div class=\"alert alert-success\">   \n",
    "    \n",
    "### 📖f-strings <a class=\"anchor\" id=\"chapter2\"></a>\n",
    "\n",
    "For the naming of files or for meaningful print statements, it is often necessary for different data types to be written together in one text.\n",
    "<br>The problem was explained above.\n",
    "<br>There are many ways to solve this 'problem'.\n",
    "<br>While we can simply string strings together with a '+', this does not work with different data types"
   ]
  },
  {
   "cell_type": "code",
   "execution_count": null,
   "id": "7787b78e",
   "metadata": {},
   "outputs": [],
   "source": [
    "a = 'Hello ' #The space at the end is needed to have a space between the words after putting them together\n",
    "b = 'World'\n",
    "c = a+b\n",
    "print(c)"
   ]
  },
  {
   "cell_type": "code",
   "execution_count": null,
   "id": "06f53c83",
   "metadata": {},
   "outputs": [],
   "source": [
    "a = 'We have the year '\n",
    "b = 2022\n",
    "c = a + b\n",
    "print(c)\n",
    "#This will throw an error"
   ]
  },
  {
   "cell_type": "markdown",
   "id": "28ea5165",
   "metadata": {},
   "source": [
    "<div class=\"alert alert-success\">\n",
    "In principle, we can use the knowledge we have learned above to turn the number into a string:"
   ]
  },
  {
   "cell_type": "code",
   "execution_count": null,
   "id": "385b7eaa",
   "metadata": {},
   "outputs": [],
   "source": [
    "a = 'We have the year '\n",
    "b = 2022\n",
    "c = a + str(b)\n",
    "print(c)"
   ]
  },
  {
   "cell_type": "markdown",
   "id": "9aa5c7b4",
   "metadata": {},
   "source": [
    "<div class=\"alert alert-success\">\n",
    "In principle, it would be possible to combine strings and integers in a print using a comma"
   ]
  },
  {
   "cell_type": "code",
   "execution_count": null,
   "id": "056b507d",
   "metadata": {},
   "outputs": [
    {
     "name": "stdout",
     "output_type": "stream",
     "text": [
      "We have the year  2022\n"
     ]
    }
   ],
   "source": [
    "a = 'We have the year '\n",
    "b = 2022\n",
    "print(a, b)"
   ]
  },
  {
   "cell_type": "markdown",
   "id": "cb88a6ec",
   "metadata": {},
   "source": [
    "<div class=\"alert alert-success\">\n",
    "    \n",
    "A much more efficient way to create a string containing numbers is to use **f-strings**.\n",
    "<br>\n",
    "We simply write an 'f' in front of the quotation marks of the string and set all variables with a different data type to '{ }':"
   ]
  },
  {
   "cell_type": "code",
   "execution_count": null,
   "id": "28968a5c",
   "metadata": {},
   "outputs": [],
   "source": [
    "population = 364628\n",
    "area = 145.4\n",
    "my_f_string = f\"Living in Bochum {population} Inhabitants on an area of {area} km²\"\n",
    "print(my_f_string)"
   ]
  },
  {
   "cell_type": "markdown",
   "id": "ef65422a",
   "metadata": {},
   "source": [
    "<div class=\"alert alert-warning\">\n",
    "    \n",
    "### 📖For Loops <a class=\"anchor\" id=\"chapter3\"></a>\n",
    "Loops are an important part of programming. The For Loop is probably the most important loop and is used for most applications. Other loop types are the While Loop and the Nested Loop (not covered here).\n",
    "<br>\n",
    "A typical For Loop is structured as follows:\n",
    "\n",
    "- **for** i **in** object:\n",
    "    - *Code that should be executed in every loop*\n",
    "  \n",
    "    \n",
    "The **for** in the **in** are fixed expressions. The *i* represents the element that is drawn from the *object* in each repetition. The *i* therefore has a new value each time it is run. The letter *i* is chosen more or less arbitrarily in this case. You could also use any other letter. The *object* is the object to be 'iterated over'. It can be strings, lists or ranges.\n",
    "\n",
    "[If you would like to see a short video explaining the topic of 'For Loops', click here](https://youtu.be/zqqd_pJpZO4)\n",
    "\n",
    "</div>"
   ]
  },
  {
   "cell_type": "code",
   "execution_count": null,
   "id": "44a59b6b",
   "metadata": {},
   "outputs": [],
   "source": [
    "for i in 'RUB':\n",
    "    print(i)"
   ]
  },
  {
   "cell_type": "code",
   "execution_count": null,
   "id": "464bd370",
   "metadata": {},
   "outputs": [],
   "source": [
    "my_list = ['Geomorphology', 'Biogeography', 'Pedology', 'Geomatics']\n",
    "\n",
    "for i in my_list:\n",
    "    print(i)"
   ]
  },
  {
   "cell_type": "markdown",
   "id": "7c8a429a",
   "metadata": {},
   "source": [
    "<div class=\"alert alert-warning\">\n",
    "Calculations can also be made within the loops"
   ]
  },
  {
   "cell_type": "code",
   "execution_count": null,
   "id": "86e9f2f0",
   "metadata": {},
   "outputs": [],
   "source": [
    "ages = [19, 23, 28, 31, 24, 38]\n",
    "for i in ages:\n",
    "    year_of_birth = 2022 - i #Do some calculation\n",
    "    print(f\"Born in {year_of_birth}\") #Use a f-string to print the result\n"
   ]
  }
 ],
 "metadata": {
  "language_info": {
   "name": "python"
  }
 },
 "nbformat": 4,
 "nbformat_minor": 5
}
