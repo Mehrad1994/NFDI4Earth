{
 "cells": [
  {
   "cell_type": "markdown",
   "id": "9c413894",
   "metadata": {},
   "source": [
    "### ✏️Task 1\n",
    "The thermometer of a measuring station has a systematic error of +4.20 °C due to a technical defect.  \n",
    "This should now be removed from all values in the measurement series for evaluation.\n",
    "<br>\n",
    "Use a **for loop** to subtract the measurement error from the values and save the corrected results in a new table."
   ]
  },
  {
   "cell_type": "code",
   "execution_count": null,
   "id": "74faf32b",
   "metadata": {},
   "outputs": [],
   "source": [
    "temps = [19.5, 18.0, 23.0, 26.5, 25.0, 19.5, 21.5, 20.0, 22.0, 23.5, 25.5, 24.0, 22.0, 21.5, 23.5, 21.5, 19.0]"
   ]
  },
  {
   "cell_type": "code",
   "execution_count": null,
   "id": "36973389",
   "metadata": {},
   "outputs": [
    {
     "name": "stdout",
     "output_type": "stream",
     "text": [
      "[15.3, 13.8, 18.8, 22.3, 20.8, 15.3, 17.3, 15.8, 17.8, 19.3, 21.3, 19.8, 17.8, 17.3, 19.3, 17.3, 14.8]\n"
     ]
    }
   ],
   "source": [
    "#Your code\n",
    "temps_corrected = []\n",
    "for i in temps:\n",
    "    temps_corrected.append(i-4.2)\n",
    "\n",
    "print(temps_corrected)"
   ]
  },
  {
   "cell_type": "markdown",
   "id": "1788e750",
   "metadata": {},
   "source": [
    "***\n",
    "### ✏️Task 2\n",
    "The following list shows the minimum, maximum and average temperature (in this order) for each measurement time.\n",
    "<br>\n",
    "A new list is to be created in which only the average temperature is available."
   ]
  },
  {
   "cell_type": "code",
   "execution_count": null,
   "id": "cef4649a",
   "metadata": {},
   "outputs": [],
   "source": [
    "temps = [[16.4, 23.4, 19.9], [17.1, 23.0, 20.1], [21.7, 24.8, 23.2], [18.1, 26.5, 22.3], [16.3, 22.8, 19.6], [14.5, 19.8, 17.1], [18.8, 24.4, 21.6], [17.7, 23.4, 20.5], [16.8, 27.0, 21.9], [19.4, 20.6, 20.0]]"
   ]
  },
  {
   "cell_type": "code",
   "execution_count": null,
   "id": "7f92d4f3",
   "metadata": {},
   "outputs": [
    {
     "name": "stdout",
     "output_type": "stream",
     "text": [
      "[19.9, 20.1, 23.2, 22.3, 19.6, 17.1, 21.6, 20.5, 21.9, 20.0]\n"
     ]
    }
   ],
   "source": [
    "# Your code\n",
    "mean_temp = []\n",
    "\n",
    "for i in temps:\n",
    "    mean_temp.append(i[2])\n",
    "\n",
    "print(mean_temp)"
   ]
  }
 ],
 "metadata": {
  "language_info": {
   "name": "python"
  }
 },
 "nbformat": 4,
 "nbformat_minor": 5
}
