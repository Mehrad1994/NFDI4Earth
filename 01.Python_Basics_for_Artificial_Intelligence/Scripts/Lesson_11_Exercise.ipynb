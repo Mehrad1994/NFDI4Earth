{
 "cells": [
  {
   "cell_type": "markdown",
   "id": "cc497142",
   "metadata": {},
   "source": [
    "### 📖1. Import pandas und NumPy, so you can call them by  an abbreviation"
   ]
  },
  {
   "cell_type": "code",
   "execution_count": null,
   "id": "822ebae9",
   "metadata": {},
   "outputs": [],
   "source": []
  },
  {
   "cell_type": "markdown",
   "id": "d9e38d57",
   "metadata": {},
   "source": [
    "### 📖2. Create a DataFrame that contains the information shown below\n",
    "\n",
    "![image.png](attachment:image.png)"
   ]
  },
  {
   "cell_type": "code",
   "execution_count": null,
   "id": "751ea8d2",
   "metadata": {},
   "outputs": [],
   "source": []
  },
  {
   "cell_type": "markdown",
   "id": "bc7b79b0",
   "metadata": {},
   "source": [
    "### ✏️3. Use the DataFrame from the previous task to calculate a new column with the population density for each city"
   ]
  },
  {
   "cell_type": "code",
   "execution_count": null,
   "id": "6ac9a4e1",
   "metadata": {},
   "outputs": [],
   "source": []
  },
  {
   "cell_type": "markdown",
   "id": "42ec15b9",
   "metadata": {},
   "source": [
    "### 📖4. Load the CSV file  \"Airmeasuringstation-data_EPSG25832_CSV.csv\""
   ]
  },
  {
   "cell_type": "code",
   "execution_count": null,
   "id": "04c189a2",
   "metadata": {},
   "outputs": [],
   "source": []
  },
  {
   "cell_type": "markdown",
   "id": "0ba58161",
   "metadata": {},
   "source": [
    "### 📖5. Replace -9999 by NaN\n",
    "If you open the CSV in Excel, you will notice that there are some measurements with -9999. This NoData value will effect statistical calculations and should be replaced by 'NaN'. Check Google how to solve this issue, or use [this link](https://stackoverflow.com/questions/29247712/how-to-replace-a-value-in-pandas-with-nan) if you do not find any answers.\n",
    "Hint1: It is easier to replace the NoData value for the whole DataFrame\n",
    "Hint2: Store it in a new variable"
   ]
  },
  {
   "cell_type": "code",
   "execution_count": null,
   "id": "26a7bb76",
   "metadata": {},
   "outputs": [],
   "source": []
  }
 ],
 "metadata": {
  "language_info": {
   "name": "python"
  }
 },
 "nbformat": 4,
 "nbformat_minor": 5
}
