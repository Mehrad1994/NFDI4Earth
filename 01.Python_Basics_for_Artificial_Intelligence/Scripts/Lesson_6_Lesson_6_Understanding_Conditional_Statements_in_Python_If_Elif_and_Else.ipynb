{
 "cells": [
  {
   "cell_type": "markdown",
   "id": "a26fe105",
   "metadata": {},
   "source": [
    "### 📖 Lesson 6: Understanding Conditional Statements in Python: If, Elif, and Else"
   ]
  },
  {
   "cell_type": "code",
   "execution_count": null,
   "id": "7ab04ae4",
   "metadata": {},
   "outputs": [],
   "source": [
    "ages = [19, 23, 28, 31, 24, 38]\n",
    "for i in ages:\n",
    "    year_of_birth = 2022 - i #Do some calculation\n",
    "    print(f\"Born in {year_of_birth}\") #Use a f-string to print the result\n"
   ]
  },
  {
   "cell_type": "markdown",
   "id": "63c70d72",
   "metadata": {},
   "source": [
    "<div class=\"alert alert-danger\" role=\"alert\">\n",
    "\n",
    "### 📖Conditions <a class=\"anchor\" id=\"chapter4\"></a>\n",
    "Checking conditions is an elementary part of programming. It is often necessary that a certain code is only executed if a condition applies or does not apply.\n",
    "<br>\n",
    "In Python, conditions are checked with **if** statements.\n",
    "Here are a few examples of which conditions can be set:\n",
    "1. Equals: a == b\n",
    "2. Not Equals: a != b\n",
    "3. Less than: a < b\n",
    "4. Less than or equal to: a <= b\n",
    "5. Greater than: a > b\n",
    "6. Greater than or equal to: a >= b\n",
    "    \n",
    "Such a query only ever returns a **True** or **False** internally, depending on whether the condition is fulfilled or not. If a **True** is returned, the following code is executed in an if condition.\n",
    "    \n",
    "First, let's see that a simple condition (without if) only returns True or False:\n",
    "\n",
    "\n",
    "[If you would like to see a short video explaining the topic of 'Conditions', click here](https://youtu.be/8ypf4bdHJzs)\n"
   ]
  },
  {
   "cell_type": "code",
   "execution_count": null,
   "id": "4cc6aa14",
   "metadata": {},
   "outputs": [],
   "source": [
    "a = 5\n",
    "a>1"
   ]
  },
  {
   "cell_type": "markdown",
   "id": "825ed386",
   "metadata": {},
   "source": [
    "<div class=\"alert alert-danger\" role=\"alert\">\n",
    "Here is a simple example of how we combine a query with an if condition so that code is only executed if the condition is met. Change the numbers behind the variables to see what happens when the proportions are reversed. Also test other operators/conditions."
   ]
  },
  {
   "cell_type": "code",
   "execution_count": null,
   "id": "98f03f52",
   "metadata": {},
   "outputs": [],
   "source": [
    "a = 42\n",
    "b = 32\n",
    "\n",
    "if a > b:\n",
    "    print(\"a is greater than b\") #This code will only be executed if the condition is True"
   ]
  },
  {
   "cell_type": "markdown",
   "id": "c9c61c23",
   "metadata": {},
   "source": [
    "<div class=\"alert alert-danger\" role=\"alert\">\n",
    "\n",
    "This simple condition only covers one case. This means that something only happens if the condition is fulfilled. If you want code to be executed even if the first condition is not fulfilled, you can use **else**. The code behind the **else** is always executed if the condition is not fulfilled."
   ]
  },
  {
   "cell_type": "code",
   "execution_count": null,
   "id": "db219318",
   "metadata": {},
   "outputs": [
    {
     "name": "stdout",
     "output_type": "stream",
     "text": [
      "a is greater than b\n"
     ]
    }
   ],
   "source": [
    "a = 42\n",
    "b = 32\n",
    "\n",
    "if a > b:\n",
    "    print(\"a is greater than b\")\n",
    "else:\n",
    "    print(\"a is not greater than b\")"
   ]
  },
  {
   "cell_type": "markdown",
   "id": "efea026d",
   "metadata": {},
   "source": [
    "<div class=\"alert alert-danger\" role=\"alert\">\n",
    "\n",
    "The **else** allows code to be executed if the upper condition is not met, but other conditions cannot be checked. For example, it is currently possible to check whether one number is greater than the other, but it is not possible to differentiate whether the numbers are the same size.\n",
    "<br>\n",
    "An **elif** makes it possible to specify a further condition if the first/previous condition is not fulfilled."
   ]
  },
  {
   "cell_type": "code",
   "execution_count": null,
   "id": "5878b573",
   "metadata": {},
   "outputs": [],
   "source": [
    "a = 42\n",
    "b = 42\n",
    "\n",
    "if a > b:\n",
    "    print(\"a is greater than b\")\n",
    "elif a == b:\n",
    "    print(\"a is equal to b\")\n",
    "else:\n",
    "    print(\"a is not greater than b\")"
   ]
  },
  {
   "cell_type": "markdown",
   "id": "550f7397",
   "metadata": {},
   "source": [
    "<div class=\"alert alert-danger\" role=\"alert\">\n",
    "    \n",
    "Since if conditions primarily query whether a condition is true, we can also enter **Bools** (i.e. True/False) directly in a condition"
   ]
  },
  {
   "cell_type": "code",
   "execution_count": null,
   "id": "34829364",
   "metadata": {},
   "outputs": [],
   "source": [
    "x = True\n",
    "\n",
    "if x == True:\n",
    "    print(\"Some Code is executed because x is True\")\n",
    "else:\n",
    "    print(\"Some other code is executed because x is False\")"
   ]
  },
  {
   "cell_type": "markdown",
   "id": "ad82eb35",
   "metadata": {},
   "source": [
    "<div class=\"alert alert-danger\" role=\"alert\">\n",
    "We can also write this code a little more compactly if we want to check a bool. It is then sufficient to name the bool directly after the if."
   ]
  },
  {
   "cell_type": "code",
   "execution_count": null,
   "id": "245a15c9",
   "metadata": {},
   "outputs": [],
   "source": [
    "x = True\n",
    "\n",
    "if x:\n",
    "    print(\"Some Code is executed because x is True\")\n",
    "else:\n",
    "    print(\"Some other code is executed because x is False\")"
   ]
  }
 ],
 "metadata": {
  "language_info": {
   "name": "python"
  }
 },
 "nbformat": 4,
 "nbformat_minor": 5
}
