{
 "cells": [
  {
   "cell_type": "markdown",
   "id": "30191094",
   "metadata": {},
   "source": [
    "### 📖 Lesson 4: Understanding Lists in Python: Basics, Indexing, and Slicing"
   ]
  },
  {
   "cell_type": "markdown",
   "id": "580469bf",
   "metadata": {},
   "source": [
    "<div class=\"alert alert-success\">\n",
    "\n",
    "### 📖Lists <a class=\"anchor\" id=\"section_1_2_2\"></a>\n",
    "A list is a sequence of data or object types. You could also see a list as a kind of container in which we can line up or store all kinds of information.\n",
    "\n",
    "A list is defined by using square brackets '[ ]'.\n",
    "<br>\n",
    "We list the information within the brackets and separate it with commas.\n",
    "    \n",
    "[If you would like to see a short video explaining the topic of 'lists', click here](https://youtu.be/-Q1zViP4RbM)\n",
    "</div>"
   ]
  },
  {
   "cell_type": "code",
   "execution_count": null,
   "id": "4e55468c",
   "metadata": {},
   "outputs": [
    {
     "name": "stdout",
     "output_type": "stream",
     "text": [
      "[1, 2, 3, 4, 5]\n"
     ]
    }
   ],
   "source": [
    "number_list = [1, 2, 3, 4, 5]\n",
    "print(number_list)"
   ]
  },
  {
   "cell_type": "markdown",
   "id": "b672e791",
   "metadata": {},
   "source": [
    "<div class=\"alert alert-success\">\n",
    "We can also store text (also called 'string') there\n",
    "</div>"
   ]
  },
  {
   "cell_type": "code",
   "execution_count": null,
   "id": "4eff1164",
   "metadata": {},
   "outputs": [
    {
     "name": "stdout",
     "output_type": "stream",
     "text": [
      "['a', 'b', 'c', 'd']\n"
     ]
    }
   ],
   "source": [
    "string_list  = ['a', 'b', 'c', 'd']\n",
    "print(string_list)"
   ]
  },
  {
   "cell_type": "markdown",
   "id": "e8c30125",
   "metadata": {},
   "source": [
    "<div class=\"alert alert-success\">\n",
    "We can also combine different data types within a list and even create a list within a list\n",
    "</div>"
   ]
  },
  {
   "cell_type": "code",
   "execution_count": null,
   "id": "3f4f05c3",
   "metadata": {},
   "outputs": [
    {
     "name": "stdout",
     "output_type": "stream",
     "text": [
      "[1, 2, 3, [5, 6, 7], 'a', 'b', 'c']\n"
     ]
    }
   ],
   "source": [
    "mixed_list = [1, 2, 3, [5,6,7], 'a', 'b', 'c', ]\n",
    "print(mixed_list)"
   ]
  },
  {
   "cell_type": "markdown",
   "id": "ffa65b40",
   "metadata": {},
   "source": [
    "<div class=\"alert alert-success\">\n",
    "\n",
    "### 📖Add values to a list\n",
    "Entries can also be added to a list at a later date.\n",
    "<br>\n",
    "This can be done with the '.append()' function, for example.\n",
    "<br>\n",
    "The '.append' is preceded by the variable name of the list to which we want to add something. The information to be added follows in brackets.\n",
    "<br>\n",
    "It does not matter whether the previous list is empty or already contains entries.\n",
    "</div>"
   ]
  },
  {
   "cell_type": "code",
   "execution_count": null,
   "id": "64f1234f",
   "metadata": {},
   "outputs": [
    {
     "name": "stdout",
     "output_type": "stream",
     "text": [
      "['Geomorphology', 'Biogeography', 'Pedology', 'Geomatics']\n"
     ]
    }
   ],
   "source": [
    "my_list = ['Geomorphology', 'Biogeography', 'Pedology']\n",
    "my_list.append('Geomatics')\n",
    "print(my_list)"
   ]
  },
  {
   "cell_type": "markdown",
   "id": "43f73a5b",
   "metadata": {},
   "source": [
    "<div class=\"alert alert-success\">\n",
    "If we want to add several elements to the list at once, we can also use the .extend() function. However, the elements to be added must themselves be in a list (so you need '[ ]').\n"
   ]
  },
  {
   "cell_type": "code",
   "execution_count": null,
   "id": "b6a67ab1",
   "metadata": {},
   "outputs": [
    {
     "name": "stdout",
     "output_type": "stream",
     "text": [
      "['Geomorphology', 'Biogeography', 'Pedology', 'Geomatics', 'Human geography', 'Economic geography']\n"
     ]
    }
   ],
   "source": [
    "my_list.extend(['Human geography', 'Economic geography'])\n",
    "print(my_list)"
   ]
  },
  {
   "cell_type": "markdown",
   "id": "854aadee",
   "metadata": {},
   "source": [
    "<div class=\"alert alert-success\">\n",
    "\n",
    "### 📖Query values from a list & list slicing\n",
    "We can also filter entries based on the index of entries or delete content.\n",
    "<br>\n",
    "The index describes the position of an entry in a list.\n",
    "<br>\n",
    "It is important to know that the index of the entries starts at 0. This means that the very first entry in a list has index 0, the second entry has index 1 and so on.\n",
    "<br>\n",
    "This means that the first entry in a list can be selected as follows:\n",
    "</div>"
   ]
  },
  {
   "cell_type": "code",
   "execution_count": null,
   "id": "13e970e8",
   "metadata": {},
   "outputs": [
    {
     "name": "stdout",
     "output_type": "stream",
     "text": [
      "Geomorphology\n"
     ]
    }
   ],
   "source": [
    "first_entry = my_list[0]\n",
    "print(first_entry)"
   ]
  },
  {
   "cell_type": "markdown",
   "id": "e2480318",
   "metadata": {},
   "source": [
    "<div class=\"alert alert-success\">\n",
    "The second entry would then be queried as follows:\n",
    "</div>"
   ]
  },
  {
   "cell_type": "code",
   "execution_count": null,
   "id": "0f2163ff",
   "metadata": {},
   "outputs": [
    {
     "name": "stdout",
     "output_type": "stream",
     "text": [
      "Biogeography\n"
     ]
    }
   ],
   "source": [
    "print(my_list[1])"
   ]
  },
  {
   "cell_type": "markdown",
   "id": "ce0312b1",
   "metadata": {},
   "source": [
    "<div class=\"alert alert-success\">\n",
    "We can also query multiple entries from or up to a specific index.\n",
    "<br>\n",
    "For queries up to a certain index, a ':' is placed in front of the index.\n",
    "<br>\n",
    "The index mentioned is exclusive.\n",
    "</div>"
   ]
  },
  {
   "cell_type": "code",
   "execution_count": null,
   "id": "e1f33030",
   "metadata": {},
   "outputs": [
    {
     "name": "stdout",
     "output_type": "stream",
     "text": [
      "['Geomorphology', 'Biogeography']\n"
     ]
    }
   ],
   "source": [
    "first_entries = my_list[:2]\n",
    "print(first_entries)"
   ]
  },
  {
   "cell_type": "markdown",
   "id": "f99997aa",
   "metadata": {},
   "source": [
    "<div class=\"alert alert-success\">\n",
    "Entries above a certain index are queried for the index with the help of a ':'.\n",
    "<br>\n",
    "The specified index is included.\n",
    "</div>"
   ]
  },
  {
   "cell_type": "code",
   "execution_count": null,
   "id": "1b34a3c0",
   "metadata": {},
   "outputs": [
    {
     "name": "stdout",
     "output_type": "stream",
     "text": [
      "['Pedology', 'Geomatics', 'Human geography', 'Economic geography']\n"
     ]
    }
   ],
   "source": [
    "last_entries = my_list[2:]\n",
    "print(last_entries)"
   ]
  },
  {
   "cell_type": "markdown",
   "id": "42c5348b",
   "metadata": {},
   "source": [
    "<div class=\"alert alert-success\">\n",
    "Selecting values between two indices (the first index is inclusive, the second exclusive):\n",
    "</div>"
   ]
  },
  {
   "cell_type": "code",
   "execution_count": null,
   "id": "6bd93ccf",
   "metadata": {},
   "outputs": [
    {
     "name": "stdout",
     "output_type": "stream",
     "text": [
      "['Biogeography', 'Pedology']\n"
     ]
    }
   ],
   "source": [
    "selection = my_list[1:3]\n",
    "print(selection)"
   ]
  },
  {
   "cell_type": "markdown",
   "id": "b9cd1e4e",
   "metadata": {},
   "source": [
    "<div class=\"alert alert-success\">\n",
    "The length of a list is often unknown, but the last value is required.\n",
    "<br>\n",
    "To query the last value of a list, the index '-1' can be queried\n",
    "</div>"
   ]
  },
  {
   "cell_type": "code",
   "execution_count": null,
   "id": "b7e8efc9",
   "metadata": {},
   "outputs": [
    {
     "name": "stdout",
     "output_type": "stream",
     "text": [
      "Economic geography\n"
     ]
    }
   ],
   "source": [
    "last_entry = my_list[-1]\n",
    "print(last_entry)"
   ]
  },
  {
   "cell_type": "markdown",
   "id": "8de2d743",
   "metadata": {},
   "source": [
    "<div class=\"alert alert-success\">\n",
    "As already mentioned, lists can also be nested. A list can therefore be contained in a list. Any number of lists can be nested within one another.\n",
    "<br>\n",
    "In the course, we will have to retrieve certain information from nested sequences."
   ]
  },
  {
   "cell_type": "code",
   "execution_count": null,
   "id": "510cb3e3",
   "metadata": {},
   "outputs": [
    {
     "name": "stdout",
     "output_type": "stream",
     "text": [
      "The content of index 1 is:  [4, 5, 6]\n",
      "The third element of the selected list is:  6\n"
     ]
    }
   ],
   "source": [
    "nested_list = [\n",
    "    [1,2,3], #The first list in our list (with the index 0)\n",
    "    [4,5,6], #The second list in our list (with the index 1)\n",
    "    [7,8,9]  #The third list in our list (with the index 2)\n",
    "]\n",
    "\n",
    "#Let us grab the second list from our overall list. Remember that we can call the second entry by its index.\n",
    "second_entry = nested_list[1]\n",
    "print('The content of index 1 is: ', second_entry)\n",
    "\n",
    "#Now we want to grab the third element of the nested list:\n",
    "third_element = second_entry[2]\n",
    "print('The third element of the selected list is: ', third_element)"
   ]
  },
  {
   "cell_type": "markdown",
   "id": "cdbe4605",
   "metadata": {},
   "source": [
    "<div class=\"alert alert-success\">\n",
    "However, we can also make this query directly in one line of code\n",
    "<br>    The syntax can then look like this:\n",
    "<br>    nested_list [Index of the first level] [Index of the second level]"
   ]
  },
  {
   "cell_type": "code",
   "execution_count": null,
   "id": "b6035cf7",
   "metadata": {},
   "outputs": [
    {
     "name": "stdout",
     "output_type": "stream",
     "text": [
      "6\n"
     ]
    }
   ],
   "source": [
    "selected_element = nested_list[1][2]\n",
    "print(selected_element)"
   ]
  },
  {
   "cell_type": "markdown",
   "id": "26c09452",
   "metadata": {},
   "source": [
    "<div class=\"alert alert-success\">\n",
    "    \n",
    "Further information and examples on list slicing can be found, for example [here](https://www.programiz.com/python-programming/examples/list-slicing)\n",
    "</div>"
   ]
  },
  {
   "cell_type": "markdown",
   "id": "f0e572ab",
   "metadata": {},
   "source": [
    "<div class=\"alert alert-warning\">\n",
    "\n",
    "### 📖Tuples <a class=\"anchor\" id=\"section_1_2_3\"></a>\n",
    "Tuples are very similar to lists. They also store a collection of information, but you cannot change a tuple afterwards.\n",
    "<br>\n",
    "You can therefore neither add nor delete information.\n",
    "<br>\n",
    "Tuples are created by lining up information within '( )'\n",
    "    </div>"
   ]
  },
  {
   "cell_type": "code",
   "execution_count": null,
   "id": "c9836c00",
   "metadata": {},
   "outputs": [
    {
     "name": "stdout",
     "output_type": "stream",
     "text": [
      "('Geomorphology', 'Biogeography', 'Pedology', 'Geomatics')\n"
     ]
    }
   ],
   "source": [
    "my_tuple = ('Geomorphology', 'Biogeography', 'Pedology', 'Geomatics')\n",
    "print(my_tuple)"
   ]
  },
  {
   "cell_type": "markdown",
   "id": "b4514b90",
   "metadata": {},
   "source": [
    "<div class=\"alert alert-warning\">\n",
    "If we try to add a value to a tuple or delete a value, we receive an error message\n",
    "    </div>"
   ]
  },
  {
   "cell_type": "code",
   "execution_count": null,
   "id": "ab8102cd",
   "metadata": {},
   "outputs": [
    {
     "ename": "AttributeError",
     "evalue": "'tuple' object has no attribute 'append'",
     "output_type": "error",
     "traceback": [
      "\u001b[31m---------------------------------------------------------------------------\u001b[39m\n",
      "\u001b[31mAttributeError\u001b[39m                            Traceback (most recent call last)\n",
      "\u001b[36mCell\u001b[39m\u001b[36m \u001b[39m\u001b[32mIn[5]\u001b[39m\u001b[32m, line 1\u001b[39m\n",
      "\u001b[32m----> \u001b[39m\u001b[32m1\u001b[39m \u001b[43mmy_tuple\u001b[49m\u001b[43m.\u001b[49m\u001b[43mappend\u001b[49m(\u001b[33m'\u001b[39m\u001b[33mMaths\u001b[39m\u001b[33m'\u001b[39m)\n",
      "\n",
      "\u001b[31mAttributeError\u001b[39m: 'tuple' object has no attribute 'append'"
     ]
    }
   ],
   "source": [
    "my_tuple.append('Maths')"
   ]
  },
  {
   "cell_type": "markdown",
   "id": "6246955c",
   "metadata": {},
   "source": [
    "<div class=\"alert alert-warning\">\n",
    "Querying (or slicing) values works in the same way as with lists\n",
    "    </div>"
   ]
  },
  {
   "cell_type": "code",
   "execution_count": null,
   "id": "c2217439",
   "metadata": {},
   "outputs": [
    {
     "name": "stdout",
     "output_type": "stream",
     "text": [
      "Geomorphology\n",
      "Geomatics\n",
      "('Geomorphology', 'Biogeography')\n"
     ]
    }
   ],
   "source": [
    "print(my_tuple[0])\n",
    "print(my_tuple[-1])\n",
    "print(my_tuple[:2])"
   ]
  },
  {
   "cell_type": "markdown",
   "id": "ed4e3c18",
   "metadata": {},
   "source": [
    "<div class=\"alert alert-danger\" role=\"alert\">\n",
    "\n",
    "### 📖Range <a class=\"anchor\" id=\"section_1_2_4\"></a>\n",
    "The range function in Python creates a sequence of numbers\n",
    "    \n",
    "    \n",
    "Syntax: range(start, stop, step)\n",
    "<br>- start inclusive\n",
    "<br>- stop exclusive\n",
    "<br>\n",
    "We can use the range function, for example, to define the number of repetitions that are carried out when executing a process."
   ]
  },
  {
   "cell_type": "code",
   "execution_count": null,
   "id": "6473024c",
   "metadata": {},
   "outputs": [
    {
     "name": "stdout",
     "output_type": "stream",
     "text": [
      "range(0, 5)\n"
     ]
    }
   ],
   "source": [
    "my_range = range(0, 5, 1)\n",
    "print(my_range)"
   ]
  },
  {
   "cell_type": "markdown",
   "id": "220d0c63",
   "metadata": {},
   "source": [
    "<div class=\"alert alert-danger\" role=\"alert\">\n",
    "If you only need a sequence that starts at zero and goes with a 'step' from 1 to a certain number, you can also simply enter the number to be reached as a single parameter."
   ]
  },
  {
   "cell_type": "code",
   "execution_count": null,
   "id": "540f1c10",
   "metadata": {},
   "outputs": [
    {
     "name": "stdout",
     "output_type": "stream",
     "text": [
      "range(0, 5)\n"
     ]
    }
   ],
   "source": [
    "my_range = range(5)\n",
    "print(my_range)"
   ]
  },
  {
   "cell_type": "markdown",
   "id": "9ab4f194",
   "metadata": {},
   "source": [
    "<div class=\"alert alert-info\">\n",
    "\n",
    "### 📖Dictionaries <a class=\"anchor\" id=\"section_1_2_5\"></a>\n",
    "Dictionaries offer the possibility of storing several pieces of information within a variable and storing them with a keyword.\n",
    "<br>\n",
    "You can search for this keyword to obtain the stored information.\n",
    "<br>\n",
    "A dictionary therefore works in exactly the same way as a dictionary, in which you search for a word to obtain a translation or a definition, for example.\n",
    "<br>\n",
    "In a Python dictionary, however, the information stored for a keyword can represent any data type.\n",
    "<br>\n",
    "Individual words, whole sentences, numbers, lists, tuples or even another dictionary can be placed behind a keyword.\n",
    "\n",
    "\n",
    "A dictionary is created with '{ }'. An entry in a dictionary consists of the key and an associated value. The key and its value are separated by a ':'.\n",
    "<br>\n",
    "If several entries are stored in a dictionary, they are separated by commas.\n",
    "    </div>"
   ]
  },
  {
   "cell_type": "code",
   "execution_count": null,
   "id": "aa29130f",
   "metadata": {},
   "outputs": [],
   "source": [
    "my_dict = {\n",
    "    'France': 'Paris',\n",
    "    'Belgium': 'Brussels',\n",
    "    'Germany': 'Berlin',\n",
    "    'Denmark': 'Copenhagen'\n",
    "}"
   ]
  },
  {
   "cell_type": "markdown",
   "id": "9e4ba1e6",
   "metadata": {},
   "source": [
    "<div class=\"alert alert-info\">\n",
    "To obtain a value based on a key, we query the key in the dictionary:"
   ]
  },
  {
   "cell_type": "code",
   "execution_count": null,
   "id": "2ea85a2b",
   "metadata": {},
   "outputs": [
    {
     "name": "stdout",
     "output_type": "stream",
     "text": [
      "Brussels\n"
     ]
    }
   ],
   "source": [
    "print(my_dict['Belgium'])"
   ]
  },
  {
   "cell_type": "markdown",
   "id": "788273e1",
   "metadata": {},
   "source": [
    "<div class=\"alert alert-info\">\n",
    "To add an entry, we inform the dictionary of the new key and the corresponding value:"
   ]
  },
  {
   "cell_type": "code",
   "execution_count": null,
   "id": "41271c6b",
   "metadata": {},
   "outputs": [
    {
     "name": "stdout",
     "output_type": "stream",
     "text": [
      "{'France': 'Paris', 'Belgium': 'Brussels', 'Germany': 'Berlin', 'Denmark': 'Copenhagen', 'Austria': 'Vienna'}\n"
     ]
    }
   ],
   "source": [
    "my_dict['Austria'] = 'Vienna'\n",
    "print(my_dict)"
   ]
  },
  {
   "cell_type": "markdown",
   "id": "648c2d62",
   "metadata": {},
   "source": [
    "<div class=\"alert alert-info\">\n",
    "Dictionaries can also contain any other data type as values:"
   ]
  },
  {
   "cell_type": "code",
   "execution_count": null,
   "id": "39100120",
   "metadata": {},
   "outputs": [],
   "source": [
    "new_dict = {\n",
    "    'Name': 'Max', #Strings\n",
    "    'Age': 23, #Numbers\n",
    "    'Hobbies': ['Swimming', 'Travel to Sylt with the €9 ticket', 'Dancing'], #Lists\n",
    "    'Education': {\n",
    "        'Academic': 'B.Sc.',\n",
    "        'Professional': 'Commercial employee'\n",
    "    } #A dictionary within the dictionary\n",
    "}"
   ]
  },
  {
   "cell_type": "markdown",
   "id": "84ccf9c5",
   "metadata": {},
   "source": [
    "<div class=\"alert alert-info\">\n",
    "As the complexity of the dictionary increases, so does the difficulty of querying a value.\n",
    "For example, if we want to query the first hobby mentioned, we have to take several steps to retrieve the information.\n",
    "    <br>\n",
    "    Let's first select the entry for the hobbies:"
   ]
  },
  {
   "cell_type": "code",
   "execution_count": null,
   "id": "35f5123e",
   "metadata": {},
   "outputs": [
    {
     "name": "stdout",
     "output_type": "stream",
     "text": [
      "['Swimming', 'Travel to Sylt with the €9 ticket', 'Dancing']\n"
     ]
    }
   ],
   "source": [
    "hobbies = new_dict['Hobbies']\n",
    "print(hobbies)"
   ]
  },
  {
   "cell_type": "markdown",
   "id": "4a63040c",
   "metadata": {},
   "source": [
    "<div class=\"alert alert-info\">\n",
    "    We can now see that this is obviously a list.\n",
    "    <br>\n",
    "    If we remember how we perform queries in lists, we can now select the first entry from the list"
   ]
  },
  {
   "cell_type": "code",
   "execution_count": null,
   "id": "9d53a007",
   "metadata": {},
   "outputs": [
    {
     "name": "stdout",
     "output_type": "stream",
     "text": [
      "Swimming\n"
     ]
    }
   ],
   "source": [
    "first_hobby = hobbies[0]\n",
    "print(first_hobby)"
   ]
  },
  {
   "cell_type": "markdown",
   "id": "3681b514",
   "metadata": {},
   "source": [
    "<div class=\"alert alert-info\">\n",
    "To shorten this selection process, we can also link the steps directly together:"
   ]
  },
  {
   "cell_type": "code",
   "execution_count": null,
   "id": "fe1093d7",
   "metadata": {},
   "outputs": [
    {
     "name": "stdout",
     "output_type": "stream",
     "text": [
      "Swimming\n"
     ]
    }
   ],
   "source": [
    "fast_selection = new_dict['Hobbies'][0]\n",
    "print(fast_selection)"
   ]
  },
  {
   "cell_type": "markdown",
   "id": "c4159ab9",
   "metadata": {},
   "source": [
    "<div class=\"alert alert-info\">\n",
    "\n",
    "Further information and examples of dictionaries can be found [here](https://www.w3schools.com/python/python_dictionaries.asp)"
   ]
  },
  {
   "cell_type": "markdown",
   "id": "2702258b",
   "metadata": {},
   "source": [
    "<div class=\"alert alert-success\" role=\"alert\">\n",
    "\n",
    "### 📖Query data types <a class=\"anchor\" id=\"section_1_2_6\"></a>\n",
    "In programming, it is important to know which data type a variable has.\n",
    "We have learned about several data types so far. The most important data types are:\n",
    "  **Text**: _str_ (String)\n",
    " - **Numbers**: _int_ (integers), _float_ (decimals), _complex_ (complex numbers with a real and imaginary part)\n",
    " - **Sequences**: _list_, _tuple_, _range_\n",
    " - **Dictionaries**: _dict_\n",
    " - **Boolean**: _bool_\n",
    "\n",
    "As we cannot use every command for every data type, it is important to know which data types you are working with.   <br>\n",
    "To find out the data type of a variable, you can use the type() function to display the type.\n",
    "</div>"
   ]
  },
  {
   "cell_type": "code",
   "execution_count": null,
   "id": "6cb741d9",
   "metadata": {},
   "outputs": [
    {
     "name": "stdout",
     "output_type": "stream",
     "text": [
      "<class 'str'>\n",
      "<class 'int'>\n",
      "<class 'float'>\n",
      "<class 'list'>\n",
      "<class 'tuple'>\n",
      "<class 'range'>\n",
      "<class 'dict'>\n",
      "<class 'bool'>\n"
     ]
    }
   ],
   "source": [
    "string = 'This is a String'\n",
    "print(type(string))\n",
    "\n",
    "integer = 5\n",
    "print(type(integer))\n",
    "\n",
    "floating = 5.2\n",
    "print(type(floating))\n",
    "\n",
    "lists = [2, 3, 4, 5]\n",
    "print(type(lists))\n",
    "\n",
    "tuples = (2, 3, 4, 5)\n",
    "print(type(tuples))\n",
    "\n",
    "ranges = range(3, 10, 1)\n",
    "print(type(ranges))\n",
    "\n",
    "dictionary = {'France': 'Paris', 'Belgium': 'Brussels', 'Germany': 'Berlin'}\n",
    "print(type(dictionary))\n",
    "\n",
    "boolean = True #Could also be False\n",
    "print(type(boolean))"
   ]
  },
  {
   "cell_type": "markdown",
   "id": "18bd307f",
   "metadata": {},
   "source": [
    "<div class=\"alert alert-success\" role=\"alert\">\n",
    "\n",
    "Further information can be found [here](https://www.w3schools.com/python/python_datatypes.asp)"
   ]
  },
  {
   "cell_type": "markdown",
   "id": "a2a55f53",
   "metadata": {},
   "source": [
    "### 📖Link collection <a class=\"anchor\" id=\"chapter2\"></a>\n",
    "\n",
    "1. Youtube videos for getting started with Python [link1](https://www.youtube.com/watch?v=362fjQdpFlc), [link2](https://www.youtube.com/watch?v=kqtD5dpn9C8)\n",
    "2. List Slicing [link](https://www.programiz.com/python-programming/examples/list-slicing)\n",
    "3. Dictionaries [link](https://www.w3schools.com/python/python_dictionaries.asp)"
   ]
  }
 ],
 "metadata": {
  "language_info": {
   "name": "python"
  }
 },
 "nbformat": 4,
 "nbformat_minor": 5
}
