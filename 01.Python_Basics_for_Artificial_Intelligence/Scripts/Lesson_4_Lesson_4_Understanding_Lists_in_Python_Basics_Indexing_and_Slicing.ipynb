{
 "cells": [
  {
   "cell_type": "markdown",
   "id": "30191094",
   "metadata": {},
   "source": [
    "### 📖 Lesson 4: Understanding Lists in Python: Basics, Indexing, and Slicing"
   ]
  },
  {
   "cell_type": "markdown",
   "id": "377983af",
   "metadata": {},
   "source": [
    "This notebook introduces the concepts discussed in the lesson."
   ]
  },
  {
   "cell_type": "code",
   "execution_count": null,
   "id": "ea01161a",
   "metadata": {},
   "outputs": [],
   "source": [
    "# Start coding here"
   ]
  }
 ],
 "metadata": {},
 "nbformat": 4,
 "nbformat_minor": 5
}
