{
 "cells": [
  {
   "cell_type": "markdown",
   "id": "7e281c4a",
   "metadata": {},
   "source": [
    "### 📖Numpy\n",
    "\"NumPy is a library for the Python programming language, adding support for large, multi-dimensional arrays and matrices, along with a large collection of high-level mathematical functions to operate on these arrays.\" [Wikipedia](https://en.wikipedia.org/wiki/NumPy)\n",
    "\n",
    "Numpy can efficiently handle arrays (a n-dimensional dataseries of values) and do calculations with them."
   ]
  },
  {
   "cell_type": "code",
   "execution_count": null,
   "id": "45d52175",
   "metadata": {},
   "outputs": [],
   "source": [
    "#Before we can use numpy, we have to import numpy\n",
    "import numpy as np"
   ]
  },
  {
   "cell_type": "markdown",
   "id": "feb3a3dd",
   "metadata": {},
   "source": [
    "***\n",
    "### 📖List to array"
   ]
  },
  {
   "cell_type": "code",
   "execution_count": null,
   "id": "3d128d39",
   "metadata": {},
   "outputs": [
    {
     "data": {
      "text/plain": [
       "list"
      ]
     },
     "metadata": {},
     "output_type": "display_data"
    }
   ],
   "source": [
    "#A simple Numpy arrray is similar to a Python List. It is a sequence of Data.\n",
    "#Therefore we can create an array from a list\n",
    "mylist = [1,2,3]\n",
    "type(mylist) #Check the type"
   ]
  },
  {
   "cell_type": "code",
   "execution_count": null,
   "id": "f66820a5",
   "metadata": {},
   "outputs": [
    {
     "data": {
      "text/plain": [
       "array([1, 2, 3])"
      ]
     },
     "metadata": {},
     "output_type": "display_data"
    }
   ],
   "source": [
    "#Turn list to an arrray\n",
    "np.array(mylist)"
   ]
  },
  {
   "cell_type": "code",
   "execution_count": null,
   "id": "fd57b638",
   "metadata": {},
   "outputs": [
    {
     "data": {
      "text/plain": [
       "numpy.ndarray"
      ]
     },
     "metadata": {},
     "output_type": "display_data"
    }
   ],
   "source": [
    "#However, if we want to change the list to an arrray permanently, we have to assign it to a new variable\n",
    "myarr = np.array(mylist)\n",
    "type(myarr)"
   ]
  },
  {
   "cell_type": "markdown",
   "id": "7e343591",
   "metadata": {},
   "source": [
    "\n",
    "### 📖Transform a nested list into a two-dimensional numpy array"
   ]
  },
  {
   "cell_type": "code",
   "execution_count": null,
   "id": "7df52926",
   "metadata": {},
   "outputs": [
    {
     "data": {
      "text/plain": [
       "[[1, 2, 3], [4, 5, 6], [7, 8, 9]]"
      ]
     },
     "metadata": {},
     "output_type": "display_data"
    }
   ],
   "source": [
    "mylist = [[1,2,3], [4,5,6], [7,8,9]]\n",
    "mylist"
   ]
  },
  {
   "cell_type": "code",
   "execution_count": null,
   "id": "5b215a55",
   "metadata": {},
   "outputs": [
    {
     "data": {
      "text/plain": [
       "array([[1, 2, 3],\n",
       "       [4, 5, 6],\n",
       "       [7, 8, 9]])"
      ]
     },
     "metadata": {},
     "output_type": "display_data"
    }
   ],
   "source": [
    "mymatrix = np.array(mylist)\n",
    "mymatrix"
   ]
  },
  {
   "cell_type": "markdown",
   "id": "cc417df3",
   "metadata": {},
   "source": [
    "This is called a 2D array, as it has a X and a Y  axis. They are also refered to as rows and columns"
   ]
  },
  {
   "cell_type": "code",
   "execution_count": null,
   "id": "e59ad795",
   "metadata": {},
   "outputs": [
    {
     "data": {
      "text/plain": [
       "(3, 3)"
      ]
     },
     "metadata": {},
     "output_type": "display_data"
    }
   ],
   "source": [
    "mymatrix.shape"
   ]
  },
  {
   "cell_type": "markdown",
   "id": "0040f735",
   "metadata": {},
   "source": [
    "The shape shows that it is a 3x3 matrix"
   ]
  },
  {
   "cell_type": "markdown",
   "id": "497601ae",
   "metadata": {},
   "source": [
    "***\n",
    "### 📖Numpy buit in methods"
   ]
  },
  {
   "cell_type": "markdown",
   "id": "99792371",
   "metadata": {},
   "source": [
    "### 📖np.arange\n",
    "Creates an array of numberst between a start- (inclusive) and a stop value (exclusive) using a defined step (default is 1)"
   ]
  },
  {
   "cell_type": "code",
   "execution_count": null,
   "id": "d820cc25",
   "metadata": {},
   "outputs": [
    {
     "data": {
      "text/plain": [
       "array([ 0,  2,  4,  6,  8, 10])"
      ]
     },
     "metadata": {},
     "output_type": "display_data"
    }
   ],
   "source": [
    "np.arange(0, 11, 2)"
   ]
  },
  {
   "cell_type": "markdown",
   "id": "d3cf0647",
   "metadata": {},
   "source": [
    "### 📖np.ones\n",
    "creates an array of ones (type: float) with a user-defined length"
   ]
  },
  {
   "cell_type": "code",
   "execution_count": null,
   "id": "05b6164a",
   "metadata": {},
   "outputs": [
    {
     "data": {
      "text/plain": [
       "array([1., 1., 1., 1., 1.])"
      ]
     },
     "metadata": {},
     "output_type": "display_data"
    }
   ],
   "source": [
    "np.ones(5)"
   ]
  },
  {
   "cell_type": "markdown",
   "id": "aa52511b",
   "metadata": {},
   "source": [
    "you can specify the shape of the array by providing a tuple with the desired shape"
   ]
  },
  {
   "cell_type": "code",
   "execution_count": null,
   "id": "8d8cd16e",
   "metadata": {},
   "outputs": [
    {
     "data": {
      "text/plain": [
       "array([[1., 1., 1., 1., 1.],\n",
       "       [1., 1., 1., 1., 1.],\n",
       "       [1., 1., 1., 1., 1.]])"
      ]
     },
     "metadata": {},
     "output_type": "display_data"
    }
   ],
   "source": [
    "np.ones((3, 5)) #This one will have 3 rows and 5 columns"
   ]
  },
  {
   "cell_type": "markdown",
   "id": "492fb8fe",
   "metadata": {},
   "source": [
    "### 📖np.zeros\n",
    "creates an array of zeros (type: float) with a user-defined length"
   ]
  },
  {
   "cell_type": "code",
   "execution_count": null,
   "id": "37bc6c62",
   "metadata": {},
   "outputs": [
    {
     "data": {
      "text/plain": [
       "array([0., 0., 0., 0., 0., 0., 0., 0., 0., 0., 0., 0., 0., 0., 0.])"
      ]
     },
     "metadata": {},
     "output_type": "display_data"
    }
   ],
   "source": [
    "np.zeros(15)"
   ]
  },
  {
   "cell_type": "markdown",
   "id": "78d6e371",
   "metadata": {},
   "source": [
    "you can specify the shape of the array by providing a tuple with the desired shape"
   ]
  },
  {
   "cell_type": "code",
   "execution_count": null,
   "id": "e8133396",
   "metadata": {},
   "outputs": [
    {
     "data": {
      "text/plain": [
       "array([[0., 0., 0., 0., 0., 0., 0., 0., 0., 0.],\n",
       "       [0., 0., 0., 0., 0., 0., 0., 0., 0., 0.],\n",
       "       [0., 0., 0., 0., 0., 0., 0., 0., 0., 0.],\n",
       "       [0., 0., 0., 0., 0., 0., 0., 0., 0., 0.],\n",
       "       [0., 0., 0., 0., 0., 0., 0., 0., 0., 0.],\n",
       "       [0., 0., 0., 0., 0., 0., 0., 0., 0., 0.],\n",
       "       [0., 0., 0., 0., 0., 0., 0., 0., 0., 0.],\n",
       "       [0., 0., 0., 0., 0., 0., 0., 0., 0., 0.]])"
      ]
     },
     "metadata": {},
     "output_type": "display_data"
    }
   ],
   "source": [
    "np.zeros((8, 10)) #This one will have 8 rows and 10 columns"
   ]
  },
  {
   "cell_type": "markdown",
   "id": "4df72326",
   "metadata": {},
   "source": [
    "### 📖Broadcasting operations to every value in matrices\n",
    "In numpy you can do all kinds of operations with arrays. For example, you can simply add a value to each element. This is not possible within normal Python lists"
   ]
  },
  {
   "cell_type": "code",
   "execution_count": null,
   "id": "ad02baa5",
   "metadata": {},
   "outputs": [
    {
     "data": {
      "text/plain": [
       "array([[7., 7., 7., 7., 7., 7.],\n",
       "       [7., 7., 7., 7., 7., 7.],\n",
       "       [7., 7., 7., 7., 7., 7.],\n",
       "       [7., 7., 7., 7., 7., 7.]])"
      ]
     },
     "metadata": {},
     "output_type": "display_data"
    }
   ],
   "source": [
    "np.ones((4, 6)) + 6 #A 6 will be added to every element"
   ]
  },
  {
   "cell_type": "code",
   "execution_count": null,
   "id": "6f225fcd",
   "metadata": {},
   "outputs": [
    {
     "data": {
      "text/plain": [
       "array([100., 100., 100., 100., 100., 100., 100., 100., 100., 100.])"
      ]
     },
     "metadata": {},
     "output_type": "display_data"
    }
   ],
   "source": [
    "np.ones(10) * 100"
   ]
  },
  {
   "cell_type": "markdown",
   "id": "6dc9c201",
   "metadata": {},
   "source": [
    "### 📖np.linspace\n",
    "Creates an array with linearly spaced numbers. Needs a startvalue, stopvalue and the number of values that should be linearly spaced between start- and stop value.\n",
    "Different to np.arrange it can also generate float values and its start and stop values are both inclusive"
   ]
  },
  {
   "cell_type": "code",
   "execution_count": null,
   "id": "6b81692f",
   "metadata": {},
   "outputs": [
    {
     "data": {
      "text/plain": [
       "array([ 0.,  5., 10.])"
      ]
     },
     "metadata": {},
     "output_type": "display_data"
    }
   ],
   "source": [
    "np.linspace(0 , 10, 3)"
   ]
  },
  {
   "cell_type": "code",
   "execution_count": null,
   "id": "4c4e7214",
   "metadata": {},
   "outputs": [
    {
     "data": {
      "text/plain": [
       "array([0.        , 0.05263158, 0.10526316, 0.15789474, 0.21052632,\n",
       "       0.26315789, 0.31578947, 0.36842105, 0.42105263, 0.47368421,\n",
       "       0.52631579, 0.57894737, 0.63157895, 0.68421053, 0.73684211,\n",
       "       0.78947368, 0.84210526, 0.89473684, 0.94736842, 1.        ])"
      ]
     },
     "metadata": {},
     "output_type": "display_data"
    }
   ],
   "source": [
    "np.linspace(0 , 1, 20)"
   ]
  },
  {
   "cell_type": "markdown",
   "id": "669f9e49",
   "metadata": {},
   "source": [
    "### 📖np.random.rand\n",
    "Creates random samples of a uniform distribution between 0 and 1 (every value between 0 and 1 has the same probability of getting chosen)"
   ]
  },
  {
   "cell_type": "code",
   "execution_count": null,
   "id": "44f90d43",
   "metadata": {},
   "outputs": [
    {
     "data": {
      "text/plain": [
       "array([0.3632668 , 0.13023271, 0.52157785])"
      ]
     },
     "metadata": {},
     "output_type": "display_data"
    }
   ],
   "source": [
    "np.random.rand(3)"
   ]
  },
  {
   "cell_type": "code",
   "execution_count": null,
   "id": "0ad33efe",
   "metadata": {},
   "outputs": [
    {
     "data": {
      "text/plain": [
       "array([[0.36612915, 0.87792682, 0.05203252, 0.02764891, 0.31170575],\n",
       "       [0.68932229, 0.79134956, 0.01812732, 0.58447655, 0.95384179],\n",
       "       [0.79142992, 0.28532116, 0.03583618, 0.05431546, 0.3663545 ],\n",
       "       [0.39108946, 0.52651586, 0.84537835, 0.12563322, 0.26668021],\n",
       "       [0.56569679, 0.52006251, 0.26980199, 0.80459768, 0.15316512]])"
      ]
     },
     "metadata": {},
     "output_type": "display_data"
    }
   ],
   "source": [
    "np.random.rand(5, 5)"
   ]
  },
  {
   "cell_type": "markdown",
   "id": "48247a4d",
   "metadata": {},
   "source": [
    "### 📖np.random.randn\n",
    "Creates samples from the standard normal distribution (mean = 0, stdv =1)"
   ]
  },
  {
   "cell_type": "code",
   "execution_count": null,
   "id": "5cb56dde",
   "metadata": {},
   "outputs": [
    {
     "data": {
      "text/plain": [
       "array([-0.2197954 ,  0.59107236,  0.17937833,  1.87462908, -0.12288244,\n",
       "        0.93291376,  0.06278072, -1.60037817,  0.86758024, -0.64914352])"
      ]
     },
     "metadata": {},
     "output_type": "display_data"
    }
   ],
   "source": [
    "np.random.randn(10)\n",
    "#if you want to create your own standard distribution with a mean and a stdv, use np.random.normal"
   ]
  },
  {
   "cell_type": "markdown",
   "id": "96c356f7",
   "metadata": {},
   "source": [
    "### 📖np.random.randint\n",
    "Creates random integers between a low (inclusive) and a high value (exclusive) and a specific size"
   ]
  },
  {
   "cell_type": "code",
   "execution_count": null,
   "id": "54dd0460",
   "metadata": {},
   "outputs": [
    {
     "data": {
      "text/plain": [
       "17"
      ]
     },
     "metadata": {},
     "output_type": "display_data"
    }
   ],
   "source": [
    "np.random.randint(1, 100)"
   ]
  },
  {
   "cell_type": "code",
   "execution_count": null,
   "id": "5e9d12aa",
   "metadata": {},
   "outputs": [
    {
     "data": {
      "text/plain": [
       "array([52,  4, 32, 98, 89, 47, 26, 49, 26, 39])"
      ]
     },
     "metadata": {},
     "output_type": "display_data"
    }
   ],
   "source": [
    "#You can additionally specify the size/shape\n",
    "np.random.randint(1, 100, 10)"
   ]
  },
  {
   "cell_type": "markdown",
   "id": "e2dafa87",
   "metadata": {},
   "source": [
    "### 📖np.reshape\n",
    "Changes the dimensions/shape of an array to the desired format. Keep in mind that the provided dimensions have to be compatiple with the amount of values stored in the array."
   ]
  },
  {
   "cell_type": "code",
   "execution_count": null,
   "id": "d4ea0b45",
   "metadata": {},
   "outputs": [
    {
     "data": {
      "text/plain": [
       "(25,)"
      ]
     },
     "metadata": {},
     "output_type": "display_data"
    }
   ],
   "source": [
    "#create an array\n",
    "arr = np.arange(25)\n",
    "arr.shape"
   ]
  },
  {
   "cell_type": "code",
   "execution_count": null,
   "id": "f5357bae",
   "metadata": {},
   "outputs": [
    {
     "data": {
      "text/plain": [
       "array([[ 0,  1,  2,  3,  4],\n",
       "       [ 5,  6,  7,  8,  9],\n",
       "       [10, 11, 12, 13, 14],\n",
       "       [15, 16, 17, 18, 19],\n",
       "       [20, 21, 22, 23, 24]])"
      ]
     },
     "metadata": {},
     "output_type": "display_data"
    }
   ],
   "source": [
    "reshaped = arr.reshape(5, 5)\n",
    "reshaped"
   ]
  },
  {
   "cell_type": "code",
   "execution_count": null,
   "id": "ecf60042",
   "metadata": {},
   "outputs": [
    {
     "data": {
      "text/plain": [
       "(5, 5)"
      ]
     },
     "metadata": {},
     "output_type": "display_data"
    }
   ],
   "source": [
    "reshaped.shape"
   ]
  },
  {
   "cell_type": "markdown",
   "id": "163334cd",
   "metadata": {},
   "source": [
    "We can not set the provided array with its 25 elements to a shape of 3x5, has such a shape would only be capable to hold 15 values, however, 25 are provided!"
   ]
  },
  {
   "cell_type": "markdown",
   "id": "18af615a",
   "metadata": {},
   "source": [
    "### 📖np.min(),  np.max()\n",
    "Returns the min or max value of an array"
   ]
  },
  {
   "cell_type": "code",
   "execution_count": null,
   "id": "66a47b53",
   "metadata": {},
   "outputs": [
    {
     "name": "stdout",
     "output_type": "stream",
     "text": [
      "2\n",
      "47\n"
     ]
    }
   ],
   "source": [
    "arr = np.random.randint(0, 50, 20)\n",
    "print(np.min(arr))\n",
    "print(np.max(arr))"
   ]
  },
  {
   "cell_type": "markdown",
   "id": "6aefb610",
   "metadata": {},
   "source": [
    "### 📖np.argmin(), np.argmax()\n",
    "Returns the index location of the min or max value"
   ]
  },
  {
   "cell_type": "code",
   "execution_count": null,
   "id": "c44b4545",
   "metadata": {},
   "outputs": [
    {
     "name": "stdout",
     "output_type": "stream",
     "text": [
      "11\n",
      "9\n"
     ]
    }
   ],
   "source": [
    "print(np.argmin(arr))\n",
    "print(np.argmax(arr))"
   ]
  },
  {
   "cell_type": "markdown",
   "id": "88e2cba8",
   "metadata": {},
   "source": [
    "### 📖np.dtype\n",
    "Returns the datatype of an arrray"
   ]
  },
  {
   "cell_type": "code",
   "execution_count": null,
   "id": "eb322208",
   "metadata": {},
   "outputs": [
    {
     "data": {
      "text/plain": [
       "dtype('int32')"
      ]
     },
     "metadata": {},
     "output_type": "display_data"
    }
   ],
   "source": [
    "arr.dtype"
   ]
  },
  {
   "cell_type": "markdown",
   "id": "88c3819b",
   "metadata": {},
   "source": [
    "### 📖Selections and indexing\n",
    "Selecting elements from an arrray is very similar to selecting elements in Python lists"
   ]
  },
  {
   "cell_type": "markdown",
   "id": "3544c5ed",
   "metadata": {},
   "source": [
    "### 📖Indexing 1D arrays"
   ]
  },
  {
   "cell_type": "code",
   "execution_count": null,
   "id": "f575c7ee",
   "metadata": {},
   "outputs": [
    {
     "data": {
      "text/plain": [
       "array([ 0,  1,  2,  3,  4,  5,  6,  7,  8,  9, 10])"
      ]
     },
     "metadata": {},
     "output_type": "display_data"
    }
   ],
   "source": [
    "#Create an arrray that we can use\n",
    "arr = np.arange(0, 11)\n",
    "arr"
   ]
  },
  {
   "cell_type": "code",
   "execution_count": null,
   "id": "cf54ec34",
   "metadata": {},
   "outputs": [
    {
     "data": {
      "text/plain": [
       "4"
      ]
     },
     "metadata": {},
     "output_type": "display_data"
    }
   ],
   "source": [
    "#pass the index of an element to select it\n",
    "arr[4]"
   ]
  },
  {
   "cell_type": "markdown",
   "id": "f21888aa",
   "metadata": {},
   "source": [
    "### 📖Slicing 1D arrays"
   ]
  },
  {
   "cell_type": "code",
   "execution_count": null,
   "id": "ac9431be",
   "metadata": {},
   "outputs": [
    {
     "data": {
      "text/plain": [
       "array([2, 3, 4, 5])"
      ]
     },
     "metadata": {},
     "output_type": "display_data"
    }
   ],
   "source": [
    "#selecting values between two indices [start(included) : end(excluded)]\n",
    "arr[2:6]"
   ]
  },
  {
   "cell_type": "code",
   "execution_count": null,
   "id": "5bd3d849",
   "metadata": {},
   "outputs": [
    {
     "data": {
      "text/plain": [
       "array([0, 1, 2, 3, 4])"
      ]
     },
     "metadata": {},
     "output_type": "display_data"
    }
   ],
   "source": [
    "#selecting up to an index [: end(excluded)]\n",
    "arr[:5]"
   ]
  },
  {
   "cell_type": "code",
   "execution_count": null,
   "id": "077ef9da",
   "metadata": {},
   "outputs": [
    {
     "data": {
      "text/plain": [
       "array([ 5,  6,  7,  8,  9, 10])"
      ]
     },
     "metadata": {},
     "output_type": "display_data"
    }
   ],
   "source": [
    "#selecting from an index onward [start(including):]\n",
    "arr[5:]"
   ]
  },
  {
   "cell_type": "markdown",
   "id": "b4cf3b29",
   "metadata": {},
   "source": [
    "### 📖Indexing 2D arrays"
   ]
  },
  {
   "cell_type": "code",
   "execution_count": null,
   "id": "ae3d1112",
   "metadata": {},
   "outputs": [
    {
     "data": {
      "text/plain": [
       "array([[15, 35, 60],\n",
       "       [25, 55, 45],\n",
       "       [10, 20, 30]])"
      ]
     },
     "metadata": {},
     "output_type": "display_data"
    }
   ],
   "source": [
    "#Create a 2d array\n",
    "arr_2D = np.array([[15,35,60], [25, 55, 45], [10, 20, 30]])\n",
    "print(arr_2D.shape)\n",
    "arr_2D"
   ]
  },
  {
   "cell_type": "code",
   "execution_count": null,
   "id": "088f8431",
   "metadata": {},
   "outputs": [
    {
     "data": {
      "text/plain": [
       "array([25, 55, 45])"
      ]
     },
     "metadata": {},
     "output_type": "display_data"
    }
   ],
   "source": [
    "#Select a row from the array\n",
    "arr_2D[1]"
   ]
  },
  {
   "cell_type": "code",
   "execution_count": null,
   "id": "730f5b13",
   "metadata": {},
   "outputs": [
    {
     "data": {
      "text/plain": [
       "55"
      ]
     },
     "metadata": {},
     "output_type": "display_data"
    }
   ],
   "source": [
    "#Select a single item by also providing the column\n",
    "arr_2D[1][1]"
   ]
  },
  {
   "cell_type": "code",
   "execution_count": null,
   "id": "5e376da9",
   "metadata": {},
   "outputs": [
    {
     "data": {
      "text/plain": [
       "55"
      ]
     },
     "metadata": {},
     "output_type": "display_data"
    }
   ],
   "source": [
    "#To make it shorter, we can also put the index of the item in a single []\n",
    "arr_2D[1, 1]"
   ]
  },
  {
   "cell_type": "markdown",
   "id": "89201ab6",
   "metadata": {},
   "source": [
    "### 📖Slicing 2D arrays"
   ]
  },
  {
   "cell_type": "code",
   "execution_count": null,
   "id": "e44fc8a5",
   "metadata": {},
   "outputs": [
    {
     "data": {
      "text/plain": [
       "array([[15, 35, 60],\n",
       "       [25, 55, 45]])"
      ]
     },
     "metadata": {},
     "output_type": "display_data"
    }
   ],
   "source": [
    "#Lets try to select the two last columns from the first two rows\n",
    "\n",
    "#Select the first two rows:\n",
    "arr_2D[:2]"
   ]
  },
  {
   "cell_type": "code",
   "execution_count": null,
   "id": "9bb859cc",
   "metadata": {},
   "outputs": [
    {
     "data": {
      "text/plain": [
       "array([[35, 60],\n",
       "       [55, 45]])"
      ]
     },
     "metadata": {},
     "output_type": "display_data"
    }
   ],
   "source": [
    "#Select the last two items from those two rows\n",
    "arr_2D[:2, 1:]"
   ]
  },
  {
   "cell_type": "code",
   "execution_count": null,
   "id": "fb4622f2",
   "metadata": {},
   "outputs": [
    {
     "data": {
      "text/plain": [
       "array([15, 25, 10])"
      ]
     },
     "metadata": {},
     "output_type": "display_data"
    }
   ],
   "source": [
    "#Lets try to select the first value of every row\n",
    "#To select all elements of a dimension, we can use ':'\n",
    "\n",
    "arr_2D[:, 0] #This means: From all rows ':', select the first item/ the item in column 0"
   ]
  },
  {
   "cell_type": "markdown",
   "id": "a2bce86d",
   "metadata": {},
   "source": [
    "### 📖Conditional selection\n",
    "Only keeps items that fullfill the condition"
   ]
  },
  {
   "cell_type": "code",
   "execution_count": null,
   "id": "cdeee0d6",
   "metadata": {},
   "outputs": [
    {
     "name": "stdout",
     "output_type": "stream",
     "text": [
      "[ 0  1  2  3  4  5  6  7  8  9 10]\n"
     ]
    },
    {
     "data": {
      "text/plain": [
       "array([ 7,  8,  9, 10])"
      ]
     },
     "metadata": {},
     "output_type": "display_data"
    }
   ],
   "source": [
    "arr = np.arange(0, 11)\n",
    "print(arr)\n",
    "\n",
    "arr[arr > 6]"
   ]
  },
  {
   "cell_type": "markdown",
   "id": "a150cd89",
   "metadata": {},
   "source": [
    "### 📖Array copies\n",
    "It is important to know, that a selection of an array still points to its original array, even though it has been assigned to a new variable"
   ]
  },
  {
   "cell_type": "code",
   "execution_count": null,
   "id": "f3e54efa",
   "metadata": {},
   "outputs": [
    {
     "data": {
      "text/plain": [
       "array([0, 1, 2, 3, 4])"
      ]
     },
     "metadata": {},
     "output_type": "display_data"
    }
   ],
   "source": [
    "#Example:\n",
    "arr = np.arange(0, 11)\n",
    "print(arr)\n",
    "\n",
    "#Do a selection and store the selection in a new variable\n",
    "new_arr = arr[:5]\n",
    "new_arr"
   ]
  },
  {
   "cell_type": "code",
   "execution_count": null,
   "id": "c961d0d1",
   "metadata": {},
   "outputs": [
    {
     "data": {
      "text/plain": [
       "array([-999, -999, -999, -999, -999])"
      ]
     },
     "metadata": {},
     "output_type": "display_data"
    }
   ],
   "source": [
    "#Set all values in the selection to -999 (we need '[:]' to select all values from our selection)\n",
    "new_arr[:] = -999\n",
    "new_arr"
   ]
  },
  {
   "cell_type": "code",
   "execution_count": null,
   "id": "ade480cf",
   "metadata": {},
   "outputs": [
    {
     "data": {
      "text/plain": [
       "array([-999, -999, -999, -999, -999,    5,    6,    7,    8,    9,   10])"
      ]
     },
     "metadata": {},
     "output_type": "display_data"
    }
   ],
   "source": [
    "#it first seems like we have just changed the values from our selection to a new value, but let us look at the original array\n",
    "arr"
   ]
  },
  {
   "cell_type": "markdown",
   "id": "cc72a8cc",
   "metadata": {},
   "source": [
    "To prevent the original array to be changed, we can create copies of it"
   ]
  },
  {
   "cell_type": "code",
   "execution_count": null,
   "id": "2ea3f8bb",
   "metadata": {},
   "outputs": [
    {
     "data": {
      "text/plain": [
       "array([0, 1, 2, 3, 4])"
      ]
     },
     "metadata": {},
     "output_type": "display_data"
    }
   ],
   "source": [
    "arr = np.arange(0, 11)\n",
    "new_arr = arr.copy()[:5]\n",
    "new_arr"
   ]
  },
  {
   "cell_type": "markdown",
   "id": "761d3cbb",
   "metadata": {},
   "source": [
    "### 📖Operations across axis\n",
    "With np.max() and np.min() we already got in contact with numpy operations. Besides those two operations there are many others, such as np.mean(), np.sum(), np.log(my_array), np.sin(my_array) etc. [More information about operations](https://www.pluralsight.com/guides/overview-basic-numpy-operations)\n",
    "\n",
    "In a multidimensional array we can specify through which axis we want to do our calculations\n",
    "![grafik.png](attachment:grafik.png)\n",
    "[Source](https://www.statology.org/numpy-axis/)"
   ]
  },
  {
   "cell_type": "code",
   "execution_count": null,
   "id": "d929e68a",
   "metadata": {},
   "outputs": [
    {
     "data": {
      "text/plain": [
       "array([[ 0,  1,  2,  3,  4],\n",
       "       [ 5,  6,  7,  8,  9],\n",
       "       [10, 11, 12, 13, 14],\n",
       "       [15, 16, 17, 18, 19]])"
      ]
     },
     "metadata": {},
     "output_type": "display_data"
    }
   ],
   "source": [
    "arr = np.arange(0,20).reshape(4, 5)\n",
    "arr"
   ]
  },
  {
   "cell_type": "code",
   "execution_count": null,
   "id": "abb6a5b1",
   "metadata": {},
   "outputs": [
    {
     "data": {
      "text/plain": [
       "190"
      ]
     },
     "metadata": {},
     "output_type": "display_data"
    }
   ],
   "source": [
    "#calculate the sum of all items\n",
    "np.sum(arr)"
   ]
  },
  {
   "cell_type": "code",
   "execution_count": null,
   "id": "50f5dec1",
   "metadata": {},
   "outputs": [
    {
     "data": {
      "text/plain": [
       "array([30, 34, 38, 42, 46])"
      ]
     },
     "metadata": {},
     "output_type": "display_data"
    }
   ],
   "source": [
    "#calculate the sum across the rows/along the columns/along the vertical axis (y)\n",
    "np.sum(arr, axis=0)"
   ]
  },
  {
   "cell_type": "code",
   "execution_count": null,
   "id": "f2dd0960",
   "metadata": {},
   "outputs": [
    {
     "data": {
      "text/plain": [
       "array([10, 35, 60, 85])"
      ]
     },
     "metadata": {},
     "output_type": "display_data"
    }
   ],
   "source": [
    "#calculate the sum across the coolumns/along the rows/along the horizontal axis (x)\n",
    "np.sum(arr, axis=1)"
   ]
  }
 ],
 "metadata": {
  "language_info": {
   "name": "python"
  }
 },
 "nbformat": 4,
 "nbformat_minor": 5
}
