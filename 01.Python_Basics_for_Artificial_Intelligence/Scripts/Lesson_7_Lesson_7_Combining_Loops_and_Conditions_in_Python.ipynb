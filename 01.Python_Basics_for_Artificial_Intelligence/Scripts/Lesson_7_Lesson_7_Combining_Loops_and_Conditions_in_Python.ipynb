{
 "cells": [
  {
   "cell_type": "markdown",
   "id": "c1b147c9",
   "metadata": {},
   "source": [
    "### 📖 Lesson 7: Combining Loops and Conditions in Python"
   ]
  },
  {
   "cell_type": "markdown",
   "id": "0a76be3b",
   "metadata": {},
   "source": [
    "<div class=\"alert alert-info\">\n",
    "\n",
    "### 📖For Loops + Conditions <a class=\"anchor\" id=\"chapter5\"></a>\n",
    "Very often **For Loops** are linked to **Conditions**. For example, you can 'iterate' over values in a data set and trigger different processes, depending on what value is currently being queried.\n",
    "<br>\n",
    "Let's assume that we have a data series with night-time temperatures. We are interested in how many tropical nights there are in the data series.\n",
    "<br>\n",
    "To do this, we will loop through the entries in the list. If the value is >=20 we will increment a counter by 1. The counter will show us at the end of the short script how many tropical nights there were.\n",
    "<br>\n",
    "(The data is fictitious)\n",
    "    \n",
    "[If you would like to see the topic 'For Loops + Conditions' explained in a short video, click here](https://youtu.be/8LGB_MX-ckg)\n"
   ]
  },
  {
   "cell_type": "code",
   "execution_count": null,
   "id": "a7e1c701",
   "metadata": {},
   "outputs": [],
   "source": [
    "temps = [17.5, 18.0, 20.0, 24.5, 21.0, 18.5, 19.5, 16.0, 21.0, 21.5, 22.5, 20.0, 18.0, 20.5, 21.5, 19.5, 17.0]\n",
    "\n",
    "tropical_nights = 0 #The counter is on 0 before the loop starts\n",
    "\n",
    "for i in temps:\n",
    "    if i >= 20:\n",
    "        tropical_nights+=1 #if there is a value >= 20 the variable tropical_nights is raised by 1\n",
    "\n",
    "print(f\"There were {tropical_nights} tropical nights\")"
   ]
  }
 ],
 "metadata": {
  "language_info": {
   "name": "python"
  }
 },
 "nbformat": 4,
 "nbformat_minor": 5
}
