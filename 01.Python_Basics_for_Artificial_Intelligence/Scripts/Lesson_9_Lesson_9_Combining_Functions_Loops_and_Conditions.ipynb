{
 "cells": [
  {
   "cell_type": "markdown",
   "id": "cb037ddb",
   "metadata": {},
   "source": [
    "### 📖 Lesson 9: Combining Functions, Loops, and Conditions"
   ]
  },
  {
   "cell_type": "markdown",
   "id": "56d3090b",
   "metadata": {},
   "source": [
    "<div class=\"alert alert-warning\">\n",
    "\n",
    "### 📖Combining what you have learned <a class=\"anchor\" id=\"chapter7\"></a>\n",
    "We now want to combine the different methods to create a script that is able to convert units of a temperature measurement between Celsius and Fahrenheit.\n",
    "<br>\n",
    "A function is to be written which has the following parameters:\n",
    "1. a list of temperature measurements\n",
    "2. a string with the information whether the data is 'Celsius' or 'Fahrenheit'\n",
    "\n",
    "<br>\n",
    "The script should then convert to the other unit and save the data in the new list. The new list is returned directly by the function.\n",
    "    \n",
    "[If you would like to see a short video explaining how to combine functions, conditions and loops, click here](https://youtu.be/TwiMpsjXPSw)\n"
   ]
  },
  {
   "cell_type": "code",
   "execution_count": 2,
   "id": "f4123126",
   "metadata": {},
   "outputs": [],
   "source": [
    "#Here are two lists with which we can test our function later\n",
    "temp_c = [17.5, 18.0, 20.0, 24.5, 21.0, 18.5, 19.5, 16.0, 21.0, 21.5, 22.5, 20.0, 18.0, 20.5, 21.5, 19.5, 17.0]\n",
    "temp_f = [63.5, 64.4, 68.0, 76.1, 69.8, 65.3, 67.1, 60.8, 69.8, 70.7, 72.5, 68.0, 64.4, 68.9, 70.7, 67.1, 62.6]"
   ]
  },
  {
   "cell_type": "code",
   "execution_count": 3,
   "id": "e65b99e2",
   "metadata": {},
   "outputs": [],
   "source": [
    "#Let us set up a function that can do the job\n",
    "\n",
    "def temp_converter (input_list, input_unit):\n",
    "    empty_output_list = []\n",
    "\n",
    "    if input_unit == 'Celsius':\n",
    "        for i in input_list:\n",
    "            converted = i * 1.8 + 32\n",
    "            empty_output_list.append(converted)\n",
    "\n",
    "    elif input_unit == 'Fahrenheit':\n",
    "        for i in input_list:\n",
    "            converted = (i - 32) * 5/9\n",
    "            empty_output_list.append(converted)\n",
    "    else:\n",
    "        print(\"Please specify whether your Data is in Celsius or Fahrenheit\")\n",
    "    return empty_output_list"
   ]
  },
  {
   "cell_type": "code",
   "execution_count": 4,
   "id": "364d33a8",
   "metadata": {},
   "outputs": [
    {
     "name": "stdout",
     "output_type": "stream",
     "text": [
      "[63.5, 64.4, 68.0, 76.1, 69.80000000000001, 65.30000000000001, 67.1, 60.8, 69.80000000000001, 70.7, 72.5, 68.0, 64.4, 68.9, 70.7, 67.1, 62.6]\n"
     ]
    }
   ],
   "source": [
    "#Let us test our function\n",
    "\n",
    "converted = temp_converter(temp_c, 'Celsius')\n",
    "\n",
    "print(converted)"
   ]
  },
  {
   "cell_type": "code",
   "execution_count": null,
   "id": "ae0dcd96",
   "metadata": {},
   "outputs": [],
   "source": []
  }
 ],
 "metadata": {
  "kernelspec": {
   "display_name": "Python 3",
   "language": "python",
   "name": "python3"
  },
  "language_info": {
   "codemirror_mode": {
    "name": "ipython",
    "version": 3
   },
   "file_extension": ".py",
   "mimetype": "text/x-python",
   "name": "python",
   "nbconvert_exporter": "python",
   "pygments_lexer": "ipython3",
   "version": "3.13.3"
  }
 },
 "nbformat": 4,
 "nbformat_minor": 5
}
