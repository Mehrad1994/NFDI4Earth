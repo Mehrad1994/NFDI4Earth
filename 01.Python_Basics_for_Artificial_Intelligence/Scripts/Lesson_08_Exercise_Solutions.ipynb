{
 "cells": [
  {
   "cell_type": "markdown",
   "id": "665eec17",
   "metadata": {},
   "source": [
    "***\n",
    "### ✏️Task 5\n",
    "Create a function that subtracts an individually definable value from the data series provided. It should be possible to pass the following parameters to the function:\n",
    "1. list as data input\n",
    "2. value to be subtracted\n",
    "\n",
    "Your function should be able to print the newly calculated value.\n",
    "Test your function by subtracting the value 8.4."
   ]
  },
  {
   "cell_type": "code",
   "execution_count": null,
   "id": "b615f9ca",
   "metadata": {},
   "outputs": [],
   "source": [
    "values = [19.5, 18.0, 23.0, 26.5, 25.0, 19.5, 21.5, 20.0, 22.0, 23.5]"
   ]
  },
  {
   "cell_type": "code",
   "execution_count": null,
   "id": "b4650d36",
   "metadata": {},
   "outputs": [
    {
     "name": "stdout",
     "output_type": "stream",
     "text": [
      "11.1\n",
      "9.6\n",
      "14.6\n",
      "18.1\n",
      "16.6\n",
      "11.1\n",
      "13.1\n",
      "11.6\n",
      "13.6\n",
      "15.1\n"
     ]
    }
   ],
   "source": [
    "def subtractor (input_list, input_value):\n",
    "    for i in input_list:\n",
    "        print(i-input_value)\n",
    "\n",
    "subtractor(values, 8.4)"
   ]
  },
  {
   "cell_type": "markdown",
   "id": "2b511fc6",
   "metadata": {},
   "source": [
    "***\n",
    "### ✏️Task 6\n",
    "Write a function that is able to convert between the units meters and feet. It should be possible to enter lists into the function and convert them into the other unit.\n",
    "<br>\n",
    "Find a way to round the conversion results."
   ]
  },
  {
   "cell_type": "code",
   "execution_count": null,
   "id": "0b8cb9dc",
   "metadata": {},
   "outputs": [],
   "source": [
    "meter = [2222, 1594, 256, 1855, 2087, 6, 1611, 171, 842, 699, 957, 729, 214, 2133, 2083, 1602, 1136, 2052, 446, 1921, 2264, 46, 1697, 137, 1514]\n",
    "feet = [7290.0, 5229.7, 839.9, 6086.0, 6847.1, 19.7, 5285.4, 561.0, 2762.5, 2293.3, 3139.8, 2391.7, 702.1, 6998.0, 6834.0, 5255.9, 3727.0, 6732.3, 1463.3, 6302.5, 7427.8, 150.9, 5567.6, 449.5, 4967.2]"
   ]
  },
  {
   "cell_type": "code",
   "execution_count": null,
   "id": "9e361042",
   "metadata": {},
   "outputs": [
    {
     "name": "stdout",
     "output_type": "stream",
     "text": [
      "Converting Meters to Feet\n",
      "[7290.0, 5229.7, 839.9, 6086.0, 6847.1, 19.7, 5285.4, 561.0, 2762.5, 2293.3, 3139.8, 2391.7, 702.1, 6998.0, 6834.0, 5255.9, 3727.0, 6732.3, 1463.3, 6302.5, 7427.8, 150.9, 5567.6, 449.5, 4967.2]\n"
     ]
    }
   ],
   "source": [
    "def converter (in_list, current_unit):\n",
    "    out_list = []\n",
    "\n",
    "    if current_unit == 'meter':\n",
    "        print(\"Converting Meters to Feet\")\n",
    "    elif current_unit == 'feet':\n",
    "        print(\"Converting Feet to Meeters\")\n",
    "\n",
    "    for i in in_list:\n",
    "        if current_unit == 'meter':\n",
    "            out_list.append(round(i * 3.2808398950131, 1))\n",
    "        if current_unit == 'feet':\n",
    "            out_list.append(round(i / 3.2808398950131, 1))\n",
    "    return out_list\n",
    "\n",
    "converted = converter(meter, 'meter')\n",
    "print(converted)"
   ]
  }
 ],
 "metadata": {
  "language_info": {
   "name": "python"
  }
 },
 "nbformat": 4,
 "nbformat_minor": 5
}
