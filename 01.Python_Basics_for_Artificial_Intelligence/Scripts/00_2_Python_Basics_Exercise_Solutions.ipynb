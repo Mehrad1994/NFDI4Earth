{
  "cells": [
    {
      "cell_type": "markdown",
      "metadata": {
        "id": "HhMyekKWcyy7"
      },
      "source": [
        "# Task 1\n",
        "The thermometer of a measuring station has a systematic error of +4.20 °C due to a technical defect.  \n",
        "This should now be removed from all values in the measurement series for evaluation.\n",
        "<br>\n",
        "Use a **for loop** to subtract the measurement error from the values and save the corrected results in a new table."
      ],
      "id": "HhMyekKWcyy7"
    },
    {
      "cell_type": "code",
      "execution_count": null,
      "metadata": {
        "id": "ER2aTSHFcyy8"
      },
      "outputs": [],
      "source": [
        "temps = [19.5, 18.0, 23.0, 26.5, 25.0, 19.5, 21.5, 20.0, 22.0, 23.5, 25.5, 24.0, 22.0, 21.5, 23.5, 21.5, 19.0]"
      ],
      "id": "ER2aTSHFcyy8"
    },
    {
      "cell_type": "code",
      "execution_count": null,
      "metadata": {
        "id": "ay8VisVBcyy8",
        "outputId": "51a2bed5-ace4-4aba-85bf-77f6d40e93ed"
      },
      "outputs": [
        {
          "name": "stdout",
          "output_type": "stream",
          "text": [
            "[15.3, 13.8, 18.8, 22.3, 20.8, 15.3, 17.3, 15.8, 17.8, 19.3, 21.3, 19.8, 17.8, 17.3, 19.3, 17.3, 14.8]\n"
          ]
        }
      ],
      "source": [
        "#Your code\n",
        "temps_corrected = []\n",
        "for i in temps:\n",
        "    temps_corrected.append(i-4.2)\n",
        "\n",
        "print(temps_corrected)"
      ],
      "id": "ay8VisVBcyy8"
    },
    {
      "cell_type": "markdown",
      "metadata": {
        "id": "-O_W1Bqmcyy9"
      },
      "source": [
        "***\n",
        "# Task 2\n",
        "The following list shows the minimum, maximum and average temperature (in this order) for each measurement time.\n",
        "<br>\n",
        "A new list is to be created in which only the average temperature is available."
      ],
      "id": "-O_W1Bqmcyy9"
    },
    {
      "cell_type": "code",
      "execution_count": null,
      "metadata": {
        "id": "s0p6ZwKUcyy9"
      },
      "outputs": [],
      "source": [
        "temps = [[16.4, 23.4, 19.9], [17.1, 23.0, 20.1], [21.7, 24.8, 23.2], [18.1, 26.5, 22.3], [16.3, 22.8, 19.6], [14.5, 19.8, 17.1], [18.8, 24.4, 21.6], [17.7, 23.4, 20.5], [16.8, 27.0, 21.9], [19.4, 20.6, 20.0]]"
      ],
      "id": "s0p6ZwKUcyy9"
    },
    {
      "cell_type": "code",
      "execution_count": null,
      "metadata": {
        "id": "fjx517-6cyy9",
        "outputId": "5c90be6d-3422-4680-dea4-c75ba0040072"
      },
      "outputs": [
        {
          "name": "stdout",
          "output_type": "stream",
          "text": [
            "[19.9, 20.1, 23.2, 22.3, 19.6, 17.1, 21.6, 20.5, 21.9, 20.0]\n"
          ]
        }
      ],
      "source": [
        "# Your code\n",
        "mean_temp = []\n",
        "\n",
        "for i in temps:\n",
        "    mean_temp.append(i[2])\n",
        "\n",
        "print(mean_temp)"
      ],
      "id": "fjx517-6cyy9"
    },
    {
      "cell_type": "markdown",
      "metadata": {
        "id": "4NSVdKcocyy9"
      },
      "source": [
        "***\n",
        "# Task 3\n",
        "The prepared list contains the daily 7-day corona incidence between 12.06.2022 and 11.08.2022.\n",
        "<br>\n",
        "A **for loop** is to be used to determine the number of days in which the incidences were above and below 500.\n",
        "<br>\n",
        "To do this, create two 'counters' that specify the respective number of days and print the results with a meaningful f-string.\n",
        "<br>\n",
        "[Quelle RKI](https://www.rki.de/DE/Content/InfAZ/N/Neuartiges_Coronavirus/Daten/Klinische_Aspekte.html)"
      ],
      "id": "4NSVdKcocyy9"
    },
    {
      "cell_type": "code",
      "execution_count": null,
      "metadata": {
        "id": "nM1k0ctLcyy9"
      },
      "outputs": [],
      "source": [
        "inzidence = [461.0, 473.6, 565.4, 604.3, 607.3, 547.1, 555.2, 566.9, 569.8, 602.4, 645.1, 696.7, 802.4, 835.4, 845.9, 845.5, 848.5, 853.9, 852.9, 847.5, 847.5, 834.5, 834.9, 811.3, 788.3, 771.9, 751.7, 727.0, 723.8, 718.7, 722.6, 716.7, 707.9, 700.8, 699.9, 693.3, 691.7, 681.4, 659.9, 630.7, 611.7, 593.3, 592.2, 592.9, 576.2, 563.8, 548.1, 528.0, 509.7, 501.7, 497.8, 488.7, 476.9, 465.3, 463.2, 454.5, 453.7, 450.2, 440.6, 423.0, 394.1]"
      ],
      "id": "nM1k0ctLcyy9"
    },
    {
      "cell_type": "code",
      "execution_count": null,
      "metadata": {
        "id": "VXMtHUl3cyy9",
        "outputId": "1ed8bf46-e779-40f3-9c25-779b7302c46f"
      },
      "outputs": [
        {
          "name": "stdout",
          "output_type": "stream",
          "text": [
            "There were 48 days with an inzidence over or equal to 500 and 13 days with an inzidence below 500\n"
          ]
        }
      ],
      "source": [
        "#Your code\n",
        "over_500 = 0\n",
        "under_500 = 0\n",
        "\n",
        "for i in inzidence:\n",
        "    if i >= 500:\n",
        "        over_500 += 1\n",
        "    else:\n",
        "        under_500 += 1\n",
        "\n",
        "print(f\"There were {over_500} days with an inzidence over or equal to 500 and {under_500} days with an inzidence below 500\")"
      ],
      "id": "VXMtHUl3cyy9"
    },
    {
      "cell_type": "markdown",
      "metadata": {
        "id": "U9zRgfWOcyy-"
      },
      "source": [
        "***\n",
        "# Task 4\n",
        "Given is a list with the Latin names of tree species from a tree inventory.\n",
        "<br>\n",
        "1. Create a new list in which each tree species is listed only once in order to determine the number of different tree species (Not all of the methods required for this have been taught in the accompanying notebook. However, as in real life, you can find all the answers on the Internet. First try to find an approach on your own, otherwise here are two links that will help you: [Add to list if not already in list](https://stackoverflow.com/questions/42334197/add-only-unique-values-to-a-list-in-python), [Get length of list](https://www.edureka.co/blog/python-list-length/))\n",
        "2. Create a **for loop** (based on your list from subtask 1) which gives the tree species as print output and how often it was found during the inventory (Again, the internet will help you to use a more efficient method than the 'counter' you have learned so far. If you cannot find an approach, have a look at [here](https://www.codegrepper.com/code-examples/python/python+count+number+of+elements+in+list+equal+to))"
      ],
      "id": "U9zRgfWOcyy-"
    },
    {
      "cell_type": "code",
      "execution_count": null,
      "metadata": {
        "id": "nFXJFK4Ycyy-"
      },
      "outputs": [],
      "source": [
        "trees = ['Fagus sylvatica', 'Quercus robur', 'Fagus sylvatica', 'Larix decidua', 'Quercus robur', 'Quercus robur', 'Aesculus hippocastanum', 'Larix decidua', 'Larix decidua', 'Picea abies', 'Fagus sylvatica', 'Betula pendula', 'Larix decidua', 'Betula pendula', 'Fagus sylvatica', 'Betula pendula', 'Picea abies', 'Aesculus hippocastanum', 'Fagus sylvatica', 'Quercus robur', 'Larix decidua', 'Fagus sylvatica', 'Betula pendula', 'Fagus sylvatica', 'Picea abies', 'Quercus robur', 'Larix decidua', 'Betula pendula', 'Betula pendula', 'Fagus sylvatica', 'Aesculus hippocastanum', 'Larix decidua', 'Picea abies', 'Betula pendula', 'Fagus sylvatica', 'Fagus sylvatica', 'Betula pendula', 'Aesculus hippocastanum', 'Quercus robur', 'Quercus robur', 'Quercus robur', 'Fagus sylvatica', 'Aesculus hippocastanum', 'Picea abies', 'Larix decidua', 'Picea abies', 'Larix decidua', 'Aesculus hippocastanum', 'Picea abies', 'Picea abies']"
      ],
      "id": "nFXJFK4Ycyy-"
    },
    {
      "cell_type": "code",
      "execution_count": null,
      "metadata": {
        "id": "AlhX1aMzcyy-",
        "outputId": "4870d11d-890f-434f-9efc-8d2f33c9abec"
      },
      "outputs": [
        {
          "name": "stdout",
          "output_type": "stream",
          "text": [
            "There are 6 different tree species\n",
            "Fagus sylvatica: 11\n",
            "Quercus robur: 8\n",
            "Larix decidua: 9\n",
            "Aesculus hippocastanum: 6\n",
            "Picea abies: 8\n",
            "Betula pendula: 8\n"
          ]
        }
      ],
      "source": [
        "# Your code\n",
        "#Part 1\n",
        "unique_trees = []\n",
        "\n",
        "for i in trees:\n",
        "    if i not in unique_trees:\n",
        "        unique_trees.append(i)\n",
        "\n",
        "print(f\"There are {len(unique_trees)} different tree species\")\n",
        "\n",
        "\n",
        "#Part 2\n",
        "for i in unique_trees:\n",
        "      count = trees.count(i)\n",
        "      print(f\"{i}: {count}\")"
      ],
      "id": "AlhX1aMzcyy-"
    },
    {
      "cell_type": "markdown",
      "metadata": {
        "id": "4aYCu5W_cyy-"
      },
      "source": [
        "***\n",
        "# Task 5\n",
        "Create a function that subtracts an individually definable value from the data series provided. It should be possible to pass the following parameters to the function:\n",
        "1. list as data input\n",
        "2. value to be subtracted\n",
        "\n",
        "Your function should be able to print the newly calculated value.\n",
        "Test your function by subtracting the value 8.4."
      ],
      "id": "4aYCu5W_cyy-"
    },
    {
      "cell_type": "code",
      "execution_count": null,
      "metadata": {
        "id": "hA9imvHxcyy-"
      },
      "outputs": [],
      "source": [
        "values = [19.5, 18.0, 23.0, 26.5, 25.0, 19.5, 21.5, 20.0, 22.0, 23.5]"
      ],
      "id": "hA9imvHxcyy-"
    },
    {
      "cell_type": "code",
      "execution_count": null,
      "metadata": {
        "id": "wMOxHHNLcyy-",
        "outputId": "d13ecb05-b1ca-4675-f200-93146df11b2c"
      },
      "outputs": [
        {
          "name": "stdout",
          "output_type": "stream",
          "text": [
            "11.1\n",
            "9.6\n",
            "14.6\n",
            "18.1\n",
            "16.6\n",
            "11.1\n",
            "13.1\n",
            "11.6\n",
            "13.6\n",
            "15.1\n"
          ]
        }
      ],
      "source": [
        "def subtractor (input_list, input_value):\n",
        "    for i in input_list:\n",
        "        print(i-input_value)\n",
        "\n",
        "subtractor(values, 8.4)"
      ],
      "id": "wMOxHHNLcyy-"
    },
    {
      "cell_type": "markdown",
      "metadata": {
        "id": "YSiGJsoZcyy-"
      },
      "source": [
        "***\n",
        "# Task 6\n",
        "Write a function that is able to convert between the units meters and feet. It should be possible to enter lists into the function and convert them into the other unit.\n",
        "<br>\n",
        "Find a way to round the conversion results."
      ],
      "id": "YSiGJsoZcyy-"
    },
    {
      "cell_type": "code",
      "execution_count": null,
      "metadata": {
        "id": "2sBtB82jcyy-"
      },
      "outputs": [],
      "source": [
        "meter = [2222, 1594, 256, 1855, 2087, 6, 1611, 171, 842, 699, 957, 729, 214, 2133, 2083, 1602, 1136, 2052, 446, 1921, 2264, 46, 1697, 137, 1514]\n",
        "feet = [7290.0, 5229.7, 839.9, 6086.0, 6847.1, 19.7, 5285.4, 561.0, 2762.5, 2293.3, 3139.8, 2391.7, 702.1, 6998.0, 6834.0, 5255.9, 3727.0, 6732.3, 1463.3, 6302.5, 7427.8, 150.9, 5567.6, 449.5, 4967.2]"
      ],
      "id": "2sBtB82jcyy-"
    },
    {
      "cell_type": "code",
      "execution_count": null,
      "metadata": {
        "scrolled": true,
        "id": "PIvfsa-7cyy-",
        "outputId": "c029a1e8-637b-45eb-a070-d523bfb9def5"
      },
      "outputs": [
        {
          "name": "stdout",
          "output_type": "stream",
          "text": [
            "Converting Meters to Feet\n",
            "[7290.0, 5229.7, 839.9, 6086.0, 6847.1, 19.7, 5285.4, 561.0, 2762.5, 2293.3, 3139.8, 2391.7, 702.1, 6998.0, 6834.0, 5255.9, 3727.0, 6732.3, 1463.3, 6302.5, 7427.8, 150.9, 5567.6, 449.5, 4967.2]\n"
          ]
        }
      ],
      "source": [
        "def converter (in_list, current_unit):\n",
        "    out_list = []\n",
        "\n",
        "    if current_unit == 'meter':\n",
        "        print(\"Converting Meters to Feet\")\n",
        "    elif current_unit == 'feet':\n",
        "        print(\"Converting Feet to Meeters\")\n",
        "\n",
        "    for i in in_list:\n",
        "        if current_unit == 'meter':\n",
        "            out_list.append(round(i * 3.2808398950131, 1))\n",
        "        if current_unit == 'feet':\n",
        "            out_list.append(round(i / 3.2808398950131, 1))\n",
        "    return out_list\n",
        "\n",
        "converted = converter(meter, 'meter')\n",
        "print(converted)"
      ],
      "id": "PIvfsa-7cyy-"
    },
    {
      "cell_type": "markdown",
      "metadata": {
        "id": "UQFTkcX4cyy_"
      },
      "source": [
        "***\n",
        "# Task 7\n",
        "In some scientific data there are so-called 'NoData Values', i.e. values that are used for measurements for which there was no measurement result. Such NoData Values are often found in raster data that is opened in geoinformation systems (e.g. outlines of oblique satellite images).\n",
        "<br>\n",
        "In geoinformation systems, the NoData values can be set (e.g. to 0 or -999) so that the raster dataset is displayed correctly.\n",
        "<br>\n",
        "In Python, changing the NoData values is a little more difficult.\n",
        "<br>\n",
        "The following list is intended to mimic a raster data set which has a size of 3x3 pixels. Each of the lists in the list should represent a series of pixel values of a gray value image.\n",
        "<br>\n",
        "In reality, raster data in Python is not displayed directly as lists (we will come to that later). For now, however, let's assume that this is the case.\n",
        "<br>\n",
        "1. Create a function that can 'iterate' through the individual values and create a new list in which the previous NoData value 0 is set to -999. The structure of the list should be retained.\n",
        "\n",
        "Note: Use print statements when developing the function to get information about the individual elements of the loop. Think about how you can access nested elements."
      ],
      "id": "UQFTkcX4cyy_"
    },
    {
      "cell_type": "code",
      "execution_count": null,
      "metadata": {
        "id": "I-xN6aeqcyy_"
      },
      "outputs": [],
      "source": [
        "raster = [\n",
        "    [125, 54, 12],\n",
        "    [0, 146, 211],\n",
        "    [198, 137, 0],\n",
        "]"
      ],
      "id": "I-xN6aeqcyy_"
    },
    {
      "cell_type": "code",
      "execution_count": null,
      "metadata": {
        "id": "aUfTAfrgcyy_",
        "outputId": "5de383d2-3328-4ea1-fb79-946515f33362"
      },
      "outputs": [
        {
          "name": "stdout",
          "output_type": "stream",
          "text": [
            "[[125, 54, 12], [-999, 146, 211], [198, 137, -999]]\n"
          ]
        }
      ],
      "source": [
        "#Your code\n",
        "\n",
        "def replace_nodata (input_list, old_nodata, new_nodata):\n",
        "    new_raster = [] #This will store the new list\n",
        "\n",
        "    #create a loop that will go through the input list and hold each nested list under i\n",
        "    for i in raster:\n",
        "        new_row = [] #This will temporarily store the values of each 'row' (or nested list)\n",
        "\n",
        "        #create a loop that checks the values in each nested list\n",
        "        for x in i:\n",
        "            if x == old_nodata:\n",
        "                new_row.append(new_nodata)\n",
        "            else:\n",
        "                new_row.append(x)\n",
        "\n",
        "        new_raster.append(new_row) #After the loop through the values append the new row to the new_raster list\n",
        "    return new_raster\n",
        "\n",
        "replaced_raster = replace_nodata(raster, 0, -999)\n",
        "print(replaced_raster)"
      ],
      "id": "aUfTAfrgcyy_"
    },
    {
      "cell_type": "markdown",
      "metadata": {
        "id": "f70nOn--cyy_"
      },
      "source": [
        "***\n",
        "***\n",
        "\n",
        "# For interested parties\n",
        "Even if most of the data in the previous exercises and tasks are fictitious, the lists with their data have to be created somehow.\n",
        "<br>\n",
        "If you are interested in how we save ourselves some work and create the lists, take a look at the cells below.\n",
        "<br>\n",
        "Nevertheless, we have kept the code simple so that it is easy to understand.\n",
        "<br>\n",
        "There are much more efficient ways to create the data ;)"
      ],
      "id": "f70nOn--cyy_"
    },
    {
      "cell_type": "code",
      "execution_count": null,
      "metadata": {
        "id": "v3WQzhjTcyy_",
        "outputId": "77d918a7-dbc0-4b33-9f9e-0ddfee6816a1"
      },
      "outputs": [
        {
          "name": "stdout",
          "output_type": "stream",
          "text": [
            "[[16.4, 23.4, 19.9], [17.1, 23.0, 20.1], [21.7, 24.8, 23.2], [18.1, 26.5, 22.3], [16.3, 22.8, 19.6], [14.5, 19.8, 17.1], [18.8, 24.4, 21.6], [17.7, 23.4, 20.5], [16.8, 27.0, 21.9], [19.4, 20.6, 20.0]]\n"
          ]
        }
      ],
      "source": [
        "#Create a nested list with min, max and mean temperatures\n",
        "\n",
        "import random #This imports a package that can create random numbers\n",
        "\n",
        "temps = [19.5, 18.0, 23.0, 22.0 , 21.0, 19.5, 21.5, 20.0, 22.0, 20.5] #We will use those values to do some calculations\n",
        "\n",
        "new_temp = []\n",
        "\n",
        "for i in temps:\n",
        "    minimum = i - round(random.uniform(0, 6),1) #subtract a random float number between 0 and 6 from the current element and round it to the first digit\n",
        "    maximum = i + round(random.uniform(0, 5),1)\n",
        "    mean = round((minimum+maximum)/2, 1)\n",
        "    new_temp.append([minimum, maximum, mean])\n",
        "print(new_temp)"
      ],
      "id": "v3WQzhjTcyy_"
    },
    {
      "cell_type": "code",
      "execution_count": null,
      "metadata": {
        "id": "MtCJ5yHvcyy_"
      },
      "outputs": [],
      "source": [
        "#Create a List with specific length and randomly chosen tree species.\n",
        "\n",
        "trees = ['Picea abies', 'Larix decidua', 'Betula pendula', 'Fagus sylvatica', 'Quercus robur', 'Aesculus hippocastanum']\n",
        "new_list = []\n",
        "for i in range (50):\n",
        "    new_list.append(random.choice(trees))\n",
        "print(new_list)"
      ],
      "id": "MtCJ5yHvcyy_"
    },
    {
      "cell_type": "code",
      "execution_count": null,
      "metadata": {
        "id": "6XKDrz5ycyy_"
      },
      "outputs": [],
      "source": [
        "#Create some random integers (values should be between )\n",
        "import numpy as np\n",
        "meter = list(np.random.randint(1, 3000, 25))\n",
        "print(meter)"
      ],
      "id": "6XKDrz5ycyy_"
    }
  ],
  "metadata": {
    "kernelspec": {
      "display_name": "Python 3",
      "language": "python",
      "name": "python3"
    },
    "language_info": {
      "codemirror_mode": {
        "name": "ipython",
        "version": 3
      },
      "file_extension": ".py",
      "mimetype": "text/x-python",
      "name": "python",
      "nbconvert_exporter": "python",
      "pygments_lexer": "ipython3",
      "version": "3.8.5"
    },
    "colab": {
      "provenance": []
    }
  },
  "nbformat": 4,
  "nbformat_minor": 5
}