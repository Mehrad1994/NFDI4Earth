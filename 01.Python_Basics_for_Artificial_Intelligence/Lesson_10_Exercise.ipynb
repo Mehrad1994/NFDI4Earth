{
 "cells": [
  {
   "cell_type": "markdown",
   "id": "cb29e7a2",
   "metadata": {},
   "source": [
    "### 📖1. Import NumPy as np"
   ]
  },
  {
   "cell_type": "code",
   "execution_count": null,
   "id": "e96deca7",
   "metadata": {},
   "outputs": [],
   "source": []
  },
  {
   "cell_type": "markdown",
   "id": "5fba9f2c",
   "metadata": {},
   "source": [
    "### 📖2. Create an array from this list"
   ]
  },
  {
   "cell_type": "code",
   "execution_count": null,
   "id": "5825a908",
   "metadata": {},
   "outputs": [],
   "source": [
    "mylist = [9, 8, 7, 6, 5, 4, 3, 2, 1]\n"
   ]
  },
  {
   "cell_type": "markdown",
   "id": "4b06b2b1",
   "metadata": {},
   "source": [
    "### 📖3. Reshape the array you just created to the shape 3x3"
   ]
  },
  {
   "cell_type": "code",
   "execution_count": null,
   "id": "5a85262f",
   "metadata": {},
   "outputs": [],
   "source": []
  },
  {
   "cell_type": "markdown",
   "id": "420306b9",
   "metadata": {},
   "source": [
    "### 📖4. Print the shape of the array you just  reshaped"
   ]
  },
  {
   "cell_type": "code",
   "execution_count": null,
   "id": "112e43fc",
   "metadata": {},
   "outputs": [],
   "source": []
  },
  {
   "cell_type": "markdown",
   "id": "0ad2eb6b",
   "metadata": {},
   "source": [
    "### 📖5. Create an array of 25 fives with the shape of 5x5"
   ]
  },
  {
   "cell_type": "code",
   "execution_count": null,
   "id": "e67e5541",
   "metadata": {},
   "outputs": [],
   "source": []
  },
  {
   "cell_type": "markdown",
   "id": "2914ac4b",
   "metadata": {},
   "source": [
    "### 📖6. Create an array of 10 random numbers between 0 and 1"
   ]
  },
  {
   "cell_type": "code",
   "execution_count": null,
   "id": "65da8dd5",
   "metadata": {},
   "outputs": [],
   "source": []
  },
  {
   "cell_type": "markdown",
   "id": "19660267",
   "metadata": {},
   "source": [
    "### 📖7. Create a 10x10 matrix of random integers between 0 and 255"
   ]
  },
  {
   "cell_type": "code",
   "execution_count": null,
   "id": "e3c8ea2c",
   "metadata": {},
   "outputs": [],
   "source": []
  },
  {
   "cell_type": "markdown",
   "id": "fc26e7a1",
   "metadata": {},
   "source": [
    "### 📖8. Based on your previous matrix, get the item which is in row 6 and column 4"
   ]
  },
  {
   "cell_type": "code",
   "execution_count": null,
   "id": "e604a0c0",
   "metadata": {},
   "outputs": [],
   "source": []
  },
  {
   "cell_type": "markdown",
   "id": "7c9644c4",
   "metadata": {},
   "source": [
    "### 📖9. Based on your previous matrix, select the last value from every row"
   ]
  },
  {
   "cell_type": "code",
   "execution_count": null,
   "id": "f864e2a3",
   "metadata": {},
   "outputs": [],
   "source": []
  }
 ],
 "metadata": {
  "language_info": {
   "name": "python"
  }
 },
 "nbformat": 4,
 "nbformat_minor": 5
}
