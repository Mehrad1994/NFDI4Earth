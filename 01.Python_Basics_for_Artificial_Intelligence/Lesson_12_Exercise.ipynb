{
 "cells": [
  {
   "cell_type": "markdown",
   "id": "80181fb0",
   "metadata": {},
   "source": [
    "### 📖6. Calculate the mean, stdv, min, max and quantiles of the NO2 values for each measuring point"
   ]
  },
  {
   "cell_type": "code",
   "execution_count": null,
   "id": "8b6203a3",
   "metadata": {},
   "outputs": [],
   "source": []
  },
  {
   "cell_type": "markdown",
   "id": "0034f0b3",
   "metadata": {},
   "source": [
    "### 📖7. Filter for measuring station 22"
   ]
  },
  {
   "cell_type": "code",
   "execution_count": null,
   "id": "6d3b6bc9",
   "metadata": {},
   "outputs": [],
   "source": []
  },
  {
   "cell_type": "markdown",
   "id": "72dbc474",
   "metadata": {},
   "source": [
    "### 📖8. Calculate the number of days with a NO2 value above 50 for station 22\n",
    "Print the result with a f-string"
   ]
  },
  {
   "cell_type": "code",
   "execution_count": null,
   "id": "5ad95a9e",
   "metadata": {},
   "outputs": [],
   "source": []
  },
  {
   "cell_type": "markdown",
   "id": "184955f1",
   "metadata": {},
   "source": [
    "### ✏️9. Save the DataFrame from task six to a new file"
   ]
  },
  {
   "cell_type": "code",
   "execution_count": null,
   "id": "3b99167b",
   "metadata": {},
   "outputs": [],
   "source": []
  }
 ],
 "metadata": {
  "language_info": {
   "name": "python"
  }
 },
 "nbformat": 4,
 "nbformat_minor": 5
}
