{
 "cells": [
  {
   "cell_type": "markdown",
   "id": "1b547660",
   "metadata": {},
   "source": [
    "### ✏️Task 4\n",
    "Given is a list with the Latin names of tree species from a tree inventory.\n",
    "<br>\n",
    "1. Create a new list in which each tree species is listed only once in order to determine the number of different tree species (Not all of the methods required for this have been taught in the accompanying notebook. However, as in real life, you can find all the answers on the Internet. First try to find an approach on your own, otherwise here are two links that will help you: [Add to list if not already in list](https://stackoverflow.com/questions/42334197/add-only-unique-values-to-a-list-in-python), [Get length of list](https://www.edureka.co/blog/python-list-length/))\n",
    "2. Create a **for loop** (based on your list from subtask 1) which gives the tree species as print output and how often it was found during the inventory (Again, the internet will help you to use a more efficient method than the 'counter' you have learned so far. If you cannot find an approach, have a look at [here](https://www.codegrepper.com/code-examples/python/python+count+number+of+elements+in+list+equal+to))"
   ]
  },
  {
   "cell_type": "code",
   "execution_count": null,
   "id": "b4bb1297",
   "metadata": {},
   "outputs": [],
   "source": [
    "trees = ['Fagus sylvatica', 'Quercus robur', 'Fagus sylvatica', 'Larix decidua', 'Quercus robur', 'Quercus robur', 'Aesculus hippocastanum', 'Larix decidua', 'Larix decidua', 'Picea abies', 'Fagus sylvatica', 'Betula pendula', 'Larix decidua', 'Betula pendula', 'Fagus sylvatica', 'Betula pendula', 'Picea abies', 'Aesculus hippocastanum', 'Fagus sylvatica', 'Quercus robur', 'Larix decidua', 'Fagus sylvatica', 'Betula pendula', 'Fagus sylvatica', 'Picea abies', 'Quercus robur', 'Larix decidua', 'Betula pendula', 'Betula pendula', 'Fagus sylvatica', 'Aesculus hippocastanum', 'Larix decidua', 'Picea abies', 'Betula pendula', 'Fagus sylvatica', 'Fagus sylvatica', 'Betula pendula', 'Aesculus hippocastanum', 'Quercus robur', 'Quercus robur', 'Quercus robur', 'Fagus sylvatica', 'Aesculus hippocastanum', 'Picea abies', 'Larix decidua', 'Picea abies', 'Larix decidua', 'Aesculus hippocastanum', 'Picea abies', 'Picea abies']"
   ]
  },
  {
   "cell_type": "code",
   "execution_count": null,
   "id": "30414200",
   "metadata": {},
   "outputs": [
    {
     "name": "stdout",
     "output_type": "stream",
     "text": [
      "There are 6 different tree species\n",
      "Fagus sylvatica: 11\n",
      "Quercus robur: 8\n",
      "Larix decidua: 9\n",
      "Aesculus hippocastanum: 6\n",
      "Picea abies: 8\n",
      "Betula pendula: 8\n"
     ]
    }
   ],
   "source": [
    "# Your code\n",
    "#Part 1\n",
    "unique_trees = []\n",
    "\n",
    "for i in trees:\n",
    "    if i not in unique_trees:\n",
    "        unique_trees.append(i)\n",
    "\n",
    "print(f\"There are {len(unique_trees)} different tree species\")\n",
    "\n",
    "\n",
    "#Part 2\n",
    "for i in unique_trees:\n",
    "      count = trees.count(i)\n",
    "      print(f\"{i}: {count}\")"
   ]
  }
 ],
 "metadata": {
  "language_info": {
   "name": "python"
  }
 },
 "nbformat": 4,
 "nbformat_minor": 5
}
