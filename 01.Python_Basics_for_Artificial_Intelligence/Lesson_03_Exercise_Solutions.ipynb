{
 "cells": [
  {
   "cell_type": "markdown",
   "id": "fafdffe6",
   "metadata": {},
   "source": [
    "This notebook contains tasks that can be solved with the knowledge from the corresponding basics notebook"
   ]
  },
  {
   "cell_type": "markdown",
   "id": "b0ddd619",
   "metadata": {},
   "source": [
    "### ✏️Task 1\n",
    "Create two variables, each containing a numerical value, and subtract them from each other. Print the result to the console."
   ]
  },
  {
   "cell_type": "code",
   "execution_count": null,
   "id": "9c68a1b0",
   "metadata": {},
   "outputs": [
    {
     "name": "stdout",
     "output_type": "stream",
     "text": [
      "-11\n"
     ]
    }
   ],
   "source": [
    "#Your code:\n",
    "a = 4\n",
    "b = 15\n",
    "c = a - b\n",
    "print(c)"
   ]
  }
 ],
 "metadata": {
  "language_info": {
   "name": "python"
  }
 },
 "nbformat": 4,
 "nbformat_minor": 5
}
