{
 "cells": [
  {
   "cell_type": "code",
   "execution_count": 1,
   "id": "bb76edc4",
   "metadata": {},
   "outputs": [],
   "source": [
    "import pandas as pd\n",
    "import matplotlib.pyplot as plt\n",
    "import numpy as np\n",
    "from tensorflow import keras\n",
    "from tensorflow.keras.models import Sequential\n",
    "from sklearn.metrics import mean_absolute_error\n",
    "\n"
   ]
  },
  {
   "cell_type": "markdown",
   "id": "7edb9e68",
   "metadata": {},
   "source": [
    "### 📖Load the data"
   ]
  },
  {
   "cell_type": "code",
   "execution_count": 2,
   "id": "c4673528",
   "metadata": {},
   "outputs": [],
   "source": []
  },
  {
   "cell_type": "code",
   "execution_count": 3,
   "id": "aad26cc6",
   "metadata": {},
   "outputs": [],
   "source": []
  },
  {
   "cell_type": "code",
   "execution_count": 4,
   "id": "58f64f30-97ae-445c-b45c-b4770ec67f34",
   "metadata": {},
   "outputs": [],
   "source": []
  },
  {
   "cell_type": "code",
   "execution_count": 5,
   "id": "f438e479",
   "metadata": {},
   "outputs": [],
   "source": []
  },
  {
   "cell_type": "code",
   "execution_count": 6,
   "id": "cb23661a",
   "metadata": {},
   "outputs": [],
   "source": []
  },
  {
   "cell_type": "code",
   "execution_count": 7,
   "id": "b8fe0f48",
   "metadata": {},
   "outputs": [],
   "source": []
  },
  {
   "cell_type": "markdown",
   "id": "13c65eda",
   "metadata": {},
   "source": [
    "### 📖Scale the data"
   ]
  },
  {
   "cell_type": "code",
   "execution_count": 8,
   "id": "ea7daa59",
   "metadata": {},
   "outputs": [],
   "source": []
  },
  {
   "cell_type": "code",
   "execution_count": 9,
   "id": "c1419352",
   "metadata": {},
   "outputs": [],
   "source": []
  },
  {
   "cell_type": "markdown",
   "id": "f6da28f6",
   "metadata": {},
   "source": [
    "### 📖Generate X and Y data"
   ]
  },
  {
   "cell_type": "code",
   "execution_count": 63,
   "id": "54966f37",
   "metadata": {},
   "outputs": [],
   "source": []
  },
  {
   "cell_type": "code",
   "execution_count": 49,
   "id": "350de17c",
   "metadata": {},
   "outputs": [],
   "source": []
  },
  {
   "cell_type": "code",
   "execution_count": null,
   "id": "0e87ae3d",
   "metadata": {},
   "outputs": [],
   "source": []
  },
  {
   "cell_type": "markdown",
   "id": "17c17c74",
   "metadata": {},
   "source": [
    "### 📖Built a very simple LSTM Model"
   ]
  },
  {
   "cell_type": "code",
   "execution_count": 50,
   "id": "7b86d303",
   "metadata": {},
   "outputs": [],
   "source": []
  },
  {
   "cell_type": "code",
   "execution_count": 51,
   "id": "af353913",
   "metadata": {},
   "outputs": [],
   "source": []
  },
  {
   "cell_type": "markdown",
   "id": "b24d678e",
   "metadata": {},
   "source": [
    "### 📖Deploy the model to predict the whole training dataset"
   ]
  },
  {
   "cell_type": "code",
   "execution_count": 52,
   "id": "60251458",
   "metadata": {},
   "outputs": [],
   "source": []
  },
  {
   "cell_type": "markdown",
   "id": "7bda3e0c-484e-46ba-83ed-a595524c1d1c",
   "metadata": {},
   "source": [
    "### 📖Flatten the forecast"
   ]
  },
  {
   "cell_type": "code",
   "execution_count": 53,
   "id": "70c0a11f-23a6-49e8-822e-ac17e6baab0b",
   "metadata": {
    "scrolled": true
   },
   "outputs": [],
   "source": []
  },
  {
   "cell_type": "markdown",
   "id": "d32b45c8",
   "metadata": {},
   "source": [
    "### 📖Postprocess the data"
   ]
  },
  {
   "cell_type": "code",
   "execution_count": 54,
   "id": "536dca64",
   "metadata": {},
   "outputs": [],
   "source": []
  },
  {
   "cell_type": "markdown",
   "id": "32cc5e72",
   "metadata": {},
   "source": [
    "### 📖Create a Dataframe that will store real and predicted values"
   ]
  },
  {
   "cell_type": "code",
   "execution_count": 55,
   "id": "a166bf98",
   "metadata": {},
   "outputs": [],
   "source": []
  },
  {
   "cell_type": "code",
   "execution_count": 56,
   "id": "f282de81",
   "metadata": {},
   "outputs": [],
   "source": []
  },
  {
   "cell_type": "code",
   "execution_count": 57,
   "id": "3dd68b8c",
   "metadata": {},
   "outputs": [],
   "source": []
  },
  {
   "cell_type": "markdown",
   "id": "95c38939",
   "metadata": {},
   "source": [
    "### 📖Plot the data"
   ]
  },
  {
   "cell_type": "code",
   "execution_count": 58,
   "id": "eedf2c18",
   "metadata": {},
   "outputs": [],
   "source": []
  },
  {
   "cell_type": "markdown",
   "id": "0b297ee3",
   "metadata": {},
   "source": [
    "### 📖Take a closer look  on the validation data\n",
    "If validation_split was used in model.fit, the last data is ignored during training given by the percentage"
   ]
  },
  {
   "cell_type": "code",
   "execution_count": 59,
   "id": "0a8aa5a3",
   "metadata": {},
   "outputs": [],
   "source": []
  },
  {
   "cell_type": "code",
   "execution_count": 60,
   "id": "9101fb85",
   "metadata": {},
   "outputs": [],
   "source": []
  },
  {
   "cell_type": "code",
   "execution_count": 61,
   "id": "9ade363e",
   "metadata": {},
   "outputs": [],
   "source": []
  },
  {
   "cell_type": "code",
   "execution_count": 62,
   "id": "c1b6fc54",
   "metadata": {},
   "outputs": [],
   "source": []
  },
  {
   "cell_type": "code",
   "execution_count": null,
   "id": "c05a7d40",
   "metadata": {},
   "outputs": [],
   "source": []
  }
 ],
 "metadata": {
  "kernelspec": {
   "display_name": "Python 3 (ipykernel)",
   "language": "python",
   "name": "python3"
  },
  "language_info": {
   "codemirror_mode": {
    "name": "ipython",
    "version": 3
   },
   "file_extension": ".py",
   "mimetype": "text/x-python",
   "name": "python",
   "nbconvert_exporter": "python",
   "pygments_lexer": "ipython3",
   "version": "3.9.18"
  }
 },
 "nbformat": 4,
 "nbformat_minor": 5
}
