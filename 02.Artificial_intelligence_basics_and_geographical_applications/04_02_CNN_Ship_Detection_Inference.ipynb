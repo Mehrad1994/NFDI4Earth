{
 "cells": [
  {
   "cell_type": "code",
   "execution_count": 4,
   "id": "656104a1",
   "metadata": {},
   "outputs": [],
   "source": [
    "import numpy as np\n",
    "import matplotlib.pyplot as plt\n",
    "\n"
   ]
  },
  {
   "cell_type": "code",
   "execution_count": 5,
   "id": "ed6e83d7",
   "metadata": {},
   "outputs": [],
   "source": []
  },
  {
   "cell_type": "markdown",
   "id": "1d9b7182",
   "metadata": {},
   "source": [
    "### 📖Draw into images\n",
    "We will use an downsampled image to take a look at the Draw functions, as Jupyter Notebooks does not like the very big image that we just loaded"
   ]
  },
  {
   "cell_type": "code",
   "execution_count": 6,
   "id": "08df2056",
   "metadata": {},
   "outputs": [],
   "source": []
  },
  {
   "cell_type": "code",
   "execution_count": 7,
   "id": "80b2f59e",
   "metadata": {},
   "outputs": [],
   "source": []
  },
  {
   "cell_type": "markdown",
   "id": "c91f09a5",
   "metadata": {},
   "source": [
    "### 📖Crop images"
   ]
  },
  {
   "cell_type": "code",
   "execution_count": 8,
   "id": "d5b69bc5",
   "metadata": {},
   "outputs": [],
   "source": []
  },
  {
   "cell_type": "code",
   "execution_count": 9,
   "id": "4d2d551b",
   "metadata": {},
   "outputs": [],
   "source": []
  },
  {
   "cell_type": "markdown",
   "id": "8ea2e0ba",
   "metadata": {},
   "source": [
    "***\n",
    "### 📖Search the image for ships"
   ]
  },
  {
   "cell_type": "code",
   "execution_count": 17,
   "id": "f2392071",
   "metadata": {},
   "outputs": [],
   "source": []
  },
  {
   "cell_type": "markdown",
   "id": "344894c0",
   "metadata": {},
   "source": [
    "### 📖Loop over rows and columns\n",
    "to crop a 64x64 patch out of the image and push it into the model"
   ]
  },
  {
   "cell_type": "code",
   "execution_count": 18,
   "id": "e3eb54e0",
   "metadata": {},
   "outputs": [],
   "source": []
  },
  {
   "cell_type": "code",
   "execution_count": 22,
   "id": "fb0feb93",
   "metadata": {
    "scrolled": true
   },
   "outputs": [],
   "source": []
  },
  {
   "cell_type": "markdown",
   "id": "43d97f88",
   "metadata": {},
   "source": [
    "### 📖Highlight all potential ships in the image"
   ]
  },
  {
   "cell_type": "code",
   "execution_count": 23,
   "id": "6d04a877",
   "metadata": {},
   "outputs": [],
   "source": []
  },
  {
   "cell_type": "markdown",
   "id": "2f54fd76",
   "metadata": {},
   "source": [
    "### 📖More efficient way to execute the search"
   ]
  },
  {
   "cell_type": "code",
   "execution_count": 24,
   "id": "dd77a64e",
   "metadata": {},
   "outputs": [],
   "source": []
  },
  {
   "cell_type": "code",
   "execution_count": 25,
   "id": "fe725879",
   "metadata": {},
   "outputs": [],
   "source": []
  },
  {
   "cell_type": "code",
   "execution_count": null,
   "id": "83eb3b4c",
   "metadata": {},
   "outputs": [],
   "source": []
  }
 ],
 "metadata": {
  "kernelspec": {
   "display_name": "Python 3 (ipykernel)",
   "language": "python",
   "name": "python3"
  },
  "language_info": {
   "codemirror_mode": {
    "name": "ipython",
    "version": 3
   },
   "file_extension": ".py",
   "mimetype": "text/x-python",
   "name": "python",
   "nbconvert_exporter": "python",
   "pygments_lexer": "ipython3",
   "version": "3.9.18"
  }
 },
 "nbformat": 4,
 "nbformat_minor": 5
}
