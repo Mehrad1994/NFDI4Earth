{
 "cells": [
  {
   "cell_type": "markdown",
   "id": "4431a1a8",
   "metadata": {},
   "source": [
    "### ✏️Single neuron aka Linear Regression\n",
    "Kilometer to miles"
   ]
  },
  {
   "cell_type": "code",
   "execution_count": null,
   "id": "62bdc584",
   "metadata": {},
   "outputs": [],
   "source": [
    "from sklearn.linear_model import LinearRegression\n",
    "import numpy as np\n",
    "import matplotlib.pyplot as plt"
   ]
  },
  {
   "cell_type": "code",
   "execution_count": null,
   "id": "cd60c174",
   "metadata": {},
   "outputs": [],
   "source": [
    "x = np.array([10, 15, 60]) #Distances in Km\n",
    "y = np.array([6.2, 9.3, 37.3]) #Distances in Miles\n",
    "x.shape"
   ]
  },
  {
   "cell_type": "markdown",
   "id": "0150a337",
   "metadata": {},
   "source": [
    "### ✏️The \"Shape\" Problem:\n",
    "Each observation that we have in our x-data must be stored as a nested list (or an own dimension in an array).\n",
    "\n",
    "We have several options to achieve this:\n",
    "\n",
    "1. np.array([[10], [15], [60]])\n",
    "2. np.array([10, 15, 60]).reshape(-1, 1)"
   ]
  },
  {
   "cell_type": "code",
   "execution_count": null,
   "id": "f964c8d6",
   "metadata": {},
   "outputs": [],
   "source": [
    "#First try it without reshape\n",
    "x = x.reshape(-1, 1)\n",
    "y = y.reshape(-1, 1) #not necessary\n",
    "x.shape"
   ]
  },
  {
   "cell_type": "code",
   "execution_count": null,
   "id": "6af5310c",
   "metadata": {},
   "outputs": [],
   "source": [
    "model = LinearRegression(fit_intercept=False)\n",
    "model.fit(x,y)"
   ]
  },
  {
   "cell_type": "markdown",
   "id": "a9a25db6",
   "metadata": {},
   "source": [
    "### 📖Lets take a look at the weight that was chosen"
   ]
  },
  {
   "cell_type": "code",
   "execution_count": null,
   "id": "af87fae2",
   "metadata": {},
   "outputs": [],
   "source": [
    "model.coef_"
   ]
  },
  {
   "cell_type": "code",
   "execution_count": null,
   "id": "1ad230b2",
   "metadata": {},
   "outputs": [],
   "source": [
    "15 * 0.62152866"
   ]
  },
  {
   "cell_type": "code",
   "execution_count": null,
   "id": "09bfc057",
   "metadata": {},
   "outputs": [],
   "source": [
    "model.predict([[15]])"
   ]
  },
  {
   "cell_type": "markdown",
   "id": "d29acd99",
   "metadata": {},
   "source": [
    "### ✏️Single neuron with bias aka Linear Regression with y-intercept\n",
    "Exaples Celsius to Fahrenheit"
   ]
  },
  {
   "cell_type": "code",
   "execution_count": null,
   "id": "ae35ba23",
   "metadata": {},
   "outputs": [],
   "source": [
    "x = np.array([-40, -10,  0,  8, 15, 22], dtype = float).reshape(-1,1) #Celsius\n",
    "y = np.array([-40,  14, 32, 46.4, 59, 71.6],  dtype=float) #Fahrenheit\n",
    "x.shape"
   ]
  },
  {
   "cell_type": "code",
   "execution_count": null,
   "id": "6719cc83",
   "metadata": {},
   "outputs": [],
   "source": [
    "model2 = LinearRegression(fit_intercept=True)\n",
    "model2.fit(x, y)"
   ]
  },
  {
   "cell_type": "code",
   "execution_count": null,
   "id": "690e8040",
   "metadata": {},
   "outputs": [],
   "source": [
    "print(model2.coef_)\n",
    "print(model2.intercept_)"
   ]
  },
  {
   "cell_type": "code",
   "execution_count": null,
   "id": "eac56b18",
   "metadata": {},
   "outputs": [],
   "source": [
    "model2.predict([[16]])"
   ]
  }
 ],
 "metadata": {
  "kernelspec": {
   "display_name": "Python 3 (ipykernel)",
   "language": "python",
   "name": "python3"
  },
  "language_info": {
   "codemirror_mode": {
    "name": "ipython",
    "version": 3
   },
   "file_extension": ".py",
   "mimetype": "text/x-python",
   "name": "python",
   "nbconvert_exporter": "python",
   "pygments_lexer": "ipython3",
   "version": "3.9.18"
  }
 },
 "nbformat": 4,
 "nbformat_minor": 5
}
