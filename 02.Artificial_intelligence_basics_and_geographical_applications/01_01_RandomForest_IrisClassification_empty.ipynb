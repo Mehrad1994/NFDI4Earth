{
 "cells": [
  {
   "cell_type": "code",
   "execution_count": 2,
   "id": "126b8742",
   "metadata": {},
   "outputs": [],
   "source": []
  },
  {
   "cell_type": "markdown",
   "id": "3fa33be1",
   "metadata": {},
   "source": [
    "### 📖Prepare Data"
   ]
  },
  {
   "cell_type": "code",
   "execution_count": 3,
   "id": "67a68a81",
   "metadata": {},
   "outputs": [],
   "source": []
  },
  {
   "cell_type": "markdown",
   "id": "11923ee1",
   "metadata": {},
   "source": [
    "### 📖Check whether data is balanced"
   ]
  },
  {
   "cell_type": "code",
   "execution_count": 4,
   "id": "144ef406",
   "metadata": {},
   "outputs": [],
   "source": []
  },
  {
   "cell_type": "markdown",
   "id": "ff03345c",
   "metadata": {},
   "source": [
    "### 📖Drop all columns with irrelevant data\n",
    "None in this dataset, but remember when using other datasets!"
   ]
  },
  {
   "cell_type": "markdown",
   "id": "767e8f47",
   "metadata": {},
   "source": [
    "### 📖Check for missing data"
   ]
  },
  {
   "cell_type": "code",
   "execution_count": 5,
   "id": "079fc6d3",
   "metadata": {
    "scrolled": true
   },
   "outputs": [],
   "source": []
  },
  {
   "cell_type": "markdown",
   "id": "984612bf",
   "metadata": {},
   "source": [
    "### 📖Drop NaN Data"
   ]
  },
  {
   "cell_type": "code",
   "execution_count": null,
   "id": "17d5a27d",
   "metadata": {},
   "outputs": [],
   "source": []
  },
  {
   "cell_type": "markdown",
   "id": "9e72cf76",
   "metadata": {},
   "source": [
    "### 📖Create numerical classes\n",
    "Currently the classes are defined by strings (\"Iris setosa\" etc.).\n",
    "Many algorithms can not use this datatype to classify data. Therefore, we change the strings into numerical categories"
   ]
  },
  {
   "cell_type": "code",
   "execution_count": 6,
   "id": "47f00f66",
   "metadata": {},
   "outputs": [],
   "source": []
  },
  {
   "cell_type": "code",
   "execution_count": 7,
   "id": "859c62fd",
   "metadata": {},
   "outputs": [],
   "source": []
  },
  {
   "cell_type": "markdown",
   "id": "e0d85716",
   "metadata": {},
   "source": [
    "### 📖Divide data into X and Y data\n"
   ]
  },
  {
   "cell_type": "code",
   "execution_count": 11,
   "id": "8fecf75e",
   "metadata": {},
   "outputs": [],
   "source": []
  },
  {
   "cell_type": "markdown",
   "id": "6aaebbec",
   "metadata": {},
   "source": [
    "### 📖Seperate into train and test data"
   ]
  },
  {
   "cell_type": "code",
   "execution_count": 12,
   "id": "7a661e19",
   "metadata": {},
   "outputs": [],
   "source": []
  },
  {
   "cell_type": "markdown",
   "id": "eaa253c6",
   "metadata": {},
   "source": [
    "Test which variables contain what"
   ]
  },
  {
   "cell_type": "code",
   "execution_count": 13,
   "id": "ea86979d",
   "metadata": {},
   "outputs": [],
   "source": []
  },
  {
   "cell_type": "markdown",
   "id": "e594cd98",
   "metadata": {},
   "source": [
    "### 📖Build a custom Random Forest model"
   ]
  },
  {
   "cell_type": "code",
   "execution_count": 26,
   "id": "da9f0e0b",
   "metadata": {},
   "outputs": [],
   "source": []
  },
  {
   "cell_type": "markdown",
   "id": "0b18be13",
   "metadata": {},
   "source": [
    "### 📖Check performance"
   ]
  },
  {
   "cell_type": "code",
   "execution_count": 16,
   "id": "795a5dc1",
   "metadata": {},
   "outputs": [],
   "source": []
  },
  {
   "cell_type": "code",
   "execution_count": 21,
   "id": "c7ad6afb",
   "metadata": {
    "scrolled": true
   },
   "outputs": [],
   "source": []
  },
  {
   "cell_type": "code",
   "execution_count": 22,
   "id": "a51dfd7d",
   "metadata": {},
   "outputs": [],
   "source": []
  },
  {
   "cell_type": "markdown",
   "id": "2246bfb6",
   "metadata": {},
   "source": [
    "### 📖Feature importances"
   ]
  },
  {
   "cell_type": "code",
   "execution_count": 25,
   "id": "32ecf2e8",
   "metadata": {},
   "outputs": [],
   "source": []
  },
  {
   "cell_type": "code",
   "execution_count": null,
   "id": "87ca5923",
   "metadata": {},
   "outputs": [],
   "source": []
  }
 ],
 "metadata": {
  "kernelspec": {
   "display_name": "Python 3 (ipykernel)",
   "language": "python",
   "name": "python3"
  },
  "language_info": {
   "codemirror_mode": {
    "name": "ipython",
    "version": 3
   },
   "file_extension": ".py",
   "mimetype": "text/x-python",
   "name": "python",
   "nbconvert_exporter": "python",
   "pygments_lexer": "ipython3",
   "version": "3.9.18"
  }
 },
 "nbformat": 4,
 "nbformat_minor": 5
}
