{
 "cells": [
  {
   "cell_type": "code",
   "execution_count": 1,
   "id": "3a34468a-7e98-4329-bba6-e63ad6a8bc04",
   "metadata": {},
   "outputs": [],
   "source": [
    "import pandas as pd\n",
    "import matplotlib.pyplot as plt\n",
    "import numpy as np\n",
    "from sklearn.model_selection import train_test_split\n",
    "from tensorflow import keras\n",
    "from tensorflow.keras.models import Sequential\n",
    "from tensorflow.keras.layers import Dense, Dropout\n",
    "from tensorflow.keras.layers.experimental.preprocessing import Normalization"
   ]
  },
  {
   "cell_type": "markdown",
   "id": "b0822f70-e5cb-431c-904c-de6f3a05131b",
   "metadata": {},
   "source": [
    "### 📖Import the Iris dataset as an example of multi-class classification"
   ]
  },
  {
   "cell_type": "code",
   "execution_count": null,
   "id": "9073d0db-6750-4da2-8b15-965aafbeb15c",
   "metadata": {},
   "outputs": [],
   "source": []
  },
  {
   "cell_type": "code",
   "execution_count": null,
   "id": "21af59ad-525b-4a39-9fcb-884f16e49fae",
   "metadata": {},
   "outputs": [],
   "source": []
  },
  {
   "cell_type": "markdown",
   "id": "b2fdcf1d-1b60-4a37-a372-fa6b2988f08d",
   "metadata": {},
   "source": [
    "### 📖Replace the Classes that are currently represented as strings by numerical classes"
   ]
  },
  {
   "cell_type": "code",
   "execution_count": null,
   "id": "8bc348a9-5c17-4b34-b2dd-2218c17af3b5",
   "metadata": {},
   "outputs": [],
   "source": []
  },
  {
   "cell_type": "markdown",
   "id": "83519932",
   "metadata": {},
   "source": [
    "### 📖Illustrate the procedure of One-Hot-Encoding"
   ]
  },
  {
   "cell_type": "code",
   "execution_count": null,
   "id": "90fda1a6",
   "metadata": {},
   "outputs": [],
   "source": []
  },
  {
   "cell_type": "markdown",
   "id": "7b1eda77-68cf-47cf-b403-c0df821251d4",
   "metadata": {},
   "source": [
    "### 📖Split into x and y data and One-Hot-Ecode the Y data"
   ]
  },
  {
   "cell_type": "code",
   "execution_count": null,
   "id": "6e7c4d05-0dbe-4363-a090-94312484669d",
   "metadata": {},
   "outputs": [],
   "source": []
  },
  {
   "cell_type": "code",
   "execution_count": null,
   "id": "58950ad3-5d0a-4516-ac97-937c7224f458",
   "metadata": {},
   "outputs": [],
   "source": []
  },
  {
   "cell_type": "markdown",
   "id": "8ed7758a-2e35-40cf-b2d2-74b6e1e92a8d",
   "metadata": {},
   "source": [
    "### 📖Build the ANN"
   ]
  },
  {
   "cell_type": "code",
   "execution_count": null,
   "id": "9ced5ca7-5c95-44c9-a23b-8471160cbb9b",
   "metadata": {},
   "outputs": [],
   "source": []
  },
  {
   "cell_type": "markdown",
   "id": "fde684e8-f180-47bc-9eb3-6de4c2cedb93",
   "metadata": {},
   "source": [
    "### 📖What is different to a binary classifier???\n",
    "\n",
    "As we have three classes now, we also need three output neurons.\n",
    "Hence the last layer looks like this:\n",
    "\n",
    "model.add(Dense(3, activation=\"softmax\"))\n",
    "\n",
    "Instead of a sigmoid activation function in the last layer, we use a softmax.\n",
    "We could also use sigmoid, but it does not make a lot of sense to do so.\n",
    "And this is why:\n",
    "Sigmoid scales each element in the output layer to a range between 0 and 1. This could look like this:\n",
    "   \n",
    "    [0.735, 0.128, 0.345]\n",
    "    \n",
    "In this example the input data most likely belongs to the first class, as it has the highest value.\n",
    "However, those three values given in the output do not sum up to 1, making it inpossible to interpret those values as possibilities.\n",
    "\n",
    "A softmax activation function avoids this problem, by scaling the output in a way that the sum of outputs is 1.\n",
    "The output of a softmax could look like this:\n",
    "  \n",
    "    [0.75, 0.125, 0.125]\n",
    "\n",
    "Furthermore, we can not use a binary crossentropy as a loss function, but need a categorical crossentropy"
   ]
  },
  {
   "cell_type": "code",
   "execution_count": null,
   "id": "8c1c77b6-6734-4612-ac31-4fd045f458ae",
   "metadata": {},
   "outputs": [],
   "source": []
  },
  {
   "cell_type": "code",
   "execution_count": null,
   "id": "d76fbd5f",
   "metadata": {},
   "outputs": [],
   "source": []
  },
  {
   "cell_type": "markdown",
   "id": "8bf54f0f",
   "metadata": {},
   "source": [
    "### 📖Evaluate on training data"
   ]
  },
  {
   "cell_type": "code",
   "execution_count": null,
   "id": "1f23e76a",
   "metadata": {},
   "outputs": [],
   "source": []
  },
  {
   "cell_type": "markdown",
   "id": "20fd06aa",
   "metadata": {},
   "source": [
    "### 📖Evaluate on testing data"
   ]
  },
  {
   "cell_type": "code",
   "execution_count": null,
   "id": "353daf8d-1f3d-4868-8a2f-ac23600b8ca5",
   "metadata": {},
   "outputs": [],
   "source": []
  },
  {
   "cell_type": "markdown",
   "id": "ca248867",
   "metadata": {},
   "source": [
    "### 📖Predict the testing data"
   ]
  },
  {
   "cell_type": "code",
   "execution_count": null,
   "id": "5a672ac0-cb09-420c-abea-847425e090e2",
   "metadata": {},
   "outputs": [],
   "source": []
  },
  {
   "cell_type": "code",
   "execution_count": null,
   "id": "4e769c51-367e-405d-884b-1641be626528",
   "metadata": {},
   "outputs": [],
   "source": []
  }
 ],
 "metadata": {
  "kernelspec": {
   "display_name": "Python 3 (ipykernel)",
   "language": "python",
   "name": "python3"
  },
  "language_info": {
   "codemirror_mode": {
    "name": "ipython",
    "version": 3
   },
   "file_extension": ".py",
   "mimetype": "text/x-python",
   "name": "python",
   "nbconvert_exporter": "python",
   "pygments_lexer": "ipython3",
   "version": "3.9.18"
  }
 },
 "nbformat": 4,
 "nbformat_minor": 5
}
