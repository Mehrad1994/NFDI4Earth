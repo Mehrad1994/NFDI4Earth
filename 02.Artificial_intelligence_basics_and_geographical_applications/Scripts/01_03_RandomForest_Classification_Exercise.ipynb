{
 "cells": [
  {
   "cell_type": "markdown",
   "id": "1d0d8565",
   "metadata": {},
   "source": [
    "### 📖Classifying the Stars\n",
    "The task is to classify star types based on NASA's Star dataset.\n",
    "\n",
    "\n",
    "You can delete all non numeric feature columns from the dataset and only consider the numeric features.\n",
    "\n",
    "If you want to convert the columns with non-numeric data, you can check out this: https://www.kaggle.com/code/prashant111/random-forest-classifier-tutorial#12.-Feature-Engineering- (you will have to install an addition package to your environment)\n",
    "\n",
    "The data comes from https://www.kaggle.com/datasets/brsdincer/star-type-classification"
   ]
  },
  {
   "cell_type": "code",
   "execution_count": 1,
   "id": "7ffce907",
   "metadata": {},
   "outputs": [],
   "source": [
    "#imports"
   ]
  },
  {
   "cell_type": "code",
   "execution_count": null,
   "id": "9ad46b4a",
   "metadata": {},
   "outputs": [],
   "source": [
    "#Your code"
   ]
  }
 ],
 "metadata": {
  "kernelspec": {
   "display_name": "Python 3 (ipykernel)",
   "language": "python",
   "name": "python3"
  },
  "language_info": {
   "codemirror_mode": {
    "name": "ipython",
    "version": 3
   },
   "file_extension": ".py",
   "mimetype": "text/x-python",
   "name": "python",
   "nbconvert_exporter": "python",
   "pygments_lexer": "ipython3",
   "version": "3.9.12"
  }
 },
 "nbformat": 4,
 "nbformat_minor": 5
}
