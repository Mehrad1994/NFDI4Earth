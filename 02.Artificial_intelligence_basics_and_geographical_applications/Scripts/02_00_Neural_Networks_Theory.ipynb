{
 "cells": [
  {
   "cell_type": "markdown",
   "id": "4431a1a8",
   "metadata": {},
   "source": [
    "### ✏️Single neuron aka Linear Regression\n",
    "Kilometer to miles"
   ]
  },
  {
   "cell_type": "code",
   "execution_count": null,
   "id": "62bdc584",
   "metadata": {},
   "outputs": [],
   "source": []
  },
  {
   "cell_type": "code",
   "execution_count": null,
   "id": "cd60c174",
   "metadata": {},
   "outputs": [],
   "source": []
  },
  {
   "cell_type": "markdown",
   "id": "0150a337",
   "metadata": {},
   "source": [
    "### ✏️The \"Shape\" Problem:\n",
    "Each observation that we have in our x-data must be stored as a nested list (or an own dimension in an array).\n",
    "\n",
    "We have several options to achieve this:\n",
    "\n",
    "1. np.array([[10], [15], [60]])\n",
    "2. np.array([10, 15, 60]).reshape(-1, 1)"
   ]
  },
  {
   "cell_type": "code",
   "execution_count": null,
   "id": "f964c8d6",
   "metadata": {},
   "outputs": [],
   "source": []
  },
  {
   "cell_type": "code",
   "execution_count": null,
   "id": "6af5310c",
   "metadata": {},
   "outputs": [],
   "source": []
  },
  {
   "cell_type": "markdown",
   "id": "a9a25db6",
   "metadata": {},
   "source": [
    "### 📖Lets take a look at the weight that was chosen"
   ]
  },
  {
   "cell_type": "code",
   "execution_count": null,
   "id": "af87fae2",
   "metadata": {},
   "outputs": [],
   "source": []
  },
  {
   "cell_type": "code",
   "execution_count": null,
   "id": "1ad230b2",
   "metadata": {},
   "outputs": [],
   "source": []
  },
  {
   "cell_type": "code",
   "execution_count": null,
   "id": "09bfc057",
   "metadata": {},
   "outputs": [],
   "source": []
  },
  {
   "cell_type": "markdown",
   "id": "d29acd99",
   "metadata": {},
   "source": [
    "### ✏️Single neuron with bias aka Linear Regression with y-intercept\n",
    "Exaples Celsius to Fahrenheit"
   ]
  },
  {
   "cell_type": "code",
   "execution_count": null,
   "id": "ae35ba23",
   "metadata": {},
   "outputs": [],
   "source": []
  },
  {
   "cell_type": "code",
   "execution_count": null,
   "id": "6719cc83",
   "metadata": {},
   "outputs": [],
   "source": []
  },
  {
   "cell_type": "code",
   "execution_count": null,
   "id": "690e8040",
   "metadata": {},
   "outputs": [],
   "source": []
  },
  {
   "cell_type": "code",
   "execution_count": null,
   "id": "eac56b18",
   "metadata": {},
   "outputs": [],
   "source": []
  }
 ],
 "metadata": {
  "kernelspec": {
   "display_name": "Python 3 (ipykernel)",
   "language": "python",
   "name": "python3"
  },
  "language_info": {
   "codemirror_mode": {
    "name": "ipython",
    "version": 3
   },
   "file_extension": ".py",
   "mimetype": "text/x-python",
   "name": "python",
   "nbconvert_exporter": "python",
   "pygments_lexer": "ipython3",
   "version": "3.9.18"
  }
 },
 "nbformat": 4,
 "nbformat_minor": 5
}
