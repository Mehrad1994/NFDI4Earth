{
 "cells": [
  {
   "cell_type": "markdown",
   "id": "68bd153a",
   "metadata": {},
   "source": [
    "### ✏️Task\n",
    "In this exercise, you should set up a neural network for a regression problem.\n",
    "<br>The model should predict the runoff of the next day based on today's weather situation.\n",
    "<br>Thus, you will need to shift the runoff column by one day, so one row always holds the weather features of day t and the runoff of day t+1.\n",
    "<br>Also, remember to clean up the dataframe by dropping rows with NaN values."
   ]
  },
  {
   "cell_type": "code",
   "execution_count": 3,
   "id": "44794555",
   "metadata": {},
   "outputs": [],
   "source": [
    "import pandas as pd\n",
    "import numpy as np\n",
    "from tensorflow import keras\n",
    "import tensorflow as tf\n",
    "from sklearn.model_selection import train_test_split\n",
    "from tensorflow.keras.models import Sequential\n",
    "from tensorflow.keras.layers import Dense\n",
    "from sklearn.metrics import r2_score, mean_squared_error\n",
    "from sklearn.preprocessing import MinMaxScaler\n",
    "import matplotlib.pyplot as plt"
   ]
  },
  {
   "cell_type": "markdown",
   "id": "d44e4035",
   "metadata": {},
   "source": [
    "### 📖Load the data"
   ]
  },
  {
   "cell_type": "code",
   "execution_count": null,
   "id": "c040f385",
   "metadata": {},
   "outputs": [],
   "source": []
  },
  {
   "cell_type": "markdown",
   "id": "6e164931",
   "metadata": {},
   "source": [
    "### 📖Shift the runoff and drop na"
   ]
  },
  {
   "cell_type": "code",
   "execution_count": null,
   "id": "54cae26b",
   "metadata": {},
   "outputs": [],
   "source": []
  },
  {
   "cell_type": "markdown",
   "id": "fc56d289",
   "metadata": {},
   "source": [
    "### 📖Divide into x and y"
   ]
  },
  {
   "cell_type": "code",
   "execution_count": null,
   "id": "26dd3db2",
   "metadata": {},
   "outputs": [],
   "source": []
  },
  {
   "cell_type": "markdown",
   "id": "4b52893b",
   "metadata": {},
   "source": [
    "### 📖Divide into train test"
   ]
  },
  {
   "cell_type": "code",
   "execution_count": null,
   "id": "88acb950",
   "metadata": {},
   "outputs": [],
   "source": []
  },
  {
   "cell_type": "markdown",
   "id": "b943122f",
   "metadata": {},
   "source": [
    "### 📖Create normalisation layer"
   ]
  },
  {
   "cell_type": "code",
   "execution_count": null,
   "id": "47072b39",
   "metadata": {},
   "outputs": [],
   "source": []
  },
  {
   "cell_type": "markdown",
   "id": "2c6290a0",
   "metadata": {},
   "source": [
    "### 📖Create model"
   ]
  },
  {
   "cell_type": "code",
   "execution_count": null,
   "id": "3bbaf3bc",
   "metadata": {},
   "outputs": [],
   "source": []
  },
  {
   "cell_type": "markdown",
   "id": "e5934e44",
   "metadata": {},
   "source": [
    "### 📖Plot loss"
   ]
  },
  {
   "cell_type": "code",
   "execution_count": null,
   "id": "17fa9852",
   "metadata": {},
   "outputs": [],
   "source": []
  },
  {
   "cell_type": "code",
   "execution_count": null,
   "id": "4707389f",
   "metadata": {},
   "outputs": [],
   "source": []
  },
  {
   "cell_type": "code",
   "execution_count": null,
   "id": "f5db43d4",
   "metadata": {},
   "outputs": [],
   "source": []
  }
 ],
 "metadata": {
  "kernelspec": {
   "display_name": "Python 3 (ipykernel)",
   "language": "python",
   "name": "python3"
  },
  "language_info": {
   "codemirror_mode": {
    "name": "ipython",
    "version": 3
   },
   "file_extension": ".py",
   "mimetype": "text/x-python",
   "name": "python",
   "nbconvert_exporter": "python",
   "pygments_lexer": "ipython3",
   "version": "3.9.12"
  }
 },
 "nbformat": 4,
 "nbformat_minor": 5
}
