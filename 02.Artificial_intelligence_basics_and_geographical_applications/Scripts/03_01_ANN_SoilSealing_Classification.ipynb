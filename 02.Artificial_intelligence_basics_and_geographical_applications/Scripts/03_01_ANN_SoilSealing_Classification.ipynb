{
 "cells": [
  {
   "cell_type": "code",
   "execution_count": 1,
   "id": "a9e5453a",
   "metadata": {},
   "outputs": [],
   "source": [
    "import numpy as np\n",
    "import matplotlib.pyplot as plt"
   ]
  },
  {
   "cell_type": "markdown",
   "id": "6996e3ca-8fd8-4af1-a264-97a3450b3180",
   "metadata": {},
   "source": [
    "### 📖Import the tiff files"
   ]
  },
  {
   "cell_type": "code",
   "execution_count": 8,
   "id": "0608aeeb",
   "metadata": {},
   "outputs": [],
   "source": []
  },
  {
   "cell_type": "markdown",
   "id": "cf63b372-617a-42d2-b279-ea5db8e90d04",
   "metadata": {},
   "source": [
    "### 📖Check the shape of the tiff files"
   ]
  },
  {
   "cell_type": "code",
   "execution_count": 9,
   "id": "b88c4dfc",
   "metadata": {},
   "outputs": [],
   "source": []
  },
  {
   "cell_type": "markdown",
   "id": "a597971d-82a4-48b1-a9e9-813faca91a8d",
   "metadata": {},
   "source": [
    "### 📖Check for NaN Values\n",
    "Attention! Most raster datasets have a specific No Data value, which might be -9999, for example. However, we only check for `np.nan` values. Therefore, always check the file's metadata to see if a specific No Data value is set.\n",
    "\n",
    "You can use the following line to convert a specific No Data value to `np.nan`:\n",
    "\n",
    "array_with_nan = np.where(input_array == -9999, np.nan, input_array)\n",
    "\n",
    "The first parameter in np.where is the condition that is tested. If the condition is true, then the value will be replaced by the parameter we provided second (here np.nan). If the condition is false, our third parameter will be used to replace the value (here the value of input_array)."
   ]
  },
  {
   "cell_type": "code",
   "execution_count": 10,
   "id": "d699a53c",
   "metadata": {},
   "outputs": [],
   "source": []
  },
  {
   "cell_type": "markdown",
   "id": "2e935011",
   "metadata": {},
   "source": [
    "### 📖Invert 0 and 1 in y data\n",
    "Currently the mask (whether it is a sealed surface or not) holds the values like this:\n",
    "0 = sealed surface\n",
    "1 = unsealed surface\n",
    "\n",
    "However, as we want to test each pixel for sealed surface characteristics, it does make sense to invert those values.\n",
    "Our research question: Is the surface sealed?\n",
    "The answers we want to receive:\n",
    "<br>True = 1 = Sealed Surface\n",
    "<br>False = 0 = Unsealed surface\n",
    "\n",
    "From a programmer's perspective this step is not realy necessary, as it remains a binary problem."
   ]
  },
  {
   "cell_type": "code",
   "execution_count": 11,
   "id": "73ca2a62",
   "metadata": {},
   "outputs": [],
   "source": []
  },
  {
   "cell_type": "code",
   "execution_count": 12,
   "id": "a24e772f-9da2-487a-9842-63952ee99c3e",
   "metadata": {},
   "outputs": [],
   "source": []
  },
  {
   "cell_type": "markdown",
   "id": "0bdface0-20bf-436d-8df4-fa6c91107dc3",
   "metadata": {},
   "source": [
    "### 📖Reshape the arrays from 3D array (width, height, channels) to 2D array (value, channel)"
   ]
  },
  {
   "cell_type": "code",
   "execution_count": 13,
   "id": "5cc04414",
   "metadata": {},
   "outputs": [],
   "source": []
  },
  {
   "cell_type": "code",
   "execution_count": 14,
   "id": "7f2428d0",
   "metadata": {},
   "outputs": [],
   "source": []
  },
  {
   "cell_type": "markdown",
   "id": "bf0b0a4d-d447-46bf-9f0e-8d3cb6af401b",
   "metadata": {},
   "source": [
    "### 📖Build the ANN"
   ]
  },
  {
   "cell_type": "code",
   "execution_count": 15,
   "id": "48647574",
   "metadata": {},
   "outputs": [],
   "source": []
  },
  {
   "cell_type": "markdown",
   "id": "904f41f3-b7ac-49a2-becd-65473a6b81bc",
   "metadata": {},
   "source": [
    "### 📖Normalize the Input data"
   ]
  },
  {
   "cell_type": "code",
   "execution_count": 16,
   "id": "ad74977b",
   "metadata": {},
   "outputs": [],
   "source": []
  },
  {
   "cell_type": "markdown",
   "id": "289ca493-b6d6-4845-b634-6e8765c23af9",
   "metadata": {},
   "source": [
    "### 📖Build and train the model"
   ]
  },
  {
   "cell_type": "code",
   "execution_count": 20,
   "id": "1f2575d5",
   "metadata": {},
   "outputs": [],
   "source": []
  },
  {
   "cell_type": "markdown",
   "id": "f488e36a-18da-4bae-9ea2-f2c4ae79123a",
   "metadata": {},
   "source": [
    "### 📖Plot the learning history"
   ]
  },
  {
   "cell_type": "code",
   "execution_count": 21,
   "id": "99148087",
   "metadata": {},
   "outputs": [],
   "source": []
  },
  {
   "cell_type": "markdown",
   "id": "b3930601",
   "metadata": {},
   "source": [
    "### 📖Evaluate on validation data\n",
    "Notice that the accuracy here is lower than the accuracy plotted during training! The accuracy that is plotted during training is only based on the training data. This time it is based on testing data"
   ]
  },
  {
   "cell_type": "code",
   "execution_count": 22,
   "id": "a4b6467f",
   "metadata": {},
   "outputs": [],
   "source": []
  },
  {
   "cell_type": "markdown",
   "id": "9273a38b",
   "metadata": {},
   "source": [
    "### 📖Predict some data"
   ]
  },
  {
   "cell_type": "code",
   "execution_count": 25,
   "id": "8d649621",
   "metadata": {},
   "outputs": [],
   "source": []
  },
  {
   "cell_type": "code",
   "execution_count": 26,
   "id": "69441008-be6c-4a36-9ab5-40abb5914cc8",
   "metadata": {},
   "outputs": [],
   "source": []
  },
  {
   "cell_type": "code",
   "execution_count": null,
   "id": "218423ae",
   "metadata": {
    "scrolled": true
   },
   "outputs": [],
   "source": []
  },
  {
   "cell_type": "markdown",
   "id": "d3cbe357",
   "metadata": {},
   "source": [
    "### 📖Predict all test data"
   ]
  },
  {
   "cell_type": "code",
   "execution_count": 27,
   "id": "711ec0be",
   "metadata": {},
   "outputs": [],
   "source": []
  },
  {
   "cell_type": "markdown",
   "id": "9a410a2a",
   "metadata": {},
   "source": [
    "### 📖Turn y_test_pred into image"
   ]
  },
  {
   "cell_type": "code",
   "execution_count": 30,
   "id": "e02d6e1c",
   "metadata": {},
   "outputs": [],
   "source": []
  },
  {
   "cell_type": "code",
   "execution_count": null,
   "id": "27ed44d6",
   "metadata": {},
   "outputs": [],
   "source": []
  }
 ],
 "metadata": {
  "kernelspec": {
   "display_name": "Python 3 (ipykernel)",
   "language": "python",
   "name": "python3"
  },
  "language_info": {
   "codemirror_mode": {
    "name": "ipython",
    "version": 3
   },
   "file_extension": ".py",
   "mimetype": "text/x-python",
   "name": "python",
   "nbconvert_exporter": "python",
   "pygments_lexer": "ipython3",
   "version": "3.9.18"
  }
 },
 "nbformat": 4,
 "nbformat_minor": 5
}
