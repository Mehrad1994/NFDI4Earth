{
 "cells": [
  {
   "cell_type": "code",
   "execution_count": 1,
   "id": "a9e5453a",
   "metadata": {},
   "outputs": [],
   "source": [
    "import numpy as np\n",
    "import matplotlib.pyplot as plt\n",
    "import tifffile as tiff"
   ]
  },
  {
   "cell_type": "markdown",
   "id": "6996e3ca-8fd8-4af1-a264-97a3450b3180",
   "metadata": {},
   "source": [
    "### 📖Import the tiff files"
   ]
  },
  {
   "cell_type": "code",
   "execution_count": 2,
   "id": "0608aeeb",
   "metadata": {},
   "outputs": [],
   "source": [
    "x_train = tiff.imread(\"./Data/Soil_Sealing/x_train.tif\")\n",
    "y_train = tiff.imread(\"./Data/Soil_Sealing/y_train.tif\")\n",
    "\n",
    "x_test = tiff.imread(\"./Data/Soil_Sealing/x_test.tif\")\n",
    "y_test = tiff.imread(\"./Data/Soil_Sealing/y_test.tif\")"
   ]
  },
  {
   "cell_type": "markdown",
   "id": "cf63b372-617a-42d2-b279-ea5db8e90d04",
   "metadata": {},
   "source": [
    "### 📖Check the shape of the tiff files"
   ]
  },
  {
   "cell_type": "code",
   "execution_count": 3,
   "id": "b88c4dfc",
   "metadata": {},
   "outputs": [
    {
     "name": "stdout",
     "output_type": "stream",
     "text": [
      "x_train shape: (450, 484, 10)\n",
      "y_train shape: (450, 484)\n",
      "x_test shape: (290, 296, 10)\n",
      "y_test shape: (290, 296)\n"
     ]
    }
   ],
   "source": [
    "print(f\"x_train shape: {x_train.shape}\")\n",
    "print(f\"y_train shape: {y_train.shape}\")\n",
    "\n",
    "print(f\"x_test shape: {x_test.shape}\")\n",
    "print(f\"y_test shape: {y_test.shape}\")"
   ]
  },
  {
   "cell_type": "markdown",
   "id": "a597971d-82a4-48b1-a9e9-813faca91a8d",
   "metadata": {},
   "source": [
    "### 📖Check for NaN Values\n",
    "Attention! Most raster datasets have a specific No Data value, which might be -9999, for example. However, we only check for `np.nan` values. Therefore, always check the file's metadata to see if a specific No Data value is set.\n",
    "\n",
    "You can use the following line to convert a specific No Data value to `np.nan`:\n",
    "\n",
    "array_with_nan = np.where(input_array == -9999, np.nan, input_array)\n",
    "\n",
    "The first parameter in np.where is the condition that is tested. If the condition is true, then the value will be replaced by the parameter we provided second (here np.nan). If the condition is false, our third parameter will be used to replace the value (here the value of input_array)."
   ]
  },
  {
   "cell_type": "code",
   "execution_count": 4,
   "id": "d699a53c",
   "metadata": {},
   "outputs": [
    {
     "name": "stdout",
     "output_type": "stream",
     "text": [
      "Test if x_train has nan values: False\n",
      "Test if y_train has nan values: False\n",
      "Test if x_test has nan values: False\n",
      "Test if y_test has nan values: False\n"
     ]
    }
   ],
   "source": [
    "x_train = np.where(x_train == -3.4028235e+38, np.nan, x_train)\n",
    "y_train = np.where(y_train == -3.4028235e+38, np.nan, y_train)\n",
    "x_test = np.where(x_test == -3.4028235e+38, np.nan, x_test)\n",
    "y_test = np.where(y_test == -3.4028235e+38, np.nan, y_test)\n",
    "print(f\"Test if x_train has nan values: {np.isnan(x_train).any()}\")\n",
    "print(f\"Test if y_train has nan values: {np.isnan(y_train).any()}\")\n",
    "print(f\"Test if x_test has nan values: {np.isnan(x_test).any()}\")\n",
    "print(f\"Test if y_test has nan values: {np.isnan(y_test).any()}\")"
   ]
  },
  {
   "cell_type": "markdown",
   "id": "2e935011",
   "metadata": {},
   "source": [
    "### 📖Invert 0 and 1 in y data\n",
    "Currently the mask (whether it is a sealed surface or not) holds the values like this:\n",
    "0 = sealed surface\n",
    "1 = unsealed surface\n",
    "\n",
    "However, as we want to test each pixel for sealed surface characteristics, it does make sense to invert those values.\n",
    "Our research question: Is the surface sealed?\n",
    "The answers we want to receive:\n",
    "<br>True = 1 = Sealed Surface\n",
    "<br>False = 0 = Unsealed surface\n",
    "\n",
    "From a programmer's perspective this step is not realy necessary, as it remains a binary problem."
   ]
  },
  {
   "cell_type": "code",
   "execution_count": 5,
   "id": "73ca2a62",
   "metadata": {},
   "outputs": [
    {
     "name": "stdout",
     "output_type": "stream",
     "text": [
      "(array([0., 1.]), array([ 99106, 118694], dtype=int64))\n",
      "(array([0., 1.]), array([50196, 35644], dtype=int64))\n"
     ]
    }
   ],
   "source": [
    "print(np.unique(y_train, return_counts=True))\n",
    "print(np.unique(y_test, return_counts=True))"
   ]
  },
  {
   "cell_type": "code",
   "execution_count": 6,
   "id": "a24e772f-9da2-487a-9842-63952ee99c3e",
   "metadata": {},
   "outputs": [
    {
     "name": "stdout",
     "output_type": "stream",
     "text": [
      "(array([0, 1]), array([118694,  99106], dtype=int64))\n"
     ]
    },
    {
     "data": {
      "text/plain": [
       "(array([0, 1]), array([35644, 50196], dtype=int64))"
      ]
     },
     "execution_count": 6,
     "metadata": {},
     "output_type": "execute_result"
    }
   ],
   "source": [
    "y_train = np.where(y_train==0, 1, 0)\n",
    "print(np.unique(y_train, return_counts=True))\n",
    "\n",
    "y_test = np.where(y_test==0, 1, 0)\n",
    "np.unique(y_test, return_counts=True)"
   ]
  },
  {
   "cell_type": "markdown",
   "id": "0bdface0-20bf-436d-8df4-fa6c91107dc3",
   "metadata": {},
   "source": [
    "### 📖Reshape the arrays from 3D array (width, height, channels) to 2D array (value, channel)"
   ]
  },
  {
   "cell_type": "code",
   "execution_count": 7,
   "id": "5cc04414",
   "metadata": {},
   "outputs": [],
   "source": [
    "x_train = x_train.reshape(-1, x_train.shape[2])\n",
    "y_train = y_train.reshape(-1)\n",
    "\n",
    "x_test = x_test.reshape(-1, x_test.shape[2])\n",
    "y_test = y_test.reshape(-1)"
   ]
  },
  {
   "cell_type": "code",
   "execution_count": 8,
   "id": "7f2428d0",
   "metadata": {},
   "outputs": [
    {
     "name": "stdout",
     "output_type": "stream",
     "text": [
      "x_train shape: (217800, 10)\n",
      "y_train shape: (217800,)\n",
      "x_test shape: (85840, 10)\n",
      "y_test shape: (85840,)\n"
     ]
    }
   ],
   "source": [
    "print(f\"x_train shape: {x_train.shape}\")\n",
    "print(f\"y_train shape: {y_train.shape}\")\n",
    "\n",
    "print(f\"x_test shape: {x_test.shape}\")\n",
    "print(f\"y_test shape: {y_test.shape}\")"
   ]
  },
  {
   "cell_type": "markdown",
   "id": "bf0b0a4d-d447-46bf-9f0e-8d3cb6af401b",
   "metadata": {},
   "source": [
    "### 📖Build the ANN"
   ]
  },
  {
   "cell_type": "code",
   "execution_count": 9,
   "id": "48647574",
   "metadata": {},
   "outputs": [],
   "source": [
    "from tensorflow import keras\n",
    "from tensorflow.keras.models import Sequential\n",
    "from tensorflow.keras.layers import Dense, Dropout\n",
    "from tensorflow.keras.layers.experimental.preprocessing import Normalization"
   ]
  },
  {
   "cell_type": "markdown",
   "id": "904f41f3-b7ac-49a2-becd-65473a6b81bc",
   "metadata": {},
   "source": [
    "### 📖Normalize the Input data"
   ]
  },
  {
   "cell_type": "code",
   "execution_count": 10,
   "id": "ad74977b",
   "metadata": {},
   "outputs": [],
   "source": [
    "layer = Normalization()\n",
    "layer.adapt(x_train)"
   ]
  },
  {
   "cell_type": "markdown",
   "id": "289ca493-b6d6-4845-b634-6e8765c23af9",
   "metadata": {},
   "source": [
    "### 📖Build and train the model"
   ]
  },
  {
   "cell_type": "code",
   "execution_count": 11,
   "id": "1f2575d5",
   "metadata": {},
   "outputs": [
    {
     "name": "stdout",
     "output_type": "stream",
     "text": [
      "Epoch 1/8\n",
      "851/851 [==============================] - 2s 1ms/step - loss: 0.2231 - accuracy: 0.9127\n",
      "Epoch 2/8\n",
      "851/851 [==============================] - 1s 1ms/step - loss: 0.1957 - accuracy: 0.9211\n",
      "Epoch 3/8\n",
      "851/851 [==============================] - 1s 1ms/step - loss: 0.1925 - accuracy: 0.9221\n",
      "Epoch 4/8\n",
      "851/851 [==============================] - 1s 1ms/step - loss: 0.1905 - accuracy: 0.9226\n",
      "Epoch 5/8\n",
      "851/851 [==============================] - 1s 1ms/step - loss: 0.1899 - accuracy: 0.9233\n",
      "Epoch 6/8\n",
      "851/851 [==============================] - 1s 1ms/step - loss: 0.1884 - accuracy: 0.9235\n",
      "Epoch 7/8\n",
      "851/851 [==============================] - 1s 1ms/step - loss: 0.1882 - accuracy: 0.9233\n",
      "Epoch 8/8\n",
      "851/851 [==============================] - 1s 1ms/step - loss: 0.1871 - accuracy: 0.9234\n"
     ]
    }
   ],
   "source": [
    "model = Sequential()\n",
    "model.add(layer)\n",
    "model.add(Dense(64, activation=\"relu\", input_shape=(x_train.shape[1],)))\n",
    "model.add(Dropout(0.1))\n",
    "model.add(Dense(128, activation=\"relu\"))\n",
    "model.add(Dropout(0.1))\n",
    "model.add(Dense(1, activation=\"sigmoid\")) #Why a sigmoid and not a relu as output? Sigmoid can be interpreted as the probability that the binary classification is \"True\"\n",
    "\n",
    "opt = keras.optimizers.SGD(learning_rate=0.1)\n",
    "model.compile(optimizer= opt, loss = \"binary_crossentropy\", metrics=[\"accuracy\"])\n",
    "\n",
    "history = model.fit(x_train, y_train, epochs=8, batch_size=256)"
   ]
  },
  {
   "cell_type": "markdown",
   "id": "f488e36a-18da-4bae-9ea2-f2c4ae79123a",
   "metadata": {},
   "source": [
    "### 📖Plot the learning history"
   ]
  },
  {
   "cell_type": "code",
   "execution_count": 12,
   "id": "99148087",
   "metadata": {},
   "outputs": [
    {
     "data": {
      "image/png": "[encoded data removed]",
      "text/plain": [
       "<Figure size 640x480 with 1 Axes>"
      ]
     },
     "metadata": {},
     "output_type": "display_data"
    }
   ],
   "source": [
    "plt.xlabel(\"Epoch Number\")\n",
    "plt.ylabel(\"Loss & Accuracy\")\n",
    "plt.plot(history.history[\"loss\"], label=\"Loss\")\n",
    "plt.plot(history.history[\"accuracy\"], label=\"Accuracy\")\n",
    "plt.legend()\n",
    "plt.show()"
   ]
  },
  {
   "cell_type": "markdown",
   "id": "b3930601",
   "metadata": {},
   "source": [
    "### 📖Evaluate on validation data\n",
    "Notice that the accuracy here is lower than the accuracy plotted during training! The accuracy that is plotted during training is only based on the training data. This time it is based on testing data"
   ]
  },
  {
   "cell_type": "code",
   "execution_count": 13,
   "id": "a4b6467f",
   "metadata": {},
   "outputs": [
    {
     "name": "stdout",
     "output_type": "stream",
     "text": [
      "2683/2683 [==============================] - 2s 679us/step - loss: 0.2339 - accuracy: 0.9018\n"
     ]
    },
    {
     "data": {
      "text/plain": [
       "[0.2339036911725998, 0.9017590880393982]"
      ]
     },
     "execution_count": 13,
     "metadata": {},
     "output_type": "execute_result"
    }
   ],
   "source": [
    "model.evaluate(x_test, y_test)"
   ]
  },
  {
   "cell_type": "markdown",
   "id": "9273a38b",
   "metadata": {},
   "source": [
    "### 📖Predict some data"
   ]
  },
  {
   "cell_type": "code",
   "execution_count": 14,
   "id": "8d649621",
   "metadata": {},
   "outputs": [
    {
     "name": "stdout",
     "output_type": "stream",
     "text": [
      "Real class: 1\n",
      "Input features: [ 0.1145      0.0956      0.1084      0.1851      0.14196876  0.088775\n",
      " -0.1318721   0.08995716  0.31884575  0.2613288 ]\n"
     ]
    }
   ],
   "source": [
    "observation = 14 #14\n",
    "print(f\"Real class: {y_test[observation]}\")\n",
    "print(f\"Input features: {x_test[observation]}\")"
   ]
  },
  {
   "cell_type": "code",
   "execution_count": 16,
   "id": "69441008-be6c-4a36-9ab5-40abb5914cc8",
   "metadata": {},
   "outputs": [
    {
     "name": "stdout",
     "output_type": "stream",
     "text": [
      "(10,)\n",
      "(1, 10)\n"
     ]
    }
   ],
   "source": [
    "#If we want to predict a single datapoint from our testing data,\n",
    "#we need to reshape the data that we put into our trained model. \n",
    "#Here is an example of the difference between the data and the reshaped data\n",
    "print(x_test[observation,:].shape)\n",
    "print(x_test[observation,:].reshape(1,-1).shape)"
   ]
  },
  {
   "cell_type": "code",
   "execution_count": 17,
   "id": "218423ae",
   "metadata": {
    "scrolled": true
   },
   "outputs": [
    {
     "name": "stdout",
     "output_type": "stream",
     "text": [
      "1/1 [==============================] - 0s 80ms/step\n"
     ]
    },
    {
     "data": {
      "text/plain": [
       "array([[0.90219915]], dtype=float32)"
      ]
     },
     "execution_count": 17,
     "metadata": {},
     "output_type": "execute_result"
    }
   ],
   "source": [
    "model.predict(x_test[observation].reshape(1, -1))"
   ]
  },
  {
   "cell_type": "markdown",
   "id": "d3cbe357",
   "metadata": {},
   "source": [
    "### 📖Predict all test data"
   ]
  },
  {
   "cell_type": "code",
   "execution_count": 18,
   "id": "711ec0be",
   "metadata": {},
   "outputs": [
    {
     "name": "stdout",
     "output_type": "stream",
     "text": [
      "2683/2683 [==============================] - 2s 632us/step\n"
     ]
    }
   ],
   "source": [
    "y_test_pred = model.predict(x_test)\n",
    "y_test_pred = y_test_pred.reshape(290, 296)"
   ]
  },
  {
   "cell_type": "markdown",
   "id": "9a410a2a",
   "metadata": {},
   "source": [
    "### 📖Turn y_test_pred into image"
   ]
  },
  {
   "cell_type": "code",
   "execution_count": null,
   "id": "e02d6e1c",
   "metadata": {},
   "outputs": [],
   "source": [
    "tiff.imwrite(\"ProbabilityMap.tif\", y_test_pred)\n",
    "#tiff.imwrite(\"y_test_NoCRS.tif\", y_test)"
   ]
  },
  {
   "cell_type": "code",
   "execution_count": null,
   "id": "ead45cdc",
   "metadata": {},
   "outputs": [],
   "source": []
  }
 ],
 "metadata": {
  "kernelspec": {
   "display_name": "Python 3 (ipykernel)",
   "language": "python",
   "name": "python3"
  },
  "language_info": {
   "codemirror_mode": {
    "name": "ipython",
    "version": 3
   },
   "file_extension": ".py",
   "mimetype": "text/x-python",
   "name": "python",
   "nbconvert_exporter": "python",
   "pygments_lexer": "ipython3",
   "version": "3.9.18"
  }
 },
 "nbformat": 4,
 "nbformat_minor": 5
}
