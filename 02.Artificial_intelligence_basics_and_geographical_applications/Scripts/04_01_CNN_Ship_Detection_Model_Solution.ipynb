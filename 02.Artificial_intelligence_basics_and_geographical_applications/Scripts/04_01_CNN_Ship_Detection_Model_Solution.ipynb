{
 "cells": [
  {
   "cell_type": "markdown",
   "id": "9311e345",
   "metadata": {},
   "source": [
    "### 📖Imports"
   ]
  },
  {
   "cell_type": "code",
   "execution_count": 1,
   "id": "52136a4d",
   "metadata": {},
   "outputs": [],
   "source": [
    "import os\n",
    "import numpy as np\n",
    "import matplotlib.pyplot as plt\n",
    "from tensorflow import keras\n",
    "from tensorflow.keras.models import Sequential\n",
    "from tensorflow.keras.layers.experimental.preprocessing import Normalization\n",
    "from sklearn.model_selection import train_test_split\n",
    "\n",
    "from PIL import Image\n",
    "from tensorflow.keras.layers import Dense, Conv2D, Flatten, Dropout, MaxPooling2D"
   ]
  },
  {
   "cell_type": "markdown",
   "id": "c1a5e9e4",
   "metadata": {},
   "source": [
    "### 📖Data Preparation\n",
    "\n",
    "### 📖Function to read all images"
   ]
  },
  {
   "cell_type": "code",
   "execution_count": 2,
   "id": "5b1fbbc6",
   "metadata": {},
   "outputs": [
    {
     "name": "stdout",
     "output_type": "stream",
     "text": [
      "(64, 64, 4)\n"
     ]
    }
   ],
   "source": [
    "def read_images (path):\n",
    "    files = os.listdir(path)\n",
    "    for file in files:\n",
    "        if file.endswith(\".png\"):\n",
    "            image = Image.open(os.path.join(path, file))\n",
    "            image = np.array(image)\n",
    "            print(image.shape)\n",
    "            break\n",
    "  \n",
    "read_images(\"./Data/00_Ships\")"
   ]
  },
  {
   "cell_type": "code",
   "execution_count": 3,
   "id": "64e6c3f1",
   "metadata": {},
   "outputs": [],
   "source": [
    "def read_images (path):\n",
    "    files = os.listdir(path)\n",
    "    images = []\n",
    "    \n",
    "    #Prevent files that are not a png to be considered\n",
    "    for file in files:\n",
    "        if file.endswith(\".png\"):\n",
    "            image = Image.open(os.path.join(path, file)) #open file\n",
    "            image = np.array(image)[:,:,:1] #select first channel from image\n",
    "            images.append(image)\n",
    "  \n",
    "    return np.array(images)"
   ]
  },
  {
   "cell_type": "markdown",
   "id": "8173c4aa",
   "metadata": {},
   "source": [
    "### 📖Read the images with the function above"
   ]
  },
  {
   "cell_type": "code",
   "execution_count": 4,
   "id": "b7ff2d69",
   "metadata": {},
   "outputs": [],
   "source": [
    "ships = read_images(\"./Data/00_Ships\")\n",
    "no_ships = read_images(\"./Data/00_NoShips\")"
   ]
  },
  {
   "cell_type": "markdown",
   "id": "51cebfa9",
   "metadata": {},
   "source": [
    "### 📖Check how many images were loaded"
   ]
  },
  {
   "cell_type": "code",
   "execution_count": 5,
   "id": "8c549807",
   "metadata": {},
   "outputs": [
    {
     "name": "stdout",
     "output_type": "stream",
     "text": [
      "(1784, 64, 64, 1)\n",
      "(1800, 64, 64, 1)\n"
     ]
    }
   ],
   "source": [
    "print(ships.shape)\n",
    "print(no_ships.shape)"
   ]
  },
  {
   "cell_type": "markdown",
   "id": "eb7cbf6c",
   "metadata": {},
   "source": [
    "### 📖Plot a random image to check if everything worked so far"
   ]
  },
  {
   "cell_type": "code",
   "execution_count": 6,
   "id": "61560ab6",
   "metadata": {},
   "outputs": [
    {
     "data": {
      "text/plain": [
       "<matplotlib.image.AxesImage at 0x14c29f45d30>"
      ]
     },
     "execution_count": 6,
     "metadata": {},
     "output_type": "execute_result"
    },
    {
     "data": {
      "image/png": "[encoded data removed]",
      "text/plain": [
       "<Figure size 640x480 with 1 Axes>"
      ]
     },
     "metadata": {},
     "output_type": "display_data"
    }
   ],
   "source": [
    "plt.imshow(ships[5])"
   ]
  },
  {
   "cell_type": "markdown",
   "id": "0cb04970",
   "metadata": {},
   "source": [
    "### 📖Turn data into concatenated arrays to create x data (all images in one variable)"
   ]
  },
  {
   "cell_type": "code",
   "execution_count": 7,
   "id": "d5d6e635",
   "metadata": {},
   "outputs": [
    {
     "data": {
      "text/plain": [
       "(3584, 64, 64, 1)"
      ]
     },
     "execution_count": 7,
     "metadata": {},
     "output_type": "execute_result"
    }
   ],
   "source": [
    "x = np.concatenate([ships, no_ships])\n",
    "x.shape"
   ]
  },
  {
   "cell_type": "markdown",
   "id": "07f6562e",
   "metadata": {},
   "source": [
    "### 📖Create y data (0 for no ships and 1 for ships)"
   ]
  },
  {
   "cell_type": "code",
   "execution_count": 8,
   "id": "a2ef9c4f",
   "metadata": {},
   "outputs": [
    {
     "data": {
      "text/plain": [
       "(3584,)"
      ]
     },
     "execution_count": 8,
     "metadata": {},
     "output_type": "execute_result"
    }
   ],
   "source": [
    "y_ships = np.ones(len(ships))\n",
    "y_no_ships = np.zeros(len(no_ships))\n",
    "\n",
    "y = np.concatenate([y_ships, y_no_ships])\n",
    "y.shape"
   ]
  },
  {
   "cell_type": "markdown",
   "id": "27dca1af",
   "metadata": {},
   "source": [
    "### 📖Train test split"
   ]
  },
  {
   "cell_type": "code",
   "execution_count": 9,
   "id": "a142e814",
   "metadata": {},
   "outputs": [
    {
     "name": "stdout",
     "output_type": "stream",
     "text": [
      "(2867, 64, 64, 1)\n",
      "(2867,)\n",
      "(717, 64, 64, 1)\n",
      "(717,)\n"
     ]
    }
   ],
   "source": [
    "x_train, x_test, y_train, y_test = train_test_split(x, y, test_size=0.2, random_state=42, shuffle=True)\n",
    "\n",
    "print(x_train.shape)\n",
    "print(y_train.shape)\n",
    "print(x_test.shape)\n",
    "print(y_test.shape)"
   ]
  },
  {
   "cell_type": "markdown",
   "id": "7da84c43",
   "metadata": {},
   "source": [
    "***\n",
    "### 📖Built a model"
   ]
  },
  {
   "cell_type": "code",
   "execution_count": 10,
   "id": "1e2c9c0a",
   "metadata": {},
   "outputs": [
    {
     "data": {
      "text/plain": [
       "TensorShape([1, 64, 64, 32])"
      ]
     },
     "execution_count": 10,
     "metadata": {},
     "output_type": "execute_result"
    }
   ],
   "source": [
    "test = np.random.randn(1,64,64,1)\n",
    "conv = Conv2D(filters = 32, kernel_size=(3,3), strides=(1,1), padding=\"same\", activation=\"relu\", input_shape=(64,64,1))\n",
    "conv(test).shape"
   ]
  },
  {
   "cell_type": "code",
   "execution_count": 11,
   "id": "60cdd6c7",
   "metadata": {},
   "outputs": [
    {
     "data": {
      "text/plain": [
       "TensorShape([1, 28, 28, 32])"
      ]
     },
     "execution_count": 11,
     "metadata": {},
     "output_type": "execute_result"
    }
   ],
   "source": [
    "test = np.random.randn(1,64,64,1)\n",
    "conv = Conv2D(filters = 32, kernel_size=(9,9), strides=(2,2), padding=\"valid\", activation=\"relu\", input_shape=(64,64,1))\n",
    "conv(test).shape"
   ]
  },
  {
   "cell_type": "code",
   "execution_count": 35,
   "id": "0a308dd9",
   "metadata": {},
   "outputs": [
    {
     "name": "stdout",
     "output_type": "stream",
     "text": [
      "(2867, 64, 64, 1)\n"
     ]
    }
   ],
   "source": [
    "#Conv2D?\n",
    "layer = Normalization(input_shape=(64,64,1))\n",
    "layer.adapt(x_train)\n",
    "print(layer(x_train).shape)"
   ]
  },
  {
   "cell_type": "code",
   "execution_count": 36,
   "id": "9500a0f6",
   "metadata": {},
   "outputs": [
    {
     "name": "stdout",
     "output_type": "stream",
     "text": [
      "Model: \"sequential_8\"\n",
      "_________________________________________________________________\n",
      " Layer (type)                Output Shape              Param #   \n",
      "=================================================================\n",
      " normalization_15 (Normaliza  (None, 64, 64, 1)        3         \n",
      " tion)                                                           \n",
      "                                                                 \n",
      " conv2d_16 (Conv2D)          (None, 64, 64, 32)        320       \n",
      "                                                                 \n",
      " max_pooling2d_12 (MaxPoolin  (None, 32, 32, 32)       0         \n",
      " g2D)                                                            \n",
      "                                                                 \n",
      " dropout_12 (Dropout)        (None, 32, 32, 32)        0         \n",
      "                                                                 \n",
      " conv2d_17 (Conv2D)          (None, 30, 30, 64)        18496     \n",
      "                                                                 \n",
      " max_pooling2d_13 (MaxPoolin  (None, 15, 15, 64)       0         \n",
      " g2D)                                                            \n",
      "                                                                 \n",
      " dropout_13 (Dropout)        (None, 15, 15, 64)        0         \n",
      "                                                                 \n",
      " flatten_6 (Flatten)         (None, 14400)             0         \n",
      "                                                                 \n",
      " dense_6 (Dense)             (None, 1)                 14401     \n",
      "                                                                 \n",
      "=================================================================\n",
      "Total params: 33,220\n",
      "Trainable params: 33,217\n",
      "Non-trainable params: 3\n",
      "_________________________________________________________________\n",
      "359/359 [==============================] - 6s 15ms/step - loss: 0.1338 - accuracy: 0.9724\n"
     ]
    }
   ],
   "source": [
    "model = Sequential()\n",
    "\n",
    "model.add(layer)\n",
    "\n",
    "model.add(Conv2D(filters = 32, kernel_size=(3,3), strides=1, padding=\"same\", activation=\"relu\"))\n",
    "model.add(MaxPooling2D())\n",
    "model.add(Dropout(rate=0.2))\n",
    "\n",
    "model.add(Conv2D(filters = 64, kernel_size=(3,3), strides=1, padding=\"valid\", activation=\"relu\"))\n",
    "model.add(MaxPooling2D())\n",
    "model.add(Dropout(rate=0.2))\n",
    "\n",
    "model.add(Flatten())\n",
    "model.add(Dense(1, activation=\"sigmoid\"))\n",
    "\n",
    "opt = keras.optimizers.Adam(learning_rate=0.001)\n",
    "model.compile(optimizer= opt, loss = \"binary_crossentropy\", metrics=[\"accuracy\"])\n",
    "model.summary()\n",
    "history = model.fit(x_train, y_train, epochs=10, batch_size=8)"
   ]
  },
  {
   "cell_type": "markdown",
   "id": "18525914",
   "metadata": {},
   "source": [
    "### 📖Plot the learning history"
   ]
  },
  {
   "cell_type": "code",
   "execution_count": 13,
   "id": "0e6325d7",
   "metadata": {},
   "outputs": [
    {
     "data": {
      "image/png": "[encoded data removed]",
      "text/plain": [
       "<Figure size 640x480 with 1 Axes>"
      ]
     },
     "metadata": {},
     "output_type": "display_data"
    }
   ],
   "source": [
    "plt.xlabel('Epoch Number')\n",
    "plt.ylabel(\"Loss Magnitude\")\n",
    "plt.plot(history.history['loss'])\n",
    "plt.plot(history.history[\"accuracy\"])\n",
    "plt.show()"
   ]
  },
  {
   "cell_type": "markdown",
   "id": "61210b09",
   "metadata": {},
   "source": [
    "### 📖Evaluate the model"
   ]
  },
  {
   "cell_type": "code",
   "execution_count": 14,
   "id": "1c35bc7c",
   "metadata": {},
   "outputs": [
    {
     "name": "stdout",
     "output_type": "stream",
     "text": [
      "90/90 [==============================] - 1s 11ms/step - loss: 0.0564 - accuracy: 0.9930\n"
     ]
    },
    {
     "data": {
      "text/plain": [
       "[0.056412212550640106, 0.9930240511894226]"
      ]
     },
     "execution_count": 14,
     "metadata": {},
     "output_type": "execute_result"
    }
   ],
   "source": [
    "#Get training data accuracy\n",
    "model.evaluate(x_train, y_train)"
   ]
  },
  {
   "cell_type": "code",
   "execution_count": 15,
   "id": "25bede38",
   "metadata": {},
   "outputs": [
    {
     "name": "stdout",
     "output_type": "stream",
     "text": [
      "23/23 [==============================] - 0s 11ms/step - loss: 0.1155 - accuracy: 0.9874\n"
     ]
    },
    {
     "data": {
      "text/plain": [
       "[0.11551998555660248, 0.9874476790428162]"
      ]
     },
     "execution_count": 15,
     "metadata": {},
     "output_type": "execute_result"
    }
   ],
   "source": [
    "#Get testing data accuracy\n",
    "model.evaluate(x_test, y_test)"
   ]
  },
  {
   "cell_type": "markdown",
   "id": "717e0d6f",
   "metadata": {},
   "source": [
    "### 📖Check some random predicted samples"
   ]
  },
  {
   "cell_type": "code",
   "execution_count": 41,
   "id": "32526dda",
   "metadata": {},
   "outputs": [
    {
     "name": "stdout",
     "output_type": "stream",
     "text": [
      "Real class: 1.0\n",
      "Input feature:\n",
      "1/1 [==============================] - 0s 19ms/step\n"
     ]
    },
    {
     "data": {
      "text/plain": [
       "array([[1.]], dtype=float32)"
      ]
     },
     "execution_count": 41,
     "metadata": {},
     "output_type": "execute_result"
    },
    {
     "data": {
      "image/png": "[encoded data removed]",
      "text/plain": [
       "<Figure size 640x480 with 1 Axes>"
      ]
     },
     "metadata": {},
     "output_type": "display_data"
    }
   ],
   "source": [
    "feature = 5 #5\n",
    "print(f\"Real class: {y_test[feature]}\")\n",
    "print(\"Input feature:\")\n",
    "plt.imshow(x_test[feature, :, :, :])\n",
    "model.predict(x_test[feature, :, :,:].reshape(1,64,64,1))"
   ]
  },
  {
   "cell_type": "markdown",
   "id": "e81ec4ae",
   "metadata": {},
   "source": [
    "### 📖Save the model"
   ]
  },
  {
   "cell_type": "code",
   "execution_count": 17,
   "id": "1cc1736d",
   "metadata": {},
   "outputs": [],
   "source": [
    "model.save(\"Ship_Detection_Modell.h5\")"
   ]
  },
  {
   "cell_type": "code",
   "execution_count": null,
   "id": "a4dd084b",
   "metadata": {},
   "outputs": [],
   "source": []
  }
 ],
 "metadata": {
  "kernelspec": {
   "display_name": "Python 3 (ipykernel)",
   "language": "python",
   "name": "python3"
  },
  "language_info": {
   "codemirror_mode": {
    "name": "ipython",
    "version": 3
   },
   "file_extension": ".py",
   "mimetype": "text/x-python",
   "name": "python",
   "nbconvert_exporter": "python",
   "pygments_lexer": "ipython3",
   "version": "3.9.18"
  }
 },
 "nbformat": 4,
 "nbformat_minor": 5
}
