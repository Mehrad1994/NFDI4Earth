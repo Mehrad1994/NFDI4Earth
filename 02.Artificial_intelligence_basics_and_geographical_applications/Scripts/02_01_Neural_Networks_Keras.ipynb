{
 "cells": [
  {
   "cell_type": "markdown",
   "id": "6ce4882c",
   "metadata": {},
   "source": [
    "### 📖Single neuron in keras tensorflow"
   ]
  },
  {
   "cell_type": "code",
   "execution_count": null,
   "id": "5b536e4e",
   "metadata": {},
   "outputs": [],
   "source": []
  },
  {
   "cell_type": "code",
   "execution_count": null,
   "id": "fdd8b244",
   "metadata": {},
   "outputs": [],
   "source": []
  },
  {
   "cell_type": "code",
   "execution_count": null,
   "id": "b98ed705",
   "metadata": {},
   "outputs": [],
   "source": []
  },
  {
   "cell_type": "code",
   "execution_count": null,
   "id": "13e52c77",
   "metadata": {},
   "outputs": [],
   "source": []
  },
  {
   "cell_type": "code",
   "execution_count": null,
   "id": "8a7629d6",
   "metadata": {},
   "outputs": [],
   "source": []
  },
  {
   "cell_type": "code",
   "execution_count": null,
   "id": "3a0dc61c",
   "metadata": {},
   "outputs": [],
   "source": []
  },
  {
   "cell_type": "markdown",
   "id": "cad780a8",
   "metadata": {},
   "source": [
    "### 📖Predict weather data\n",
    "The scenario: The humidity sensor of a weather station has failed. Now a model needs to be set up that is based on historical data in order to approximate current data gaps."
   ]
  },
  {
   "cell_type": "code",
   "execution_count": 1,
   "id": "9e161fba",
   "metadata": {},
   "outputs": [],
   "source": [
    "import numpy as np\n",
    "import matplotlib.pyplot as plt\n",
    "from tensorflow import keras\n",
    "from tensorflow.keras.models import Sequential\n",
    "from tensorflow.keras.layers import Dense\n",
    "\n",
    "import pandas as pd\n",
    "import datetime as dt\n",
    "from sklearn.model_selection import train_test_split"
   ]
  },
  {
   "cell_type": "code",
   "execution_count": 26,
   "id": "b0e72ff6",
   "metadata": {},
   "outputs": [],
   "source": []
  },
  {
   "cell_type": "markdown",
   "id": "689ab2c3",
   "metadata": {},
   "source": [
    "### 📖Turn Dates into Day of Years"
   ]
  },
  {
   "cell_type": "code",
   "execution_count": 27,
   "id": "30a32015",
   "metadata": {},
   "outputs": [],
   "source": []
  },
  {
   "cell_type": "code",
   "execution_count": 28,
   "id": "e063ee42",
   "metadata": {},
   "outputs": [],
   "source": []
  },
  {
   "cell_type": "markdown",
   "id": "01c003a4",
   "metadata": {},
   "source": [
    "### 📖Divide data into x and y data"
   ]
  },
  {
   "cell_type": "code",
   "execution_count": 30,
   "id": "88afc46f",
   "metadata": {},
   "outputs": [],
   "source": []
  },
  {
   "cell_type": "code",
   "execution_count": 33,
   "id": "a341b4a2",
   "metadata": {},
   "outputs": [],
   "source": []
  },
  {
   "cell_type": "code",
   "execution_count": 46,
   "id": "365c4ab3",
   "metadata": {},
   "outputs": [],
   "source": []
  },
  {
   "cell_type": "markdown",
   "id": "3c5d7f7a",
   "metadata": {},
   "source": [
    "### 📖Normalise the data\n",
    "As we know that the maximum relative humidity can be 100%, we can just divide the y data by 100"
   ]
  },
  {
   "cell_type": "code",
   "execution_count": 47,
   "id": "2213eeb9",
   "metadata": {},
   "outputs": [],
   "source": []
  },
  {
   "cell_type": "markdown",
   "id": "1c6bd228",
   "metadata": {},
   "source": [
    "### 📖Normalise the input data\n",
    "One option to normalise input data is the layer normalization.\n",
    "There are also several other options to normalise the input data."
   ]
  },
  {
   "cell_type": "code",
   "execution_count": 48,
   "id": "1f7e8e45",
   "metadata": {},
   "outputs": [],
   "source": []
  },
  {
   "cell_type": "markdown",
   "id": "d638856c",
   "metadata": {},
   "source": [
    "### 📖Build and train the model"
   ]
  },
  {
   "cell_type": "code",
   "execution_count": 51,
   "id": "4b13aba4",
   "metadata": {},
   "outputs": [],
   "source": []
  },
  {
   "cell_type": "code",
   "execution_count": 11,
   "id": "d3c4ba60",
   "metadata": {},
   "outputs": [],
   "source": []
  },
  {
   "cell_type": "code",
   "execution_count": 60,
   "id": "91f59ca4",
   "metadata": {},
   "outputs": [],
   "source": []
  },
  {
   "cell_type": "code",
   "execution_count": null,
   "id": "df3c8fcc",
   "metadata": {},
   "outputs": [],
   "source": []
  }
 ],
 "metadata": {
  "kernelspec": {
   "display_name": "Python 3 (ipykernel)",
   "language": "python",
   "name": "python3"
  },
  "language_info": {
   "codemirror_mode": {
    "name": "ipython",
    "version": 3
   },
   "file_extension": ".py",
   "mimetype": "text/x-python",
   "name": "python",
   "nbconvert_exporter": "python",
   "pygments_lexer": "ipython3",
   "version": "3.9.18"
  }
 },
 "nbformat": 4,
 "nbformat_minor": 5
}
