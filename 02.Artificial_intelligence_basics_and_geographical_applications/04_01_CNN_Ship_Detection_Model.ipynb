{
 "cells": [
  {
   "cell_type": "markdown",
   "id": "9311e345",
   "metadata": {},
   "source": [
    "### 📖Imports"
   ]
  },
  {
   "cell_type": "code",
   "execution_count": 2,
   "id": "52136a4d",
   "metadata": {},
   "outputs": [],
   "source": [
    "import os\n",
    "import numpy as np\n",
    "import matplotlib.pyplot as plt\n",
    "from tensorflow import keras\n",
    "from tensorflow.keras.models import Sequential\n",
    "from tensorflow.keras.layers.experimental.preprocessing import Normalization\n",
    "from sklearn.model_selection import train_test_split\n",
    "\n"
   ]
  },
  {
   "cell_type": "markdown",
   "id": "c1a5e9e4",
   "metadata": {},
   "source": [
    "### 📖Data Preparation\n",
    "\n",
    "### 📖Function to read all images"
   ]
  },
  {
   "cell_type": "code",
   "execution_count": 7,
   "id": "5b1fbbc6",
   "metadata": {},
   "outputs": [],
   "source": []
  },
  {
   "cell_type": "markdown",
   "id": "8173c4aa",
   "metadata": {},
   "source": [
    "### 📖Read the images with the function above"
   ]
  },
  {
   "cell_type": "code",
   "execution_count": 8,
   "id": "b7ff2d69",
   "metadata": {},
   "outputs": [],
   "source": []
  },
  {
   "cell_type": "markdown",
   "id": "51cebfa9",
   "metadata": {},
   "source": [
    "### 📖Check how many images were loaded"
   ]
  },
  {
   "cell_type": "code",
   "execution_count": 9,
   "id": "8c549807",
   "metadata": {},
   "outputs": [],
   "source": []
  },
  {
   "cell_type": "markdown",
   "id": "eb7cbf6c",
   "metadata": {},
   "source": [
    "### 📖Plot a random image to check if everything worked so far"
   ]
  },
  {
   "cell_type": "code",
   "execution_count": 11,
   "id": "61560ab6",
   "metadata": {},
   "outputs": [],
   "source": []
  },
  {
   "cell_type": "markdown",
   "id": "0cb04970",
   "metadata": {},
   "source": [
    "### 📖Turn data into concatenated arrays to create x data (all images in one variable)"
   ]
  },
  {
   "cell_type": "code",
   "execution_count": 12,
   "id": "d5d6e635",
   "metadata": {},
   "outputs": [],
   "source": []
  },
  {
   "cell_type": "markdown",
   "id": "07f6562e",
   "metadata": {},
   "source": [
    "### 📖Create y data (0 for no ships and 1 for ships)"
   ]
  },
  {
   "cell_type": "code",
   "execution_count": 13,
   "id": "a2ef9c4f",
   "metadata": {},
   "outputs": [],
   "source": []
  },
  {
   "cell_type": "markdown",
   "id": "27dca1af",
   "metadata": {},
   "source": [
    "### 📖Train test split"
   ]
  },
  {
   "cell_type": "code",
   "execution_count": 14,
   "id": "a142e814",
   "metadata": {},
   "outputs": [],
   "source": []
  },
  {
   "cell_type": "markdown",
   "id": "7da84c43",
   "metadata": {},
   "source": [
    "***\n",
    "### 📖Built a model"
   ]
  },
  {
   "cell_type": "code",
   "execution_count": 18,
   "id": "1e2c9c0a",
   "metadata": {},
   "outputs": [],
   "source": []
  },
  {
   "cell_type": "code",
   "execution_count": 19,
   "id": "0a308dd9",
   "metadata": {},
   "outputs": [],
   "source": []
  },
  {
   "cell_type": "code",
   "execution_count": 20,
   "id": "9500a0f6",
   "metadata": {},
   "outputs": [],
   "source": []
  },
  {
   "cell_type": "markdown",
   "id": "18525914",
   "metadata": {},
   "source": [
    "### 📖Plot the learning history"
   ]
  },
  {
   "cell_type": "code",
   "execution_count": 25,
   "id": "0e6325d7",
   "metadata": {},
   "outputs": [],
   "source": []
  },
  {
   "cell_type": "markdown",
   "id": "61210b09",
   "metadata": {},
   "source": [
    "### 📖Evaluate the model"
   ]
  },
  {
   "cell_type": "code",
   "execution_count": 26,
   "id": "1c35bc7c",
   "metadata": {},
   "outputs": [],
   "source": []
  },
  {
   "cell_type": "code",
   "execution_count": 27,
   "id": "25bede38",
   "metadata": {},
   "outputs": [],
   "source": []
  },
  {
   "cell_type": "markdown",
   "id": "717e0d6f",
   "metadata": {},
   "source": [
    "### 📖Check some random predicted samples"
   ]
  },
  {
   "cell_type": "code",
   "execution_count": 29,
   "id": "32526dda",
   "metadata": {},
   "outputs": [],
   "source": []
  },
  {
   "cell_type": "markdown",
   "id": "e81ec4ae",
   "metadata": {},
   "source": [
    "### 📖Save the model"
   ]
  },
  {
   "cell_type": "code",
   "execution_count": 30,
   "id": "1cc1736d",
   "metadata": {},
   "outputs": [],
   "source": []
  },
  {
   "cell_type": "code",
   "execution_count": null,
   "id": "a4dd084b",
   "metadata": {},
   "outputs": [],
   "source": []
  }
 ],
 "metadata": {
  "kernelspec": {
   "display_name": "Python 3 (ipykernel)",
   "language": "python",
   "name": "python3"
  },
  "language_info": {
   "codemirror_mode": {
    "name": "ipython",
    "version": 3
   },
   "file_extension": ".py",
   "mimetype": "text/x-python",
   "name": "python",
   "nbconvert_exporter": "python",
   "pygments_lexer": "ipython3",
   "version": "3.9.18"
  }
 },
 "nbformat": 4,
 "nbformat_minor": 5
}
