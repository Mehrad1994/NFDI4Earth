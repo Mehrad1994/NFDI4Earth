{
  "cells": [
    {
      "cell_type": "markdown",
      "id": "24c7b568",
      "metadata": {
        "id": "24c7b568"
      },
      "source": [
        "# Numpy\n",
        "\"NumPy is a library for the Python programming language, adding support for large, multi-dimensional arrays and matrices, along with a large collection of high-level mathematical functions to operate on these arrays.\" [Wikipedia](https://en.wikipedia.org/wiki/NumPy)\n",
        "\n",
        "Numpy can efficiently handle arrays (a n-dimensional dataseries of values) and do calculations with them."
      ]
    },
    {
      "cell_type": "code",
      "execution_count": null,
      "id": "e0eb109e",
      "metadata": {
        "id": "e0eb109e"
      },
      "outputs": [],
      "source": [
        "#Before we can use numpy, we have to import numpy\n",
        "import numpy as np"
      ]
    },
    {
      "cell_type": "markdown",
      "id": "55ef7eb2",
      "metadata": {
        "id": "55ef7eb2"
      },
      "source": [
        "***\n",
        "## List to array"
      ]
    },
    {
      "cell_type": "code",
      "execution_count": null,
      "id": "ac0ab4f0",
      "metadata": {
        "id": "ac0ab4f0",
        "outputId": "49cef56e-9eb6-4b64-f5c5-86d498aab689"
      },
      "outputs": [
        {
          "data": {
            "text/plain": [
              "list"
            ]
          },
          "execution_count": 2,
          "metadata": {},
          "output_type": "execute_result"
        }
      ],
      "source": [
        "#A simple Numpy arrray is similar to a Python List. It is a sequence of Data.\n",
        "#Therefore we can create an array from a list\n",
        "mylist = [1,2,3]\n",
        "type(mylist) #Check the type"
      ]
    },
    {
      "cell_type": "code",
      "execution_count": null,
      "id": "da569123",
      "metadata": {
        "id": "da569123",
        "outputId": "f955d397-fc30-4721-b4ff-449b0a625729"
      },
      "outputs": [
        {
          "data": {
            "text/plain": [
              "array([1, 2, 3])"
            ]
          },
          "execution_count": 3,
          "metadata": {},
          "output_type": "execute_result"
        }
      ],
      "source": [
        "#Turn list to an arrray\n",
        "np.array(mylist)"
      ]
    },
    {
      "cell_type": "code",
      "execution_count": null,
      "id": "0e8e2624",
      "metadata": {
        "id": "0e8e2624",
        "outputId": "c2b17fa5-e7f5-43e6-9c05-fa2ae4853939"
      },
      "outputs": [
        {
          "data": {
            "text/plain": [
              "numpy.ndarray"
            ]
          },
          "execution_count": 4,
          "metadata": {},
          "output_type": "execute_result"
        }
      ],
      "source": [
        "#However, if we want to change the list to an arrray permanently, we have to assign it to a new variable\n",
        "myarr = np.array(mylist)\n",
        "type(myarr)"
      ]
    },
    {
      "cell_type": "markdown",
      "id": "7435c175",
      "metadata": {
        "id": "7435c175"
      },
      "source": [
        "\n",
        "### Transform a nested list into a two-dimensional numpy array"
      ]
    },
    {
      "cell_type": "code",
      "execution_count": null,
      "id": "77c5efe8",
      "metadata": {
        "id": "77c5efe8",
        "outputId": "63f83206-90bb-47c5-fbd1-baadfc09ea61"
      },
      "outputs": [
        {
          "data": {
            "text/plain": [
              "[[1, 2, 3], [4, 5, 6], [7, 8, 9]]"
            ]
          },
          "execution_count": 5,
          "metadata": {},
          "output_type": "execute_result"
        }
      ],
      "source": [
        "mylist = [[1,2,3], [4,5,6], [7,8,9]]\n",
        "mylist"
      ]
    },
    {
      "cell_type": "code",
      "execution_count": null,
      "id": "1ee9e854",
      "metadata": {
        "id": "1ee9e854",
        "outputId": "0f1600c0-dc37-4f89-f5dc-e14f6d55ce93"
      },
      "outputs": [
        {
          "data": {
            "text/plain": [
              "array([[1, 2, 3],\n",
              "       [4, 5, 6],\n",
              "       [7, 8, 9]])"
            ]
          },
          "execution_count": 17,
          "metadata": {},
          "output_type": "execute_result"
        }
      ],
      "source": [
        "mymatrix = np.array(mylist)\n",
        "mymatrix"
      ]
    },
    {
      "cell_type": "markdown",
      "id": "adf78ce4",
      "metadata": {
        "id": "adf78ce4"
      },
      "source": [
        "This is called a 2D array, as it has a X and a Y  axis. They are also refered to as rows and columns"
      ]
    },
    {
      "cell_type": "code",
      "execution_count": null,
      "id": "0f236d97",
      "metadata": {
        "id": "0f236d97",
        "outputId": "3619b652-2e2e-47b6-bd05-d11c0946c8f0"
      },
      "outputs": [
        {
          "data": {
            "text/plain": [
              "(3, 3)"
            ]
          },
          "execution_count": 8,
          "metadata": {},
          "output_type": "execute_result"
        }
      ],
      "source": [
        "mymatrix.shape"
      ]
    },
    {
      "cell_type": "markdown",
      "id": "f7014518",
      "metadata": {
        "id": "f7014518"
      },
      "source": [
        "The shape shows that it is a 3x3 matrix"
      ]
    },
    {
      "cell_type": "markdown",
      "id": "0bc14e44",
      "metadata": {
        "id": "0bc14e44"
      },
      "source": [
        "***\n",
        "## Numpy buit in methods"
      ]
    },
    {
      "cell_type": "markdown",
      "id": "88975f1e",
      "metadata": {
        "id": "88975f1e"
      },
      "source": [
        "### np.arange\n",
        "Creates an array of numberst between a start- (inclusive) and a stop value (exclusive) using a defined step (default is 1)"
      ]
    },
    {
      "cell_type": "code",
      "execution_count": null,
      "id": "31c4ec4d",
      "metadata": {
        "id": "31c4ec4d",
        "outputId": "fa8e54d3-38a7-4b17-f32a-8e22b9a5c60a"
      },
      "outputs": [
        {
          "data": {
            "text/plain": [
              "array([ 0,  2,  4,  6,  8, 10])"
            ]
          },
          "execution_count": 11,
          "metadata": {},
          "output_type": "execute_result"
        }
      ],
      "source": [
        "np.arange(0, 11, 2)"
      ]
    },
    {
      "cell_type": "markdown",
      "id": "db8db61b",
      "metadata": {
        "id": "db8db61b"
      },
      "source": [
        "### np.ones\n",
        "creates an array of ones (type: float) with a user-defined length"
      ]
    },
    {
      "cell_type": "code",
      "execution_count": null,
      "id": "c23d047f",
      "metadata": {
        "id": "c23d047f",
        "outputId": "58c79daf-ca25-4cf3-8f35-060a6d3b301d"
      },
      "outputs": [
        {
          "data": {
            "text/plain": [
              "array([1., 1., 1., 1., 1.])"
            ]
          },
          "execution_count": 12,
          "metadata": {},
          "output_type": "execute_result"
        }
      ],
      "source": [
        "np.ones(5)"
      ]
    },
    {
      "cell_type": "markdown",
      "id": "4e70eba6",
      "metadata": {
        "id": "4e70eba6"
      },
      "source": [
        "you can specify the shape of the array by providing a tuple with the desired shape"
      ]
    },
    {
      "cell_type": "code",
      "execution_count": null,
      "id": "9f2b9d47",
      "metadata": {
        "id": "9f2b9d47",
        "outputId": "74ab1633-aeb9-4762-b9c9-cf4ec66f3d36"
      },
      "outputs": [
        {
          "data": {
            "text/plain": [
              "array([[1., 1., 1., 1., 1.],\n",
              "       [1., 1., 1., 1., 1.],\n",
              "       [1., 1., 1., 1., 1.]])"
            ]
          },
          "execution_count": 15,
          "metadata": {},
          "output_type": "execute_result"
        }
      ],
      "source": [
        "np.ones((3, 5)) #This one will have 3 rows and 5 columns"
      ]
    },
    {
      "cell_type": "markdown",
      "id": "810f9673",
      "metadata": {
        "id": "810f9673"
      },
      "source": [
        "### np.zeros\n",
        "creates an array of zeros (type: float) with a user-defined length"
      ]
    },
    {
      "cell_type": "code",
      "execution_count": null,
      "id": "3aa0504a",
      "metadata": {
        "id": "3aa0504a",
        "outputId": "59af33f0-ef95-4e7c-bc13-a258772302b3"
      },
      "outputs": [
        {
          "data": {
            "text/plain": [
              "array([0., 0., 0., 0., 0., 0., 0., 0., 0., 0., 0., 0., 0., 0., 0.])"
            ]
          },
          "execution_count": 13,
          "metadata": {},
          "output_type": "execute_result"
        }
      ],
      "source": [
        "np.zeros(15)"
      ]
    },
    {
      "cell_type": "markdown",
      "id": "0c38aae0",
      "metadata": {
        "id": "0c38aae0"
      },
      "source": [
        "you can specify the shape of the array by providing a tuple with the desired shape"
      ]
    },
    {
      "cell_type": "code",
      "execution_count": null,
      "id": "3f8c3b89",
      "metadata": {
        "id": "3f8c3b89",
        "outputId": "05864ef6-e7cf-4996-e445-2b51b7a62437"
      },
      "outputs": [
        {
          "data": {
            "text/plain": [
              "array([[0., 0., 0., 0., 0., 0., 0., 0., 0., 0.],\n",
              "       [0., 0., 0., 0., 0., 0., 0., 0., 0., 0.],\n",
              "       [0., 0., 0., 0., 0., 0., 0., 0., 0., 0.],\n",
              "       [0., 0., 0., 0., 0., 0., 0., 0., 0., 0.],\n",
              "       [0., 0., 0., 0., 0., 0., 0., 0., 0., 0.],\n",
              "       [0., 0., 0., 0., 0., 0., 0., 0., 0., 0.],\n",
              "       [0., 0., 0., 0., 0., 0., 0., 0., 0., 0.],\n",
              "       [0., 0., 0., 0., 0., 0., 0., 0., 0., 0.]])"
            ]
          },
          "execution_count": 19,
          "metadata": {},
          "output_type": "execute_result"
        }
      ],
      "source": [
        "np.zeros((8, 10)) #This one will have 8 rows and 10 columns"
      ]
    },
    {
      "cell_type": "markdown",
      "id": "36d1b171",
      "metadata": {
        "id": "36d1b171"
      },
      "source": [
        "### Broadcasting operations to every value in matrices\n",
        "In numpy you can do all kinds of operations with arrays. For example, you can simply add a value to each element. This is not possible within normal Python lists"
      ]
    },
    {
      "cell_type": "code",
      "execution_count": null,
      "id": "a9084c84",
      "metadata": {
        "id": "a9084c84",
        "outputId": "f83426be-1bfc-4ebc-ec71-63b8ed81db9a"
      },
      "outputs": [
        {
          "data": {
            "text/plain": [
              "array([[7., 7., 7., 7., 7., 7.],\n",
              "       [7., 7., 7., 7., 7., 7.],\n",
              "       [7., 7., 7., 7., 7., 7.],\n",
              "       [7., 7., 7., 7., 7., 7.]])"
            ]
          },
          "execution_count": 22,
          "metadata": {},
          "output_type": "execute_result"
        }
      ],
      "source": [
        "np.ones((4, 6)) + 6 #A 6 will be added to every element"
      ]
    },
    {
      "cell_type": "code",
      "execution_count": null,
      "id": "eb4c787c",
      "metadata": {
        "id": "eb4c787c",
        "outputId": "0d62e63d-48b6-4ddf-fabe-26e82d4f5879"
      },
      "outputs": [
        {
          "data": {
            "text/plain": [
              "array([100., 100., 100., 100., 100., 100., 100., 100., 100., 100.])"
            ]
          },
          "execution_count": 23,
          "metadata": {},
          "output_type": "execute_result"
        }
      ],
      "source": [
        "np.ones(10) * 100"
      ]
    },
    {
      "cell_type": "markdown",
      "id": "c45d7e3f",
      "metadata": {
        "id": "c45d7e3f"
      },
      "source": [
        "### np.linspace\n",
        "Creates an array with linearly spaced numbers. Needs a startvalue, stopvalue and the number of values that should be linearly spaced between start- and stop value.\n",
        "Different to np.arrange it can also generate float values and its start and stop values are both inclusive"
      ]
    },
    {
      "cell_type": "code",
      "execution_count": null,
      "id": "9137aa97",
      "metadata": {
        "id": "9137aa97",
        "outputId": "211abfe0-4763-4e77-f5b6-dd859f36f5c7"
      },
      "outputs": [
        {
          "data": {
            "text/plain": [
              "array([ 0.,  5., 10.])"
            ]
          },
          "execution_count": 25,
          "metadata": {},
          "output_type": "execute_result"
        }
      ],
      "source": [
        "np.linspace(0 , 10, 3)"
      ]
    },
    {
      "cell_type": "code",
      "execution_count": null,
      "id": "06c5c834",
      "metadata": {
        "id": "06c5c834",
        "outputId": "c988eea0-ef19-4115-bd84-8805fdca24d9"
      },
      "outputs": [
        {
          "data": {
            "text/plain": [
              "array([0.        , 0.05263158, 0.10526316, 0.15789474, 0.21052632,\n",
              "       0.26315789, 0.31578947, 0.36842105, 0.42105263, 0.47368421,\n",
              "       0.52631579, 0.57894737, 0.63157895, 0.68421053, 0.73684211,\n",
              "       0.78947368, 0.84210526, 0.89473684, 0.94736842, 1.        ])"
            ]
          },
          "execution_count": 26,
          "metadata": {},
          "output_type": "execute_result"
        }
      ],
      "source": [
        "np.linspace(0 , 1, 20)"
      ]
    },
    {
      "cell_type": "markdown",
      "id": "26be9bc8",
      "metadata": {
        "id": "26be9bc8"
      },
      "source": [
        "### np.random.rand\n",
        "Creates random samples of a uniform distribution between 0 and 1 (every value between 0 and 1 has the same probability of getting chosen)"
      ]
    },
    {
      "cell_type": "code",
      "execution_count": null,
      "id": "fbe62051",
      "metadata": {
        "id": "fbe62051",
        "outputId": "64579b83-ee07-463e-b7c2-e82fd948e00e"
      },
      "outputs": [
        {
          "data": {
            "text/plain": [
              "array([0.3632668 , 0.13023271, 0.52157785])"
            ]
          },
          "execution_count": 19,
          "metadata": {},
          "output_type": "execute_result"
        }
      ],
      "source": [
        "np.random.rand(3)"
      ]
    },
    {
      "cell_type": "code",
      "execution_count": null,
      "id": "160492be",
      "metadata": {
        "id": "160492be",
        "outputId": "736cd8b9-7e77-474d-e4f2-5dd31fd28412"
      },
      "outputs": [
        {
          "data": {
            "text/plain": [
              "array([[0.36612915, 0.87792682, 0.05203252, 0.02764891, 0.31170575],\n",
              "       [0.68932229, 0.79134956, 0.01812732, 0.58447655, 0.95384179],\n",
              "       [0.79142992, 0.28532116, 0.03583618, 0.05431546, 0.3663545 ],\n",
              "       [0.39108946, 0.52651586, 0.84537835, 0.12563322, 0.26668021],\n",
              "       [0.56569679, 0.52006251, 0.26980199, 0.80459768, 0.15316512]])"
            ]
          },
          "execution_count": 28,
          "metadata": {},
          "output_type": "execute_result"
        }
      ],
      "source": [
        "np.random.rand(5, 5)"
      ]
    },
    {
      "cell_type": "markdown",
      "id": "fed82cfe",
      "metadata": {
        "id": "fed82cfe"
      },
      "source": [
        "### np.random.randn\n",
        "Creates samples from the standard normal distribution (mean = 0, stdv =1)"
      ]
    },
    {
      "cell_type": "code",
      "execution_count": null,
      "id": "c4f2b0b1",
      "metadata": {
        "id": "c4f2b0b1",
        "outputId": "44d6ec4b-5ea2-4963-92e3-428db7dd51f9"
      },
      "outputs": [
        {
          "data": {
            "text/plain": [
              "array([-0.2197954 ,  0.59107236,  0.17937833,  1.87462908, -0.12288244,\n",
              "        0.93291376,  0.06278072, -1.60037817,  0.86758024, -0.64914352])"
            ]
          },
          "execution_count": 31,
          "metadata": {},
          "output_type": "execute_result"
        }
      ],
      "source": [
        "np.random.randn(10)\n",
        "#if you want to create your own standard distribution with a mean and a stdv, use np.random.normal"
      ]
    },
    {
      "cell_type": "markdown",
      "id": "56a9f0c9",
      "metadata": {
        "id": "56a9f0c9"
      },
      "source": [
        "### np.random.randint\n",
        "Creates random integers between a low (inclusive) and a high value (exclusive) and a specific size"
      ]
    },
    {
      "cell_type": "code",
      "execution_count": null,
      "id": "8400b634",
      "metadata": {
        "id": "8400b634",
        "outputId": "f6efad2f-d8c3-4293-bb70-accc089c1eec"
      },
      "outputs": [
        {
          "data": {
            "text/plain": [
              "17"
            ]
          },
          "execution_count": 32,
          "metadata": {},
          "output_type": "execute_result"
        }
      ],
      "source": [
        "np.random.randint(1, 100)"
      ]
    },
    {
      "cell_type": "code",
      "execution_count": null,
      "id": "2bda7622",
      "metadata": {
        "id": "2bda7622",
        "outputId": "cf27b19c-9f07-4a2a-a987-be17e565b1b2"
      },
      "outputs": [
        {
          "data": {
            "text/plain": [
              "array([52,  4, 32, 98, 89, 47, 26, 49, 26, 39])"
            ]
          },
          "execution_count": 33,
          "metadata": {},
          "output_type": "execute_result"
        }
      ],
      "source": [
        "#You can additionally specify the size/shape\n",
        "np.random.randint(1, 100, 10)"
      ]
    },
    {
      "cell_type": "markdown",
      "id": "762cf70a",
      "metadata": {
        "id": "762cf70a"
      },
      "source": [
        "### np.reshape\n",
        "Changes the dimensions/shape of an array to the desired format. Keep in mind that the provided dimensions have to be compatiple with the amount of values stored in the array."
      ]
    },
    {
      "cell_type": "code",
      "execution_count": null,
      "id": "83547a64",
      "metadata": {
        "id": "83547a64",
        "outputId": "47a4358e-b396-4c5a-90ca-f313a67e0675"
      },
      "outputs": [
        {
          "data": {
            "text/plain": [
              "(25,)"
            ]
          },
          "execution_count": 4,
          "metadata": {},
          "output_type": "execute_result"
        }
      ],
      "source": [
        "#create an array\n",
        "arr = np.arange(25)\n",
        "arr.shape"
      ]
    },
    {
      "cell_type": "code",
      "execution_count": null,
      "id": "c96e7f81",
      "metadata": {
        "id": "c96e7f81",
        "outputId": "a15a62cd-380c-4c0f-ecf8-dab519cca1c9"
      },
      "outputs": [
        {
          "data": {
            "text/plain": [
              "array([[ 0,  1,  2,  3,  4],\n",
              "       [ 5,  6,  7,  8,  9],\n",
              "       [10, 11, 12, 13, 14],\n",
              "       [15, 16, 17, 18, 19],\n",
              "       [20, 21, 22, 23, 24]])"
            ]
          },
          "execution_count": 39,
          "metadata": {},
          "output_type": "execute_result"
        }
      ],
      "source": [
        "reshaped = arr.reshape(5, 5)\n",
        "reshaped"
      ]
    },
    {
      "cell_type": "code",
      "execution_count": null,
      "id": "eb546386",
      "metadata": {
        "id": "eb546386",
        "outputId": "ba29a74b-a032-4a63-f244-23f6ad460889"
      },
      "outputs": [
        {
          "data": {
            "text/plain": [
              "(5, 5)"
            ]
          },
          "execution_count": 40,
          "metadata": {},
          "output_type": "execute_result"
        }
      ],
      "source": [
        "reshaped.shape"
      ]
    },
    {
      "cell_type": "markdown",
      "id": "e2cdc7c0",
      "metadata": {
        "id": "e2cdc7c0"
      },
      "source": [
        "We can not set the provided array with its 25 elements to a shape of 3x5, has such a shape would only be capable to hold 15 values, however, 25 are provided!"
      ]
    },
    {
      "cell_type": "markdown",
      "id": "39aa9a96",
      "metadata": {
        "id": "39aa9a96"
      },
      "source": [
        "### np.min(),  np.max()\n",
        "Returns the min or max value of an array"
      ]
    },
    {
      "cell_type": "code",
      "execution_count": null,
      "id": "c43bbcc8",
      "metadata": {
        "id": "c43bbcc8",
        "outputId": "998f6d1a-827f-4d86-a9fc-da9563f835b1"
      },
      "outputs": [
        {
          "name": "stdout",
          "output_type": "stream",
          "text": [
            "2\n",
            "47\n"
          ]
        }
      ],
      "source": [
        "arr = np.random.randint(0, 50, 20)\n",
        "print(np.min(arr))\n",
        "print(np.max(arr))"
      ]
    },
    {
      "cell_type": "markdown",
      "id": "fd749b60",
      "metadata": {
        "id": "fd749b60"
      },
      "source": [
        "### np.argmin(), np.argmax()\n",
        "Returns the index location of the min or max value"
      ]
    },
    {
      "cell_type": "code",
      "execution_count": null,
      "id": "5bb72779",
      "metadata": {
        "id": "5bb72779",
        "outputId": "5bdbc159-fc2c-4a04-b3a0-821bf515a2fa"
      },
      "outputs": [
        {
          "name": "stdout",
          "output_type": "stream",
          "text": [
            "11\n",
            "9\n"
          ]
        }
      ],
      "source": [
        "print(np.argmin(arr))\n",
        "print(np.argmax(arr))"
      ]
    },
    {
      "cell_type": "markdown",
      "id": "69761c98",
      "metadata": {
        "id": "69761c98"
      },
      "source": [
        "### np.dtype\n",
        "Returns the datatype of an arrray"
      ]
    },
    {
      "cell_type": "code",
      "execution_count": null,
      "id": "804b6172",
      "metadata": {
        "id": "804b6172",
        "outputId": "ca3a7158-4c38-4b02-ba65-2c6220627027"
      },
      "outputs": [
        {
          "data": {
            "text/plain": [
              "dtype('int32')"
            ]
          },
          "execution_count": 46,
          "metadata": {},
          "output_type": "execute_result"
        }
      ],
      "source": [
        "arr.dtype"
      ]
    },
    {
      "cell_type": "markdown",
      "id": "f8e27bbf",
      "metadata": {
        "id": "f8e27bbf"
      },
      "source": [
        "## Selections and indexing\n",
        "Selecting elements from an arrray is very similar to selecting elements in Python lists"
      ]
    },
    {
      "cell_type": "markdown",
      "id": "cbca250d",
      "metadata": {
        "id": "cbca250d"
      },
      "source": [
        "### Indexing 1D arrays"
      ]
    },
    {
      "cell_type": "code",
      "execution_count": null,
      "id": "204026ff",
      "metadata": {
        "id": "204026ff",
        "outputId": "82efde8b-ab7a-4103-f512-63b466b2177a"
      },
      "outputs": [
        {
          "data": {
            "text/plain": [
              "array([ 0,  1,  2,  3,  4,  5,  6,  7,  8,  9, 10])"
            ]
          },
          "execution_count": 47,
          "metadata": {},
          "output_type": "execute_result"
        }
      ],
      "source": [
        "#Create an arrray that we can use\n",
        "arr = np.arange(0, 11)\n",
        "arr"
      ]
    },
    {
      "cell_type": "code",
      "execution_count": null,
      "id": "3d96bb2d",
      "metadata": {
        "id": "3d96bb2d",
        "outputId": "305961b7-a916-4b6d-c723-17b98178374a"
      },
      "outputs": [
        {
          "data": {
            "text/plain": [
              "4"
            ]
          },
          "execution_count": 48,
          "metadata": {},
          "output_type": "execute_result"
        }
      ],
      "source": [
        "#pass the index of an element to select it\n",
        "arr[4]"
      ]
    },
    {
      "cell_type": "markdown",
      "id": "eb8bb254",
      "metadata": {
        "id": "eb8bb254"
      },
      "source": [
        "### Slicing 1D arrays"
      ]
    },
    {
      "cell_type": "code",
      "execution_count": null,
      "id": "598b8994",
      "metadata": {
        "id": "598b8994",
        "outputId": "c11ed231-fbff-464d-be67-efbd1cc4b714"
      },
      "outputs": [
        {
          "data": {
            "text/plain": [
              "array([2, 3, 4, 5])"
            ]
          },
          "execution_count": 49,
          "metadata": {},
          "output_type": "execute_result"
        }
      ],
      "source": [
        "#selecting values between two indices [start(included) : end(excluded)]\n",
        "arr[2:6]"
      ]
    },
    {
      "cell_type": "code",
      "execution_count": null,
      "id": "6320225d",
      "metadata": {
        "id": "6320225d",
        "outputId": "35715c3d-6900-4851-c547-87752e6d0a5c"
      },
      "outputs": [
        {
          "data": {
            "text/plain": [
              "array([0, 1, 2, 3, 4])"
            ]
          },
          "execution_count": 50,
          "metadata": {},
          "output_type": "execute_result"
        }
      ],
      "source": [
        "#selecting up to an index [: end(excluded)]\n",
        "arr[:5]"
      ]
    },
    {
      "cell_type": "code",
      "execution_count": null,
      "id": "fbb626ae",
      "metadata": {
        "id": "fbb626ae",
        "outputId": "51ef5886-66aa-4a77-d681-fcfc2d9a4fed"
      },
      "outputs": [
        {
          "data": {
            "text/plain": [
              "array([ 5,  6,  7,  8,  9, 10])"
            ]
          },
          "execution_count": 51,
          "metadata": {},
          "output_type": "execute_result"
        }
      ],
      "source": [
        "#selecting from an index onward [start(including):]\n",
        "arr[5:]"
      ]
    },
    {
      "cell_type": "markdown",
      "id": "312243c2",
      "metadata": {
        "id": "312243c2"
      },
      "source": [
        "### Indexing 2D arrays"
      ]
    },
    {
      "cell_type": "code",
      "execution_count": null,
      "id": "ae8948f3",
      "metadata": {
        "id": "ae8948f3",
        "outputId": "7c822bd0-9e89-4df2-d5e5-c0ffbf9d5bc1"
      },
      "outputs": [
        {
          "data": {
            "text/plain": [
              "array([[15, 35, 60],\n",
              "       [25, 55, 45],\n",
              "       [10, 20, 30]])"
            ]
          },
          "execution_count": 13,
          "metadata": {},
          "output_type": "execute_result"
        }
      ],
      "source": [
        "#Create a 2d array\n",
        "arr_2D = np.array([[15,35,60], [25, 55, 45], [10, 20, 30]])\n",
        "print(arr_2D.shape)\n",
        "arr_2D"
      ]
    },
    {
      "cell_type": "code",
      "execution_count": null,
      "id": "dcbeac6c",
      "metadata": {
        "id": "dcbeac6c",
        "outputId": "213019b2-9825-469c-f2be-182c86259e52"
      },
      "outputs": [
        {
          "data": {
            "text/plain": [
              "array([25, 55, 45])"
            ]
          },
          "execution_count": 58,
          "metadata": {},
          "output_type": "execute_result"
        }
      ],
      "source": [
        "#Select a row from the array\n",
        "arr_2D[1]"
      ]
    },
    {
      "cell_type": "code",
      "execution_count": null,
      "id": "9184455a",
      "metadata": {
        "id": "9184455a",
        "outputId": "d8e09398-6d19-41b8-9fb1-7a5d321955eb"
      },
      "outputs": [
        {
          "data": {
            "text/plain": [
              "55"
            ]
          },
          "execution_count": 60,
          "metadata": {},
          "output_type": "execute_result"
        }
      ],
      "source": [
        "#Select a single item by also providing the column\n",
        "arr_2D[1][1]"
      ]
    },
    {
      "cell_type": "code",
      "execution_count": null,
      "id": "625fa238",
      "metadata": {
        "id": "625fa238",
        "outputId": "715ea462-cd44-4433-f11d-06ee1be75a87"
      },
      "outputs": [
        {
          "data": {
            "text/plain": [
              "55"
            ]
          },
          "execution_count": 61,
          "metadata": {},
          "output_type": "execute_result"
        }
      ],
      "source": [
        "#To make it shorter, we can also put the index of the item in a single []\n",
        "arr_2D[1, 1]"
      ]
    },
    {
      "cell_type": "markdown",
      "id": "78458d44",
      "metadata": {
        "id": "78458d44"
      },
      "source": [
        "### Slicing 2D arrays"
      ]
    },
    {
      "cell_type": "code",
      "execution_count": null,
      "id": "f5aa78d1",
      "metadata": {
        "id": "f5aa78d1",
        "outputId": "8ef70743-81ba-497a-e4f9-4763664be9f4"
      },
      "outputs": [
        {
          "data": {
            "text/plain": [
              "array([[15, 35, 60],\n",
              "       [25, 55, 45]])"
            ]
          },
          "execution_count": 62,
          "metadata": {},
          "output_type": "execute_result"
        }
      ],
      "source": [
        "#Lets try to select the two last columns from the first two rows\n",
        "\n",
        "#Select the first two rows:\n",
        "arr_2D[:2]"
      ]
    },
    {
      "cell_type": "code",
      "execution_count": null,
      "id": "93a0de32",
      "metadata": {
        "id": "93a0de32",
        "outputId": "85c63357-15ec-4787-ce29-e4eeaf83e4e5"
      },
      "outputs": [
        {
          "data": {
            "text/plain": [
              "array([[35, 60],\n",
              "       [55, 45]])"
            ]
          },
          "execution_count": 63,
          "metadata": {},
          "output_type": "execute_result"
        }
      ],
      "source": [
        "#Select the last two items from those two rows\n",
        "arr_2D[:2, 1:]"
      ]
    },
    {
      "cell_type": "code",
      "execution_count": null,
      "id": "16a1dd55",
      "metadata": {
        "id": "16a1dd55",
        "outputId": "92fa1c66-b435-4bd0-cf64-57077c72caf9"
      },
      "outputs": [
        {
          "data": {
            "text/plain": [
              "array([15, 25, 10])"
            ]
          },
          "execution_count": 14,
          "metadata": {},
          "output_type": "execute_result"
        }
      ],
      "source": [
        "#Lets try to select the first value of every row\n",
        "#To select all elements of a dimension, we can use ':'\n",
        "\n",
        "arr_2D[:, 0] #This means: From all rows ':', select the first item/ the item in column 0"
      ]
    },
    {
      "cell_type": "markdown",
      "id": "1281bd43",
      "metadata": {
        "id": "1281bd43"
      },
      "source": [
        "### Conditional selection\n",
        "Only keeps items that fullfill the condition"
      ]
    },
    {
      "cell_type": "code",
      "execution_count": null,
      "id": "10345e01",
      "metadata": {
        "id": "10345e01",
        "outputId": "7a444448-9e74-4e90-d925-d4be778c24df"
      },
      "outputs": [
        {
          "name": "stdout",
          "output_type": "stream",
          "text": [
            "[ 0  1  2  3  4  5  6  7  8  9 10]\n"
          ]
        },
        {
          "data": {
            "text/plain": [
              "array([ 7,  8,  9, 10])"
            ]
          },
          "execution_count": 66,
          "metadata": {},
          "output_type": "execute_result"
        }
      ],
      "source": [
        "arr = np.arange(0, 11)\n",
        "print(arr)\n",
        "\n",
        "arr[arr > 6]"
      ]
    },
    {
      "cell_type": "markdown",
      "id": "22802212",
      "metadata": {
        "id": "22802212"
      },
      "source": [
        "### Array copies\n",
        "It is important to know, that a selection of an array still points to its original array, even though it has been assigned to a new variable"
      ]
    },
    {
      "cell_type": "code",
      "execution_count": null,
      "id": "a9a961b0",
      "metadata": {
        "id": "a9a961b0",
        "outputId": "ebd34ff6-605e-4ace-af96-9ae42b093484"
      },
      "outputs": [
        {
          "data": {
            "text/plain": [
              "array([0, 1, 2, 3, 4])"
            ]
          },
          "execution_count": 52,
          "metadata": {},
          "output_type": "execute_result"
        }
      ],
      "source": [
        "#Example:\n",
        "arr = np.arange(0, 11)\n",
        "print(arr)\n",
        "\n",
        "#Do a selection and store the selection in a new variable\n",
        "new_arr = arr[:5]\n",
        "new_arr"
      ]
    },
    {
      "cell_type": "code",
      "execution_count": null,
      "id": "4f57f55f",
      "metadata": {
        "id": "4f57f55f",
        "outputId": "dd37c33f-0bb6-4831-8d79-956a0d10f9c1"
      },
      "outputs": [
        {
          "data": {
            "text/plain": [
              "array([-999, -999, -999, -999, -999])"
            ]
          },
          "execution_count": 53,
          "metadata": {},
          "output_type": "execute_result"
        }
      ],
      "source": [
        "#Set all values in the selection to -999 (we need '[:]' to select all values from our selection)\n",
        "new_arr[:] = -999\n",
        "new_arr"
      ]
    },
    {
      "cell_type": "code",
      "execution_count": null,
      "id": "95a2e664",
      "metadata": {
        "id": "95a2e664",
        "outputId": "57681586-23c4-463a-ae16-7dd4582a6633"
      },
      "outputs": [
        {
          "data": {
            "text/plain": [
              "array([-999, -999, -999, -999, -999,    5,    6,    7,    8,    9,   10])"
            ]
          },
          "execution_count": 54,
          "metadata": {},
          "output_type": "execute_result"
        }
      ],
      "source": [
        "#it first seems like we have just changed the values from our selection to a new value, but let us look at the original array\n",
        "arr"
      ]
    },
    {
      "cell_type": "markdown",
      "id": "f0d1a0ec",
      "metadata": {
        "id": "f0d1a0ec"
      },
      "source": [
        "To prevent the original array to be changed, we can create copies of it"
      ]
    },
    {
      "cell_type": "code",
      "execution_count": null,
      "id": "0be75870",
      "metadata": {
        "id": "0be75870",
        "outputId": "de3214bb-a676-4008-a581-a74b2f18091c"
      },
      "outputs": [
        {
          "data": {
            "text/plain": [
              "array([0, 1, 2, 3, 4])"
            ]
          },
          "execution_count": 55,
          "metadata": {},
          "output_type": "execute_result"
        }
      ],
      "source": [
        "arr = np.arange(0, 11)\n",
        "new_arr = arr.copy()[:5]\n",
        "new_arr"
      ]
    },
    {
      "cell_type": "markdown",
      "id": "9a48a827",
      "metadata": {
        "id": "9a48a827"
      },
      "source": [
        "## Operations across axis\n",
        "With np.max() and np.min() we already got in contact with numpy operations. Besides those two operations there are many others, such as np.mean(), np.sum(), np.log(my_array), np.sin(my_array) etc. [More information about operations](https://www.pluralsight.com/guides/overview-basic-numpy-operations)\n",
        "\n",
        "In a multidimensional array we can specify through which axis we want to do our calculations\n",
        "![grafik.png](attachment:grafik.png)\n",
        "[Source](https://www.statology.org/numpy-axis/)"
      ]
    },
    {
      "cell_type": "code",
      "execution_count": null,
      "id": "1fd046bf",
      "metadata": {
        "id": "1fd046bf",
        "outputId": "78d9fc9e-853c-47a7-ccde-89ff3f6dbbe0"
      },
      "outputs": [
        {
          "data": {
            "text/plain": [
              "array([[ 0,  1,  2,  3,  4],\n",
              "       [ 5,  6,  7,  8,  9],\n",
              "       [10, 11, 12, 13, 14],\n",
              "       [15, 16, 17, 18, 19]])"
            ]
          },
          "execution_count": 6,
          "metadata": {},
          "output_type": "execute_result"
        }
      ],
      "source": [
        "arr = np.arange(0,20).reshape(4, 5)\n",
        "arr"
      ]
    },
    {
      "cell_type": "code",
      "execution_count": null,
      "id": "01563ffe",
      "metadata": {
        "id": "01563ffe",
        "outputId": "208201ad-98c9-4aa8-c2ca-f30cfe23180a"
      },
      "outputs": [
        {
          "data": {
            "text/plain": [
              "190"
            ]
          },
          "execution_count": 7,
          "metadata": {},
          "output_type": "execute_result"
        }
      ],
      "source": [
        "#calculate the sum of all items\n",
        "np.sum(arr)"
      ]
    },
    {
      "cell_type": "code",
      "execution_count": null,
      "id": "66d9aae4",
      "metadata": {
        "id": "66d9aae4",
        "outputId": "01fe40d0-f2ae-4a60-f9e1-e3cdad49d3e8"
      },
      "outputs": [
        {
          "data": {
            "text/plain": [
              "array([30, 34, 38, 42, 46])"
            ]
          },
          "execution_count": 8,
          "metadata": {},
          "output_type": "execute_result"
        }
      ],
      "source": [
        "#calculate the sum across the rows/along the columns/along the vertical axis (y)\n",
        "np.sum(arr, axis=0)"
      ]
    },
    {
      "cell_type": "code",
      "execution_count": null,
      "id": "fb166348",
      "metadata": {
        "id": "fb166348",
        "outputId": "4cc31690-da2c-4394-9939-010575c030a4"
      },
      "outputs": [
        {
          "data": {
            "text/plain": [
              "array([10, 35, 60, 85])"
            ]
          },
          "execution_count": 72,
          "metadata": {},
          "output_type": "execute_result"
        }
      ],
      "source": [
        "#calculate the sum across the coolumns/along the rows/along the horizontal axis (x)\n",
        "np.sum(arr, axis=1)"
      ]
    }
  ],
  "metadata": {
    "colab": {
      "provenance": []
    },
    "kernelspec": {
      "display_name": "Python 3 (ipykernel)",
      "language": "python",
      "name": "python3"
    },
    "language_info": {
      "codemirror_mode": {
        "name": "ipython",
        "version": 3
      },
      "file_extension": ".py",
      "mimetype": "text/x-python",
      "name": "python",
      "nbconvert_exporter": "python",
      "pygments_lexer": "ipython3",
      "version": "3.8.3"
    }
  },
  "nbformat": 4,
  "nbformat_minor": 5
}
