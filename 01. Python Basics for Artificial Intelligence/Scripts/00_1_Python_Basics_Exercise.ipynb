{
  "cells": [
    {
      "cell_type": "markdown",
      "id": "a093096c",
      "metadata": {
        "id": "a093096c"
      },
      "source": [
        "This notebook contains tasks that can be solved with the knowledge from the corresponding basics notebook"
      ]
    },
    {
      "cell_type": "markdown",
      "id": "8bb90368",
      "metadata": {
        "id": "8bb90368"
      },
      "source": [
        "# Task 1\n",
        "Create two variables, each containing a numerical value, and subtract them from each other. Print the result to the console."
      ]
    },
    {
      "cell_type": "code",
      "execution_count": null,
      "id": "89a70a2d",
      "metadata": {
        "id": "89a70a2d"
      },
      "outputs": [],
      "source": [
        "#Your code:"
      ]
    },
    {
      "cell_type": "markdown",
      "id": "bd1a7c3c",
      "metadata": {
        "id": "bd1a7c3c"
      },
      "source": [
        "# Task 2\n",
        "1. Create a list of the most common tree species in Germany. These include: Pine, copper beech, oak, larch.\n",
        "2. Subsequently add the tree species 'fir' and 'spruce' to the list.\n",
        "3. Now create a new variable that lists the second and third most common tree species. This new list should be derived from the previously created list (slicing)"
      ]
    },
    {
      "cell_type": "code",
      "execution_count": null,
      "id": "1ee6c171",
      "metadata": {
        "id": "1ee6c171"
      },
      "outputs": [],
      "source": [
        "#Your code:"
      ]
    },
    {
      "cell_type": "markdown",
      "id": "ddcbbf3f",
      "metadata": {
        "id": "ddcbbf3f"
      },
      "source": [
        "# Task 3\n",
        "Given is a list containing tree species and their estimated maximum biological age.\n",
        "<br>\n",
        "Filter the list so that only the age of the oak tree is displayed. Use as few lines of code as possible."
      ]
    },
    {
      "cell_type": "code",
      "execution_count": 2,
      "id": "9b4e77cd",
      "metadata": {
        "id": "9b4e77cd"
      },
      "outputs": [],
      "source": [
        "max_tree_age = [\n",
        "    [\"Pine\", 500],\n",
        "    [\"Copper beech\", 400],\n",
        "    [\"Oak\", 850],\n",
        "    [\"Larch\", 300]\n",
        "]"
      ]
    },
    {
      "cell_type": "code",
      "execution_count": null,
      "id": "06bc0974",
      "metadata": {
        "id": "06bc0974"
      },
      "outputs": [],
      "source": [
        "#Your code:"
      ]
    },
    {
      "cell_type": "markdown",
      "id": "74b80e05",
      "metadata": {
        "id": "74b80e05"
      },
      "source": [
        "# Task 4\n",
        "As you may have noticed, a list is not really a suitable way of assigning information to tree species. A dictionary offers more options for storing a wide range of information and subsequently retrieving it in a targeted manner.\n",
        "In the following, a dictionary of the information listed in the table is to be created in order to be able to retrieve specific information.\n",
        "<br>\n",
        "![grafik.png](attachment:grafik.png)\n",
        "[Source](https://www.waldhilfe.de/waldbaeume-die-wichtigsten-bauarten-in-deutschland/)\n",
        "<br>\n",
        "1. Create a dictionary that contains the tree species as keys. The value of each tree type should be another dictionary, which contains the actual values behind the keys 'Proportion of area' and 'Area hectares'\n",
        "2. Query the area in hectares of the oak tree with as few lines of code as possible, so that the area is a single number in a variable"
      ]
    },
    {
      "cell_type": "code",
      "execution_count": null,
      "id": "3aa4140b",
      "metadata": {
        "id": "3aa4140b"
      },
      "outputs": [],
      "source": [
        "#Your code:"
      ]
    }
  ],
  "metadata": {
    "kernelspec": {
      "display_name": "Python 3 (ipykernel)",
      "language": "python",
      "name": "python3"
    },
    "language_info": {
      "codemirror_mode": {
        "name": "ipython",
        "version": 3
      },
      "file_extension": ".py",
      "mimetype": "text/x-python",
      "name": "python",
      "nbconvert_exporter": "python",
      "pygments_lexer": "ipython3",
      "version": "3.9.12"
    },
    "colab": {
      "provenance": []
    }
  },
  "nbformat": 4,
  "nbformat_minor": 5
}