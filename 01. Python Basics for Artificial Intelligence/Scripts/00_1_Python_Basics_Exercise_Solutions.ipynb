{
  "cells": [
    {
      "cell_type": "markdown",
      "id": "f3991ba4",
      "metadata": {
        "id": "f3991ba4"
      },
      "source": [
        "This notebook contains tasks that can be solved with the knowledge from the corresponding basics notebook"
      ]
    },
    {
      "cell_type": "markdown",
      "id": "c1da261d",
      "metadata": {
        "id": "c1da261d"
      },
      "source": [
        "# Task 1\n",
        "Create two variables, each containing a numerical value, and subtract them from each other. Print the result to the console."
      ]
    },
    {
      "cell_type": "code",
      "execution_count": 5,
      "id": "b8815cb7",
      "metadata": {
        "colab": {
          "base_uri": "https://localhost:8080/"
        },
        "id": "b8815cb7",
        "outputId": "4236ae74-3bce-42f5-b6fb-873756193ade"
      },
      "outputs": [
        {
          "output_type": "stream",
          "name": "stdout",
          "text": [
            "-11\n"
          ]
        }
      ],
      "source": [
        "#Your code:\n",
        "a = 4\n",
        "b = 15\n",
        "c = a - b\n",
        "print(c)"
      ]
    },
    {
      "cell_type": "markdown",
      "id": "9fef049b",
      "metadata": {
        "id": "9fef049b"
      },
      "source": [
        "# Task 2\n",
        "1. Create a list of the most common tree species in Germany. These include: Pine, copper beech, oak, larch.\n",
        "2. Subsequently add the tree species 'fir' and 'spruce' to the list.\n",
        "3. Now create a new variable that lists the second and third most common tree species. This new list should be derived from the previously created list (slicing)"
      ]
    },
    {
      "cell_type": "code",
      "execution_count": 2,
      "id": "f9e59e0d",
      "metadata": {
        "colab": {
          "base_uri": "https://localhost:8080/"
        },
        "id": "f9e59e0d",
        "outputId": "14008011-55cf-4271-a168-0490bce38db4"
      },
      "outputs": [
        {
          "output_type": "stream",
          "name": "stdout",
          "text": [
            "['Pine', 'Copper beech', 'Oak', 'Larch', 'Fir', 'Spruce']\n"
          ]
        }
      ],
      "source": [
        "#Your code:\n",
        "trees = [\"Pine\", \"Copper beech\", \"Oak\", \"Larch\"]\n",
        "trees.extend([\"Fir\", \"Spruce\"])\n",
        "print(trees)"
      ]
    },
    {
      "cell_type": "markdown",
      "id": "f14ae860",
      "metadata": {
        "id": "f14ae860"
      },
      "source": [
        "# Task 3\n",
        "Given is a list of tree species and their estimated maximum biological age.\n",
        "<br>\n",
        "Filter the list so that only the age of the oak tree is displayed. Use as few lines of code as possible."
      ]
    },
    {
      "cell_type": "code",
      "execution_count": 3,
      "id": "93e35c44",
      "metadata": {
        "id": "93e35c44"
      },
      "outputs": [],
      "source": [
        "max_tree_age = [\n",
        "    [\"Pine\", 500],\n",
        "    [\"Copper beech\", 400],\n",
        "    [\"Oak\", 850],\n",
        "    [\"Larch\", 300]\n",
        "]"
      ]
    },
    {
      "cell_type": "code",
      "execution_count": null,
      "id": "ec585259",
      "metadata": {
        "id": "ec585259",
        "outputId": "9bb90667-6673-44f6-8465-31c5d323a892"
      },
      "outputs": [
        {
          "name": "stdout",
          "output_type": "stream",
          "text": [
            "850\n"
          ]
        }
      ],
      "source": [
        "#Your code:\n",
        "print(max_tree_age[2][1])"
      ]
    },
    {
      "cell_type": "markdown",
      "id": "41aecf3d",
      "metadata": {
        "id": "41aecf3d"
      },
      "source": [
        "# Task 4\n",
        "As you may have noticed, a list is not really a suitable way of assigning information to tree species. A dictionary offers more options for storing a wide range of information and subsequently retrieving it in a targeted manner.\n",
        "In the following, a dictionary of the information listed in the table is to be created in order to be able to retrieve specific information.\n",
        "<br>\n",
        "![grafik.png](attachment:grafik.png)\n",
        "[Source](https://www.waldhilfe.de/waldbaeume-die-wichtigsten-bauarten-in-deutschland/)\n",
        "<br>\n",
        "1. Create a dictionary that contains the tree species as keys. The value of each tree species should be another dictionary, which contains the actual values behind the keys 'Proportion area' and 'Area hectares'\n",
        "2. Query the area in hectares of the oak with as few lines of code as possible so that the area is a single number in a variable"
      ]
    },
    {
      "cell_type": "code",
      "execution_count": 4,
      "id": "99163e35",
      "metadata": {
        "colab": {
          "base_uri": "https://localhost:8080/"
        },
        "id": "99163e35",
        "outputId": "36bc3449-0106-4ce3-b3bd-e88d8ad4927f"
      },
      "outputs": [
        {
          "output_type": "stream",
          "name": "stdout",
          "text": [
            "1129706\n"
          ]
        }
      ],
      "source": [
        "#Your code:\n",
        "trees = {\n",
        "   'Spruce': {\n",
        "       'Proportion of area': 25.38,\n",
        "        'Area hectares': 2763219\n",
        "    },\n",
        "    'Pine': {\n",
        "       'Proportion of area': 22.31,\n",
        "        'Area hectares': 2429623\n",
        "    },\n",
        "    'European beech': {\n",
        "       'Proportion of area': 15.43,\n",
        "        'Area hectares': 1680072\n",
        "    },\n",
        "    'Oak': {\n",
        "       'Proportion of area': 10.38,\n",
        "        'Area hectares': 1129706\n",
        "    },\n",
        "    'Larch': {\n",
        "       'Proportion of area': 2.82,\n",
        "        'Area hectares': 307050\n",
        "    },\n",
        "    'Silver fir': {\n",
        "       'Proportion of area': 1.68,\n",
        "        'Area hectares': 182757\n",
        "    },\n",
        "}\n",
        "\n",
        "selection = trees['Oak']['Area hectares']\n",
        "print(selection)"
      ]
    },
    {
      "cell_type": "code",
      "execution_count": null,
      "id": "dd02b0b6",
      "metadata": {
        "id": "dd02b0b6"
      },
      "outputs": [],
      "source": []
    }
  ],
  "metadata": {
    "kernelspec": {
      "display_name": "Python 3 (ipykernel)",
      "language": "python",
      "name": "python3"
    },
    "language_info": {
      "codemirror_mode": {
        "name": "ipython",
        "version": 3
      },
      "file_extension": ".py",
      "mimetype": "text/x-python",
      "name": "python",
      "nbconvert_exporter": "python",
      "pygments_lexer": "ipython3",
      "version": "3.9.12"
    },
    "colab": {
      "provenance": []
    }
  },
  "nbformat": 4,
  "nbformat_minor": 5
}