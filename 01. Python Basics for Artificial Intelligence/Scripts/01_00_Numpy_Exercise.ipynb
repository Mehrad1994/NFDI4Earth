{
 "cells": [
  {
   "cell_type": "markdown",
   "id": "f5a3053d",
   "metadata": {},
   "source": [
    "### 1. Import NumPy as np"
   ]
  },
  {
   "cell_type": "code",
   "execution_count": null,
   "id": "f053edde",
   "metadata": {},
   "outputs": [],
   "source": []
  },
  {
   "cell_type": "markdown",
   "id": "7f84e395",
   "metadata": {},
   "source": [
    "### 2. Create an array from this list"
   ]
  },
  {
   "cell_type": "code",
   "execution_count": null,
   "id": "d0f9fbb1",
   "metadata": {},
   "outputs": [],
   "source": [
    "mylist = [9, 8, 7, 6, 5, 4, 3, 2, 1]\n"
   ]
  },
  {
   "cell_type": "markdown",
   "id": "82bb837a",
   "metadata": {},
   "source": [
    "### 3. Reshape the array you just created to the shape 3x3"
   ]
  },
  {
   "cell_type": "code",
   "execution_count": null,
   "id": "af0609f1",
   "metadata": {},
   "outputs": [],
   "source": []
  },
  {
   "cell_type": "markdown",
   "id": "f4b2d522",
   "metadata": {},
   "source": [
    "### 4. Print the shape of the array you just  reshaped"
   ]
  },
  {
   "cell_type": "code",
   "execution_count": null,
   "id": "a3b2fadb",
   "metadata": {},
   "outputs": [],
   "source": []
  },
  {
   "cell_type": "markdown",
   "id": "98679b68",
   "metadata": {},
   "source": [
    "### 5. Create an array of 25 fives with the shape of 5x5"
   ]
  },
  {
   "cell_type": "code",
   "execution_count": null,
   "id": "0b6c3f30",
   "metadata": {},
   "outputs": [],
   "source": []
  },
  {
   "cell_type": "markdown",
   "id": "afaff997",
   "metadata": {},
   "source": [
    "### 6. Create an array of 10 random numbers between 0 and 1"
   ]
  },
  {
   "cell_type": "code",
   "execution_count": null,
   "id": "fa8ade57",
   "metadata": {},
   "outputs": [],
   "source": []
  },
  {
   "cell_type": "markdown",
   "id": "4f3fa311",
   "metadata": {},
   "source": [
    "### 7. Create a 10x10 matrix of random integers between 0 and 255 "
   ]
  },
  {
   "cell_type": "code",
   "execution_count": null,
   "id": "061f8587",
   "metadata": {},
   "outputs": [],
   "source": []
  },
  {
   "cell_type": "markdown",
   "id": "c0af30e0",
   "metadata": {},
   "source": [
    "### 8. Based on your previous matrix, get the item which is in row 6 and column 4"
   ]
  },
  {
   "cell_type": "code",
   "execution_count": null,
   "id": "3f9a5188",
   "metadata": {},
   "outputs": [],
   "source": []
  },
  {
   "cell_type": "markdown",
   "id": "ce47fb25",
   "metadata": {},
   "source": [
    "### 9. Based on your previous matrix, select the last value from every row"
   ]
  },
  {
   "cell_type": "code",
   "execution_count": null,
   "id": "67a5d510",
   "metadata": {},
   "outputs": [],
   "source": []
  }
 ],
 "metadata": {
  "kernelspec": {
   "display_name": "Python 3 (ipykernel)",
   "language": "python",
   "name": "python3"
  },
  "language_info": {
   "codemirror_mode": {
    "name": "ipython",
    "version": 3
   },
   "file_extension": ".py",
   "mimetype": "text/x-python",
   "name": "python",
   "nbconvert_exporter": "python",
   "pygments_lexer": "ipython3",
   "version": "3.8.3"
  }
 },
 "nbformat": 4,
 "nbformat_minor": 5
}
