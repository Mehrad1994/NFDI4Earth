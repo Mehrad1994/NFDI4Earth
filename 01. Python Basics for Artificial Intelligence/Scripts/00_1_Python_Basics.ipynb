{
 "cells": [
  {
   "cell_type": "markdown",
   "id": "745b86b9",
   "metadata": {
    "id": "745b86b9"
   },
   "source": [
    "<div class=\"alert alert-danger\" role=\"alert\">\n",
    "If you have not yet worked with Jupyter notebooks:\n",
    "\n",
    "[Watch this video](https://youtu.be/cFEE7BmXjwY)"
   ]
  },
  {
   "cell_type": "markdown",
   "id": "a49ff7c4",
   "metadata": {
    "id": "a49ff7c4"
   },
   "source": [
    "# Inhalt\n",
    "\n",
    "* [Python basics](#chapter1)\n",
    "    * [What is Python?](#section_1_1)\n",
    "    * [How do I use a Jupyter notebook?](#section_1_1_5)\n",
    "    * [How do I program in Python?](#section_1_2)   \n",
    "        * [Variables](#section_1_2_1)\n",
    "        * [Lists](#section_1_2_2)\n",
    "        * [Tuples](#section_1_2_3)\n",
    "        * [Range](#section_1_2_4)\n",
    "        * [Dictionaries](#section_1_2_5)\n",
    "        * [Query data types](#section_1_2_6)\n",
    "* [Link collection](#chapter2)"
   ]
  },
  {
   "cell_type": "markdown",
   "id": "e1411dbc",
   "metadata": {
    "id": "e1411dbc"
   },
   "source": [
    "# Basics Python <a class=\"anchor\" id=\"chapter1\"></a>\n",
    "\n",
    "##📖 What is Python? <a class=\"anchor\" id=\"section_1_1\"></a>\n",
    "Python is an interpreted, high-level, open-source programming language.\n",
    "\n",
    "But what does that mean?\n",
    "\n",
    "At first, PCs and people can hardly or not understand each other at all. PCs use machine language, which is usually represented as binary code or hexadecimal numbers. However, letters or even whole words are foreign to machine language. This means that we cannot communicate with the PC using our own words.\n",
    "<br>\n",
    "High-level programming languages are programming languages that are easy for humans to understand as they allow the use of letters and therefore words. Contrary to what their name suggests, high-level programming languages are far removed from machine language in terms of abstraction and complexity and are intended to make programming easier for us.\n",
    "Other examples of high-level programming languages are Java, C++, C#, PHP etc.\n",
    "<br>\n",
    "(In terms of complexity and abstraction, assembly language, which is a machine-oriented programming language, is positioned between machine language and high-level programming languages.)\n",
    "\n",
    "The code that we write in a high-level programming language must somehow be translated into machine language for the PC. There are two ways of doing this:\n",
    "- compiled programming languages:\n",
    "        Translate the entire code into a compiled file that can be executed by the PC\n",
    "- interpreted programming languages:\n",
    "        The code is translated and executed line by line during program runtime\n",
    "\n",
    "Both approaches have advantages and disadvantages, which we will not go into further here.\n",
    "\n",
    "💡Further explanations are given [here](https://www.youtube.com/watch?v=fszpyKV62kI)\n"
   ]
  },
  {
   "cell_type": "markdown",
   "id": "0b9650ec",
   "metadata": {
    "id": "0b9650ec"
   },
   "source": [
    "## 📖How do I use a Jupyter notebook? <a class=\"anchor\" id=\"section_1_1_5\"></a>\n",
    "Both text and code blocks can be inserted in a Jupyter notebook. In a text block/markdown (like this one), explanations, mathematical formulas or images can be inserted to better explain the code.\n",
    "<br>\n",
    "In general, both Markdown and code blocks can be executed by clicking on their cell and then clicking on the Run button.\n",
    "<br>\n",
    "So if a Markdown cell appears as an unformatted text (e.g. because you have accidentally double-clicked on it) you can simply execute it again by clicking on Run (as long as it is currently activated).\n",
    "\n",
    "Code blocks must also be executed so that your written code runs through. You can also simply click on the cell and then click on Run. The keyboard shortcut Shift+Enter does the same thing ;)\n",
    "\n",
    "\n",
    "f you want to access code/variables from an earlier cell in a later cell, the earlier cell must be executed first. Because:\n",
    "<br>\n",
    "As long as a cell is not executed, Python does not know its content!"
   ]
  },
  {
   "cell_type": "markdown",
   "id": "bd081c8d",
   "metadata": {
    "id": "bd081c8d"
   },
   "source": [
    "\n",
    "## How do I program in Python? <a class=\"anchor\" id=\"section_1_2\"></a>\n",
    "\n",
    "How do I have Python output a value or a text?"
   ]
  },
  {
   "cell_type": "code",
   "execution_count": 1,
   "id": "dca47117",
   "metadata": {
    "colab": {
     "base_uri": "https://localhost:8080/"
    },
    "id": "dca47117",
    "outputId": "14686e32-d684-4753-f3ef-4a1b5636ea11"
   },
   "outputs": [
    {
     "name": "stdout",
     "output_type": "stream",
     "text": [
      "Hello world\n",
      "5\n"
     ]
    }
   ],
   "source": [
    "print(\"Hello world\")\n",
    "print(5)"
   ]
  },
  {
   "cell_type": "markdown",
   "id": "d2a52733",
   "metadata": {
    "id": "d2a52733"
   },
   "source": [
    "<div class=\"alert alert-info\">\n",
    "    \n",
    "### Variables <a class=\"anchor\" id=\"section_1_2_1\"></a>\n",
    "\"You can think of a variable as a kind of data container in which you can store a value. Each variable requires a so-called identifier. The identifier is nothing other than the name of a variable, which we can then use to address it in the program.\" [Link](https://programmieren-starten.de/blog/python-variablen/)\n",
    "\n",
    "\n",
    "Variable names must not begin with a number.\n",
    "\n",
    "\n",
    "Conventions for variables:\n",
    "- Lower case word or single letter\n",
    "- Spaces between two words of a variable are represented by a '_' (e.g. my_variable)\n",
    "\n",
    "It does not matter what data type is assigned to a variable. It can be a number, a word, an entire text, a list, etc. (more on this later).\n",
    "\n",
    "It is important that words/texts are in quotation marks ('' or \"\") and numbers without quotation marks (if you also want to calculate with them). The comma in decimal numbers is shown as a period (.), as in English.\n",
    "\n",
    "[If you would like to see a short video explaining the topic of 'variables', click here](https://youtu.be/qM_6O-17ApU)\n"
   ]
  },
  {
   "cell_type": "code",
   "execution_count": null,
   "id": "5931c41a",
   "metadata": {
    "id": "5931c41a"
   },
   "outputs": [],
   "source": [
    "my_variable = 'My first Variable'"
   ]
  },
  {
   "cell_type": "markdown",
   "id": "c499e6f8",
   "metadata": {
    "id": "c499e6f8"
   },
   "source": [
    "<div class=\"alert alert-info\">\n",
    "\n",
    "When you executed the cell, you probably noticed that apparently not much happened. However, the variable was saved internally when the cell was executed. If the cell containing the variable was executed, we can pick it up again at any later point in time and output it.\n",
    "</div>"
   ]
  },
  {
   "cell_type": "code",
   "execution_count": null,
   "id": "4d525c1e",
   "metadata": {
    "colab": {
     "base_uri": "https://localhost:8080/",
     "height": 141
    },
    "id": "4d525c1e",
    "outputId": "4e68fa9c-74eb-43a3-b76b-81ae31d21c6f"
   },
   "outputs": [
    {
     "name": "stdout",
     "output_type": "stream",
     "text": [
      "My first Variable\n"
     ]
    }
   ],
   "source": [
    "print(my_variable)"
   ]
  },
  {
   "cell_type": "markdown",
   "id": "3a0bf664",
   "metadata": {
    "id": "3a0bf664"
   },
   "source": [
    "<div class=\"alert alert-info\">\n",
    "Variables can also stand for numbers:\n",
    "</div>"
   ]
  },
  {
   "cell_type": "code",
   "execution_count": null,
   "id": "ea58a713",
   "metadata": {
    "colab": {
     "base_uri": "https://localhost:8080/"
    },
    "id": "ea58a713",
    "outputId": "ecc45623-cfda-41bf-822f-51d8693e8858"
   },
   "outputs": [
    {
     "name": "stdout",
     "output_type": "stream",
     "text": [
      "42\n"
     ]
    }
   ],
   "source": [
    "my_number = 42\n",
    "print(my_number)"
   ]
  },
  {
   "cell_type": "markdown",
   "id": "39d8e153",
   "metadata": {
    "id": "39d8e153"
   },
   "source": [
    "<div class=\"alert alert-info\">\n",
    "For example, you can also calculate with variables as long as a number has been assigned to each variable\n",
    "</div>"
   ]
  },
  {
   "cell_type": "code",
   "execution_count": null,
   "id": "c018c1a2",
   "metadata": {
    "colab": {
     "base_uri": "https://localhost:8080/"
    },
    "id": "c018c1a2",
    "outputId": "2b608fe4-d653-468c-f54c-f826638e0dba"
   },
   "outputs": [
    {
     "name": "stdout",
     "output_type": "stream",
     "text": [
      "37\n"
     ]
    }
   ],
   "source": [
    "number_1 = 13\n",
    "number_2 = 24\n",
    "result = number_1 + number_2\n",
    "print(result)"
   ]
  },
  {
   "cell_type": "markdown",
   "id": "16e87f10",
   "metadata": {
    "id": "16e87f10"
   },
   "source": [
    "<div class=\"alert alert-success\">\n",
    "\n",
    "### Lists <a class=\"anchor\" id=\"section_1_2_2\"></a>\n",
    "A list is a sequence of data or object types. You could also see a list as a kind of container in which we can line up or store all kinds of information.\n",
    "\n",
    "A list is defined by using square brackets '[ ]'.\n",
    "<br>\n",
    "We list the information within the brackets and separate it with commas.\n",
    "    \n",
    "[If you would like to see a short video explaining the topic of 'lists', click here](https://youtu.be/-Q1zViP4RbM)\n",
    "</div>"
   ]
  },
  {
   "cell_type": "code",
   "execution_count": null,
   "id": "fa2591ab",
   "metadata": {
    "colab": {
     "base_uri": "https://localhost:8080/"
    },
    "id": "fa2591ab",
    "outputId": "b67c48cc-987f-4c47-cba2-f31bd4e17b3a"
   },
   "outputs": [
    {
     "name": "stdout",
     "output_type": "stream",
     "text": [
      "[1, 2, 3, 4, 5]\n"
     ]
    }
   ],
   "source": [
    "number_list = [1, 2, 3, 4, 5]\n",
    "print(number_list)"
   ]
  },
  {
   "cell_type": "markdown",
   "id": "ab65ca2a",
   "metadata": {
    "id": "ab65ca2a"
   },
   "source": [
    "<div class=\"alert alert-success\">\n",
    "We can also store text (also called 'string') there\n",
    "</div>"
   ]
  },
  {
   "cell_type": "code",
   "execution_count": null,
   "id": "cc0e92c6",
   "metadata": {
    "colab": {
     "base_uri": "https://localhost:8080/"
    },
    "id": "cc0e92c6",
    "outputId": "9a4a5f55-1d06-4155-c5c1-1d44f9cb1059"
   },
   "outputs": [
    {
     "name": "stdout",
     "output_type": "stream",
     "text": [
      "['a', 'b', 'c', 'd']\n"
     ]
    }
   ],
   "source": [
    "string_list  = ['a', 'b', 'c', 'd']\n",
    "print(string_list)"
   ]
  },
  {
   "cell_type": "markdown",
   "id": "2fad4859",
   "metadata": {
    "id": "2fad4859"
   },
   "source": [
    "<div class=\"alert alert-success\">\n",
    "We can also combine different data types within a list and even create a list within a list\n",
    "</div>"
   ]
  },
  {
   "cell_type": "code",
   "execution_count": null,
   "id": "61738132",
   "metadata": {
    "colab": {
     "base_uri": "https://localhost:8080/"
    },
    "id": "61738132",
    "outputId": "2644c7c0-761f-4cb6-ca4c-f5478e27af29"
   },
   "outputs": [
    {
     "name": "stdout",
     "output_type": "stream",
     "text": [
      "[1, 2, 3, [5, 6, 7], 'a', 'b', 'c']\n"
     ]
    }
   ],
   "source": [
    "mixed_list = [1, 2, 3, [5,6,7], 'a', 'b', 'c', ]\n",
    "print(mixed_list)"
   ]
  },
  {
   "cell_type": "markdown",
   "id": "9a538cf3",
   "metadata": {
    "id": "9a538cf3"
   },
   "source": [
    "<div class=\"alert alert-success\">\n",
    "\n",
    "#### Add values to a list\n",
    "Entries can also be added to a list at a later date.\n",
    "<br>\n",
    "This can be done with the '.append()' function, for example.\n",
    "<br>\n",
    "The '.append' is preceded by the variable name of the list to which we want to add something. The information to be added follows in brackets.\n",
    "<br>\n",
    "It does not matter whether the previous list is empty or already contains entries.\n",
    "</div>"
   ]
  },
  {
   "cell_type": "code",
   "execution_count": null,
   "id": "4939bc88",
   "metadata": {
    "colab": {
     "base_uri": "https://localhost:8080/"
    },
    "id": "4939bc88",
    "outputId": "7125e7b3-b097-474c-fd3f-ba623f600629"
   },
   "outputs": [
    {
     "name": "stdout",
     "output_type": "stream",
     "text": [
      "['Geomorphology', 'Biogeography', 'Pedology', 'Geomatics']\n"
     ]
    }
   ],
   "source": [
    "my_list = ['Geomorphology', 'Biogeography', 'Pedology']\n",
    "my_list.append('Geomatics')\n",
    "print(my_list)"
   ]
  },
  {
   "cell_type": "markdown",
   "id": "8f38b66f",
   "metadata": {
    "id": "8f38b66f"
   },
   "source": [
    "<div class=\"alert alert-success\">\n",
    "If we want to add several elements to the list at once, we can also use the .extend() function. However, the elements to be added must themselves be in a list (so you need '[ ]').\n"
   ]
  },
  {
   "cell_type": "code",
   "execution_count": null,
   "id": "ba99cde6",
   "metadata": {
    "colab": {
     "base_uri": "https://localhost:8080/"
    },
    "id": "ba99cde6",
    "outputId": "cde93e1c-9a09-4a83-cb18-2983843889a6"
   },
   "outputs": [
    {
     "name": "stdout",
     "output_type": "stream",
     "text": [
      "['Geomorphology', 'Biogeography', 'Pedology', 'Geomatics', 'Human geography', 'Economic geography']\n"
     ]
    }
   ],
   "source": [
    "my_list.extend(['Human geography', 'Economic geography'])\n",
    "print(my_list)"
   ]
  },
  {
   "cell_type": "markdown",
   "id": "df330e32",
   "metadata": {
    "id": "df330e32"
   },
   "source": [
    "<div class=\"alert alert-success\">\n",
    "\n",
    "#### Query values from a list & list slicing\n",
    "We can also filter entries based on the index of entries or delete content.\n",
    "<br>\n",
    "The index describes the position of an entry in a list.\n",
    "<br>\n",
    "It is important to know that the index of the entries starts at 0. This means that the very first entry in a list has index 0, the second entry has index 1 and so on.\n",
    "<br>\n",
    "This means that the first entry in a list can be selected as follows:\n",
    "</div>"
   ]
  },
  {
   "cell_type": "code",
   "execution_count": null,
   "id": "23d0ed30",
   "metadata": {
    "colab": {
     "base_uri": "https://localhost:8080/"
    },
    "id": "23d0ed30",
    "outputId": "b3e477c1-e564-4a96-8a01-11757009f46e"
   },
   "outputs": [
    {
     "name": "stdout",
     "output_type": "stream",
     "text": [
      "Geomorphology\n"
     ]
    }
   ],
   "source": [
    "first_entry = my_list[0]\n",
    "print(first_entry)"
   ]
  },
  {
   "cell_type": "markdown",
   "id": "38e8b32a",
   "metadata": {
    "id": "38e8b32a"
   },
   "source": [
    "<div class=\"alert alert-success\">\n",
    "The second entry would then be queried as follows:\n",
    "</div>"
   ]
  },
  {
   "cell_type": "code",
   "execution_count": null,
   "id": "cab91ab4",
   "metadata": {
    "colab": {
     "base_uri": "https://localhost:8080/"
    },
    "id": "cab91ab4",
    "outputId": "f65345e4-e01b-44d4-c141-cdb32bab9feb"
   },
   "outputs": [
    {
     "name": "stdout",
     "output_type": "stream",
     "text": [
      "Biogeography\n"
     ]
    }
   ],
   "source": [
    "print(my_list[1])"
   ]
  },
  {
   "cell_type": "markdown",
   "id": "ce68bec0",
   "metadata": {
    "id": "ce68bec0"
   },
   "source": [
    "<div class=\"alert alert-success\">\n",
    "We can also query multiple entries from or up to a specific index.\n",
    "<br>\n",
    "For queries up to a certain index, a ':' is placed in front of the index.\n",
    "<br>\n",
    "The index mentioned is exclusive.\n",
    "</div>"
   ]
  },
  {
   "cell_type": "code",
   "execution_count": null,
   "id": "18ac08a7",
   "metadata": {
    "colab": {
     "base_uri": "https://localhost:8080/"
    },
    "id": "18ac08a7",
    "outputId": "fb10e55e-4df6-41a2-c375-7d20cd2f0a8b"
   },
   "outputs": [
    {
     "name": "stdout",
     "output_type": "stream",
     "text": [
      "['Geomorphology', 'Biogeography']\n"
     ]
    }
   ],
   "source": [
    "first_entries = my_list[:2]\n",
    "print(first_entries)"
   ]
  },
  {
   "cell_type": "markdown",
   "id": "66cc0f44",
   "metadata": {
    "id": "66cc0f44"
   },
   "source": [
    "<div class=\"alert alert-success\">\n",
    "Entries above a certain index are queried for the index with the help of a ':'.\n",
    "<br>\n",
    "The specified index is included.\n",
    "</div>"
   ]
  },
  {
   "cell_type": "code",
   "execution_count": null,
   "id": "151664ba",
   "metadata": {
    "colab": {
     "base_uri": "https://localhost:8080/"
    },
    "id": "151664ba",
    "outputId": "2c601bdc-fe00-4c7a-a692-526e629f183c"
   },
   "outputs": [
    {
     "name": "stdout",
     "output_type": "stream",
     "text": [
      "['Pedology', 'Geomatics', 'Human geography', 'Economic geography']\n"
     ]
    }
   ],
   "source": [
    "last_entries = my_list[2:]\n",
    "print(last_entries)"
   ]
  },
  {
   "cell_type": "markdown",
   "id": "70d0d7d7",
   "metadata": {
    "id": "70d0d7d7"
   },
   "source": [
    "<div class=\"alert alert-success\">\n",
    "Selecting values between two indices (the first index is inclusive, the second exclusive):\n",
    "</div>"
   ]
  },
  {
   "cell_type": "code",
   "execution_count": null,
   "id": "5d6c40c5",
   "metadata": {
    "colab": {
     "base_uri": "https://localhost:8080/"
    },
    "id": "5d6c40c5",
    "outputId": "f083f59f-f0be-4dfd-a260-96c4ae5500d1",
    "scrolled": true
   },
   "outputs": [
    {
     "name": "stdout",
     "output_type": "stream",
     "text": [
      "['Biogeography', 'Pedology']\n"
     ]
    }
   ],
   "source": [
    "selection = my_list[1:3]\n",
    "print(selection)"
   ]
  },
  {
   "cell_type": "markdown",
   "id": "f121460c",
   "metadata": {
    "id": "f121460c"
   },
   "source": [
    "<div class=\"alert alert-success\">\n",
    "The length of a list is often unknown, but the last value is required.\n",
    "<br>\n",
    "To query the last value of a list, the index '-1' can be queried\n",
    "</div>"
   ]
  },
  {
   "cell_type": "code",
   "execution_count": null,
   "id": "7e98d841",
   "metadata": {
    "colab": {
     "base_uri": "https://localhost:8080/"
    },
    "id": "7e98d841",
    "outputId": "420d5764-989d-4b6b-8885-df326dd64cf7"
   },
   "outputs": [
    {
     "name": "stdout",
     "output_type": "stream",
     "text": [
      "Economic geography\n"
     ]
    }
   ],
   "source": [
    "last_entry = my_list[-1]\n",
    "print(last_entry)"
   ]
  },
  {
   "cell_type": "markdown",
   "id": "31f39318",
   "metadata": {
    "id": "31f39318"
   },
   "source": [
    "<div class=\"alert alert-success\">\n",
    "As already mentioned, lists can also be nested. A list can therefore be contained in a list. Any number of lists can be nested within one another.\n",
    "<br>\n",
    "In the course, we will have to retrieve certain information from nested sequences."
   ]
  },
  {
   "cell_type": "code",
   "execution_count": null,
   "id": "1a47a665",
   "metadata": {
    "colab": {
     "base_uri": "https://localhost:8080/"
    },
    "id": "1a47a665",
    "outputId": "3a582686-d2e7-4578-8554-033aeaf60d08"
   },
   "outputs": [
    {
     "name": "stdout",
     "output_type": "stream",
     "text": [
      "The content of index 1 is:  [4, 5, 6]\n",
      "The third element of the selected list is:  6\n"
     ]
    }
   ],
   "source": [
    "nested_list = [\n",
    "    [1,2,3], #The first list in our list (with the index 0)\n",
    "    [4,5,6], #The second list in our list (with the index 1)\n",
    "    [7,8,9]  #The third list in our list (with the index 2)\n",
    "]\n",
    "\n",
    "#Let us grab the second list from our overall list. Remember that we can call the second entry by its index.\n",
    "second_entry = nested_list[1]\n",
    "print('The content of index 1 is: ', second_entry)\n",
    "\n",
    "#Now we want to grab the third element of the nested list:\n",
    "third_element = second_entry[2]\n",
    "print('The third element of the selected list is: ', third_element)"
   ]
  },
  {
   "cell_type": "markdown",
   "id": "ad721fc4",
   "metadata": {
    "id": "ad721fc4"
   },
   "source": [
    "<div class=\"alert alert-success\">\n",
    "However, we can also make this query directly in one line of code\n",
    "<br>    The syntax can then look like this:\n",
    "<br>    nested_list [Index of the first level] [Index of the second level]"
   ]
  },
  {
   "cell_type": "code",
   "execution_count": null,
   "id": "35d161f5",
   "metadata": {
    "colab": {
     "base_uri": "https://localhost:8080/",
     "height": 159
    },
    "id": "35d161f5",
    "outputId": "5f082a6d-2e2a-42c8-d300-fba6e6a97e6d"
   },
   "outputs": [
    {
     "name": "stdout",
     "output_type": "stream",
     "text": [
      "6\n"
     ]
    }
   ],
   "source": [
    "selected_element = nested_list[1][2]\n",
    "print(selected_element)"
   ]
  },
  {
   "cell_type": "markdown",
   "id": "d066e101",
   "metadata": {
    "id": "d066e101"
   },
   "source": [
    "<div class=\"alert alert-success\">\n",
    "    \n",
    "Further information and examples on list slicing can be found, for example [here](https://www.programiz.com/python-programming/examples/list-slicing)\n",
    "</div>"
   ]
  },
  {
   "cell_type": "markdown",
   "id": "6106f4a0",
   "metadata": {
    "id": "6106f4a0"
   },
   "source": [
    "<div class=\"alert alert-warning\">\n",
    "\n",
    "### Tuples <a class=\"anchor\" id=\"section_1_2_3\"></a>\n",
    "Tuples are very similar to lists. They also store a collection of information, but you cannot change a tuple afterwards.\n",
    "<br>\n",
    "You can therefore neither add nor delete information.\n",
    "<br>\n",
    "Tuples are created by lining up information within '( )'\n",
    "    </div>"
   ]
  },
  {
   "cell_type": "code",
   "execution_count": null,
   "id": "94c5bc69",
   "metadata": {
    "colab": {
     "base_uri": "https://localhost:8080/"
    },
    "id": "94c5bc69",
    "outputId": "a76f8950-0e03-47a6-8642-fc7f425d3f66"
   },
   "outputs": [
    {
     "name": "stdout",
     "output_type": "stream",
     "text": [
      "('Geomorphology', 'Biogeography', 'Pedology', 'Geomatics')\n"
     ]
    }
   ],
   "source": [
    "my_tuple = ('Geomorphology', 'Biogeography', 'Pedology', 'Geomatics')\n",
    "print(my_tuple)"
   ]
  },
  {
   "cell_type": "markdown",
   "id": "b38320ee",
   "metadata": {
    "id": "b38320ee"
   },
   "source": [
    "<div class=\"alert alert-warning\">\n",
    "If we try to add a value to a tuple or delete a value, we receive an error message\n",
    "    </div>"
   ]
  },
  {
   "cell_type": "code",
   "execution_count": null,
   "id": "5136e969",
   "metadata": {
    "colab": {
     "base_uri": "https://localhost:8080/",
     "height": 141
    },
    "id": "5136e969",
    "outputId": "7df80ddc-920f-4360-c619-671db9f9e5ea",
    "scrolled": true
   },
   "outputs": [
    {
     "ename": "AttributeError",
     "evalue": "'tuple' object has no attribute 'append'",
     "output_type": "error",
     "traceback": [
      "\u001b[1;31m---------------------------------------------------------------------------\u001b[0m",
      "\u001b[1;31mAttributeError\u001b[0m                            Traceback (most recent call last)",
      "Cell \u001b[1;32mIn[20], line 1\u001b[0m\n\u001b[1;32m----> 1\u001b[0m \u001b[43mmy_tuple\u001b[49m\u001b[38;5;241;43m.\u001b[39;49m\u001b[43mappend\u001b[49m(\u001b[38;5;124m'\u001b[39m\u001b[38;5;124mMaths\u001b[39m\u001b[38;5;124m'\u001b[39m)\n",
      "\u001b[1;31mAttributeError\u001b[0m: 'tuple' object has no attribute 'append'"
     ]
    }
   ],
   "source": [
    "my_tuple.append('Maths')"
   ]
  },
  {
   "cell_type": "markdown",
   "id": "8dee0b72",
   "metadata": {
    "id": "8dee0b72"
   },
   "source": [
    "<div class=\"alert alert-warning\">\n",
    "Querying (or slicing) values works in the same way as with lists\n",
    "    </div>"
   ]
  },
  {
   "cell_type": "code",
   "execution_count": null,
   "id": "11317bd9",
   "metadata": {
    "colab": {
     "base_uri": "https://localhost:8080/"
    },
    "id": "11317bd9",
    "outputId": "cdb01e4f-7177-4bee-9c27-85cecf59da98"
   },
   "outputs": [
    {
     "name": "stdout",
     "output_type": "stream",
     "text": [
      "Geomorphology\n",
      "Geomatics\n",
      "('Geomorphology', 'Biogeography')\n"
     ]
    }
   ],
   "source": [
    "print(my_tuple[0])\n",
    "print(my_tuple[-1])\n",
    "print(my_tuple[:2])"
   ]
  },
  {
   "cell_type": "markdown",
   "id": "fa9d3c9f",
   "metadata": {
    "id": "fa9d3c9f"
   },
   "source": [
    "<div class=\"alert alert-danger\" role=\"alert\">\n",
    "\n",
    "### Range <a class=\"anchor\" id=\"section_1_2_4\"></a>\n",
    "The range function in Python creates a sequence of numbers\n",
    "    \n",
    "    \n",
    "Syntax: range(start, stop, step)\n",
    "<br>- start inclusive\n",
    "<br>- stop exclusive\n",
    "<br>\n",
    "We can use the range function, for example, to define the number of repetitions that are carried out when executing a process."
   ]
  },
  {
   "cell_type": "code",
   "execution_count": null,
   "id": "9431c4a7",
   "metadata": {
    "colab": {
     "base_uri": "https://localhost:8080/"
    },
    "id": "9431c4a7",
    "outputId": "4b70d91c-0a72-4b39-eb99-97b0557deeb1"
   },
   "outputs": [
    {
     "name": "stdout",
     "output_type": "stream",
     "text": [
      "range(0, 5)\n"
     ]
    }
   ],
   "source": [
    "my_range = range(0, 5, 1)\n",
    "print(my_range)"
   ]
  },
  {
   "cell_type": "markdown",
   "id": "c31999d3",
   "metadata": {
    "id": "c31999d3"
   },
   "source": [
    "<div class=\"alert alert-danger\" role=\"alert\">\n",
    "If you only need a sequence that starts at zero and goes with a 'step' from 1 to a certain number, you can also simply enter the number to be reached as a single parameter."
   ]
  },
  {
   "cell_type": "code",
   "execution_count": null,
   "id": "f91cdeba",
   "metadata": {
    "colab": {
     "base_uri": "https://localhost:8080/"
    },
    "id": "f91cdeba",
    "outputId": "a5d959ae-d439-46db-c10e-1a8bddc50517"
   },
   "outputs": [
    {
     "name": "stdout",
     "output_type": "stream",
     "text": [
      "range(0, 5)\n"
     ]
    }
   ],
   "source": [
    "my_range = range(5)\n",
    "print(my_range)"
   ]
  },
  {
   "cell_type": "markdown",
   "id": "59c0f819",
   "metadata": {
    "id": "59c0f819"
   },
   "source": [
    "<div class=\"alert alert-info\">\n",
    "\n",
    "### Dictionaries <a class=\"anchor\" id=\"section_1_2_5\"></a>\n",
    "Dictionaries offer the possibility of storing several pieces of information within a variable and storing them with a keyword.\n",
    "<br>\n",
    "You can search for this keyword to obtain the stored information.\n",
    "<br>\n",
    "A dictionary therefore works in exactly the same way as a dictionary, in which you search for a word to obtain a translation or a definition, for example.\n",
    "<br>\n",
    "In a Python dictionary, however, the information stored for a keyword can represent any data type.\n",
    "<br>\n",
    "Individual words, whole sentences, numbers, lists, tuples or even another dictionary can be placed behind a keyword.\n",
    "\n",
    "\n",
    "A dictionary is created with '{ }'. An entry in a dictionary consists of the key and an associated value. The key and its value are separated by a ':'.\n",
    "<br>\n",
    "If several entries are stored in a dictionary, they are separated by commas.\n",
    "    </div>"
   ]
  },
  {
   "cell_type": "code",
   "execution_count": null,
   "id": "1727b94a",
   "metadata": {
    "id": "1727b94a"
   },
   "outputs": [],
   "source": [
    "my_dict = {\n",
    "    'France': 'Paris',\n",
    "    'Belgium': 'Brussels',\n",
    "    'Germany': 'Berlin',\n",
    "    'Denmark': 'Copenhagen'\n",
    "}"
   ]
  },
  {
   "cell_type": "markdown",
   "id": "4d40897f",
   "metadata": {
    "id": "4d40897f"
   },
   "source": [
    "<div class=\"alert alert-info\">\n",
    "To obtain a value based on a key, we query the key in the dictionary:"
   ]
  },
  {
   "cell_type": "code",
   "execution_count": null,
   "id": "649446f3",
   "metadata": {
    "colab": {
     "base_uri": "https://localhost:8080/"
    },
    "id": "649446f3",
    "outputId": "ac0cf150-b0da-400e-c0f9-459bcbe5a612"
   },
   "outputs": [
    {
     "name": "stdout",
     "output_type": "stream",
     "text": [
      "Brussels\n"
     ]
    }
   ],
   "source": [
    "print(my_dict['Belgium'])"
   ]
  },
  {
   "cell_type": "markdown",
   "id": "92bd3ad6",
   "metadata": {
    "id": "92bd3ad6"
   },
   "source": [
    "<div class=\"alert alert-info\">\n",
    "To add an entry, we inform the dictionary of the new key and the corresponding value:"
   ]
  },
  {
   "cell_type": "code",
   "execution_count": null,
   "id": "5ced75ce",
   "metadata": {
    "colab": {
     "base_uri": "https://localhost:8080/"
    },
    "id": "5ced75ce",
    "outputId": "324f121d-5640-4f38-df07-e6c0d8f3fac8"
   },
   "outputs": [
    {
     "name": "stdout",
     "output_type": "stream",
     "text": [
      "{'France': 'Paris', 'Belgium': 'Brussels', 'Germany': 'Berlin', 'Denmark': 'Copenhagen', 'Austria': 'Vienna'}\n"
     ]
    }
   ],
   "source": [
    "my_dict['Austria'] = 'Vienna'\n",
    "print(my_dict)"
   ]
  },
  {
   "cell_type": "markdown",
   "id": "7ac7ccf5",
   "metadata": {
    "id": "7ac7ccf5"
   },
   "source": [
    "<div class=\"alert alert-info\">\n",
    "Dictionaries can also contain any other data type as values:"
   ]
  },
  {
   "cell_type": "code",
   "execution_count": null,
   "id": "fe088d1d",
   "metadata": {
    "id": "fe088d1d"
   },
   "outputs": [],
   "source": [
    "new_dict = {\n",
    "    'Name': 'Max', #Strings\n",
    "    'Age': 23, #Numbers\n",
    "    'Hobbies': ['Swimming', 'Travel to Sylt with the €9 ticket', 'Dancing'], #Lists\n",
    "    'Education': {\n",
    "        'Academic': 'B.Sc.',\n",
    "        'Professional': 'Commercial employee'\n",
    "    } #A dictionary within the dictionary\n",
    "}"
   ]
  },
  {
   "cell_type": "markdown",
   "id": "947bf881",
   "metadata": {
    "id": "947bf881"
   },
   "source": [
    "<div class=\"alert alert-info\">\n",
    "As the complexity of the dictionary increases, so does the difficulty of querying a value.\n",
    "For example, if we want to query the first hobby mentioned, we have to take several steps to retrieve the information.\n",
    "    <br>\n",
    "    Let's first select the entry for the hobbies:"
   ]
  },
  {
   "cell_type": "code",
   "execution_count": null,
   "id": "9af806cf",
   "metadata": {
    "colab": {
     "base_uri": "https://localhost:8080/"
    },
    "id": "9af806cf",
    "outputId": "73e53f95-92b3-470e-9311-8bc6b1256b44"
   },
   "outputs": [
    {
     "name": "stdout",
     "output_type": "stream",
     "text": [
      "['Swimming', 'Travel to Sylt with the €9 ticket', 'Dancing']\n"
     ]
    }
   ],
   "source": [
    "hobbies = new_dict['Hobbies']\n",
    "print(hobbies)"
   ]
  },
  {
   "cell_type": "markdown",
   "id": "411a8b57",
   "metadata": {
    "id": "411a8b57"
   },
   "source": [
    "<div class=\"alert alert-info\">\n",
    "    We can now see that this is obviously a list.\n",
    "    <br>\n",
    "    If we remember how we perform queries in lists, we can now select the first entry from the list"
   ]
  },
  {
   "cell_type": "code",
   "execution_count": null,
   "id": "ada66700",
   "metadata": {
    "colab": {
     "base_uri": "https://localhost:8080/"
    },
    "id": "ada66700",
    "outputId": "7ddc0c34-c1a2-42a8-9487-1dfeffd2f871"
   },
   "outputs": [
    {
     "name": "stdout",
     "output_type": "stream",
     "text": [
      "Swimming\n"
     ]
    }
   ],
   "source": [
    "first_hobby = hobbies[0]\n",
    "print(first_hobby)"
   ]
  },
  {
   "cell_type": "markdown",
   "id": "e3022d0f",
   "metadata": {
    "id": "e3022d0f"
   },
   "source": [
    "<div class=\"alert alert-info\">\n",
    "To shorten this selection process, we can also link the steps directly together:"
   ]
  },
  {
   "cell_type": "code",
   "execution_count": null,
   "id": "41a23be6",
   "metadata": {
    "colab": {
     "base_uri": "https://localhost:8080/"
    },
    "id": "41a23be6",
    "outputId": "7c708944-a47a-41a9-e4f0-5fac77f11bbb"
   },
   "outputs": [
    {
     "name": "stdout",
     "output_type": "stream",
     "text": [
      "Swimming\n"
     ]
    }
   ],
   "source": [
    "fast_selection = new_dict['Hobbies'][0]\n",
    "print(fast_selection)"
   ]
  },
  {
   "cell_type": "markdown",
   "id": "4f43f4a7",
   "metadata": {
    "id": "4f43f4a7"
   },
   "source": [
    "<div class=\"alert alert-info\">\n",
    "\n",
    "Further information and examples of dictionaries can be found [here](https://www.w3schools.com/python/python_dictionaries.asp)"
   ]
  },
  {
   "cell_type": "markdown",
   "id": "de699891",
   "metadata": {
    "id": "de699891"
   },
   "source": [
    "<div class=\"alert alert-success\" role=\"alert\">\n",
    "\n",
    "### Query data types <a class=\"anchor\" id=\"section_1_2_6\"></a>\n",
    "In programming, it is important to know which data type a variable has.\n",
    "We have learned about several data types so far. The most important data types are:\n",
    "  **Text**: _str_ (String)\n",
    " - **Numbers**: _int_ (integers), _float_ (decimals), _complex_ (complex numbers with a real and imaginary part)\n",
    " - **Sequences**: _list_, _tuple_, _range_\n",
    " - **Dictionaries**: _dict_\n",
    " - **Boolean**: _bool_\n",
    "\n",
    "As we cannot use every command for every data type, it is important to know which data types you are working with.   <br>\n",
    "To find out the data type of a variable, you can use the type() function to display the type.\n",
    "</div>"
   ]
  },
  {
   "cell_type": "code",
   "execution_count": null,
   "id": "be6167cf",
   "metadata": {
    "colab": {
     "base_uri": "https://localhost:8080/"
    },
    "id": "be6167cf",
    "outputId": "e7b4a0e3-ca3b-4436-fa4c-c8dc8c50b595"
   },
   "outputs": [
    {
     "name": "stdout",
     "output_type": "stream",
     "text": [
      "<class 'str'>\n",
      "<class 'int'>\n",
      "<class 'float'>\n",
      "<class 'list'>\n",
      "<class 'tuple'>\n",
      "<class 'range'>\n",
      "<class 'dict'>\n",
      "<class 'bool'>\n"
     ]
    }
   ],
   "source": [
    "string = 'This is a String'\n",
    "print(type(string))\n",
    "\n",
    "integer = 5\n",
    "print(type(integer))\n",
    "\n",
    "floating = 5.2\n",
    "print(type(floating))\n",
    "\n",
    "lists = [2, 3, 4, 5]\n",
    "print(type(lists))\n",
    "\n",
    "tuples = (2, 3, 4, 5)\n",
    "print(type(tuples))\n",
    "\n",
    "ranges = range(3, 10, 1)\n",
    "print(type(ranges))\n",
    "\n",
    "dictionary = {'France': 'Paris', 'Belgium': 'Brussels', 'Germany': 'Berlin'}\n",
    "print(type(dictionary))\n",
    "\n",
    "boolean = True #Could also be False\n",
    "print(type(boolean))"
   ]
  },
  {
   "cell_type": "markdown",
   "id": "2bfe9222",
   "metadata": {
    "id": "2bfe9222"
   },
   "source": [
    "<div class=\"alert alert-success\" role=\"alert\">\n",
    "\n",
    "Further information can be found [here](https://www.w3schools.com/python/python_datatypes.asp)"
   ]
  },
  {
   "cell_type": "markdown",
   "id": "d9e79892",
   "metadata": {
    "id": "d9e79892"
   },
   "source": [
    "# Link collection <a class=\"anchor\" id=\"chapter2\"></a>\n",
    "\n",
    "1. Youtube videos for getting started with Python [link1](https://www.youtube.com/watch?v=362fjQdpFlc), [link2](https://www.youtube.com/watch?v=kqtD5dpn9C8)\n",
    "2. List Slicing [link](https://www.programiz.com/python-programming/examples/list-slicing)\n",
    "3. Dictionaries [link](https://www.w3schools.com/python/python_dictionaries.asp)"
   ]
  },
  {
   "cell_type": "code",
   "execution_count": null,
   "id": "cc350308",
   "metadata": {
    "id": "cc350308"
   },
   "outputs": [],
   "source": []
  }
 ],
 "metadata": {
  "colab": {
   "provenance": []
  },
  "kernelspec": {
   "display_name": "Python 3",
   "language": "python",
   "name": "python3"
  },
  "language_info": {
   "codemirror_mode": {
    "name": "ipython",
    "version": 3
   },
   "file_extension": ".py",
   "mimetype": "text/x-python",
   "name": "python",
   "nbconvert_exporter": "python",
   "pygments_lexer": "ipython3",
   "version": "3.13.3"
  }
 },
 "nbformat": 4,
 "nbformat_minor": 5
}
